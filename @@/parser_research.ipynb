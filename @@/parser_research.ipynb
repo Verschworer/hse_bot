{
  "nbformat": 4,
  "nbformat_minor": 0,
  "metadata": {
    "colab": {
      "name": "parser_research.ipynb",
      "provenance": [],
      "collapsed_sections": []
    },
    "kernelspec": {
      "name": "python3",
      "display_name": "Python 3"
    },
    "language_info": {
      "name": "python"
    }
  },
  "cells": [
    {
      "cell_type": "code",
      "metadata": {
        "colab": {
          "base_uri": "https://localhost:8080/"
        },
        "id": "5rh8cp6QzLkW",
        "outputId": "5372935b-b7b7-4463-f0fb-355142f00bfa"
      },
      "source": [
        "!pip install feedparser"
      ],
      "execution_count": null,
      "outputs": [
        {
          "output_type": "stream",
          "text": [
            "Requirement already satisfied: feedparser in /usr/local/lib/python3.7/dist-packages (6.0.2)\n",
            "Requirement already satisfied: sgmllib3k in /usr/local/lib/python3.7/dist-packages (from feedparser) (1.0.0)\n"
          ],
          "name": "stdout"
        }
      ]
    },
    {
      "cell_type": "code",
      "metadata": {
        "id": "pdC6yuqTyz10"
      },
      "source": [
        "import feedparser\n",
        "import csv\n",
        "import pandas as pd"
      ],
      "execution_count": null,
      "outputs": []
    },
    {
      "cell_type": "code",
      "metadata": {
        "id": "AWOatTphzTmM"
      },
      "source": [
        "def check_url(url_feed): #функция получает линк на рсс ленту, возвращает        \n",
        "# распаршенную ленту с помощью feedpaeser\n",
        "    return feedparser.parse(url_feed)  \n",
        "    \n",
        "def getHeadlines(url_feed): #функция для получения заголовков новости\n",
        "    headlines = []\n",
        "    lenta = check_url (url_feed)\n",
        "    for item_of_news in lenta['items']:\n",
        "        headlines.append(item_of_news ['title'])\n",
        "    return headlines\n",
        "\n",
        "def getDescriptions(url_feed): #функция для получения описания новости\n",
        "    descriptions = []\n",
        "    lenta = check_url(url_feed)\n",
        "    for item_of_news in lenta['items']:\n",
        "        descriptions.append(item_of_news ['description'])\n",
        "    return descriptions\n",
        "\n",
        "def getLinks(url_feed): #функция для получения ссылки на источник новости\n",
        "    links = []\n",
        "    lenta = check_url(url_feed)\n",
        "    for item_of_news in lenta['items']:\n",
        "        links.append(item_of_news ['link'])\n",
        "    return links\n",
        "\n",
        "def getDates(url_feed): #функция для получения даты публикации новости\n",
        "    dates = []\n",
        "    lenta = check_url(url_feed)\n",
        "    for item_of_news in lenta['items']:\n",
        "        dates.append(item_of_news ['published'])\n",
        "    return dates"
      ],
      "execution_count": null,
      "outputs": []
    },
    {
      "cell_type": "code",
      "metadata": {
        "id": "Gyi0GLw80Fjn"
      },
      "source": [
        "feeds = {'meduza.io': 'https://meduza.io/rss/en/all',}\n",
        "df_file = 'news.csv'"
      ],
      "execution_count": null,
      "outputs": []
    },
    {
      "cell_type": "code",
      "metadata": {
        "id": "YooTrwaUzrWg"
      },
      "source": [
        "headlines = []\n",
        "descriptions = []\n",
        "links = []\n",
        "dates = []\n",
        "# Прогоняем наши URL и добавляем их в наши пустые списки\n",
        "for key,url in feeds.items():\n",
        "    headlines.extend( getHeadlines(url) )\n",
        "    \n",
        "for key,url in feeds.items():\n",
        "    descriptions.extend( getDescriptions(url) )\n",
        "    \n",
        "for key,url in feeds.items():\n",
        "    links.extend( getLinks(url) )\n",
        "    \n",
        "for key,url in feeds.items():\n",
        "    dates.extend( getDates(url) )"
      ],
      "execution_count": null,
      "outputs": []
    },
    {
      "cell_type": "code",
      "metadata": {
        "id": "T3K-aEmw0Yyl"
      },
      "source": [
        "def write_news(all_news_filepath): #функция для записи всех новостей в .csv, \n",
        "# возвращает нам этот датасет\n",
        "    header = ['Title','Description','Links','Publication Date'] \n",
        "\n",
        "    with open(all_news_filepath, 'w', encoding='utf-8-sig') as csvfile:\n",
        "        writer = csv.writer(csvfile, delimiter=',')\n",
        "\n",
        "        writer.writerow(i for i in header) \n",
        "\n",
        "        for a,b,c,d  in zip(headlines,descriptions,\n",
        "                            links, dates):\n",
        "            writer.writerow((a,b,c,d))\n",
        "\n",
        "\n",
        "        df = pd.read_csv(all_news_filepath)\n",
        "            \n",
        "    return df.head(10)"
      ],
      "execution_count": null,
      "outputs": []
    },
    {
      "cell_type": "code",
      "metadata": {
        "colab": {
          "base_uri": "https://localhost:8080/",
          "height": 363
        },
        "id": "yj-rldIz0ye9",
        "outputId": "3c05c8c3-1454-4970-ac88-82a79ca2f971"
      },
      "source": [
        "write_news(df_file) #все новости"
      ],
      "execution_count": null,
      "outputs": [
        {
          "output_type": "execute_result",
          "data": {
            "text/html": [
              "<div>\n",
              "<style scoped>\n",
              "    .dataframe tbody tr th:only-of-type {\n",
              "        vertical-align: middle;\n",
              "    }\n",
              "\n",
              "    .dataframe tbody tr th {\n",
              "        vertical-align: top;\n",
              "    }\n",
              "\n",
              "    .dataframe thead th {\n",
              "        text-align: right;\n",
              "    }\n",
              "</style>\n",
              "<table border=\"1\" class=\"dataframe\">\n",
              "  <thead>\n",
              "    <tr style=\"text-align: right;\">\n",
              "      <th></th>\n",
              "      <th>Title</th>\n",
              "      <th>Description</th>\n",
              "      <th>Links</th>\n",
              "      <th>Publication Date</th>\n",
              "    </tr>\n",
              "  </thead>\n",
              "  <tbody>\n",
              "    <tr>\n",
              "      <th>0</th>\n",
              "      <td>Russian Direct Investment Fund asks Slovakia t...</td>\n",
              "      <td>The Russian Direct Investment Fund (RDIF) has ...</td>\n",
              "      <td>https://meduza.io/en/news/2021/04/08/russian-d...</td>\n",
              "      <td>Thu, 08 Apr 2021 18:59:09 +0300</td>\n",
              "    </tr>\n",
              "    <tr>\n",
              "      <th>1</th>\n",
              "      <td>‘More offensive than defensive’. Open source a...</td>\n",
              "      <td>Russian troops are concentrating in a new army...</td>\n",
              "      <td>https://meduza.io/en/feature/2021/04/08/more-o...</td>\n",
              "      <td>Thu, 08 Apr 2021 18:29:09 +0300</td>\n",
              "    </tr>\n",
              "    <tr>\n",
              "      <th>2</th>\n",
              "      <td>Ulyanovsk regional governor resigns after 16 y...</td>\n",
              "      <td>The governor of Russia’s Ulyanovsk region, Ser...</td>\n",
              "      <td>https://meduza.io/en/news/2021/04/08/ulyanovsk...</td>\n",
              "      <td>Thu, 08 Apr 2021 17:30:15 +0300</td>\n",
              "    </tr>\n",
              "    <tr>\n",
              "      <th>3</th>\n",
              "      <td>Waiting since 1972. Vladivostok family receive...</td>\n",
              "      <td>In 1972, Elena Safonova’s parents moved into a...</td>\n",
              "      <td>https://meduza.io/en/feature/2021/04/08/waitin...</td>\n",
              "      <td>Thu, 08 Apr 2021 17:08:59 +0300</td>\n",
              "    </tr>\n",
              "    <tr>\n",
              "      <th>4</th>\n",
              "      <td>Putin and Merkel discuss Donbas and Navalny</td>\n",
              "      <td>On Thursday, April 8, Russian President Vladim...</td>\n",
              "      <td>https://meduza.io/en/news/2021/04/08/putin-and...</td>\n",
              "      <td>Thu, 08 Apr 2021 16:18:52 +0300</td>\n",
              "    </tr>\n",
              "    <tr>\n",
              "      <th>5</th>\n",
              "      <td>Russian court jails Navalny supporters for pri...</td>\n",
              "      <td>A district court in the Vladimir Region has se...</td>\n",
              "      <td>https://meduza.io/en/news/2021/04/08/russian-c...</td>\n",
              "      <td>Thu, 08 Apr 2021 16:01:46 +0300</td>\n",
              "    </tr>\n",
              "    <tr>\n",
              "      <th>6</th>\n",
              "      <td>How eliminating private prosecution will help ...</td>\n",
              "      <td>Russia’s Supreme Court has submitted a draft l...</td>\n",
              "      <td>https://meduza.io/en/feature/2021/04/07/how-el...</td>\n",
              "      <td>Wed, 07 Apr 2021 23:19:46 +0300</td>\n",
              "    </tr>\n",
              "    <tr>\n",
              "      <th>7</th>\n",
              "      <td>Moscow court lifts house arrest for some of Na...</td>\n",
              "      <td>The Moscow City Court has granted the appeals ...</td>\n",
              "      <td>https://meduza.io/en/news/2021/04/07/moscow-co...</td>\n",
              "      <td>Wed, 07 Apr 2021 21:07:43 +0300</td>\n",
              "    </tr>\n",
              "    <tr>\n",
              "      <th>8</th>\n",
              "      <td>‘We deeply doubt it will help’. Kremlin warns ...</td>\n",
              "      <td>Following Ukraine reiterating its desire to ta...</td>\n",
              "      <td>https://meduza.io/en/feature/2021/04/07/we-dee...</td>\n",
              "      <td>Wed, 07 Apr 2021 19:54:53 +0300</td>\n",
              "    </tr>\n",
              "    <tr>\n",
              "      <th>9</th>\n",
              "      <td>Prison doctors diagnose Alexey Navalny with tw...</td>\n",
              "      <td>Doctors at Pokrov’s Penal Colony No.2 told Ale...</td>\n",
              "      <td>https://meduza.io/en/news/2021/04/07/prison-do...</td>\n",
              "      <td>Wed, 07 Apr 2021 18:38:56 +0300</td>\n",
              "    </tr>\n",
              "  </tbody>\n",
              "</table>\n",
              "</div>"
            ],
            "text/plain": [
              "                                               Title  ...                 Publication Date\n",
              "0  Russian Direct Investment Fund asks Slovakia t...  ...  Thu, 08 Apr 2021 18:59:09 +0300\n",
              "1  ‘More offensive than defensive’. Open source a...  ...  Thu, 08 Apr 2021 18:29:09 +0300\n",
              "2  Ulyanovsk regional governor resigns after 16 y...  ...  Thu, 08 Apr 2021 17:30:15 +0300\n",
              "3  Waiting since 1972. Vladivostok family receive...  ...  Thu, 08 Apr 2021 17:08:59 +0300\n",
              "4        Putin and Merkel discuss Donbas and Navalny  ...  Thu, 08 Apr 2021 16:18:52 +0300\n",
              "5  Russian court jails Navalny supporters for pri...  ...  Thu, 08 Apr 2021 16:01:46 +0300\n",
              "6  How eliminating private prosecution will help ...  ...  Wed, 07 Apr 2021 23:19:46 +0300\n",
              "7  Moscow court lifts house arrest for some of Na...  ...  Wed, 07 Apr 2021 21:07:43 +0300\n",
              "8  ‘We deeply doubt it will help’. Kremlin warns ...  ...  Wed, 07 Apr 2021 19:54:53 +0300\n",
              "9  Prison doctors diagnose Alexey Navalny with tw...  ...  Wed, 07 Apr 2021 18:38:56 +0300\n",
              "\n",
              "[10 rows x 4 columns]"
            ]
          },
          "metadata": {
            "tags": []
          },
          "execution_count": 14
        }
      ]
    },
    {
      "cell_type": "code",
      "metadata": {
        "id": "a451MxX6MCeY"
      },
      "source": [
        "'''https://github.com/germanjke/RSSparsing'''"
      ],
      "execution_count": null,
      "outputs": []
    },
    {
      "cell_type": "code",
      "metadata": {
        "id": "8lcktS_UoKuB"
      },
      "source": [
        "def write_df(all_news_filepath): #функция для записи всех новостей в .csv, \n",
        "# возвращает нам этот датасет\n",
        "    df = pd.DataFrame()\n",
        "    df = df.append(\n",
        "                  {\n",
        "                   'title': headlines,\n",
        "                   'text': descriptions,\n",
        "                   'link': links,\n",
        "                   'date': dates\n",
        "                    }, \n",
        "                   ignore_index=True\n",
        "                   )\n",
        "    \n",
        "    return df.to_csv(all_news_filepath)"
      ],
      "execution_count": null,
      "outputs": []
    },
    {
      "cell_type": "code",
      "metadata": {
        "colab": {
          "base_uri": "https://localhost:8080/",
          "height": 174
        },
        "id": "5uhSnyF7ttYC",
        "outputId": "ddc2c8c3-7d95-407c-86ed-4d6d4082bb3d"
      },
      "source": [
        "df"
      ],
      "execution_count": null,
      "outputs": [
        {
          "output_type": "error",
          "ename": "NameError",
          "evalue": "ignored",
          "traceback": [
            "\u001b[0;31m---------------------------------------------------------------------------\u001b[0m",
            "\u001b[0;31mNameError\u001b[0m                                 Traceback (most recent call last)",
            "\u001b[0;32m<ipython-input-28-00cf07b74dcd>\u001b[0m in \u001b[0;36m<module>\u001b[0;34m()\u001b[0m\n\u001b[0;32m----> 1\u001b[0;31m \u001b[0mdf\u001b[0m\u001b[0;34m\u001b[0m\u001b[0;34m\u001b[0m\u001b[0m\n\u001b[0m",
            "\u001b[0;31mNameError\u001b[0m: name 'df' is not defined"
          ]
        }
      ]
    },
    {
      "cell_type": "code",
      "metadata": {
        "id": "xDy9p2l3p7Mx"
      },
      "source": [
        "write_df(df_file)"
      ],
      "execution_count": null,
      "outputs": []
    },
    {
      "cell_type": "code",
      "metadata": {
        "colab": {
          "base_uri": "https://localhost:8080/",
          "height": 174
        },
        "id": "BPokiMwEtoDd",
        "outputId": "6a06659e-af97-41fd-ba53-ae3e7d0e12be"
      },
      "source": [
        "df"
      ],
      "execution_count": null,
      "outputs": [
        {
          "output_type": "error",
          "ename": "NameError",
          "evalue": "ignored",
          "traceback": [
            "\u001b[0;31m---------------------------------------------------------------------------\u001b[0m",
            "\u001b[0;31mNameError\u001b[0m                                 Traceback (most recent call last)",
            "\u001b[0;32m<ipython-input-26-00cf07b74dcd>\u001b[0m in \u001b[0;36m<module>\u001b[0;34m()\u001b[0m\n\u001b[0;32m----> 1\u001b[0;31m \u001b[0mdf\u001b[0m\u001b[0;34m\u001b[0m\u001b[0;34m\u001b[0m\u001b[0m\n\u001b[0m",
            "\u001b[0;31mNameError\u001b[0m: name 'df' is not defined"
          ]
        }
      ]
    },
    {
      "cell_type": "code",
      "metadata": {
        "colab": {
          "base_uri": "https://localhost:8080/"
        },
        "id": "dw3BkDP8tohv",
        "outputId": "5edee80b-b19f-403e-996b-65b9282f7522"
      },
      "source": [
        "!apt-get install dirmngr"
      ],
      "execution_count": null,
      "outputs": [
        {
          "output_type": "stream",
          "text": [
            "Reading package lists... Done\n",
            "Building dependency tree       \n",
            "Reading state information... Done\n",
            "dirmngr is already the newest version (2.2.4-1ubuntu1.4).\n",
            "0 upgraded, 0 newly installed, 0 to remove and 31 not upgraded.\n"
          ],
          "name": "stdout"
        }
      ]
    },
    {
      "cell_type": "code",
      "metadata": {
        "colab": {
          "base_uri": "https://localhost:8080/"
        },
        "id": "t7X5-AGTb5sY",
        "outputId": "f5307bd5-5a3e-48bd-d1b0-10ab823ddb16"
      },
      "source": [
        "!apt-key adv --keyserver hkp://keyserver.ubuntu.com:80 --recv E0C56BD4"
      ],
      "execution_count": null,
      "outputs": [
        {
          "output_type": "stream",
          "text": [
            "Executing: /tmp/apt-key-gpghome.Y9gHAQj8B1/gpg.1.sh --keyserver hkp://keyserver.ubuntu.com:80 --recv E0C56BD4\n",
            "gpg: key C8F1E19FE0C56BD4: public key \"ClickHouse Repository Key <milovidov@yandex-team.ru>\" imported\n",
            "gpg: Total number processed: 1\n",
            "gpg:               imported: 1\n"
          ],
          "name": "stdout"
        }
      ]
    },
    {
      "cell_type": "code",
      "metadata": {
        "colab": {
          "base_uri": "https://localhost:8080/"
        },
        "id": "68YF9eWpb-8B",
        "outputId": "1f169ffa-1e4a-4db2-b134-4df25e303207"
      },
      "source": [
        "!echo \"deb http://repo.clickhouse.tech/deb/stable/ main/\" | tee /etc/apt/sources.list.d/clickhouse.list"
      ],
      "execution_count": null,
      "outputs": [
        {
          "output_type": "stream",
          "text": [
            "deb http://repo.clickhouse.tech/deb/stable/ main/\n"
          ],
          "name": "stdout"
        }
      ]
    },
    {
      "cell_type": "code",
      "metadata": {
        "colab": {
          "base_uri": "https://localhost:8080/"
        },
        "id": "kV_U1cwkcBM2",
        "outputId": "568b867c-b710-4716-ebd0-d48328b386e4"
      },
      "source": [
        "!apt-get update"
      ],
      "execution_count": null,
      "outputs": [
        {
          "output_type": "stream",
          "text": [
            "\r0% [Working]\r            \rGet:1 https://cloud.r-project.org/bin/linux/ubuntu bionic-cran40/ InRelease [3,626 B]\n",
            "\r0% [Connecting to archive.ubuntu.com (91.189.88.142)] [Connecting to security.u\r0% [Connecting to archive.ubuntu.com (91.189.88.142)] [Connecting to security.u\r                                                                               \rIgn:2 https://developer.download.nvidia.com/compute/cuda/repos/ubuntu1804/x86_64  InRelease\n",
            "\r0% [Connecting to archive.ubuntu.com (91.189.88.142)] [Connecting to security.u\r0% [1 InRelease gpgv 3,626 B] [Connecting to archive.ubuntu.com (91.189.88.142)\r                                                                               \rIgn:3 https://developer.download.nvidia.com/compute/machine-learning/repos/ubuntu1804/x86_64  InRelease\n",
            "\r0% [1 InRelease gpgv 3,626 B] [Connecting to archive.ubuntu.com (91.189.88.142)\r                                                                               \rHit:4 https://developer.download.nvidia.com/compute/cuda/repos/ubuntu1804/x86_64  Release\n",
            "Hit:5 https://developer.download.nvidia.com/compute/machine-learning/repos/ubuntu1804/x86_64  Release\n",
            "Ign:6 http://repo.clickhouse.tech/deb/stable main/ InRelease\n",
            "Get:7 http://security.ubuntu.com/ubuntu bionic-security InRelease [88.7 kB]\n",
            "Hit:8 http://archive.ubuntu.com/ubuntu bionic InRelease\n",
            "Get:9 http://ppa.launchpad.net/c2d4u.team/c2d4u4.0+/ubuntu bionic InRelease [15.9 kB]\n",
            "Get:10 http://repo.clickhouse.tech/deb/stable main/ Release [749 B]\n",
            "Get:11 http://archive.ubuntu.com/ubuntu bionic-updates InRelease [88.7 kB]\n",
            "Get:13 http://repo.clickhouse.tech/deb/stable main/ Release.gpg [836 B]\n",
            "Hit:15 http://ppa.launchpad.net/cran/libgit2/ubuntu bionic InRelease\n",
            "Get:16 http://archive.ubuntu.com/ubuntu bionic-backports InRelease [74.6 kB]\n",
            "Get:17 http://ppa.launchpad.net/deadsnakes/ppa/ubuntu bionic InRelease [15.9 kB]\n",
            "Hit:18 http://ppa.launchpad.net/graphics-drivers/ppa/ubuntu bionic InRelease\n",
            "Get:19 http://repo.clickhouse.tech/deb/stable main/ Packages [171 kB]\n",
            "Get:20 http://ppa.launchpad.net/c2d4u.team/c2d4u4.0+/ubuntu bionic/main Sources [1,750 kB]\n",
            "Get:21 http://archive.ubuntu.com/ubuntu bionic-updates/universe amd64 Packages [2,173 kB]\n",
            "Get:22 http://ppa.launchpad.net/c2d4u.team/c2d4u4.0+/ubuntu bionic/main amd64 Packages [895 kB]\n",
            "Get:23 http://archive.ubuntu.com/ubuntu bionic-updates/main amd64 Packages [2,476 kB]\n",
            "Get:24 http://ppa.launchpad.net/deadsnakes/ppa/ubuntu bionic/main amd64 Packages [39.5 kB]\n",
            "Fetched 7,794 kB in 8s (1,016 kB/s)\n",
            "Reading package lists... Done\n"
          ],
          "name": "stdout"
        }
      ]
    },
    {
      "cell_type": "code",
      "metadata": {
        "colab": {
          "base_uri": "https://localhost:8080/"
        },
        "id": "gLHVyVgxcDtt",
        "outputId": "c5664d72-f2d2-4b0b-eb08-2c4ff1852545"
      },
      "source": [
        "!apt-get install -y clickhouse-server clickhouse-client"
      ],
      "execution_count": null,
      "outputs": [
        {
          "output_type": "stream",
          "text": [
            "Reading package lists... Done\n",
            "Building dependency tree       \n",
            "Reading state information... Done\n",
            "The following additional packages will be installed:\n",
            "  clickhouse-common-static libcap2-bin libpam-cap\n",
            "Suggested packages:\n",
            "  clickhouse-common-static-dbg\n",
            "The following NEW packages will be installed:\n",
            "  clickhouse-client clickhouse-common-static clickhouse-server libcap2-bin\n",
            "  libpam-cap\n",
            "0 upgraded, 5 newly installed, 0 to remove and 34 not upgraded.\n",
            "Need to get 126 MB of archives.\n",
            "After this operation, 428 MB of additional disk space will be used.\n",
            "Get:1 http://repo.clickhouse.tech/deb/stable main/ clickhouse-common-static 21.3.5.42 [126 MB]\n",
            "Get:2 http://archive.ubuntu.com/ubuntu bionic/main amd64 libcap2-bin amd64 1:2.25-1.2 [20.6 kB]\n",
            "Get:3 http://archive.ubuntu.com/ubuntu bionic/main amd64 libpam-cap amd64 1:2.25-1.2 [7,268 B]\n",
            "Get:4 http://repo.clickhouse.tech/deb/stable main/ clickhouse-client 21.3.5.42 [38.1 kB]\n",
            "Get:5 http://repo.clickhouse.tech/deb/stable main/ clickhouse-server 21.3.5.42 [58.1 kB]\n",
            "Fetched 126 MB in 2s (55.8 MB/s)\n",
            "Preconfiguring packages ...\n",
            "Selecting previously unselected package libcap2-bin.\n",
            "(Reading database ... 160983 files and directories currently installed.)\n",
            "Preparing to unpack .../libcap2-bin_1%3a2.25-1.2_amd64.deb ...\n",
            "Unpacking libcap2-bin (1:2.25-1.2) ...\n",
            "Selecting previously unselected package libpam-cap:amd64.\n",
            "Preparing to unpack .../libpam-cap_1%3a2.25-1.2_amd64.deb ...\n",
            "Unpacking libpam-cap:amd64 (1:2.25-1.2) ...\n",
            "Selecting previously unselected package clickhouse-common-static.\n",
            "Preparing to unpack .../clickhouse-common-static_21.3.5.42_amd64.deb ...\n",
            "Unpacking clickhouse-common-static (21.3.5.42) ...\n",
            "Selecting previously unselected package clickhouse-client.\n",
            "Preparing to unpack .../clickhouse-client_21.3.5.42_all.deb ...\n",
            "Unpacking clickhouse-client (21.3.5.42) ...\n",
            "Selecting previously unselected package clickhouse-server.\n",
            "Preparing to unpack .../clickhouse-server_21.3.5.42_all.deb ...\n",
            "Unpacking clickhouse-server (21.3.5.42) ...\n",
            "Setting up libpam-cap:amd64 (1:2.25-1.2) ...\n",
            "Setting up libcap2-bin (1:2.25-1.2) ...\n",
            "Setting up clickhouse-common-static (21.3.5.42) ...\n",
            "Setting up clickhouse-server (21.3.5.42) ...\n",
            "src/tcmalloc.cc:283] Attempt to free invalid pointer 0x7f4c5841f000 \n",
            "Aborted (core dumped)\n",
            "dpkg: error processing package clickhouse-server (--configure):\n",
            " installed clickhouse-server package post-installation script subprocess returned error exit status 134\n",
            "Setting up clickhouse-client (21.3.5.42) ...\n",
            "Processing triggers for man-db (2.8.3-2ubuntu0.1) ...\n",
            "Processing triggers for systemd (237-3ubuntu10.45) ...\n",
            "Errors were encountered while processing:\n",
            " clickhouse-server\n",
            "E: Sub-process /usr/bin/dpkg returned an error code (1)\n"
          ],
          "name": "stdout"
        }
      ]
    },
    {
      "cell_type": "code",
      "metadata": {
        "colab": {
          "base_uri": "https://localhost:8080/"
        },
        "id": "_n6BQfKbcJDW",
        "outputId": "d5b449c6-d2c5-49c0-a419-e576e1b76593"
      },
      "source": [
        "!service clickhouse-server start"
      ],
      "execution_count": null,
      "outputs": [
        {
          "output_type": "stream",
          "text": [
            " chown --recursive clickhouse '/var/run/clickhouse-server/'\n",
            "chown: invalid user: ‘clickhouse’\n",
            "Will run su -s /bin/sh 'clickhouse' -c '/usr/bin/clickhouse-server --config-file /etc/clickhouse-server/config.xml --pid-file /var/run/clickhouse-server/clickhouse-server.pid --daemon'\n",
            "No passwd entry for user 'clickhouse'\n",
            "Code: 302, e.displayText() = DB::Exception: Child process was exited with return code 1 (version 21.3.5.42 (official build))\n"
          ],
          "name": "stdout"
        }
      ]
    },
    {
      "cell_type": "code",
      "metadata": {
        "colab": {
          "base_uri": "https://localhost:8080/"
        },
        "id": "HWmPNy1NcQ8p",
        "outputId": "6299d47f-e1ae-4314-8f7f-4f5ab773e2da"
      },
      "source": [
        "!yum install yum-utils"
      ],
      "execution_count": null,
      "outputs": [
        {
          "output_type": "stream",
          "text": [
            "/bin/bash: yum: command not found\n"
          ],
          "name": "stdout"
        }
      ]
    },
    {
      "cell_type": "code",
      "metadata": {
        "colab": {
          "base_uri": "https://localhost:8080/"
        },
        "id": "3n_p4E3IkDqj",
        "outputId": "1d54803f-9965-40de-8ed1-f0a9ff148493"
      },
      "source": [
        "!apt-get install -y yum"
      ],
      "execution_count": null,
      "outputs": [
        {
          "output_type": "stream",
          "text": [
            "Reading package lists... Done\n",
            "Building dependency tree       \n",
            "Reading state information... Done\n",
            "The following additional packages will be installed:\n",
            "  debugedit libdw1 liblua5.2-0 libmagic-mgc libmagic1 librpm8 librpmbuild8\n",
            "  librpmio8 librpmsign8 libsqlite0 python-libxml2 python-lzma python-pycurl\n",
            "  python-rpm python-sqlite python-sqlitecachec python-urlgrabber rpm\n",
            "  rpm-common rpm2cpio\n",
            "Suggested packages:\n",
            "  rpm-i18n file libcurl4-gnutls-dev python-pycurl-dbg python-pycurl-doc\n",
            "  python-sqlite-dbg alien elfutils rpmlint rpm2html\n",
            "The following NEW packages will be installed:\n",
            "  debugedit libdw1 liblua5.2-0 libmagic-mgc libmagic1 librpm8 librpmbuild8\n",
            "  librpmio8 librpmsign8 libsqlite0 python-libxml2 python-lzma python-pycurl\n",
            "  python-rpm python-sqlite python-sqlitecachec python-urlgrabber rpm\n",
            "  rpm-common rpm2cpio yum\n",
            "0 upgraded, 21 newly installed, 0 to remove and 34 not upgraded.\n",
            "1 not fully installed or removed.\n",
            "Need to get 2,061 kB of archives.\n",
            "After this operation, 14.0 MB of additional disk space will be used.\n",
            "Get:1 http://archive.ubuntu.com/ubuntu bionic-updates/main amd64 libmagic-mgc amd64 1:5.32-2ubuntu0.4 [184 kB]\n",
            "Get:2 http://archive.ubuntu.com/ubuntu bionic-updates/main amd64 libmagic1 amd64 1:5.32-2ubuntu0.4 [68.6 kB]\n",
            "Get:3 http://archive.ubuntu.com/ubuntu bionic-updates/main amd64 libdw1 amd64 0.170-0.4ubuntu0.1 [203 kB]\n",
            "Get:4 http://archive.ubuntu.com/ubuntu bionic/main amd64 liblua5.2-0 amd64 5.2.4-1.1build1 [108 kB]\n",
            "Get:5 http://archive.ubuntu.com/ubuntu bionic/universe amd64 librpmio8 amd64 4.14.1+dfsg1-2 [74.6 kB]\n",
            "Get:6 http://archive.ubuntu.com/ubuntu bionic/universe amd64 debugedit amd64 4.14.1+dfsg1-2 [19.1 kB]\n",
            "Get:7 http://archive.ubuntu.com/ubuntu bionic/universe amd64 librpm8 amd64 4.14.1+dfsg1-2 [173 kB]\n",
            "Get:8 http://archive.ubuntu.com/ubuntu bionic/universe amd64 librpmbuild8 amd64 4.14.1+dfsg1-2 [70.5 kB]\n",
            "Get:9 http://archive.ubuntu.com/ubuntu bionic/universe amd64 librpmsign8 amd64 4.14.1+dfsg1-2 [8,184 B]\n",
            "Get:10 http://archive.ubuntu.com/ubuntu bionic/universe amd64 libsqlite0 amd64 2.8.17-14fakesync1 [160 kB]\n",
            "Get:11 http://archive.ubuntu.com/ubuntu bionic-updates/main amd64 python-libxml2 amd64 2.9.4+dfsg1-6.1ubuntu1.3 [141 kB]\n",
            "Get:12 http://archive.ubuntu.com/ubuntu bionic/universe amd64 python-lzma amd64 0.5.3-3 [27.9 kB]\n",
            "Get:13 http://archive.ubuntu.com/ubuntu bionic/universe amd64 python-sqlite amd64 1.0.1-12 [20.9 kB]\n",
            "Get:14 http://archive.ubuntu.com/ubuntu bionic/main amd64 python-pycurl amd64 7.43.0.1-0.2 [43.1 kB]\n",
            "Get:15 http://archive.ubuntu.com/ubuntu bionic/main amd64 python-urlgrabber all 3.10.2-1 [51.0 kB]\n",
            "Get:16 http://archive.ubuntu.com/ubuntu bionic/universe amd64 rpm-common amd64 4.14.1+dfsg1-2 [28.7 kB]\n",
            "Get:17 http://archive.ubuntu.com/ubuntu bionic/universe amd64 rpm2cpio amd64 4.14.1+dfsg1-2 [7,988 B]\n",
            "Get:18 http://archive.ubuntu.com/ubuntu bionic/universe amd64 rpm amd64 4.14.1+dfsg1-2 [119 kB]\n",
            "Get:19 http://archive.ubuntu.com/ubuntu bionic/universe amd64 python-rpm amd64 4.14.1+dfsg1-2 [44.7 kB]\n",
            "Get:20 http://archive.ubuntu.com/ubuntu bionic/universe amd64 python-sqlitecachec amd64 1.1.4-1 [21.4 kB]\n",
            "Get:21 http://archive.ubuntu.com/ubuntu bionic/universe amd64 yum all 3.4.3-3 [486 kB]\n",
            "Fetched 2,061 kB in 2s (1,222 kB/s)\n",
            "Selecting previously unselected package libmagic-mgc.\n",
            "(Reading database ... 161048 files and directories currently installed.)\n",
            "Preparing to unpack .../00-libmagic-mgc_1%3a5.32-2ubuntu0.4_amd64.deb ...\n",
            "Unpacking libmagic-mgc (1:5.32-2ubuntu0.4) ...\n",
            "Selecting previously unselected package libmagic1:amd64.\n",
            "Preparing to unpack .../01-libmagic1_1%3a5.32-2ubuntu0.4_amd64.deb ...\n",
            "Unpacking libmagic1:amd64 (1:5.32-2ubuntu0.4) ...\n",
            "Selecting previously unselected package libdw1:amd64.\n",
            "Preparing to unpack .../02-libdw1_0.170-0.4ubuntu0.1_amd64.deb ...\n",
            "Unpacking libdw1:amd64 (0.170-0.4ubuntu0.1) ...\n",
            "Selecting previously unselected package liblua5.2-0:amd64.\n",
            "Preparing to unpack .../03-liblua5.2-0_5.2.4-1.1build1_amd64.deb ...\n",
            "Unpacking liblua5.2-0:amd64 (5.2.4-1.1build1) ...\n",
            "Selecting previously unselected package librpmio8.\n",
            "Preparing to unpack .../04-librpmio8_4.14.1+dfsg1-2_amd64.deb ...\n",
            "Unpacking librpmio8 (4.14.1+dfsg1-2) ...\n",
            "Selecting previously unselected package debugedit.\n",
            "Preparing to unpack .../05-debugedit_4.14.1+dfsg1-2_amd64.deb ...\n",
            "Unpacking debugedit (4.14.1+dfsg1-2) ...\n",
            "Selecting previously unselected package librpm8.\n",
            "Preparing to unpack .../06-librpm8_4.14.1+dfsg1-2_amd64.deb ...\n",
            "Unpacking librpm8 (4.14.1+dfsg1-2) ...\n",
            "Selecting previously unselected package librpmbuild8.\n",
            "Preparing to unpack .../07-librpmbuild8_4.14.1+dfsg1-2_amd64.deb ...\n",
            "Unpacking librpmbuild8 (4.14.1+dfsg1-2) ...\n",
            "Selecting previously unselected package librpmsign8.\n",
            "Preparing to unpack .../08-librpmsign8_4.14.1+dfsg1-2_amd64.deb ...\n",
            "Unpacking librpmsign8 (4.14.1+dfsg1-2) ...\n",
            "Selecting previously unselected package libsqlite0.\n",
            "Preparing to unpack .../09-libsqlite0_2.8.17-14fakesync1_amd64.deb ...\n",
            "Unpacking libsqlite0 (2.8.17-14fakesync1) ...\n",
            "Selecting previously unselected package python-libxml2.\n",
            "Preparing to unpack .../10-python-libxml2_2.9.4+dfsg1-6.1ubuntu1.3_amd64.deb ...\n",
            "Unpacking python-libxml2 (2.9.4+dfsg1-6.1ubuntu1.3) ...\n",
            "Selecting previously unselected package python-lzma.\n",
            "Preparing to unpack .../11-python-lzma_0.5.3-3_amd64.deb ...\n",
            "Unpacking python-lzma (0.5.3-3) ...\n",
            "Selecting previously unselected package python-sqlite.\n",
            "Preparing to unpack .../12-python-sqlite_1.0.1-12_amd64.deb ...\n",
            "Unpacking python-sqlite (1.0.1-12) ...\n",
            "Selecting previously unselected package python-pycurl.\n",
            "Preparing to unpack .../13-python-pycurl_7.43.0.1-0.2_amd64.deb ...\n",
            "Unpacking python-pycurl (7.43.0.1-0.2) ...\n",
            "Selecting previously unselected package python-urlgrabber.\n",
            "Preparing to unpack .../14-python-urlgrabber_3.10.2-1_all.deb ...\n",
            "Unpacking python-urlgrabber (3.10.2-1) ...\n",
            "Selecting previously unselected package rpm-common.\n",
            "Preparing to unpack .../15-rpm-common_4.14.1+dfsg1-2_amd64.deb ...\n",
            "Unpacking rpm-common (4.14.1+dfsg1-2) ...\n",
            "Selecting previously unselected package rpm2cpio.\n",
            "Preparing to unpack .../16-rpm2cpio_4.14.1+dfsg1-2_amd64.deb ...\n",
            "Unpacking rpm2cpio (4.14.1+dfsg1-2) ...\n",
            "Selecting previously unselected package rpm.\n",
            "Preparing to unpack .../17-rpm_4.14.1+dfsg1-2_amd64.deb ...\n",
            "Unpacking rpm (4.14.1+dfsg1-2) ...\n",
            "Selecting previously unselected package python-rpm.\n",
            "Preparing to unpack .../18-python-rpm_4.14.1+dfsg1-2_amd64.deb ...\n",
            "Unpacking python-rpm (4.14.1+dfsg1-2) ...\n",
            "Selecting previously unselected package python-sqlitecachec.\n",
            "Preparing to unpack .../19-python-sqlitecachec_1.1.4-1_amd64.deb ...\n",
            "Unpacking python-sqlitecachec (1.1.4-1) ...\n",
            "Selecting previously unselected package yum.\n",
            "Preparing to unpack .../20-yum_3.4.3-3_all.deb ...\n",
            "Unpacking yum (3.4.3-3) ...\n",
            "Setting up clickhouse-server (21.3.5.42) ...\n",
            "src/tcmalloc.cc:283] Attempt to free invalid pointer 0x7fb0b741f000 \n",
            "Aborted (core dumped)\n",
            "dpkg: error processing package clickhouse-server (--configure):\n",
            " installed clickhouse-server package post-installation script subprocess returned error exit status 134\n",
            "Setting up python-lzma (0.5.3-3) ...\n",
            "Setting up libdw1:amd64 (0.170-0.4ubuntu0.1) ...\n",
            "Setting up python-sqlitecachec (1.1.4-1) ...\n",
            "Setting up python-pycurl (7.43.0.1-0.2) ...\n",
            "Setting up libmagic-mgc (1:5.32-2ubuntu0.4) ...\n",
            "Setting up libmagic1:amd64 (1:5.32-2ubuntu0.4) ...\n",
            "Setting up python-urlgrabber (3.10.2-1) ...\n",
            "Setting up python-libxml2 (2.9.4+dfsg1-6.1ubuntu1.3) ...\n",
            "Setting up liblua5.2-0:amd64 (5.2.4-1.1build1) ...\n",
            "Setting up libsqlite0 (2.8.17-14fakesync1) ...\n",
            "Setting up librpmio8 (4.14.1+dfsg1-2) ...\n",
            "Setting up debugedit (4.14.1+dfsg1-2) ...\n",
            "Setting up python-sqlite (1.0.1-12) ...\n",
            "Setting up librpm8 (4.14.1+dfsg1-2) ...\n",
            "Setting up rpm-common (4.14.1+dfsg1-2) ...\n",
            "Setting up librpmsign8 (4.14.1+dfsg1-2) ...\n",
            "Setting up librpmbuild8 (4.14.1+dfsg1-2) ...\n",
            "Setting up rpm2cpio (4.14.1+dfsg1-2) ...\n",
            "Setting up python-rpm (4.14.1+dfsg1-2) ...\n",
            "Setting up rpm (4.14.1+dfsg1-2) ...\n",
            "Setting up yum (3.4.3-3) ...\n",
            "Processing triggers for man-db (2.8.3-2ubuntu0.1) ...\n",
            "Processing triggers for libc-bin (2.27-3ubuntu1.2) ...\n",
            "/sbin/ldconfig.real: /usr/local/lib/python3.7/dist-packages/ideep4py/lib/libmkldnn.so.0 is not a symbolic link\n",
            "\n",
            "Errors were encountered while processing:\n",
            " clickhouse-server\n",
            "E: Sub-process /usr/bin/dpkg returned an error code (1)\n"
          ],
          "name": "stdout"
        }
      ]
    },
    {
      "cell_type": "code",
      "metadata": {
        "colab": {
          "base_uri": "https://localhost:8080/"
        },
        "id": "m09H1eZykLGd",
        "outputId": "b16e67df-5352-4c56-a818-eeb4fcab9478"
      },
      "source": [
        "!yum install yum-utils"
      ],
      "execution_count": null,
      "outputs": [
        {
          "output_type": "stream",
          "text": [
            "There are no enabled repos.\n",
            " Run \"yum repolist all\" to see the repos you have.\n",
            " You can enable repos with yum-config-manager --enable <repo>\n"
          ],
          "name": "stdout"
        }
      ]
    },
    {
      "cell_type": "code",
      "metadata": {
        "colab": {
          "base_uri": "https://localhost:8080/"
        },
        "id": "hQJ7VF7jkWbL",
        "outputId": "e1671a64-c548-4886-d962-e9d80bea8b52"
      },
      "source": [
        "!yum repolist all"
      ],
      "execution_count": null,
      "outputs": [
        {
          "output_type": "stream",
          "text": [
            "repolist: 0\n"
          ],
          "name": "stdout"
        }
      ]
    },
    {
      "cell_type": "code",
      "metadata": {
        "id": "_osVCBvskcJu"
      },
      "source": [
        ""
      ],
      "execution_count": null,
      "outputs": []
    }
  ]
}