{
  "nbformat": 4,
  "nbformat_minor": 0,
  "metadata": {
    "accelerator": "GPU",
    "colab": {
      "name": "target data investigate.ipynb",
      "provenance": [],
      "collapsed_sections": []
    },
    "kernelspec": {
      "display_name": "Python 3",
      "name": "python3"
    },
    "language_info": {
      "name": "python"
    }
  },
  "cells": [
    {
      "cell_type": "code",
      "metadata": {
        "colab": {
          "base_uri": "https://localhost:8080/"
        },
        "id": "yBgvg4sLM_70",
        "outputId": "a2c93b65-7f67-4ac5-fcdd-90f4dcb36133"
      },
      "source": [
        "!pip install turicreate"
      ],
      "execution_count": null,
      "outputs": [
        {
          "output_type": "stream",
          "text": [
            "Collecting turicreate\n",
            "\u001b[?25l  Downloading https://files.pythonhosted.org/packages/25/9f/a76acc465d873d217f05eac4846bd73d640b9db6d6f4a3c29ad92650fbbe/turicreate-6.4.1-cp37-cp37m-manylinux1_x86_64.whl (92.0MB)\n",
            "\u001b[K     |████████████████████████████████| 92.0MB 49kB/s \n",
            "\u001b[?25hRequirement already satisfied: pillow>=5.2.0 in /usr/local/lib/python3.7/dist-packages (from turicreate) (7.1.2)\n",
            "Collecting resampy==0.2.1\n",
            "\u001b[?25l  Downloading https://files.pythonhosted.org/packages/14/b6/66a06d85474190b50aee1a6c09cdc95bb405ac47338b27e9b21409da1760/resampy-0.2.1.tar.gz (322kB)\n",
            "\u001b[K     |████████████████████████████████| 327kB 45.1MB/s \n",
            "\u001b[?25hRequirement already satisfied: decorator>=4.0.9 in /usr/local/lib/python3.7/dist-packages (from turicreate) (4.4.2)\n",
            "Collecting coremltools==3.3\n",
            "\u001b[?25l  Downloading https://files.pythonhosted.org/packages/1b/1d/b1a99beca7355b6a026ae61fd8d3d36136e5b36f13e92ec5f81aceffc7f1/coremltools-3.3-cp37-none-manylinux1_x86_64.whl (3.5MB)\n",
            "\u001b[K     |████████████████████████████████| 3.5MB 47.6MB/s \n",
            "\u001b[?25hCollecting tensorflow<2.1.0,>=2.0.0\n",
            "\u001b[?25l  Downloading https://files.pythonhosted.org/packages/3c/b3/3eeae9bc44039ceadceac0c7ba1cc8b1482b172810b3d7624a1cad251437/tensorflow-2.0.4-cp37-cp37m-manylinux2010_x86_64.whl (86.4MB)\n",
            "\u001b[K     |████████████████████████████████| 86.4MB 36kB/s \n",
            "\u001b[?25hRequirement already satisfied: numpy in /usr/local/lib/python3.7/dist-packages (from turicreate) (1.19.5)\n",
            "Requirement already satisfied: requests>=2.9.1 in /usr/local/lib/python3.7/dist-packages (from turicreate) (2.23.0)\n",
            "Requirement already satisfied: pandas>=0.23.2 in /usr/local/lib/python3.7/dist-packages (from turicreate) (1.1.5)\n",
            "Requirement already satisfied: six>=1.10.0 in /usr/local/lib/python3.7/dist-packages (from turicreate) (1.15.0)\n",
            "Collecting numba<0.51.0\n",
            "\u001b[?25l  Downloading https://files.pythonhosted.org/packages/04/be/8c88cee3366de2a3a23a9ff1a8be34e79ad1eb1ceb0d0e33aca83655ac3c/numba-0.50.1-cp37-cp37m-manylinux2014_x86_64.whl (3.6MB)\n",
            "\u001b[K     |████████████████████████████████| 3.6MB 44.5MB/s \n",
            "\u001b[?25hCollecting prettytable==0.7.2\n",
            "  Downloading https://files.pythonhosted.org/packages/ef/30/4b0746848746ed5941f052479e7c23d2b56d174b82f4fd34a25e389831f5/prettytable-0.7.2.tar.bz2\n",
            "Requirement already satisfied: scipy>=1.1.0 in /usr/local/lib/python3.7/dist-packages (from turicreate) (1.4.1)\n",
            "Requirement already satisfied: protobuf>=3.1.0 in /usr/local/lib/python3.7/dist-packages (from coremltools==3.3->turicreate) (3.12.4)\n",
            "Requirement already satisfied: termcolor>=1.1.0 in /usr/local/lib/python3.7/dist-packages (from tensorflow<2.1.0,>=2.0.0->turicreate) (1.1.0)\n",
            "Collecting gast==0.2.2\n",
            "  Downloading https://files.pythonhosted.org/packages/4e/35/11749bf99b2d4e3cceb4d55ca22590b0d7c2c62b9de38ac4a4a7f4687421/gast-0.2.2.tar.gz\n",
            "Collecting keras-applications>=1.0.8\n",
            "\u001b[?25l  Downloading https://files.pythonhosted.org/packages/71/e3/19762fdfc62877ae9102edf6342d71b28fbfd9dea3d2f96a882ce099b03f/Keras_Applications-1.0.8-py3-none-any.whl (50kB)\n",
            "\u001b[K     |████████████████████████████████| 51kB 7.4MB/s \n",
            "\u001b[?25hRequirement already satisfied: opt-einsum>=2.3.2 in /usr/local/lib/python3.7/dist-packages (from tensorflow<2.1.0,>=2.0.0->turicreate) (3.3.0)\n",
            "Requirement already satisfied: wrapt>=1.11.1 in /usr/local/lib/python3.7/dist-packages (from tensorflow<2.1.0,>=2.0.0->turicreate) (1.12.1)\n",
            "Requirement already satisfied: keras-preprocessing>=1.0.5 in /usr/local/lib/python3.7/dist-packages (from tensorflow<2.1.0,>=2.0.0->turicreate) (1.1.2)\n",
            "Requirement already satisfied: google-pasta>=0.1.6 in /usr/local/lib/python3.7/dist-packages (from tensorflow<2.1.0,>=2.0.0->turicreate) (0.2.0)\n",
            "Requirement already satisfied: grpcio>=1.8.6 in /usr/local/lib/python3.7/dist-packages (from tensorflow<2.1.0,>=2.0.0->turicreate) (1.32.0)\n",
            "Requirement already satisfied: astor>=0.6.0 in /usr/local/lib/python3.7/dist-packages (from tensorflow<2.1.0,>=2.0.0->turicreate) (0.8.1)\n",
            "Collecting tensorboard<2.1.0,>=2.0.0\n",
            "\u001b[?25l  Downloading https://files.pythonhosted.org/packages/76/54/99b9d5d52d5cb732f099baaaf7740403e83fe6b0cedde940fabd2b13d75a/tensorboard-2.0.2-py3-none-any.whl (3.8MB)\n",
            "\u001b[K     |████████████████████████████████| 3.8MB 49.6MB/s \n",
            "\u001b[?25hCollecting tensorflow-estimator<2.1.0,>=2.0.0\n",
            "\u001b[?25l  Downloading https://files.pythonhosted.org/packages/fc/08/8b927337b7019c374719145d1dceba21a8bb909b93b1ad6f8fb7d22c1ca1/tensorflow_estimator-2.0.1-py2.py3-none-any.whl (449kB)\n",
            "\u001b[K     |████████████████████████████████| 450kB 47.9MB/s \n",
            "\u001b[?25hRequirement already satisfied: wheel>=0.26; python_version >= \"3\" in /usr/local/lib/python3.7/dist-packages (from tensorflow<2.1.0,>=2.0.0->turicreate) (0.36.2)\n",
            "Requirement already satisfied: absl-py>=0.7.0 in /usr/local/lib/python3.7/dist-packages (from tensorflow<2.1.0,>=2.0.0->turicreate) (0.12.0)\n",
            "Requirement already satisfied: h5py<=2.10.0 in /usr/local/lib/python3.7/dist-packages (from tensorflow<2.1.0,>=2.0.0->turicreate) (2.10.0)\n",
            "Requirement already satisfied: urllib3!=1.25.0,!=1.25.1,<1.26,>=1.21.1 in /usr/local/lib/python3.7/dist-packages (from requests>=2.9.1->turicreate) (1.24.3)\n",
            "Requirement already satisfied: chardet<4,>=3.0.2 in /usr/local/lib/python3.7/dist-packages (from requests>=2.9.1->turicreate) (3.0.4)\n",
            "Requirement already satisfied: idna<3,>=2.5 in /usr/local/lib/python3.7/dist-packages (from requests>=2.9.1->turicreate) (2.10)\n",
            "Requirement already satisfied: certifi>=2017.4.17 in /usr/local/lib/python3.7/dist-packages (from requests>=2.9.1->turicreate) (2020.12.5)\n",
            "Requirement already satisfied: python-dateutil>=2.7.3 in /usr/local/lib/python3.7/dist-packages (from pandas>=0.23.2->turicreate) (2.8.1)\n",
            "Requirement already satisfied: pytz>=2017.2 in /usr/local/lib/python3.7/dist-packages (from pandas>=0.23.2->turicreate) (2018.9)\n",
            "Requirement already satisfied: setuptools in /usr/local/lib/python3.7/dist-packages (from numba<0.51.0->turicreate) (54.2.0)\n",
            "Collecting llvmlite<0.34,>=0.33.0.dev0\n",
            "\u001b[?25l  Downloading https://files.pythonhosted.org/packages/0a/28/0a35b3c2685bf2ea327cef5577bdf91f387f0f4594417a2a05a1d42fb7c2/llvmlite-0.33.0-cp37-cp37m-manylinux1_x86_64.whl (18.3MB)\n",
            "\u001b[K     |████████████████████████████████| 18.3MB 151kB/s \n",
            "\u001b[?25hRequirement already satisfied: google-auth<2,>=1.6.3 in /usr/local/lib/python3.7/dist-packages (from tensorboard<2.1.0,>=2.0.0->tensorflow<2.1.0,>=2.0.0->turicreate) (1.28.0)\n",
            "Requirement already satisfied: markdown>=2.6.8 in /usr/local/lib/python3.7/dist-packages (from tensorboard<2.1.0,>=2.0.0->tensorflow<2.1.0,>=2.0.0->turicreate) (3.3.4)\n",
            "Requirement already satisfied: werkzeug>=0.11.15 in /usr/local/lib/python3.7/dist-packages (from tensorboard<2.1.0,>=2.0.0->tensorflow<2.1.0,>=2.0.0->turicreate) (1.0.1)\n",
            "Requirement already satisfied: google-auth-oauthlib<0.5,>=0.4.1 in /usr/local/lib/python3.7/dist-packages (from tensorboard<2.1.0,>=2.0.0->tensorflow<2.1.0,>=2.0.0->turicreate) (0.4.3)\n",
            "Requirement already satisfied: pyasn1-modules>=0.2.1 in /usr/local/lib/python3.7/dist-packages (from google-auth<2,>=1.6.3->tensorboard<2.1.0,>=2.0.0->tensorflow<2.1.0,>=2.0.0->turicreate) (0.2.8)\n",
            "Requirement already satisfied: cachetools<5.0,>=2.0.0 in /usr/local/lib/python3.7/dist-packages (from google-auth<2,>=1.6.3->tensorboard<2.1.0,>=2.0.0->tensorflow<2.1.0,>=2.0.0->turicreate) (4.2.1)\n",
            "Requirement already satisfied: rsa<5,>=3.1.4; python_version >= \"3.6\" in /usr/local/lib/python3.7/dist-packages (from google-auth<2,>=1.6.3->tensorboard<2.1.0,>=2.0.0->tensorflow<2.1.0,>=2.0.0->turicreate) (4.7.2)\n",
            "Requirement already satisfied: importlib-metadata; python_version < \"3.8\" in /usr/local/lib/python3.7/dist-packages (from markdown>=2.6.8->tensorboard<2.1.0,>=2.0.0->tensorflow<2.1.0,>=2.0.0->turicreate) (3.8.1)\n",
            "Requirement already satisfied: requests-oauthlib>=0.7.0 in /usr/local/lib/python3.7/dist-packages (from google-auth-oauthlib<0.5,>=0.4.1->tensorboard<2.1.0,>=2.0.0->tensorflow<2.1.0,>=2.0.0->turicreate) (1.3.0)\n",
            "Requirement already satisfied: pyasn1<0.5.0,>=0.4.6 in /usr/local/lib/python3.7/dist-packages (from pyasn1-modules>=0.2.1->google-auth<2,>=1.6.3->tensorboard<2.1.0,>=2.0.0->tensorflow<2.1.0,>=2.0.0->turicreate) (0.4.8)\n",
            "Requirement already satisfied: zipp>=0.5 in /usr/local/lib/python3.7/dist-packages (from importlib-metadata; python_version < \"3.8\"->markdown>=2.6.8->tensorboard<2.1.0,>=2.0.0->tensorflow<2.1.0,>=2.0.0->turicreate) (3.4.1)\n",
            "Requirement already satisfied: typing-extensions>=3.6.4; python_version < \"3.8\" in /usr/local/lib/python3.7/dist-packages (from importlib-metadata; python_version < \"3.8\"->markdown>=2.6.8->tensorboard<2.1.0,>=2.0.0->tensorflow<2.1.0,>=2.0.0->turicreate) (3.7.4.3)\n",
            "Requirement already satisfied: oauthlib>=3.0.0 in /usr/local/lib/python3.7/dist-packages (from requests-oauthlib>=0.7.0->google-auth-oauthlib<0.5,>=0.4.1->tensorboard<2.1.0,>=2.0.0->tensorflow<2.1.0,>=2.0.0->turicreate) (3.1.0)\n",
            "Building wheels for collected packages: resampy, prettytable, gast\n",
            "  Building wheel for resampy (setup.py) ... \u001b[?25l\u001b[?25hdone\n",
            "  Created wheel for resampy: filename=resampy-0.2.1-cp37-none-any.whl size=320845 sha256=120695336a607084745771a0180fd41cc9e54bf81923fd10b9c33a34a7d89195\n",
            "  Stored in directory: /root/.cache/pip/wheels/ff/4f/ed/2e6c676c23efe5394bb40ade50662e90eb46e29b48324c5f9b\n",
            "  Building wheel for prettytable (setup.py) ... \u001b[?25l\u001b[?25hdone\n",
            "  Created wheel for prettytable: filename=prettytable-0.7.2-cp37-none-any.whl size=13700 sha256=34f7ce77bcaf8c58cbfee9cd8ab5e576377fe8cd3dd17d739a0d3b24b511ebab\n",
            "  Stored in directory: /root/.cache/pip/wheels/80/34/1c/3967380d9676d162cb59513bd9dc862d0584e045a162095606\n",
            "  Building wheel for gast (setup.py) ... \u001b[?25l\u001b[?25hdone\n",
            "  Created wheel for gast: filename=gast-0.2.2-cp37-none-any.whl size=7540 sha256=c62eebabd427aff9ca9173103d14ee8fbf7c5842c471bd978333a80ab940789b\n",
            "  Stored in directory: /root/.cache/pip/wheels/5c/2e/7e/a1d4d4fcebe6c381f378ce7743a3ced3699feb89bcfbdadadd\n",
            "Successfully built resampy prettytable gast\n",
            "\u001b[31mERROR: tensorflow 2.0.4 has requirement numpy<1.19.0,>=1.16.0, but you'll have numpy 1.19.5 which is incompatible.\u001b[0m\n",
            "\u001b[31mERROR: tensorflow-probability 0.12.1 has requirement gast>=0.3.2, but you'll have gast 0.2.2 which is incompatible.\u001b[0m\n",
            "\u001b[31mERROR: librosa 0.8.0 has requirement resampy>=0.2.2, but you'll have resampy 0.2.1 which is incompatible.\u001b[0m\n",
            "Installing collected packages: llvmlite, numba, resampy, coremltools, gast, keras-applications, tensorboard, tensorflow-estimator, tensorflow, prettytable, turicreate\n",
            "  Found existing installation: llvmlite 0.34.0\n",
            "    Uninstalling llvmlite-0.34.0:\n",
            "      Successfully uninstalled llvmlite-0.34.0\n",
            "  Found existing installation: numba 0.51.2\n",
            "    Uninstalling numba-0.51.2:\n",
            "      Successfully uninstalled numba-0.51.2\n",
            "  Found existing installation: resampy 0.2.2\n",
            "    Uninstalling resampy-0.2.2:\n",
            "      Successfully uninstalled resampy-0.2.2\n",
            "  Found existing installation: gast 0.3.3\n",
            "    Uninstalling gast-0.3.3:\n",
            "      Successfully uninstalled gast-0.3.3\n",
            "  Found existing installation: tensorboard 2.4.1\n",
            "    Uninstalling tensorboard-2.4.1:\n",
            "      Successfully uninstalled tensorboard-2.4.1\n",
            "  Found existing installation: tensorflow-estimator 2.4.0\n",
            "    Uninstalling tensorflow-estimator-2.4.0:\n",
            "      Successfully uninstalled tensorflow-estimator-2.4.0\n",
            "  Found existing installation: tensorflow 2.4.1\n",
            "    Uninstalling tensorflow-2.4.1:\n",
            "      Successfully uninstalled tensorflow-2.4.1\n",
            "  Found existing installation: prettytable 2.1.0\n",
            "    Uninstalling prettytable-2.1.0:\n",
            "      Successfully uninstalled prettytable-2.1.0\n",
            "Successfully installed coremltools-3.3 gast-0.2.2 keras-applications-1.0.8 llvmlite-0.33.0 numba-0.50.1 prettytable-0.7.2 resampy-0.2.1 tensorboard-2.0.2 tensorflow-2.0.4 tensorflow-estimator-2.0.1 turicreate-6.4.1\n"
          ],
          "name": "stdout"
        }
      ]
    },
    {
      "cell_type": "code",
      "metadata": {
        "id": "qiQu0AuBM1B8",
        "colab": {
          "base_uri": "https://localhost:8080/"
        },
        "outputId": "74864e0a-636a-46b5-b93a-d8d7140af928"
      },
      "source": [
        "import pandas as pd\n",
        "import turicreate as tc\n",
        "import json\n",
        "from google.colab import drive\n",
        "drive.mount('/content/drive')"
      ],
      "execution_count": null,
      "outputs": [
        {
          "output_type": "stream",
          "text": [
            "Drive already mounted at /content/drive; to attempt to forcibly remount, call drive.mount(\"/content/drive\", force_remount=True).\n"
          ],
          "name": "stdout"
        }
      ]
    },
    {
      "cell_type": "code",
      "metadata": {
        "id": "duFjQ33CPMWx"
      },
      "source": [
        "file = '/content/drive/MyDrive/@/train.json'\n",
        "file_test = '/content/drive/MyDrive/@/test.json'"
      ],
      "execution_count": null,
      "outputs": []
    },
    {
      "cell_type": "code",
      "metadata": {
        "id": "zhDwqGkEP6Lu"
      },
      "source": [
        "with open(file) as data:\n",
        "    dict_data = json.load(data)\n",
        "with open(file_test) as data_test:\n",
        "    dict_test = json.load(data_test) "
      ],
      "execution_count": null,
      "outputs": []
    },
    {
      "cell_type": "code",
      "metadata": {
        "id": "dee5yuKzM-EX"
      },
      "source": [
        "df = pd.DataFrame.from_dict(dict_data)\n",
        "df_test = pd.DataFrame.from_dict(dict_test)"
      ],
      "execution_count": null,
      "outputs": []
    },
    {
      "cell_type": "code",
      "metadata": {
        "colab": {
          "base_uri": "https://localhost:8080/"
        },
        "id": "whS1osSij4Sh",
        "outputId": "89963128-3d9f-4217-9867-60357fcea13a"
      },
      "source": [
        "df.dropna(inplace=True)\n",
        "df.drop_duplicates()\n",
        "df['len'] = df['text'].str.len()\n",
        "print(df['sentiment'].value_counts())\n",
        "print(df)"
      ],
      "execution_count": null,
      "outputs": [
        {
          "output_type": "stream",
          "text": [
            "neutral     4034\n",
            "positive    2795\n",
            "negative    1434\n",
            "Name: sentiment, dtype: int64\n",
            "                                                   text     id sentiment    len\n",
            "0     Досудебное расследование по факту покупки ЕНПФ...   1945  negative   1248\n",
            "1     Медики рассказали о состоянии пострадавшего му...   1957  negative   1601\n",
            "2     Прошел почти год, как железнодорожным оператор...   1969  negative   8498\n",
            "3     По итогам 12 месяцев 2016 года на территории р...   1973  negative   3819\n",
            "4     Астана. 21 ноября. Kazakhstan Today - Агентств...   1975  negative   5188\n",
            "...                                                 ...    ...       ...    ...\n",
            "8258  Как мы писали еще весной, для увеличения сбыта...  10312  positive   1058\n",
            "8259  Но молодой министр национальной экономики Биши...  10313  negative   7448\n",
            "8260  \\n \\nВ ЕНПФ назначен новый председатель правле...  10314   neutral    346\n",
            "8261  В Алматы у отделения банка произошло нападение...  10315  negative   1456\n",
            "8262  НПП РК «Атамекен» предлагает создать Националь...  10316   neutral  11650\n",
            "\n",
            "[8263 rows x 4 columns]\n"
          ],
          "name": "stdout"
        }
      ]
    },
    {
      "cell_type": "code",
      "metadata": {
        "id": "PwuwSjtUh5y_"
      },
      "source": [
        "df = df.replace('\\n', ' ', regex=True)\n",
        "df_test = df_test.replace('\\n', ' ', regex=True)"
      ],
      "execution_count": null,
      "outputs": []
    },
    {
      "cell_type": "code",
      "metadata": {
        "colab": {
          "base_uri": "https://localhost:8080/",
          "height": 424
        },
        "id": "vkCKxxDlboeq",
        "outputId": "342e26e6-742f-4b81-ef9a-e48dc48193a8"
      },
      "source": [
        "df['len'] = df['text'].str.len()\n",
        "df"
      ],
      "execution_count": null,
      "outputs": [
        {
          "output_type": "execute_result",
          "data": {
            "text/html": [
              "<div>\n",
              "<style scoped>\n",
              "    .dataframe tbody tr th:only-of-type {\n",
              "        vertical-align: middle;\n",
              "    }\n",
              "\n",
              "    .dataframe tbody tr th {\n",
              "        vertical-align: top;\n",
              "    }\n",
              "\n",
              "    .dataframe thead th {\n",
              "        text-align: right;\n",
              "    }\n",
              "</style>\n",
              "<table border=\"1\" class=\"dataframe\">\n",
              "  <thead>\n",
              "    <tr style=\"text-align: right;\">\n",
              "      <th></th>\n",
              "      <th>text</th>\n",
              "      <th>id</th>\n",
              "      <th>sentiment</th>\n",
              "      <th>len</th>\n",
              "    </tr>\n",
              "  </thead>\n",
              "  <tbody>\n",
              "    <tr>\n",
              "      <th>0</th>\n",
              "      <td>Досудебное расследование по факту покупки ЕНПФ...</td>\n",
              "      <td>1945</td>\n",
              "      <td>negative</td>\n",
              "      <td>1248</td>\n",
              "    </tr>\n",
              "    <tr>\n",
              "      <th>1</th>\n",
              "      <td>Медики рассказали о состоянии пострадавшего му...</td>\n",
              "      <td>1957</td>\n",
              "      <td>negative</td>\n",
              "      <td>1601</td>\n",
              "    </tr>\n",
              "    <tr>\n",
              "      <th>2</th>\n",
              "      <td>Прошел почти год, как железнодорожным оператор...</td>\n",
              "      <td>1969</td>\n",
              "      <td>negative</td>\n",
              "      <td>8498</td>\n",
              "    </tr>\n",
              "    <tr>\n",
              "      <th>3</th>\n",
              "      <td>По итогам 12 месяцев 2016 года на территории р...</td>\n",
              "      <td>1973</td>\n",
              "      <td>negative</td>\n",
              "      <td>3819</td>\n",
              "    </tr>\n",
              "    <tr>\n",
              "      <th>4</th>\n",
              "      <td>Астана. 21 ноября. Kazakhstan Today - Агентств...</td>\n",
              "      <td>1975</td>\n",
              "      <td>negative</td>\n",
              "      <td>5188</td>\n",
              "    </tr>\n",
              "    <tr>\n",
              "      <th>...</th>\n",
              "      <td>...</td>\n",
              "      <td>...</td>\n",
              "      <td>...</td>\n",
              "      <td>...</td>\n",
              "    </tr>\n",
              "    <tr>\n",
              "      <th>8258</th>\n",
              "      <td>Как мы писали еще весной, для увеличения сбыта...</td>\n",
              "      <td>10312</td>\n",
              "      <td>positive</td>\n",
              "      <td>1058</td>\n",
              "    </tr>\n",
              "    <tr>\n",
              "      <th>8259</th>\n",
              "      <td>Но молодой министр национальной экономики Биши...</td>\n",
              "      <td>10313</td>\n",
              "      <td>negative</td>\n",
              "      <td>7448</td>\n",
              "    </tr>\n",
              "    <tr>\n",
              "      <th>8260</th>\n",
              "      <td>В ЕНПФ назначен новый председатель правлени...</td>\n",
              "      <td>10314</td>\n",
              "      <td>neutral</td>\n",
              "      <td>346</td>\n",
              "    </tr>\n",
              "    <tr>\n",
              "      <th>8261</th>\n",
              "      <td>В Алматы у отделения банка произошло нападение...</td>\n",
              "      <td>10315</td>\n",
              "      <td>negative</td>\n",
              "      <td>1456</td>\n",
              "    </tr>\n",
              "    <tr>\n",
              "      <th>8262</th>\n",
              "      <td>НПП РК «Атамекен» предлагает создать Националь...</td>\n",
              "      <td>10316</td>\n",
              "      <td>neutral</td>\n",
              "      <td>11650</td>\n",
              "    </tr>\n",
              "  </tbody>\n",
              "</table>\n",
              "<p>8263 rows × 4 columns</p>\n",
              "</div>"
            ],
            "text/plain": [
              "                                                   text     id sentiment    len\n",
              "0     Досудебное расследование по факту покупки ЕНПФ...   1945  negative   1248\n",
              "1     Медики рассказали о состоянии пострадавшего му...   1957  negative   1601\n",
              "2     Прошел почти год, как железнодорожным оператор...   1969  negative   8498\n",
              "3     По итогам 12 месяцев 2016 года на территории р...   1973  negative   3819\n",
              "4     Астана. 21 ноября. Kazakhstan Today - Агентств...   1975  negative   5188\n",
              "...                                                 ...    ...       ...    ...\n",
              "8258  Как мы писали еще весной, для увеличения сбыта...  10312  positive   1058\n",
              "8259  Но молодой министр национальной экономики Биши...  10313  negative   7448\n",
              "8260     В ЕНПФ назначен новый председатель правлени...  10314   neutral    346\n",
              "8261  В Алматы у отделения банка произошло нападение...  10315  negative   1456\n",
              "8262  НПП РК «Атамекен» предлагает создать Националь...  10316   neutral  11650\n",
              "\n",
              "[8263 rows x 4 columns]"
            ]
          },
          "metadata": {
            "tags": []
          },
          "execution_count": 10
        }
      ]
    },
    {
      "cell_type": "code",
      "metadata": {
        "id": "wGj0c1OBXu5l"
      },
      "source": [
        "df['text'] = df['text'].str.replace(r'[^\\w\\s]+', '')"
      ],
      "execution_count": null,
      "outputs": []
    },
    {
      "cell_type": "code",
      "metadata": {
        "id": "dYcLa5itYzfD"
      },
      "source": [
        "df['text'] = df['text'].str.replace(r'(Если вы нашли ошибку в тексте выделите ее мышью и нажмите CtrlEnter)', '')"
      ],
      "execution_count": null,
      "outputs": []
    },
    {
      "cell_type": "code",
      "metadata": {
        "colab": {
          "base_uri": "https://localhost:8080/",
          "height": 424
        },
        "id": "5l0t-D0qXvCJ",
        "outputId": "b59d54e6-dde9-40d5-9818-e00157c66fe7"
      },
      "source": [
        "df['len'] = df['text'].str.len()\n",
        "df"
      ],
      "execution_count": null,
      "outputs": [
        {
          "output_type": "execute_result",
          "data": {
            "text/html": [
              "<div>\n",
              "<style scoped>\n",
              "    .dataframe tbody tr th:only-of-type {\n",
              "        vertical-align: middle;\n",
              "    }\n",
              "\n",
              "    .dataframe tbody tr th {\n",
              "        vertical-align: top;\n",
              "    }\n",
              "\n",
              "    .dataframe thead th {\n",
              "        text-align: right;\n",
              "    }\n",
              "</style>\n",
              "<table border=\"1\" class=\"dataframe\">\n",
              "  <thead>\n",
              "    <tr style=\"text-align: right;\">\n",
              "      <th></th>\n",
              "      <th>text</th>\n",
              "      <th>id</th>\n",
              "      <th>sentiment</th>\n",
              "      <th>len</th>\n",
              "    </tr>\n",
              "  </thead>\n",
              "  <tbody>\n",
              "    <tr>\n",
              "      <th>0</th>\n",
              "      <td>Досудебное расследование по факту покупки ЕНПФ...</td>\n",
              "      <td>1945</td>\n",
              "      <td>negative</td>\n",
              "      <td>1145</td>\n",
              "    </tr>\n",
              "    <tr>\n",
              "      <th>1</th>\n",
              "      <td>Медики рассказали о состоянии пострадавшего му...</td>\n",
              "      <td>1957</td>\n",
              "      <td>negative</td>\n",
              "      <td>1553</td>\n",
              "    </tr>\n",
              "    <tr>\n",
              "      <th>2</th>\n",
              "      <td>Прошел почти год как железнодорожным оператора...</td>\n",
              "      <td>1969</td>\n",
              "      <td>negative</td>\n",
              "      <td>8212</td>\n",
              "    </tr>\n",
              "    <tr>\n",
              "      <th>3</th>\n",
              "      <td>По итогам 12 месяцев 2016 года на территории р...</td>\n",
              "      <td>1973</td>\n",
              "      <td>negative</td>\n",
              "      <td>3597</td>\n",
              "    </tr>\n",
              "    <tr>\n",
              "      <th>4</th>\n",
              "      <td>Астана 21 ноября Kazakhstan Today  Агентство Р...</td>\n",
              "      <td>1975</td>\n",
              "      <td>negative</td>\n",
              "      <td>5042</td>\n",
              "    </tr>\n",
              "    <tr>\n",
              "      <th>...</th>\n",
              "      <td>...</td>\n",
              "      <td>...</td>\n",
              "      <td>...</td>\n",
              "      <td>...</td>\n",
              "    </tr>\n",
              "    <tr>\n",
              "      <th>8258</th>\n",
              "      <td>Как мы писали еще весной для увеличения сбыта ...</td>\n",
              "      <td>10312</td>\n",
              "      <td>positive</td>\n",
              "      <td>1034</td>\n",
              "    </tr>\n",
              "    <tr>\n",
              "      <th>8259</th>\n",
              "      <td>Но молодой министр национальной экономики Биши...</td>\n",
              "      <td>10313</td>\n",
              "      <td>negative</td>\n",
              "      <td>7231</td>\n",
              "    </tr>\n",
              "    <tr>\n",
              "      <th>8260</th>\n",
              "      <td>В ЕНПФ назначен новый председатель правлени...</td>\n",
              "      <td>10314</td>\n",
              "      <td>neutral</td>\n",
              "      <td>334</td>\n",
              "    </tr>\n",
              "    <tr>\n",
              "      <th>8261</th>\n",
              "      <td>В Алматы у отделения банка произошло нападение...</td>\n",
              "      <td>10315</td>\n",
              "      <td>negative</td>\n",
              "      <td>1388</td>\n",
              "    </tr>\n",
              "    <tr>\n",
              "      <th>8262</th>\n",
              "      <td>НПП РК Атамекен предлагает создать Национальны...</td>\n",
              "      <td>10316</td>\n",
              "      <td>neutral</td>\n",
              "      <td>11356</td>\n",
              "    </tr>\n",
              "  </tbody>\n",
              "</table>\n",
              "<p>8263 rows × 4 columns</p>\n",
              "</div>"
            ],
            "text/plain": [
              "                                                   text     id sentiment    len\n",
              "0     Досудебное расследование по факту покупки ЕНПФ...   1945  negative   1145\n",
              "1     Медики рассказали о состоянии пострадавшего му...   1957  negative   1553\n",
              "2     Прошел почти год как железнодорожным оператора...   1969  negative   8212\n",
              "3     По итогам 12 месяцев 2016 года на территории р...   1973  negative   3597\n",
              "4     Астана 21 ноября Kazakhstan Today  Агентство Р...   1975  negative   5042\n",
              "...                                                 ...    ...       ...    ...\n",
              "8258  Как мы писали еще весной для увеличения сбыта ...  10312  positive   1034\n",
              "8259  Но молодой министр национальной экономики Биши...  10313  negative   7231\n",
              "8260     В ЕНПФ назначен новый председатель правлени...  10314   neutral    334\n",
              "8261  В Алматы у отделения банка произошло нападение...  10315  negative   1388\n",
              "8262  НПП РК Атамекен предлагает создать Национальны...  10316   neutral  11356\n",
              "\n",
              "[8263 rows x 4 columns]"
            ]
          },
          "metadata": {
            "tags": []
          },
          "execution_count": 13
        }
      ]
    },
    {
      "cell_type": "code",
      "metadata": {
        "id": "Wv3apFSbYjS-"
      },
      "source": [
        "df_test['text'] = df_test['text'].str.replace(r'[^\\w\\s]+', '')\n",
        "df_test['text'] = df_test['text'].str.replace(r'(Если вы нашли ошибку в тексте выделите ее мышью и нажмите CtrlEnter)', '')"
      ],
      "execution_count": null,
      "outputs": []
    },
    {
      "cell_type": "code",
      "metadata": {
        "colab": {
          "base_uri": "https://localhost:8080/"
        },
        "id": "HXtv6uZdghJB",
        "outputId": "8d30c017-b5d0-463e-aaa7-c67c1485a9c6"
      },
      "source": [
        "df = df.sample(frac=1)\n",
        "print(df['sentiment'].value_counts())\n",
        "print(df)"
      ],
      "execution_count": null,
      "outputs": [
        {
          "output_type": "stream",
          "text": [
            "neutral     4034\n",
            "positive    2795\n",
            "negative    1434\n",
            "Name: sentiment, dtype: int64\n",
            "                                                   text    id sentiment   len\n",
            "6897     Как сообщает 365infokz установлен фaкт хище...  8951  negative  2553\n",
            "3117  На этой неделе службы безопасности четырёх бан...  5171  negative  2151\n",
            "2760  Избран новый глава легкоатлетической Федерации...  4814   neutral  7311\n",
            "7887  Инвестиционная деятельность ЕНПФ Октябрь 2016 ...  9941  positive  2196\n",
            "881   5 февраля 2016 г 1926 ФОТО предоставлено пресс...  2935  positive  1595\n",
            "...                                                 ...   ...       ...   ...\n",
            "2167  МОСКВАМАДРИД 17 дек ПРАЙМ Федеральная пассажир...  4221  positive  2592\n",
            "3896  В предпраздничные и праздничные дни ҚТЖ было п...  5950  positive   115\n",
            "2770  В Астане прошла благотворительная акция В ритм...  4824  positive  1295\n",
            "2738  При ЕНПФ создан Общественный совет Для выработ...  4792   neutral  1223\n",
            "7363  Куандыку Бишимбаеву грозит до 15 лет лишения с...  9417  negative   371\n",
            "\n",
            "[8263 rows x 4 columns]\n"
          ],
          "name": "stdout"
        }
      ]
    },
    {
      "cell_type": "code",
      "metadata": {
        "id": "hiJhBRfCOKAH"
      },
      "source": [
        "df.to_csv('/content/drive/MyDrive/@/train.csv')\n",
        "df_test.to_csv('/content/drive/MyDrive/@/test.csv')"
      ],
      "execution_count": null,
      "outputs": []
    },
    {
      "cell_type": "code",
      "metadata": {
        "colab": {
          "base_uri": "https://localhost:8080/",
          "height": 424
        },
        "id": "kC3wFIi51Hbj",
        "outputId": "421483b8-9234-4846-84d5-b96c91a3d23a"
      },
      "source": [
        "short_df = pd.read_csv('/content/drive/MyDrive/@/train.csv', converters={'text': lambda x: x[:100]})\n",
        "short_df['len'] = short_df['text'].str.len()\n",
        "short_df"
      ],
      "execution_count": null,
      "outputs": [
        {
          "output_type": "execute_result",
          "data": {
            "text/html": [
              "<div>\n",
              "<style scoped>\n",
              "    .dataframe tbody tr th:only-of-type {\n",
              "        vertical-align: middle;\n",
              "    }\n",
              "\n",
              "    .dataframe tbody tr th {\n",
              "        vertical-align: top;\n",
              "    }\n",
              "\n",
              "    .dataframe thead th {\n",
              "        text-align: right;\n",
              "    }\n",
              "</style>\n",
              "<table border=\"1\" class=\"dataframe\">\n",
              "  <thead>\n",
              "    <tr style=\"text-align: right;\">\n",
              "      <th></th>\n",
              "      <th>Unnamed: 0</th>\n",
              "      <th>text</th>\n",
              "      <th>id</th>\n",
              "      <th>sentiment</th>\n",
              "      <th>len</th>\n",
              "    </tr>\n",
              "  </thead>\n",
              "  <tbody>\n",
              "    <tr>\n",
              "      <th>0</th>\n",
              "      <td>6897</td>\n",
              "      <td>Как сообщает 365infokz установлен фaкт хище...</td>\n",
              "      <td>8951</td>\n",
              "      <td>negative</td>\n",
              "      <td>100</td>\n",
              "    </tr>\n",
              "    <tr>\n",
              "      <th>1</th>\n",
              "      <td>3117</td>\n",
              "      <td>На этой неделе службы безопасности четырёх бан...</td>\n",
              "      <td>5171</td>\n",
              "      <td>negative</td>\n",
              "      <td>100</td>\n",
              "    </tr>\n",
              "    <tr>\n",
              "      <th>2</th>\n",
              "      <td>2760</td>\n",
              "      <td>Избран новый глава легкоатлетической Федерации...</td>\n",
              "      <td>4814</td>\n",
              "      <td>neutral</td>\n",
              "      <td>100</td>\n",
              "    </tr>\n",
              "    <tr>\n",
              "      <th>3</th>\n",
              "      <td>7887</td>\n",
              "      <td>Инвестиционная деятельность ЕНПФ Октябрь 2016 ...</td>\n",
              "      <td>9941</td>\n",
              "      <td>positive</td>\n",
              "      <td>100</td>\n",
              "    </tr>\n",
              "    <tr>\n",
              "      <th>4</th>\n",
              "      <td>881</td>\n",
              "      <td>5 февраля 2016 г 1926 ФОТО предоставлено пресс...</td>\n",
              "      <td>2935</td>\n",
              "      <td>positive</td>\n",
              "      <td>100</td>\n",
              "    </tr>\n",
              "    <tr>\n",
              "      <th>...</th>\n",
              "      <td>...</td>\n",
              "      <td>...</td>\n",
              "      <td>...</td>\n",
              "      <td>...</td>\n",
              "      <td>...</td>\n",
              "    </tr>\n",
              "    <tr>\n",
              "      <th>8258</th>\n",
              "      <td>2167</td>\n",
              "      <td>МОСКВАМАДРИД 17 дек ПРАЙМ Федеральная пассажир...</td>\n",
              "      <td>4221</td>\n",
              "      <td>positive</td>\n",
              "      <td>100</td>\n",
              "    </tr>\n",
              "    <tr>\n",
              "      <th>8259</th>\n",
              "      <td>3896</td>\n",
              "      <td>В предпраздничные и праздничные дни ҚТЖ было п...</td>\n",
              "      <td>5950</td>\n",
              "      <td>positive</td>\n",
              "      <td>100</td>\n",
              "    </tr>\n",
              "    <tr>\n",
              "      <th>8260</th>\n",
              "      <td>2770</td>\n",
              "      <td>В Астане прошла благотворительная акция В ритм...</td>\n",
              "      <td>4824</td>\n",
              "      <td>positive</td>\n",
              "      <td>100</td>\n",
              "    </tr>\n",
              "    <tr>\n",
              "      <th>8261</th>\n",
              "      <td>2738</td>\n",
              "      <td>При ЕНПФ создан Общественный совет Для выработ...</td>\n",
              "      <td>4792</td>\n",
              "      <td>neutral</td>\n",
              "      <td>100</td>\n",
              "    </tr>\n",
              "    <tr>\n",
              "      <th>8262</th>\n",
              "      <td>7363</td>\n",
              "      <td>Куандыку Бишимбаеву грозит до 15 лет лишения с...</td>\n",
              "      <td>9417</td>\n",
              "      <td>negative</td>\n",
              "      <td>100</td>\n",
              "    </tr>\n",
              "  </tbody>\n",
              "</table>\n",
              "<p>8263 rows × 5 columns</p>\n",
              "</div>"
            ],
            "text/plain": [
              "      Unnamed: 0  ...  len\n",
              "0           6897  ...  100\n",
              "1           3117  ...  100\n",
              "2           2760  ...  100\n",
              "3           7887  ...  100\n",
              "4            881  ...  100\n",
              "...          ...  ...  ...\n",
              "8258        2167  ...  100\n",
              "8259        3896  ...  100\n",
              "8260        2770  ...  100\n",
              "8261        2738  ...  100\n",
              "8262        7363  ...  100\n",
              "\n",
              "[8263 rows x 5 columns]"
            ]
          },
          "metadata": {
            "tags": []
          },
          "execution_count": 17
        }
      ]
    },
    {
      "cell_type": "code",
      "metadata": {
        "id": "9DHqfYWF2GNX"
      },
      "source": [
        "short_df.to_csv('/content/drive/MyDrive/@/short.csv')"
      ],
      "execution_count": null,
      "outputs": []
    },
    {
      "cell_type": "code",
      "metadata": {
        "colab": {
          "base_uri": "https://localhost:8080/",
          "height": 234
        },
        "id": "V0x0CvCxQrNk",
        "outputId": "c81c2e6a-e9b7-4a87-d84d-ed1f4b28b1f7"
      },
      "source": [
        "dSF = tc.SFrame('/content/drive/MyDrive/@/train.csv')"
      ],
      "execution_count": null,
      "outputs": [
        {
          "output_type": "display_data",
          "data": {
            "text/html": [
              "<pre>Finished parsing file /content/drive/MyDrive/@/train.csv</pre>"
            ],
            "text/plain": [
              "Finished parsing file /content/drive/MyDrive/@/train.csv"
            ]
          },
          "metadata": {
            "tags": []
          }
        },
        {
          "output_type": "display_data",
          "data": {
            "text/html": [
              "<pre>Parsing completed. Parsed 100 lines in 1.25667 secs.</pre>"
            ],
            "text/plain": [
              "Parsing completed. Parsed 100 lines in 1.25667 secs."
            ]
          },
          "metadata": {
            "tags": []
          }
        },
        {
          "output_type": "stream",
          "text": [
            "------------------------------------------------------\n",
            "Inferred types from first 100 line(s) of file as \n",
            "column_type_hints=[int,str,int,str,int]\n",
            "If parsing fails due to incorrect types, you can correct\n",
            "the inferred type list above and pass it to read_csv in\n",
            "the column_type_hints argument\n",
            "------------------------------------------------------\n"
          ],
          "name": "stdout"
        },
        {
          "output_type": "display_data",
          "data": {
            "text/html": [
              "<pre>Read 7553 lines. Lines per second: 10419.6</pre>"
            ],
            "text/plain": [
              "Read 7553 lines. Lines per second: 10419.6"
            ]
          },
          "metadata": {
            "tags": []
          }
        },
        {
          "output_type": "display_data",
          "data": {
            "text/html": [
              "<pre>Finished parsing file /content/drive/MyDrive/@/train.csv</pre>"
            ],
            "text/plain": [
              "Finished parsing file /content/drive/MyDrive/@/train.csv"
            ]
          },
          "metadata": {
            "tags": []
          }
        },
        {
          "output_type": "display_data",
          "data": {
            "text/html": [
              "<pre>Parsing completed. Parsed 8263 lines in 0.748017 secs.</pre>"
            ],
            "text/plain": [
              "Parsing completed. Parsed 8263 lines in 0.748017 secs."
            ]
          },
          "metadata": {
            "tags": []
          }
        }
      ]
    },
    {
      "cell_type": "code",
      "metadata": {
        "colab": {
          "base_uri": "https://localhost:8080/",
          "height": 458
        },
        "id": "3882fyyNS2vc",
        "outputId": "c9d3fa6c-e36d-47f9-e7e0-0707ff01a2a4"
      },
      "source": [
        "dSF"
      ],
      "execution_count": null,
      "outputs": [
        {
          "output_type": "execute_result",
          "data": {
            "text/html": [
              "<div style=\"max-height:1000px;max-width:1500px;overflow:auto;\"><table frame=\"box\" rules=\"cols\">\n",
              "    <tr>\n",
              "        <th style=\"padding-left: 1em; padding-right: 1em; text-align: center\">X1</th>\n",
              "        <th style=\"padding-left: 1em; padding-right: 1em; text-align: center\">text</th>\n",
              "        <th style=\"padding-left: 1em; padding-right: 1em; text-align: center\">id</th>\n",
              "        <th style=\"padding-left: 1em; padding-right: 1em; text-align: center\">sentiment</th>\n",
              "        <th style=\"padding-left: 1em; padding-right: 1em; text-align: center\">len</th>\n",
              "    </tr>\n",
              "    <tr>\n",
              "        <td style=\"padding-left: 1em; padding-right: 1em; text-align: center; vertical-align: top\">6897</td>\n",
              "        <td style=\"padding-left: 1em; padding-right: 1em; text-align: center; vertical-align: top\">Как сообщает 365infokz<br>установлен фaкт хищения ...</td>\n",
              "        <td style=\"padding-left: 1em; padding-right: 1em; text-align: center; vertical-align: top\">8951</td>\n",
              "        <td style=\"padding-left: 1em; padding-right: 1em; text-align: center; vertical-align: top\">negative</td>\n",
              "        <td style=\"padding-left: 1em; padding-right: 1em; text-align: center; vertical-align: top\">2553</td>\n",
              "    </tr>\n",
              "    <tr>\n",
              "        <td style=\"padding-left: 1em; padding-right: 1em; text-align: center; vertical-align: top\">3117</td>\n",
              "        <td style=\"padding-left: 1em; padding-right: 1em; text-align: center; vertical-align: top\">На этой неделе службы<br>безопасности четырёх ...</td>\n",
              "        <td style=\"padding-left: 1em; padding-right: 1em; text-align: center; vertical-align: top\">5171</td>\n",
              "        <td style=\"padding-left: 1em; padding-right: 1em; text-align: center; vertical-align: top\">negative</td>\n",
              "        <td style=\"padding-left: 1em; padding-right: 1em; text-align: center; vertical-align: top\">2151</td>\n",
              "    </tr>\n",
              "    <tr>\n",
              "        <td style=\"padding-left: 1em; padding-right: 1em; text-align: center; vertical-align: top\">2760</td>\n",
              "        <td style=\"padding-left: 1em; padding-right: 1em; text-align: center; vertical-align: top\">Избран новый глава<br>легкоатлетической ...</td>\n",
              "        <td style=\"padding-left: 1em; padding-right: 1em; text-align: center; vertical-align: top\">4814</td>\n",
              "        <td style=\"padding-left: 1em; padding-right: 1em; text-align: center; vertical-align: top\">neutral</td>\n",
              "        <td style=\"padding-left: 1em; padding-right: 1em; text-align: center; vertical-align: top\">7311</td>\n",
              "    </tr>\n",
              "    <tr>\n",
              "        <td style=\"padding-left: 1em; padding-right: 1em; text-align: center; vertical-align: top\">7887</td>\n",
              "        <td style=\"padding-left: 1em; padding-right: 1em; text-align: center; vertical-align: top\">Инвестиционная<br>деятельность ЕНПФ Окт ...</td>\n",
              "        <td style=\"padding-left: 1em; padding-right: 1em; text-align: center; vertical-align: top\">9941</td>\n",
              "        <td style=\"padding-left: 1em; padding-right: 1em; text-align: center; vertical-align: top\">positive</td>\n",
              "        <td style=\"padding-left: 1em; padding-right: 1em; text-align: center; vertical-align: top\">2196</td>\n",
              "    </tr>\n",
              "    <tr>\n",
              "        <td style=\"padding-left: 1em; padding-right: 1em; text-align: center; vertical-align: top\">881</td>\n",
              "        <td style=\"padding-left: 1em; padding-right: 1em; text-align: center; vertical-align: top\">5 февраля 2016 г 1926<br>ФОТО предоставлено ...</td>\n",
              "        <td style=\"padding-left: 1em; padding-right: 1em; text-align: center; vertical-align: top\">2935</td>\n",
              "        <td style=\"padding-left: 1em; padding-right: 1em; text-align: center; vertical-align: top\">positive</td>\n",
              "        <td style=\"padding-left: 1em; padding-right: 1em; text-align: center; vertical-align: top\">1595</td>\n",
              "    </tr>\n",
              "    <tr>\n",
              "        <td style=\"padding-left: 1em; padding-right: 1em; text-align: center; vertical-align: top\">179</td>\n",
              "        <td style=\"padding-left: 1em; padding-right: 1em; text-align: center; vertical-align: top\">Повышение пенсий ждёт<br>свыше 53 тысяч ...</td>\n",
              "        <td style=\"padding-left: 1em; padding-right: 1em; text-align: center; vertical-align: top\">2233</td>\n",
              "        <td style=\"padding-left: 1em; padding-right: 1em; text-align: center; vertical-align: top\">positive</td>\n",
              "        <td style=\"padding-left: 1em; padding-right: 1em; text-align: center; vertical-align: top\">3766</td>\n",
              "    </tr>\n",
              "    <tr>\n",
              "        <td style=\"padding-left: 1em; padding-right: 1em; text-align: center; vertical-align: top\">447</td>\n",
              "        <td style=\"padding-left: 1em; padding-right: 1em; text-align: center; vertical-align: top\">Google Пн 23 янв 2017<br>232002 Девять дней назад ...</td>\n",
              "        <td style=\"padding-left: 1em; padding-right: 1em; text-align: center; vertical-align: top\">2501</td>\n",
              "        <td style=\"padding-left: 1em; padding-right: 1em; text-align: center; vertical-align: top\">negative</td>\n",
              "        <td style=\"padding-left: 1em; padding-right: 1em; text-align: center; vertical-align: top\">1702</td>\n",
              "    </tr>\n",
              "    <tr>\n",
              "        <td style=\"padding-left: 1em; padding-right: 1em; text-align: center; vertical-align: top\">4271</td>\n",
              "        <td style=\"padding-left: 1em; padding-right: 1em; text-align: center; vertical-align: top\">Декабрь 27   2016<br>Электровоз и 12 вагонов ...</td>\n",
              "        <td style=\"padding-left: 1em; padding-right: 1em; text-align: center; vertical-align: top\">6325</td>\n",
              "        <td style=\"padding-left: 1em; padding-right: 1em; text-align: center; vertical-align: top\">negative</td>\n",
              "        <td style=\"padding-left: 1em; padding-right: 1em; text-align: center; vertical-align: top\">437</td>\n",
              "    </tr>\n",
              "    <tr>\n",
              "        <td style=\"padding-left: 1em; padding-right: 1em; text-align: center; vertical-align: top\">7305</td>\n",
              "        <td style=\"padding-left: 1em; padding-right: 1em; text-align: center; vertical-align: top\">Второй этап утилизации<br>развитие электрокаров и ...</td>\n",
              "        <td style=\"padding-left: 1em; padding-right: 1em; text-align: center; vertical-align: top\">9359</td>\n",
              "        <td style=\"padding-left: 1em; padding-right: 1em; text-align: center; vertical-align: top\">neutral</td>\n",
              "        <td style=\"padding-left: 1em; padding-right: 1em; text-align: center; vertical-align: top\">5186</td>\n",
              "    </tr>\n",
              "    <tr>\n",
              "        <td style=\"padding-left: 1em; padding-right: 1em; text-align: center; vertical-align: top\">2504</td>\n",
              "        <td style=\"padding-left: 1em; padding-right: 1em; text-align: center; vertical-align: top\">Всё познается в сравнении<br>Ещё совсем недавно мы ...</td>\n",
              "        <td style=\"padding-left: 1em; padding-right: 1em; text-align: center; vertical-align: top\">4558</td>\n",
              "        <td style=\"padding-left: 1em; padding-right: 1em; text-align: center; vertical-align: top\">neutral</td>\n",
              "        <td style=\"padding-left: 1em; padding-right: 1em; text-align: center; vertical-align: top\">3167</td>\n",
              "    </tr>\n",
              "</table>\n",
              "[8263 rows x 5 columns]<br/>Note: Only the head of the SFrame is printed.<br/>You can use print_rows(num_rows=m, num_columns=n) to print more rows and columns.\n",
              "</div>"
            ],
            "text/plain": [
              "Columns:\n",
              "\tX1\tint\n",
              "\ttext\tstr\n",
              "\tid\tint\n",
              "\tsentiment\tstr\n",
              "\tlen\tint\n",
              "\n",
              "Rows: 8263\n",
              "\n",
              "Data:\n",
              "+------+-------------------------------+------+-----------+------+\n",
              "|  X1  |              text             |  id  | sentiment | len  |\n",
              "+------+-------------------------------+------+-----------+------+\n",
              "| 6897 | Как сообщает 365infokz уст... | 8951 |  negative | 2553 |\n",
              "| 3117 | На этой неделе службы безо... | 5171 |  negative | 2151 |\n",
              "| 2760 | Избран новый глава легкоат... | 4814 |  neutral  | 7311 |\n",
              "| 7887 | Инвестиционная деятельност... | 9941 |  positive | 2196 |\n",
              "| 881  | 5 февраля 2016 г 1926 ФОТО... | 2935 |  positive | 1595 |\n",
              "| 179  | Повышение пенсий ждёт свыш... | 2233 |  positive | 3766 |\n",
              "| 447  | Google Пн 23 янв 2017 2320... | 2501 |  negative | 1702 |\n",
              "| 4271 | Декабрь 27   2016 Электров... | 6325 |  negative | 437  |\n",
              "| 7305 | Второй этап утилизации раз... | 9359 |  neutral  | 5186 |\n",
              "| 2504 | Всё познается в сравнении ... | 4558 |  neutral  | 3167 |\n",
              "+------+-------------------------------+------+-----------+------+\n",
              "[8263 rows x 5 columns]\n",
              "Note: Only the head of the SFrame is printed.\n",
              "You can use print_rows(num_rows=m, num_columns=n) to print more rows and columns."
            ]
          },
          "metadata": {
            "tags": []
          },
          "execution_count": 20
        }
      ]
    },
    {
      "cell_type": "code",
      "metadata": {
        "id": "wpfZfeSvTEAQ"
      },
      "source": [
        "dsf = dSF.remove_column('id')\n",
        "dsf = dsf.remove_column('X1')\n",
        "dsf = dsf.remove_column('len')"
      ],
      "execution_count": null,
      "outputs": []
    },
    {
      "cell_type": "code",
      "metadata": {
        "colab": {
          "base_uri": "https://localhost:8080/",
          "height": 458
        },
        "id": "Nb1cy26WUG0V",
        "outputId": "6ea42199-bc09-4017-df1b-64be0ad83271"
      },
      "source": [
        "dsf"
      ],
      "execution_count": null,
      "outputs": [
        {
          "output_type": "execute_result",
          "data": {
            "text/html": [
              "<div style=\"max-height:1000px;max-width:1500px;overflow:auto;\"><table frame=\"box\" rules=\"cols\">\n",
              "    <tr>\n",
              "        <th style=\"padding-left: 1em; padding-right: 1em; text-align: center\">text</th>\n",
              "        <th style=\"padding-left: 1em; padding-right: 1em; text-align: center\">sentiment</th>\n",
              "    </tr>\n",
              "    <tr>\n",
              "        <td style=\"padding-left: 1em; padding-right: 1em; text-align: center; vertical-align: top\">Как сообщает 365infokz<br>установлен фaкт хищения ...</td>\n",
              "        <td style=\"padding-left: 1em; padding-right: 1em; text-align: center; vertical-align: top\">negative</td>\n",
              "    </tr>\n",
              "    <tr>\n",
              "        <td style=\"padding-left: 1em; padding-right: 1em; text-align: center; vertical-align: top\">На этой неделе службы<br>безопасности четырёх ...</td>\n",
              "        <td style=\"padding-left: 1em; padding-right: 1em; text-align: center; vertical-align: top\">negative</td>\n",
              "    </tr>\n",
              "    <tr>\n",
              "        <td style=\"padding-left: 1em; padding-right: 1em; text-align: center; vertical-align: top\">Избран новый глава<br>легкоатлетической ...</td>\n",
              "        <td style=\"padding-left: 1em; padding-right: 1em; text-align: center; vertical-align: top\">neutral</td>\n",
              "    </tr>\n",
              "    <tr>\n",
              "        <td style=\"padding-left: 1em; padding-right: 1em; text-align: center; vertical-align: top\">Инвестиционная<br>деятельность ЕНПФ Окт ...</td>\n",
              "        <td style=\"padding-left: 1em; padding-right: 1em; text-align: center; vertical-align: top\">positive</td>\n",
              "    </tr>\n",
              "    <tr>\n",
              "        <td style=\"padding-left: 1em; padding-right: 1em; text-align: center; vertical-align: top\">5 февраля 2016 г 1926<br>ФОТО предоставлено ...</td>\n",
              "        <td style=\"padding-left: 1em; padding-right: 1em; text-align: center; vertical-align: top\">positive</td>\n",
              "    </tr>\n",
              "    <tr>\n",
              "        <td style=\"padding-left: 1em; padding-right: 1em; text-align: center; vertical-align: top\">Повышение пенсий ждёт<br>свыше 53 тысяч ...</td>\n",
              "        <td style=\"padding-left: 1em; padding-right: 1em; text-align: center; vertical-align: top\">positive</td>\n",
              "    </tr>\n",
              "    <tr>\n",
              "        <td style=\"padding-left: 1em; padding-right: 1em; text-align: center; vertical-align: top\">Google Пн 23 янв 2017<br>232002 Девять дней назад ...</td>\n",
              "        <td style=\"padding-left: 1em; padding-right: 1em; text-align: center; vertical-align: top\">negative</td>\n",
              "    </tr>\n",
              "    <tr>\n",
              "        <td style=\"padding-left: 1em; padding-right: 1em; text-align: center; vertical-align: top\">Декабрь 27   2016<br>Электровоз и 12 вагонов ...</td>\n",
              "        <td style=\"padding-left: 1em; padding-right: 1em; text-align: center; vertical-align: top\">negative</td>\n",
              "    </tr>\n",
              "    <tr>\n",
              "        <td style=\"padding-left: 1em; padding-right: 1em; text-align: center; vertical-align: top\">Второй этап утилизации<br>развитие электрокаров и ...</td>\n",
              "        <td style=\"padding-left: 1em; padding-right: 1em; text-align: center; vertical-align: top\">neutral</td>\n",
              "    </tr>\n",
              "    <tr>\n",
              "        <td style=\"padding-left: 1em; padding-right: 1em; text-align: center; vertical-align: top\">Всё познается в сравнении<br>Ещё совсем недавно мы ...</td>\n",
              "        <td style=\"padding-left: 1em; padding-right: 1em; text-align: center; vertical-align: top\">neutral</td>\n",
              "    </tr>\n",
              "</table>\n",
              "[8263 rows x 2 columns]<br/>Note: Only the head of the SFrame is printed.<br/>You can use print_rows(num_rows=m, num_columns=n) to print more rows and columns.\n",
              "</div>"
            ],
            "text/plain": [
              "Columns:\n",
              "\ttext\tstr\n",
              "\tsentiment\tstr\n",
              "\n",
              "Rows: 8263\n",
              "\n",
              "Data:\n",
              "+-------------------------------+-----------+\n",
              "|              text             | sentiment |\n",
              "+-------------------------------+-----------+\n",
              "| Как сообщает 365infokz уст... |  negative |\n",
              "| На этой неделе службы безо... |  negative |\n",
              "| Избран новый глава легкоат... |  neutral  |\n",
              "| Инвестиционная деятельност... |  positive |\n",
              "| 5 февраля 2016 г 1926 ФОТО... |  positive |\n",
              "| Повышение пенсий ждёт свыш... |  positive |\n",
              "| Google Пн 23 янв 2017 2320... |  negative |\n",
              "| Декабрь 27   2016 Электров... |  negative |\n",
              "| Второй этап утилизации раз... |  neutral  |\n",
              "| Всё познается в сравнении ... |  neutral  |\n",
              "+-------------------------------+-----------+\n",
              "[8263 rows x 2 columns]\n",
              "Note: Only the head of the SFrame is printed.\n",
              "You can use print_rows(num_rows=m, num_columns=n) to print more rows and columns."
            ]
          },
          "metadata": {
            "tags": []
          },
          "execution_count": 22
        }
      ]
    },
    {
      "cell_type": "code",
      "metadata": {
        "id": "201JgwdrTUpm",
        "colab": {
          "base_uri": "https://localhost:8080/",
          "height": 217
        },
        "outputId": "0c81cb2b-56ea-4fe5-9a19-57a83a7c1f1c"
      },
      "source": [
        "short_SF = tc.SFrame('/content/drive/MyDrive/@/short.csv')\n",
        "short_SF = short_SF.remove_column('id')\n",
        "short_SF = short_SF.remove_column('X1')\n",
        "short_SF = short_SF.remove_column('len')"
      ],
      "execution_count": null,
      "outputs": [
        {
          "output_type": "display_data",
          "data": {
            "text/html": [
              "<pre>Finished parsing file /content/drive/MyDrive/@/short.csv</pre>"
            ],
            "text/plain": [
              "Finished parsing file /content/drive/MyDrive/@/short.csv"
            ]
          },
          "metadata": {
            "tags": []
          }
        },
        {
          "output_type": "display_data",
          "data": {
            "text/html": [
              "<pre>Parsing completed. Parsed 100 lines in 0.05889 secs.</pre>"
            ],
            "text/plain": [
              "Parsing completed. Parsed 100 lines in 0.05889 secs."
            ]
          },
          "metadata": {
            "tags": []
          }
        },
        {
          "output_type": "stream",
          "text": [
            "------------------------------------------------------\n",
            "Inferred types from first 100 line(s) of file as \n",
            "column_type_hints=[int,int,str,int,str,int]\n",
            "If parsing fails due to incorrect types, you can correct\n",
            "the inferred type list above and pass it to read_csv in\n",
            "the column_type_hints argument\n",
            "------------------------------------------------------\n"
          ],
          "name": "stdout"
        },
        {
          "output_type": "display_data",
          "data": {
            "text/html": [
              "<pre>Finished parsing file /content/drive/MyDrive/@/short.csv</pre>"
            ],
            "text/plain": [
              "Finished parsing file /content/drive/MyDrive/@/short.csv"
            ]
          },
          "metadata": {
            "tags": []
          }
        },
        {
          "output_type": "display_data",
          "data": {
            "text/html": [
              "<pre>Parsing completed. Parsed 8263 lines in 0.039245 secs.</pre>"
            ],
            "text/plain": [
              "Parsing completed. Parsed 8263 lines in 0.039245 secs."
            ]
          },
          "metadata": {
            "tags": []
          }
        }
      ]
    },
    {
      "cell_type": "code",
      "metadata": {
        "id": "E6eJac4lu9B2"
      },
      "source": [
        "short_SF = short_SF.remove_column('Unnamed: 0')"
      ],
      "execution_count": null,
      "outputs": []
    },
    {
      "cell_type": "code",
      "metadata": {
        "colab": {
          "base_uri": "https://localhost:8080/",
          "height": 458
        },
        "id": "2CdXH9wMu6Id",
        "outputId": "df2c0154-b263-43c6-8e50-ddd60b2cd964"
      },
      "source": [
        "short_SF"
      ],
      "execution_count": null,
      "outputs": [
        {
          "output_type": "execute_result",
          "data": {
            "text/html": [
              "<div style=\"max-height:1000px;max-width:1500px;overflow:auto;\"><table frame=\"box\" rules=\"cols\">\n",
              "    <tr>\n",
              "        <th style=\"padding-left: 1em; padding-right: 1em; text-align: center\">text</th>\n",
              "        <th style=\"padding-left: 1em; padding-right: 1em; text-align: center\">sentiment</th>\n",
              "    </tr>\n",
              "    <tr>\n",
              "        <td style=\"padding-left: 1em; padding-right: 1em; text-align: center; vertical-align: top\">Как сообщает 365infokz<br>установлен фaкт хищения ...</td>\n",
              "        <td style=\"padding-left: 1em; padding-right: 1em; text-align: center; vertical-align: top\">negative</td>\n",
              "    </tr>\n",
              "    <tr>\n",
              "        <td style=\"padding-left: 1em; padding-right: 1em; text-align: center; vertical-align: top\">На этой неделе службы<br>безопасности четырёх ...</td>\n",
              "        <td style=\"padding-left: 1em; padding-right: 1em; text-align: center; vertical-align: top\">negative</td>\n",
              "    </tr>\n",
              "    <tr>\n",
              "        <td style=\"padding-left: 1em; padding-right: 1em; text-align: center; vertical-align: top\">Избран новый глава<br>легкоатлетической ...</td>\n",
              "        <td style=\"padding-left: 1em; padding-right: 1em; text-align: center; vertical-align: top\">neutral</td>\n",
              "    </tr>\n",
              "    <tr>\n",
              "        <td style=\"padding-left: 1em; padding-right: 1em; text-align: center; vertical-align: top\">Инвестиционная<br>деятельность ЕНПФ Окт ...</td>\n",
              "        <td style=\"padding-left: 1em; padding-right: 1em; text-align: center; vertical-align: top\">positive</td>\n",
              "    </tr>\n",
              "    <tr>\n",
              "        <td style=\"padding-left: 1em; padding-right: 1em; text-align: center; vertical-align: top\">5 февраля 2016 г 1926<br>ФОТО предоставлено ...</td>\n",
              "        <td style=\"padding-left: 1em; padding-right: 1em; text-align: center; vertical-align: top\">positive</td>\n",
              "    </tr>\n",
              "    <tr>\n",
              "        <td style=\"padding-left: 1em; padding-right: 1em; text-align: center; vertical-align: top\">Повышение пенсий ждёт<br>свыше 53 тысяч ...</td>\n",
              "        <td style=\"padding-left: 1em; padding-right: 1em; text-align: center; vertical-align: top\">positive</td>\n",
              "    </tr>\n",
              "    <tr>\n",
              "        <td style=\"padding-left: 1em; padding-right: 1em; text-align: center; vertical-align: top\">Google Пн 23 янв 2017<br>232002 Девять дней назад ...</td>\n",
              "        <td style=\"padding-left: 1em; padding-right: 1em; text-align: center; vertical-align: top\">negative</td>\n",
              "    </tr>\n",
              "    <tr>\n",
              "        <td style=\"padding-left: 1em; padding-right: 1em; text-align: center; vertical-align: top\">Декабрь 27   2016<br>Электровоз и 12 вагонов ...</td>\n",
              "        <td style=\"padding-left: 1em; padding-right: 1em; text-align: center; vertical-align: top\">negative</td>\n",
              "    </tr>\n",
              "    <tr>\n",
              "        <td style=\"padding-left: 1em; padding-right: 1em; text-align: center; vertical-align: top\">Второй этап утилизации<br>развитие электрокаров и ...</td>\n",
              "        <td style=\"padding-left: 1em; padding-right: 1em; text-align: center; vertical-align: top\">neutral</td>\n",
              "    </tr>\n",
              "    <tr>\n",
              "        <td style=\"padding-left: 1em; padding-right: 1em; text-align: center; vertical-align: top\">Всё познается в сравнении<br>Ещё совсем недавно мы ...</td>\n",
              "        <td style=\"padding-left: 1em; padding-right: 1em; text-align: center; vertical-align: top\">neutral</td>\n",
              "    </tr>\n",
              "</table>\n",
              "[8263 rows x 2 columns]<br/>Note: Only the head of the SFrame is printed.<br/>You can use print_rows(num_rows=m, num_columns=n) to print more rows and columns.\n",
              "</div>"
            ],
            "text/plain": [
              "Columns:\n",
              "\ttext\tstr\n",
              "\tsentiment\tstr\n",
              "\n",
              "Rows: 8263\n",
              "\n",
              "Data:\n",
              "+-------------------------------+-----------+\n",
              "|              text             | sentiment |\n",
              "+-------------------------------+-----------+\n",
              "| Как сообщает 365infokz уст... |  negative |\n",
              "| На этой неделе службы безо... |  negative |\n",
              "| Избран новый глава легкоат... |  neutral  |\n",
              "| Инвестиционная деятельност... |  positive |\n",
              "| 5 февраля 2016 г 1926 ФОТО... |  positive |\n",
              "| Повышение пенсий ждёт свыш... |  positive |\n",
              "| Google Пн 23 янв 2017 2320... |  negative |\n",
              "| Декабрь 27   2016 Электров... |  negative |\n",
              "| Второй этап утилизации раз... |  neutral  |\n",
              "| Всё познается в сравнении ... |  neutral  |\n",
              "+-------------------------------+-----------+\n",
              "[8263 rows x 2 columns]\n",
              "Note: Only the head of the SFrame is printed.\n",
              "You can use print_rows(num_rows=m, num_columns=n) to print more rows and columns."
            ]
          },
          "metadata": {
            "tags": []
          },
          "execution_count": 25
        }
      ]
    },
    {
      "cell_type": "code",
      "metadata": {
        "id": "yCrKM2R6YXPo"
      },
      "source": [
        "tc.config.set_num_gpus(1)"
      ],
      "execution_count": null,
      "outputs": []
    },
    {
      "cell_type": "code",
      "metadata": {
        "colab": {
          "base_uri": "https://localhost:8080/",
          "height": 403
        },
        "id": "4P2cNJloUVOS",
        "outputId": "2370ecce-055f-461c-998d-2f80822fb5b9"
      },
      "source": [
        "model = tc.text_classifier.create(dataset = dsf,\n",
        "                                  target = 'sentiment', \n",
        "                                  features =['text'], \n",
        "                                  max_iterations=800)"
      ],
      "execution_count": null,
      "outputs": [
        {
          "output_type": "stream",
          "text": [
            "PROGRESS: Creating a validation set from 5 percent of training data. This may take a while.\n",
            "          You can set ``validation_set=None`` to disable validation tracking.\n",
            "\n"
          ],
          "name": "stdout"
        },
        {
          "output_type": "display_data",
          "data": {
            "text/html": [
              "<pre>Logistic regression:</pre>"
            ],
            "text/plain": [
              "Logistic regression:"
            ]
          },
          "metadata": {
            "tags": []
          }
        },
        {
          "output_type": "display_data",
          "data": {
            "text/html": [
              "<pre>--------------------------------------------------------</pre>"
            ],
            "text/plain": [
              "--------------------------------------------------------"
            ]
          },
          "metadata": {
            "tags": []
          }
        },
        {
          "output_type": "display_data",
          "data": {
            "text/html": [
              "<pre>Number of examples          : 7849</pre>"
            ],
            "text/plain": [
              "Number of examples          : 7849"
            ]
          },
          "metadata": {
            "tags": []
          }
        },
        {
          "output_type": "display_data",
          "data": {
            "text/html": [
              "<pre>Number of classes           : 3</pre>"
            ],
            "text/plain": [
              "Number of classes           : 3"
            ]
          },
          "metadata": {
            "tags": []
          }
        },
        {
          "output_type": "display_data",
          "data": {
            "text/html": [
              "<pre>Number of feature columns   : 1</pre>"
            ],
            "text/plain": [
              "Number of feature columns   : 1"
            ]
          },
          "metadata": {
            "tags": []
          }
        },
        {
          "output_type": "display_data",
          "data": {
            "text/html": [
              "<pre>Number of unpacked features : 108230</pre>"
            ],
            "text/plain": [
              "Number of unpacked features : 108230"
            ]
          },
          "metadata": {
            "tags": []
          }
        },
        {
          "output_type": "display_data",
          "data": {
            "text/html": [
              "<pre>Number of coefficients      : 216462</pre>"
            ],
            "text/plain": [
              "Number of coefficients      : 216462"
            ]
          },
          "metadata": {
            "tags": []
          }
        },
        {
          "output_type": "display_data",
          "data": {
            "text/html": [
              "<pre>Starting L-BFGS</pre>"
            ],
            "text/plain": [
              "Starting L-BFGS"
            ]
          },
          "metadata": {
            "tags": []
          }
        },
        {
          "output_type": "display_data",
          "data": {
            "text/html": [
              "<pre>--------------------------------------------------------</pre>"
            ],
            "text/plain": [
              "--------------------------------------------------------"
            ]
          },
          "metadata": {
            "tags": []
          }
        },
        {
          "output_type": "display_data",
          "data": {
            "text/html": [
              "<pre>+-----------+----------+-----------+--------------+-------------------+---------------------+</pre>"
            ],
            "text/plain": [
              "+-----------+----------+-----------+--------------+-------------------+---------------------+"
            ]
          },
          "metadata": {
            "tags": []
          }
        },
        {
          "output_type": "display_data",
          "data": {
            "text/html": [
              "<pre>| Iteration | Passes   | Step size | Elapsed Time | Training Accuracy | Validation Accuracy |</pre>"
            ],
            "text/plain": [
              "| Iteration | Passes   | Step size | Elapsed Time | Training Accuracy | Validation Accuracy |"
            ]
          },
          "metadata": {
            "tags": []
          }
        },
        {
          "output_type": "display_data",
          "data": {
            "text/html": [
              "<pre>+-----------+----------+-----------+--------------+-------------------+---------------------+</pre>"
            ],
            "text/plain": [
              "+-----------+----------+-----------+--------------+-------------------+---------------------+"
            ]
          },
          "metadata": {
            "tags": []
          }
        },
        {
          "output_type": "display_data",
          "data": {
            "text/html": [
              "<pre>| 0         | 5        | 0.071135  | 1.720671     | 0.634221          | 0.584541            |</pre>"
            ],
            "text/plain": [
              "| 0         | 5        | 0.071135  | 1.720671     | 0.634221          | 0.584541            |"
            ]
          },
          "metadata": {
            "tags": []
          }
        },
        {
          "output_type": "display_data",
          "data": {
            "text/html": [
              "<pre>| 1         | 9        | 1.493843  | 3.728795     | 0.814244          | 0.698068            |</pre>"
            ],
            "text/plain": [
              "| 1         | 9        | 1.493843  | 3.728795     | 0.814244          | 0.698068            |"
            ]
          },
          "metadata": {
            "tags": []
          }
        },
        {
          "output_type": "display_data",
          "data": {
            "text/html": [
              "<pre>| 2         | 10       | 1.493843  | 5.307074     | 0.858453          | 0.707729            |</pre>"
            ],
            "text/plain": [
              "| 2         | 10       | 1.493843  | 5.307074     | 0.858453          | 0.707729            |"
            ]
          },
          "metadata": {
            "tags": []
          }
        },
        {
          "output_type": "display_data",
          "data": {
            "text/html": [
              "<pre>| 3         | 11       | 1.493843  | 6.892456     | 0.885081          | 0.746377            |</pre>"
            ],
            "text/plain": [
              "| 3         | 11       | 1.493843  | 6.892456     | 0.885081          | 0.746377            |"
            ]
          },
          "metadata": {
            "tags": []
          }
        },
        {
          "output_type": "display_data",
          "data": {
            "text/html": [
              "<pre>| 4         | 12       | 1.493843  | 8.433094     | 0.903555          | 0.746377            |</pre>"
            ],
            "text/plain": [
              "| 4         | 12       | 1.493843  | 8.433094     | 0.903555          | 0.746377            |"
            ]
          },
          "metadata": {
            "tags": []
          }
        },
        {
          "output_type": "display_data",
          "data": {
            "text/html": [
              "<pre>| 9         | 21       | 1.069274  | 16.910523    | 0.919990          | 0.741546            |</pre>"
            ],
            "text/plain": [
              "| 9         | 21       | 1.069274  | 16.910523    | 0.919990          | 0.741546            |"
            ]
          },
          "metadata": {
            "tags": []
          }
        },
        {
          "output_type": "display_data",
          "data": {
            "text/html": [
              "<pre>+-----------+----------+-----------+--------------+-------------------+---------------------+</pre>"
            ],
            "text/plain": [
              "+-----------+----------+-----------+--------------+-------------------+---------------------+"
            ]
          },
          "metadata": {
            "tags": []
          }
        }
      ]
    },
    {
      "cell_type": "code",
      "metadata": {
        "colab": {
          "base_uri": "https://localhost:8080/",
          "height": 769
        },
        "id": "C7vQOSVJ4Lxm",
        "outputId": "da234e74-7e0c-41c0-cbef-c9b473a61e5f"
      },
      "source": [
        "short_model = tc.text_classifier.create(dataset = short_SF,\n",
        "                                  target = 'sentiment', \n",
        "                                  features =['text'], \n",
        "                                  max_iterations=2000)"
      ],
      "execution_count": null,
      "outputs": [
        {
          "output_type": "stream",
          "text": [
            "PROGRESS: Creating a validation set from 5 percent of training data. This may take a while.\n",
            "          You can set ``validation_set=None`` to disable validation tracking.\n",
            "\n"
          ],
          "name": "stdout"
        },
        {
          "output_type": "display_data",
          "data": {
            "text/html": [
              "<pre>Logistic regression:</pre>"
            ],
            "text/plain": [
              "Logistic regression:"
            ]
          },
          "metadata": {
            "tags": []
          }
        },
        {
          "output_type": "display_data",
          "data": {
            "text/html": [
              "<pre>--------------------------------------------------------</pre>"
            ],
            "text/plain": [
              "--------------------------------------------------------"
            ]
          },
          "metadata": {
            "tags": []
          }
        },
        {
          "output_type": "display_data",
          "data": {
            "text/html": [
              "<pre>Number of examples          : 7849</pre>"
            ],
            "text/plain": [
              "Number of examples          : 7849"
            ]
          },
          "metadata": {
            "tags": []
          }
        },
        {
          "output_type": "display_data",
          "data": {
            "text/html": [
              "<pre>Number of classes           : 3</pre>"
            ],
            "text/plain": [
              "Number of classes           : 3"
            ]
          },
          "metadata": {
            "tags": []
          }
        },
        {
          "output_type": "display_data",
          "data": {
            "text/html": [
              "<pre>Number of feature columns   : 1</pre>"
            ],
            "text/plain": [
              "Number of feature columns   : 1"
            ]
          },
          "metadata": {
            "tags": []
          }
        },
        {
          "output_type": "display_data",
          "data": {
            "text/html": [
              "<pre>Number of unpacked features : 10104</pre>"
            ],
            "text/plain": [
              "Number of unpacked features : 10104"
            ]
          },
          "metadata": {
            "tags": []
          }
        },
        {
          "output_type": "display_data",
          "data": {
            "text/html": [
              "<pre>Number of coefficients      : 20210</pre>"
            ],
            "text/plain": [
              "Number of coefficients      : 20210"
            ]
          },
          "metadata": {
            "tags": []
          }
        },
        {
          "output_type": "display_data",
          "data": {
            "text/html": [
              "<pre>Starting L-BFGS</pre>"
            ],
            "text/plain": [
              "Starting L-BFGS"
            ]
          },
          "metadata": {
            "tags": []
          }
        },
        {
          "output_type": "display_data",
          "data": {
            "text/html": [
              "<pre>--------------------------------------------------------</pre>"
            ],
            "text/plain": [
              "--------------------------------------------------------"
            ]
          },
          "metadata": {
            "tags": []
          }
        },
        {
          "output_type": "display_data",
          "data": {
            "text/html": [
              "<pre>+-----------+----------+-----------+--------------+-------------------+---------------------+</pre>"
            ],
            "text/plain": [
              "+-----------+----------+-----------+--------------+-------------------+---------------------+"
            ]
          },
          "metadata": {
            "tags": []
          }
        },
        {
          "output_type": "display_data",
          "data": {
            "text/html": [
              "<pre>| Iteration | Passes   | Step size | Elapsed Time | Training Accuracy | Validation Accuracy |</pre>"
            ],
            "text/plain": [
              "| Iteration | Passes   | Step size | Elapsed Time | Training Accuracy | Validation Accuracy |"
            ]
          },
          "metadata": {
            "tags": []
          }
        },
        {
          "output_type": "display_data",
          "data": {
            "text/html": [
              "<pre>+-----------+----------+-----------+--------------+-------------------+---------------------+</pre>"
            ],
            "text/plain": [
              "+-----------+----------+-----------+--------------+-------------------+---------------------+"
            ]
          },
          "metadata": {
            "tags": []
          }
        },
        {
          "output_type": "display_data",
          "data": {
            "text/html": [
              "<pre>| 0         | 2        | 1.000000  | 0.026938     | 0.722385          | 0.589372            |</pre>"
            ],
            "text/plain": [
              "| 0         | 2        | 1.000000  | 0.026938     | 0.722385          | 0.589372            |"
            ]
          },
          "metadata": {
            "tags": []
          }
        },
        {
          "output_type": "display_data",
          "data": {
            "text/html": [
              "<pre>| 1         | 4        | 1.000000  | 0.104420     | 0.836412          | 0.618357            |</pre>"
            ],
            "text/plain": [
              "| 1         | 4        | 1.000000  | 0.104420     | 0.836412          | 0.618357            |"
            ]
          },
          "metadata": {
            "tags": []
          }
        },
        {
          "output_type": "display_data",
          "data": {
            "text/html": [
              "<pre>| 2         | 5        | 1.000000  | 0.161379     | 0.874761          | 0.618357            |</pre>"
            ],
            "text/plain": [
              "| 2         | 5        | 1.000000  | 0.161379     | 0.874761          | 0.618357            |"
            ]
          },
          "metadata": {
            "tags": []
          }
        },
        {
          "output_type": "display_data",
          "data": {
            "text/html": [
              "<pre>| 3         | 6        | 1.000000  | 0.217552     | 0.916040          | 0.623188            |</pre>"
            ],
            "text/plain": [
              "| 3         | 6        | 1.000000  | 0.217552     | 0.916040          | 0.623188            |"
            ]
          },
          "metadata": {
            "tags": []
          }
        },
        {
          "output_type": "display_data",
          "data": {
            "text/html": [
              "<pre>| 4         | 7        | 1.000000  | 0.274992     | 0.927761          | 0.608696            |</pre>"
            ],
            "text/plain": [
              "| 4         | 7        | 1.000000  | 0.274992     | 0.927761          | 0.608696            |"
            ]
          },
          "metadata": {
            "tags": []
          }
        },
        {
          "output_type": "display_data",
          "data": {
            "text/html": [
              "<pre>| 9         | 16       | 1.000000  | 0.578758     | 0.944834          | 0.601449            |</pre>"
            ],
            "text/plain": [
              "| 9         | 16       | 1.000000  | 0.578758     | 0.944834          | 0.601449            |"
            ]
          },
          "metadata": {
            "tags": []
          }
        },
        {
          "output_type": "display_data",
          "data": {
            "text/html": [
              "<pre>| 49        | 94       | 1.478125  | 3.001942     | 0.950822          | 0.591787            |</pre>"
            ],
            "text/plain": [
              "| 49        | 94       | 1.478125  | 3.001942     | 0.950822          | 0.591787            |"
            ]
          },
          "metadata": {
            "tags": []
          }
        },
        {
          "output_type": "display_data",
          "data": {
            "text/html": [
              "<pre>| 99        | 193      | 1.284914  | 6.056261     | 0.950949          | 0.586957            |</pre>"
            ],
            "text/plain": [
              "| 99        | 193      | 1.284914  | 6.056261     | 0.950949          | 0.586957            |"
            ]
          },
          "metadata": {
            "tags": []
          }
        },
        {
          "output_type": "display_data",
          "data": {
            "text/html": [
              "<pre>| 199       | 389      | 1.766960  | 12.129956    | 0.950949          | 0.565217            |</pre>"
            ],
            "text/plain": [
              "| 199       | 389      | 1.766960  | 12.129956    | 0.950949          | 0.565217            |"
            ]
          },
          "metadata": {
            "tags": []
          }
        },
        {
          "output_type": "display_data",
          "data": {
            "text/html": [
              "<pre>| 299       | 569      | 4.601618  | 18.085556    | 0.951077          | 0.574879            |</pre>"
            ],
            "text/plain": [
              "| 299       | 569      | 4.601618  | 18.085556    | 0.951077          | 0.574879            |"
            ]
          },
          "metadata": {
            "tags": []
          }
        },
        {
          "output_type": "display_data",
          "data": {
            "text/html": [
              "<pre>| 399       | 725      | 1.273236  | 23.835124    | 0.951077          | 0.572464            |</pre>"
            ],
            "text/plain": [
              "| 399       | 725      | 1.273236  | 23.835124    | 0.951077          | 0.572464            |"
            ]
          },
          "metadata": {
            "tags": []
          }
        },
        {
          "output_type": "display_data",
          "data": {
            "text/html": [
              "<pre>| 499       | 883      | 1.000000  | 29.668188    | 0.951077          | 0.565217            |</pre>"
            ],
            "text/plain": [
              "| 499       | 883      | 1.000000  | 29.668188    | 0.951077          | 0.565217            |"
            ]
          },
          "metadata": {
            "tags": []
          }
        },
        {
          "output_type": "display_data",
          "data": {
            "text/html": [
              "<pre>| 599       | 1040     | 0.913311  | 35.452014    | 0.951077          | 0.572464            |</pre>"
            ],
            "text/plain": [
              "| 599       | 1040     | 0.913311  | 35.452014    | 0.951077          | 0.572464            |"
            ]
          },
          "metadata": {
            "tags": []
          }
        },
        {
          "output_type": "display_data",
          "data": {
            "text/html": [
              "<pre>| 699       | 1201     | 0.849449  | 41.313768    | 0.951077          | 0.567633            |</pre>"
            ],
            "text/plain": [
              "| 699       | 1201     | 0.849449  | 41.313768    | 0.951077          | 0.567633            |"
            ]
          },
          "metadata": {
            "tags": []
          }
        },
        {
          "output_type": "display_data",
          "data": {
            "text/html": [
              "<pre>| 799       | 1369     | 3.791520  | 47.233934    | 0.951077          | 0.560386            |</pre>"
            ],
            "text/plain": [
              "| 799       | 1369     | 3.791520  | 47.233934    | 0.951077          | 0.560386            |"
            ]
          },
          "metadata": {
            "tags": []
          }
        },
        {
          "output_type": "display_data",
          "data": {
            "text/html": [
              "<pre>| 899       | 1529     | 1.000000  | 53.079641    | 0.951077          | 0.565217            |</pre>"
            ],
            "text/plain": [
              "| 899       | 1529     | 1.000000  | 53.079641    | 0.951077          | 0.565217            |"
            ]
          },
          "metadata": {
            "tags": []
          }
        },
        {
          "output_type": "display_data",
          "data": {
            "text/html": [
              "<pre>| 999       | 1672     | 0.803311  | 58.811906    | 0.951077          | 0.565217            |</pre>"
            ],
            "text/plain": [
              "| 999       | 1672     | 0.803311  | 58.811906    | 0.951077          | 0.565217            |"
            ]
          },
          "metadata": {
            "tags": []
          }
        },
        {
          "output_type": "display_data",
          "data": {
            "text/html": [
              "<pre>| 1099      | 1799     | 1.000000  | 64.450429    | 0.951077          | 0.562802            |</pre>"
            ],
            "text/plain": [
              "| 1099      | 1799     | 1.000000  | 64.450429    | 0.951077          | 0.562802            |"
            ]
          },
          "metadata": {
            "tags": []
          }
        },
        {
          "output_type": "display_data",
          "data": {
            "text/html": [
              "<pre>| 1199      | 1945     | 1.000000  | 70.200722    | 0.951077          | 0.562802            |</pre>"
            ],
            "text/plain": [
              "| 1199      | 1945     | 1.000000  | 70.200722    | 0.951077          | 0.562802            |"
            ]
          },
          "metadata": {
            "tags": []
          }
        },
        {
          "output_type": "display_data",
          "data": {
            "text/html": [
              "<pre>| 1299      | 2092     | 1.000000  | 75.956313    | 0.951077          | 0.567633            |</pre>"
            ],
            "text/plain": [
              "| 1299      | 2092     | 1.000000  | 75.956313    | 0.951077          | 0.567633            |"
            ]
          },
          "metadata": {
            "tags": []
          }
        },
        {
          "output_type": "display_data",
          "data": {
            "text/html": [
              "<pre>| 1399      | 2239     | 1.000000  | 81.666029    | 0.951077          | 0.570048            |</pre>"
            ],
            "text/plain": [
              "| 1399      | 2239     | 1.000000  | 81.666029    | 0.951077          | 0.570048            |"
            ]
          },
          "metadata": {
            "tags": []
          }
        },
        {
          "output_type": "display_data",
          "data": {
            "text/html": [
              "<pre>| 1499      | 2379     | 1.000000  | 87.315240    | 0.951077          | 0.565217            |</pre>"
            ],
            "text/plain": [
              "| 1499      | 2379     | 1.000000  | 87.315240    | 0.951077          | 0.565217            |"
            ]
          },
          "metadata": {
            "tags": []
          }
        },
        {
          "output_type": "display_data",
          "data": {
            "text/html": [
              "<pre>| 1599      | 2527     | 1.000000  | 93.044979    | 0.951077          | 0.572464            |</pre>"
            ],
            "text/plain": [
              "| 1599      | 2527     | 1.000000  | 93.044979    | 0.951077          | 0.572464            |"
            ]
          },
          "metadata": {
            "tags": []
          }
        },
        {
          "output_type": "display_data",
          "data": {
            "text/html": [
              "<pre>| 1699      | 2689     | 1.000000  | 98.862627    | 0.951077          | 0.570048            |</pre>"
            ],
            "text/plain": [
              "| 1699      | 2689     | 1.000000  | 98.862627    | 0.951077          | 0.570048            |"
            ]
          },
          "metadata": {
            "tags": []
          }
        },
        {
          "output_type": "display_data",
          "data": {
            "text/html": [
              "<pre>| 1799      | 2846     | 1.000000  | 104.681971   | 0.951077          | 0.570048            |</pre>"
            ],
            "text/plain": [
              "| 1799      | 2846     | 1.000000  | 104.681971   | 0.951077          | 0.570048            |"
            ]
          },
          "metadata": {
            "tags": []
          }
        },
        {
          "output_type": "display_data",
          "data": {
            "text/html": [
              "<pre>| 1899      | 3006     | 1.000000  | 110.540730   | 0.951077          | 0.567633            |</pre>"
            ],
            "text/plain": [
              "| 1899      | 3006     | 1.000000  | 110.540730   | 0.951077          | 0.567633            |"
            ]
          },
          "metadata": {
            "tags": []
          }
        },
        {
          "output_type": "display_data",
          "data": {
            "text/html": [
              "<pre>| 1999      | 3149     | 1.208853  | 116.205163   | 0.951077          | 0.565217            |</pre>"
            ],
            "text/plain": [
              "| 1999      | 3149     | 1.208853  | 116.205163   | 0.951077          | 0.565217            |"
            ]
          },
          "metadata": {
            "tags": []
          }
        },
        {
          "output_type": "display_data",
          "data": {
            "text/html": [
              "<pre>+-----------+----------+-----------+--------------+-------------------+---------------------+</pre>"
            ],
            "text/plain": [
              "+-----------+----------+-----------+--------------+-------------------+---------------------+"
            ]
          },
          "metadata": {
            "tags": []
          }
        }
      ]
    },
    {
      "cell_type": "code",
      "metadata": {
        "colab": {
          "base_uri": "https://localhost:8080/"
        },
        "id": "SQmKIGkejsOQ",
        "outputId": "9aebe013-9d89-4809-eace-d7bd8d31a914"
      },
      "source": [
        "!pip install feedparser"
      ],
      "execution_count": null,
      "outputs": [
        {
          "output_type": "stream",
          "text": [
            "Collecting feedparser\n",
            "\u001b[?25l  Downloading https://files.pythonhosted.org/packages/1c/21/faf1bac028662cc8adb2b5ef7a6f3999a765baa2835331df365289b0ca56/feedparser-6.0.2-py3-none-any.whl (80kB)\n",
            "\r\u001b[K     |████                            | 10kB 21.4MB/s eta 0:00:01\r\u001b[K     |████████                        | 20kB 9.9MB/s eta 0:00:01\r\u001b[K     |████████████▏                   | 30kB 8.1MB/s eta 0:00:01\r\u001b[K     |████████████████▏               | 40kB 7.3MB/s eta 0:00:01\r\u001b[K     |████████████████████▎           | 51kB 4.2MB/s eta 0:00:01\r\u001b[K     |████████████████████████▎       | 61kB 4.7MB/s eta 0:00:01\r\u001b[K     |████████████████████████████▍   | 71kB 4.8MB/s eta 0:00:01\r\u001b[K     |████████████████████████████████| 81kB 3.6MB/s \n",
            "\u001b[?25hCollecting sgmllib3k\n",
            "  Downloading https://files.pythonhosted.org/packages/9e/bd/3704a8c3e0942d711c1299ebf7b9091930adae6675d7c8f476a7ce48653c/sgmllib3k-1.0.0.tar.gz\n",
            "Building wheels for collected packages: sgmllib3k\n",
            "  Building wheel for sgmllib3k (setup.py) ... \u001b[?25l\u001b[?25hdone\n",
            "  Created wheel for sgmllib3k: filename=sgmllib3k-1.0.0-cp37-none-any.whl size=6067 sha256=0751920b88cfed1d3a0b13e3b6e12a4a586be893392640bb9926ef988d09dc64\n",
            "  Stored in directory: /root/.cache/pip/wheels/f1/80/5a/444ba08a550cdd241bd9baf8bae44be750efe370adb944506a\n",
            "Successfully built sgmllib3k\n",
            "Installing collected packages: sgmllib3k, feedparser\n",
            "Successfully installed feedparser-6.0.2 sgmllib3k-1.0.0\n"
          ],
          "name": "stdout"
        }
      ]
    },
    {
      "cell_type": "code",
      "metadata": {
        "id": "tIfW2tVsjSE7"
      },
      "source": [
        "import feedparser\n",
        "import csv"
      ],
      "execution_count": null,
      "outputs": []
    },
    {
      "cell_type": "code",
      "metadata": {
        "id": "mBCpNX40jlNE"
      },
      "source": [
        "def check_url(url_feed): #функция получает линк на рсс ленту, возвращает        \n",
        "# распаршенную ленту с помощью feedpaeser\n",
        "    return feedparser.parse(url_feed)  \n",
        "    \n",
        "def getHeadlines(url_feed): #функция для получения заголовков новости\n",
        "    headlines = []\n",
        "    lenta = check_url (url_feed)\n",
        "    for item_of_news in lenta['items']:\n",
        "        headlines.append(item_of_news ['title'])\n",
        "    return headlines\n",
        "\n",
        "def getDescriptions(url_feed): #функция для получения описания новости\n",
        "    descriptions = []\n",
        "    lenta = check_url(url_feed)\n",
        "    for item_of_news in lenta['items']:\n",
        "        descriptions.append(item_of_news ['description'])\n",
        "    return descriptions\n",
        "\n",
        "def getLinks(url_feed): #функция для получения ссылки на источник новости\n",
        "    links = []\n",
        "    lenta = check_url(url_feed)\n",
        "    for item_of_news in lenta['items']:\n",
        "        links.append(item_of_news ['link'])\n",
        "    return links\n",
        "\n",
        "def getDates(url_feed): #функция для получения даты публикации новости\n",
        "    dates = []\n",
        "    lenta = check_url(url_feed)\n",
        "    for item_of_news in lenta['items']:\n",
        "        dates.append(item_of_news ['published'])\n",
        "    return dates"
      ],
      "execution_count": null,
      "outputs": []
    },
    {
      "cell_type": "code",
      "metadata": {
        "id": "9oQ-QAUajyHh"
      },
      "source": [
        "# feeds = {'Lenta.ru': 'https://lenta.ru/rss/news/',} #пример словаря RSS-лент \n",
        "                                                                 \n",
        "# df_file = '/content/drive/MyDrive/@/news.csv' # all_news_filepath"
      ],
      "execution_count": null,
      "outputs": []
    },
    {
      "cell_type": "code",
      "metadata": {
        "id": "g6C6bkYTA1Gv"
      },
      "source": [
        "# feeds = {'nytimes.com': 'http://rss.art19.com/the-daily'}\n",
        "\n",
        "# df_file = 'news.csv'"
      ],
      "execution_count": null,
      "outputs": []
    },
    {
      "cell_type": "code",
      "metadata": {
        "id": "I9-wEKPpm-e4"
      },
      "source": [
        "feeds = {'meduza.io': 'https://meduza.io/rss/en/all',} #пример словаря RSS-лент \n",
        "                                                                 \n",
        "df_file = 'news.csv' # all_news_filepath "
      ],
      "execution_count": null,
      "outputs": []
    },
    {
      "cell_type": "code",
      "metadata": {
        "id": "00kHm917j1aE"
      },
      "source": [
        "headlines = []\n",
        "descriptions = []\n",
        "links = []\n",
        "dates = []\n",
        "# Прогоняем наши URL и добавляем их в наши пустые списки\n",
        "for key,url in feeds.items():\n",
        "    headlines.extend( getHeadlines(url) )\n",
        "    \n",
        "for key,url in feeds.items():\n",
        "    descriptions.extend( getDescriptions(url) )\n",
        "    \n",
        "for key,url in feeds.items():\n",
        "    links.extend( getLinks(url) )\n",
        "    \n",
        "for key,url in feeds.items():\n",
        "    dates.extend( getDates(url) )"
      ],
      "execution_count": null,
      "outputs": []
    },
    {
      "cell_type": "code",
      "metadata": {
        "id": "JA0dpFI2j4Rj"
      },
      "source": [
        "def write_news(all_news_filepath): #функция для записи всех новостей в .csv, \n",
        "# возвращает нам этот датасет\n",
        "    header = ['Title','Description','Links','Publication Date'] \n",
        "\n",
        "    with open(all_news_filepath, 'w', encoding='utf-8-sig') as csvfile:\n",
        "        writer = csv.writer(csvfile, delimiter=',')\n",
        "\n",
        "        writer.writerow(i for i in header) \n",
        "\n",
        "        for a,b,c,d  in zip(headlines,descriptions,\n",
        "                            links, dates):\n",
        "            writer.writerow((a,b,c,d))\n",
        "\n",
        "\n",
        "        df = pd.read_csv(all_news_filepath)\n",
        "            \n",
        "    return df"
      ],
      "execution_count": null,
      "outputs": []
    },
    {
      "cell_type": "code",
      "metadata": {
        "colab": {
          "base_uri": "https://localhost:8080/",
          "height": 433
        },
        "id": "97kiiS5Lj_Mu",
        "outputId": "acb0719c-f283-4cdf-a704-740282c479f5"
      },
      "source": [
        "write_news(df_file) #все новости"
      ],
      "execution_count": null,
      "outputs": [
        {
          "output_type": "execute_result",
          "data": {
            "text/html": [
              "<div>\n",
              "<style scoped>\n",
              "    .dataframe tbody tr th:only-of-type {\n",
              "        vertical-align: middle;\n",
              "    }\n",
              "\n",
              "    .dataframe tbody tr th {\n",
              "        vertical-align: top;\n",
              "    }\n",
              "\n",
              "    .dataframe thead th {\n",
              "        text-align: right;\n",
              "    }\n",
              "</style>\n",
              "<table border=\"1\" class=\"dataframe\">\n",
              "  <thead>\n",
              "    <tr style=\"text-align: right;\">\n",
              "      <th></th>\n",
              "      <th>Title</th>\n",
              "      <th>Description</th>\n",
              "      <th>Links</th>\n",
              "      <th>Publication Date</th>\n",
              "    </tr>\n",
              "  </thead>\n",
              "  <tbody>\n",
              "    <tr>\n",
              "      <th>0</th>\n",
              "      <td>‘The Kremlin’s calculations have changed’. Rus...</td>\n",
              "      <td>Recently, there’s been a lot of talk about wor...</td>\n",
              "      <td>https://meduza.io/en/feature/2021/04/06/the-kr...</td>\n",
              "      <td>Tue, 06 Apr 2021 22:47:36 +0300</td>\n",
              "    </tr>\n",
              "    <tr>\n",
              "      <th>1</th>\n",
              "      <td>Russian catering mogul Evgeny Prigozhin wins a...</td>\n",
              "      <td>A Moscow district court has ordered opposition...</td>\n",
              "      <td>https://meduza.io/en/news/2021/04/06/russian-c...</td>\n",
              "      <td>Tue, 06 Apr 2021 19:39:40 +0300</td>\n",
              "    </tr>\n",
              "    <tr>\n",
              "      <th>2</th>\n",
              "      <td>Russian court fines TikTok for failing to remo...</td>\n",
              "      <td>A Russian court has fined the video sharing pl...</td>\n",
              "      <td>https://meduza.io/en/news/2021/04/06/russian-c...</td>\n",
              "      <td>Tue, 06 Apr 2021 18:27:19 +0300</td>\n",
              "    </tr>\n",
              "    <tr>\n",
              "      <th>3</th>\n",
              "      <td>Yulia Navalnaya shares letter from director of...</td>\n",
              "      <td>Yulia Navalnaya has reported receiving a lette...</td>\n",
              "      <td>https://meduza.io/en/news/2021/04/06/yulia-nav...</td>\n",
              "      <td>Tue, 06 Apr 2021 18:07:46 +0300</td>\n",
              "    </tr>\n",
              "    <tr>\n",
              "      <th>4</th>\n",
              "      <td>‘We’re going to save’. Protesters rally outsid...</td>\n",
              "      <td>On Tuesday, April 6, the medical workers’ unio...</td>\n",
              "      <td>https://meduza.io/en/feature/2021/04/06/we-re-...</td>\n",
              "      <td>Tue, 06 Apr 2021 16:54:37 +0300</td>\n",
              "    </tr>\n",
              "    <tr>\n",
              "      <th>5</th>\n",
              "      <td>Putin signs legislation bringing ‘educational ...</td>\n",
              "      <td>Russian President Vladimir Putin has signed le...</td>\n",
              "      <td>https://meduza.io/en/news/2021/04/05/putin-sig...</td>\n",
              "      <td>Mon, 05 Apr 2021 20:44:38 +0300</td>\n",
              "    </tr>\n",
              "    <tr>\n",
              "      <th>6</th>\n",
              "      <td>‘There’s no evidence in the case at all’. Jail...</td>\n",
              "      <td>On Monday, April 5, the Russian business newsp...</td>\n",
              "      <td>https://meduza.io/en/feature/2021/04/05/there-...</td>\n",
              "      <td>Mon, 05 Apr 2021 20:13:27 +0300</td>\n",
              "    </tr>\n",
              "    <tr>\n",
              "      <th>7</th>\n",
              "      <td>Alexey Navalny develops fever and cough as he ...</td>\n",
              "      <td>Jailed opposition politician Alexey Navalny ha...</td>\n",
              "      <td>https://meduza.io/en/news/2021/04/05/alexey-na...</td>\n",
              "      <td>Mon, 05 Apr 2021 18:29:50 +0300</td>\n",
              "    </tr>\n",
              "    <tr>\n",
              "      <th>8</th>\n",
              "      <td>Putin signs legislation on resetting his presi...</td>\n",
              "      <td>Russian President Vladimir Putin has signed th...</td>\n",
              "      <td>https://meduza.io/en/news/2021/04/05/putin-sig...</td>\n",
              "      <td>Mon, 05 Apr 2021 18:11:36 +0300</td>\n",
              "    </tr>\n",
              "    <tr>\n",
              "      <th>9</th>\n",
              "      <td>‘No one has been wandering’. The Kremlin’s spo...</td>\n",
              "      <td>In recent weeks, both Kyiv and Washington have...</td>\n",
              "      <td>https://meduza.io/en/feature/2021/04/05/no-one...</td>\n",
              "      <td>Mon, 05 Apr 2021 17:50:20 +0300</td>\n",
              "    </tr>\n",
              "  </tbody>\n",
              "</table>\n",
              "</div>"
            ],
            "text/plain": [
              "                                               Title  ...                 Publication Date\n",
              "0  ‘The Kremlin’s calculations have changed’. Rus...  ...  Tue, 06 Apr 2021 22:47:36 +0300\n",
              "1  Russian catering mogul Evgeny Prigozhin wins a...  ...  Tue, 06 Apr 2021 19:39:40 +0300\n",
              "2  Russian court fines TikTok for failing to remo...  ...  Tue, 06 Apr 2021 18:27:19 +0300\n",
              "3  Yulia Navalnaya shares letter from director of...  ...  Tue, 06 Apr 2021 18:07:46 +0300\n",
              "4  ‘We’re going to save’. Protesters rally outsid...  ...  Tue, 06 Apr 2021 16:54:37 +0300\n",
              "5  Putin signs legislation bringing ‘educational ...  ...  Mon, 05 Apr 2021 20:44:38 +0300\n",
              "6  ‘There’s no evidence in the case at all’. Jail...  ...  Mon, 05 Apr 2021 20:13:27 +0300\n",
              "7  Alexey Navalny develops fever and cough as he ...  ...  Mon, 05 Apr 2021 18:29:50 +0300\n",
              "8  Putin signs legislation on resetting his presi...  ...  Mon, 05 Apr 2021 18:11:36 +0300\n",
              "9  ‘No one has been wandering’. The Kremlin’s spo...  ...  Mon, 05 Apr 2021 17:50:20 +0300\n",
              "\n",
              "[10 rows x 4 columns]"
            ]
          },
          "metadata": {
            "tags": []
          },
          "execution_count": 45
        }
      ]
    },
    {
      "cell_type": "code",
      "metadata": {
        "id": "m7jSVH6MkwCR"
      },
      "source": [
        "news = pd.read_csv('news.csv')"
      ],
      "execution_count": null,
      "outputs": []
    },
    {
      "cell_type": "code",
      "metadata": {
        "id": "3LoTadGBR9MI"
      },
      "source": [
        "# news['Description'] = news['Description'].apply(remove_punctuations)"
      ],
      "execution_count": null,
      "outputs": []
    },
    {
      "cell_type": "code",
      "metadata": {
        "colab": {
          "base_uri": "https://localhost:8080/",
          "height": 1000
        },
        "id": "5C5T202pR2Rh",
        "outputId": "594a9e2d-29fe-41a1-84a3-0181770c6716"
      },
      "source": [
        "news"
      ],
      "execution_count": null,
      "outputs": [
        {
          "output_type": "execute_result",
          "data": {
            "text/html": [
              "<div>\n",
              "<style scoped>\n",
              "    .dataframe tbody tr th:only-of-type {\n",
              "        vertical-align: middle;\n",
              "    }\n",
              "\n",
              "    .dataframe tbody tr th {\n",
              "        vertical-align: top;\n",
              "    }\n",
              "\n",
              "    .dataframe thead th {\n",
              "        text-align: right;\n",
              "    }\n",
              "</style>\n",
              "<table border=\"1\" class=\"dataframe\">\n",
              "  <thead>\n",
              "    <tr style=\"text-align: right;\">\n",
              "      <th></th>\n",
              "      <th>Title</th>\n",
              "      <th>Description</th>\n",
              "      <th>Links</th>\n",
              "      <th>Publication Date</th>\n",
              "    </tr>\n",
              "  </thead>\n",
              "  <tbody>\n",
              "    <tr>\n",
              "      <th>0</th>\n",
              "      <td>‘The Kremlin’s calculations have changed’. Rus...</td>\n",
              "      <td>Recently, there’s been a lot of talk about wor...</td>\n",
              "      <td>https://meduza.io/en/feature/2021/04/06/the-kr...</td>\n",
              "      <td>Tue, 06 Apr 2021 22:47:36 +0300</td>\n",
              "    </tr>\n",
              "    <tr>\n",
              "      <th>1</th>\n",
              "      <td>Russian catering mogul Evgeny Prigozhin wins a...</td>\n",
              "      <td>A Moscow district court has ordered opposition...</td>\n",
              "      <td>https://meduza.io/en/news/2021/04/06/russian-c...</td>\n",
              "      <td>Tue, 06 Apr 2021 19:39:40 +0300</td>\n",
              "    </tr>\n",
              "    <tr>\n",
              "      <th>2</th>\n",
              "      <td>Russian court fines TikTok for failing to remo...</td>\n",
              "      <td>A Russian court has fined the video sharing pl...</td>\n",
              "      <td>https://meduza.io/en/news/2021/04/06/russian-c...</td>\n",
              "      <td>Tue, 06 Apr 2021 18:27:19 +0300</td>\n",
              "    </tr>\n",
              "    <tr>\n",
              "      <th>3</th>\n",
              "      <td>Yulia Navalnaya shares letter from director of...</td>\n",
              "      <td>Yulia Navalnaya has reported receiving a lette...</td>\n",
              "      <td>https://meduza.io/en/news/2021/04/06/yulia-nav...</td>\n",
              "      <td>Tue, 06 Apr 2021 18:07:46 +0300</td>\n",
              "    </tr>\n",
              "    <tr>\n",
              "      <th>4</th>\n",
              "      <td>‘We’re going to save’. Protesters rally outsid...</td>\n",
              "      <td>On Tuesday, April 6, the medical workers’ unio...</td>\n",
              "      <td>https://meduza.io/en/feature/2021/04/06/we-re-...</td>\n",
              "      <td>Tue, 06 Apr 2021 16:54:37 +0300</td>\n",
              "    </tr>\n",
              "    <tr>\n",
              "      <th>5</th>\n",
              "      <td>Putin signs legislation bringing ‘educational ...</td>\n",
              "      <td>Russian President Vladimir Putin has signed le...</td>\n",
              "      <td>https://meduza.io/en/news/2021/04/05/putin-sig...</td>\n",
              "      <td>Mon, 05 Apr 2021 20:44:38 +0300</td>\n",
              "    </tr>\n",
              "    <tr>\n",
              "      <th>6</th>\n",
              "      <td>‘There’s no evidence in the case at all’. Jail...</td>\n",
              "      <td>On Monday, April 5, the Russian business newsp...</td>\n",
              "      <td>https://meduza.io/en/feature/2021/04/05/there-...</td>\n",
              "      <td>Mon, 05 Apr 2021 20:13:27 +0300</td>\n",
              "    </tr>\n",
              "    <tr>\n",
              "      <th>7</th>\n",
              "      <td>Alexey Navalny develops fever and cough as he ...</td>\n",
              "      <td>Jailed opposition politician Alexey Navalny ha...</td>\n",
              "      <td>https://meduza.io/en/news/2021/04/05/alexey-na...</td>\n",
              "      <td>Mon, 05 Apr 2021 18:29:50 +0300</td>\n",
              "    </tr>\n",
              "    <tr>\n",
              "      <th>8</th>\n",
              "      <td>Putin signs legislation on resetting his presi...</td>\n",
              "      <td>Russian President Vladimir Putin has signed th...</td>\n",
              "      <td>https://meduza.io/en/news/2021/04/05/putin-sig...</td>\n",
              "      <td>Mon, 05 Apr 2021 18:11:36 +0300</td>\n",
              "    </tr>\n",
              "    <tr>\n",
              "      <th>9</th>\n",
              "      <td>‘No one has been wandering’. The Kremlin’s spo...</td>\n",
              "      <td>In recent weeks, both Kyiv and Washington have...</td>\n",
              "      <td>https://meduza.io/en/feature/2021/04/05/no-one...</td>\n",
              "      <td>Mon, 05 Apr 2021 17:50:20 +0300</td>\n",
              "    </tr>\n",
              "    <tr>\n",
              "      <th>10</th>\n",
              "      <td>Putin will address the Federal Assembly on Apr...</td>\n",
              "      <td>President Vladimir Putin will deliver his annu...</td>\n",
              "      <td>https://meduza.io/en/news/2021/04/05/putin-wil...</td>\n",
              "      <td>Mon, 05 Apr 2021 16:30:26 +0300</td>\n",
              "    </tr>\n",
              "    <tr>\n",
              "      <th>11</th>\n",
              "      <td>Roskomnadzor postpones Twitter block, but cont...</td>\n",
              "      <td>Russia’s state censor, Roskomnadzor (RKN), has...</td>\n",
              "      <td>https://meduza.io/en/news/2021/04/05/roskomnad...</td>\n",
              "      <td>Mon, 05 Apr 2021 16:15:59 +0300</td>\n",
              "    </tr>\n",
              "    <tr>\n",
              "      <th>12</th>\n",
              "      <td>Lyubov Sobol removed from courtroom during hea...</td>\n",
              "      <td>Opposition figure Lyubov Sobol was removed fro...</td>\n",
              "      <td>https://meduza.io/en/news/2021/04/05/lyubov-so...</td>\n",
              "      <td>Mon, 05 Apr 2021 15:57:45 +0300</td>\n",
              "    </tr>\n",
              "    <tr>\n",
              "      <th>13</th>\n",
              "      <td>Moscow prosecutors launch inquiry into Navalny...</td>\n",
              "      <td>Moscow prosecutors are looking into Alexey Nav...</td>\n",
              "      <td>https://meduza.io/en/news/2021/04/02/moscow-pr...</td>\n",
              "      <td>Fri, 02 Apr 2021 00:05:05 +0300</td>\n",
              "    </tr>\n",
              "    <tr>\n",
              "      <th>14</th>\n",
              "      <td>‘It’s like I drew a door and disappeared throu...</td>\n",
              "      <td>Homeless people in Russia have their own terms...</td>\n",
              "      <td>https://meduza.io/en/feature/2021/04/01/it-s-l...</td>\n",
              "      <td>Thu, 01 Apr 2021 22:19:08 +0300</td>\n",
              "    </tr>\n",
              "    <tr>\n",
              "      <th>15</th>\n",
              "      <td>‘Potential imminent crisis’. Russian military ...</td>\n",
              "      <td>The war in eastern Ukraine, which is now in it...</td>\n",
              "      <td>https://meduza.io/en/feature/2021/04/01/potent...</td>\n",
              "      <td>Thu, 01 Apr 2021 21:00:15 +0300</td>\n",
              "    </tr>\n",
              "    <tr>\n",
              "      <th>16</th>\n",
              "      <td>Alexey Navalny lost eight kilograms in prison ...</td>\n",
              "      <td>Since he’s been imprisoned in Pokrov’s Penal C...</td>\n",
              "      <td>https://meduza.io/en/news/2021/04/01/alexey-na...</td>\n",
              "      <td>Thu, 01 Apr 2021 18:01:55 +0300</td>\n",
              "    </tr>\n",
              "    <tr>\n",
              "      <th>17</th>\n",
              "      <td>Prison monitors refuse to visit jailed father ...</td>\n",
              "      <td>Rostov-on-Don’s Public Monitoring Commission (...</td>\n",
              "      <td>https://meduza.io/en/news/2021/04/01/prison-mo...</td>\n",
              "      <td>Thu, 01 Apr 2021 16:47:57 +0300</td>\n",
              "    </tr>\n",
              "    <tr>\n",
              "      <th>18</th>\n",
              "      <td>Kremlin spokesman declines to comment on Naval...</td>\n",
              "      <td>Putin’s spokesman Dmitry Peskov has declined t...</td>\n",
              "      <td>https://meduza.io/en/news/2021/04/01/kremlin-s...</td>\n",
              "      <td>Thu, 01 Apr 2021 16:00:58 +0300</td>\n",
              "    </tr>\n",
              "    <tr>\n",
              "      <th>19</th>\n",
              "      <td>Dying to get home. Lada Malova became a teenag...</td>\n",
              "      <td>Lada Malova has spent the first four years of ...</td>\n",
              "      <td>https://meduza.io/en/feature/2021/04/01/dying-...</td>\n",
              "      <td>Thu, 01 Apr 2021 06:32:59 +0300</td>\n",
              "    </tr>\n",
              "    <tr>\n",
              "      <th>20</th>\n",
              "      <td>‘Independent observers get in the way’. Meduza...</td>\n",
              "      <td>Having learned about Alexey Navalny’s deterior...</td>\n",
              "      <td>https://meduza.io/en/feature/2021/03/31/indepe...</td>\n",
              "      <td>Wed, 31 Mar 2021 22:36:36 +0300</td>\n",
              "    </tr>\n",
              "    <tr>\n",
              "      <th>21</th>\n",
              "      <td>Kremlin critic Alexey Navalny goes on hunger s...</td>\n",
              "      <td>Russian opposition politician Alexey Navalny h...</td>\n",
              "      <td>https://meduza.io/en/news/2021/03/31/kremlin-c...</td>\n",
              "      <td>Wed, 31 Mar 2021 18:09:45 +0300</td>\n",
              "    </tr>\n",
              "    <tr>\n",
              "      <th>22</th>\n",
              "      <td>Self-isolating for Putin. Russia has spent bil...</td>\n",
              "      <td>Since the start of the coronavirus pandemic, P...</td>\n",
              "      <td>https://meduza.io/en/feature/2021/03/31/self-i...</td>\n",
              "      <td>Wed, 31 Mar 2021 17:44:10 +0300</td>\n",
              "    </tr>\n",
              "    <tr>\n",
              "      <th>23</th>\n",
              "      <td>Russian Senate approves legislation on ‘zeroin...</td>\n",
              "      <td>Russia’s Federation Council has approved legis...</td>\n",
              "      <td>https://meduza.io/en/news/2021/03/31/russian-s...</td>\n",
              "      <td>Wed, 31 Mar 2021 16:02:35 +0300</td>\n",
              "    </tr>\n",
              "    <tr>\n",
              "      <th>24</th>\n",
              "      <td>Macron and Merkel urge Putin to respect Alexey...</td>\n",
              "      <td>Russian President Vladimir Putin had talks wit...</td>\n",
              "      <td>https://meduza.io/en/news/2021/03/31/macron-an...</td>\n",
              "      <td>Wed, 31 Mar 2021 15:44:42 +0300</td>\n",
              "    </tr>\n",
              "    <tr>\n",
              "      <th>25</th>\n",
              "      <td>A culture of laughter. Maxim Trudolyubov expla...</td>\n",
              "      <td>Vladimir Putin’s “candid” photo ops in “inform...</td>\n",
              "      <td>https://meduza.io/en/feature/2021/03/30/a-cult...</td>\n",
              "      <td>Tue, 30 Mar 2021 23:11:40 +0300</td>\n",
              "    </tr>\n",
              "    <tr>\n",
              "      <th>26</th>\n",
              "      <td>A most violent end. How a design firm executiv...</td>\n",
              "      <td>In early 2018, police officers in St. Petersbu...</td>\n",
              "      <td>https://meduza.io/en/feature/2021/03/30/a-most...</td>\n",
              "      <td>Tue, 30 Mar 2021 21:27:25 +0300</td>\n",
              "    </tr>\n",
              "    <tr>\n",
              "      <th>27</th>\n",
              "      <td>Chechen police urge relatives of two jailed op...</td>\n",
              "      <td>Chechen police are pressuring the relatives of...</td>\n",
              "      <td>https://meduza.io/en/news/2021/03/30/chechen-p...</td>\n",
              "      <td>Tue, 30 Mar 2021 16:56:03 +0300</td>\n",
              "    </tr>\n",
              "    <tr>\n",
              "      <th>28</th>\n",
              "      <td>Moscow police begin inquiry into pro-Kremlin t...</td>\n",
              "      <td>The Interior Ministry’s northern Moscow depart...</td>\n",
              "      <td>https://meduza.io/en/news/2021/03/30/moscow-po...</td>\n",
              "      <td>Tue, 30 Mar 2021 16:03:25 +0300</td>\n",
              "    </tr>\n",
              "    <tr>\n",
              "      <th>29</th>\n",
              "      <td>Representative of prison watchdog group accuse...</td>\n",
              "      <td>The deputy head of a prison watchdog group in ...</td>\n",
              "      <td>https://meduza.io/en/news/2021/03/29/represent...</td>\n",
              "      <td>Mon, 29 Mar 2021 21:41:28 +0300</td>\n",
              "    </tr>\n",
              "  </tbody>\n",
              "</table>\n",
              "</div>"
            ],
            "text/plain": [
              "                                                Title  ...                 Publication Date\n",
              "0   ‘The Kremlin’s calculations have changed’. Rus...  ...  Tue, 06 Apr 2021 22:47:36 +0300\n",
              "1   Russian catering mogul Evgeny Prigozhin wins a...  ...  Tue, 06 Apr 2021 19:39:40 +0300\n",
              "2   Russian court fines TikTok for failing to remo...  ...  Tue, 06 Apr 2021 18:27:19 +0300\n",
              "3   Yulia Navalnaya shares letter from director of...  ...  Tue, 06 Apr 2021 18:07:46 +0300\n",
              "4   ‘We’re going to save’. Protesters rally outsid...  ...  Tue, 06 Apr 2021 16:54:37 +0300\n",
              "5   Putin signs legislation bringing ‘educational ...  ...  Mon, 05 Apr 2021 20:44:38 +0300\n",
              "6   ‘There’s no evidence in the case at all’. Jail...  ...  Mon, 05 Apr 2021 20:13:27 +0300\n",
              "7   Alexey Navalny develops fever and cough as he ...  ...  Mon, 05 Apr 2021 18:29:50 +0300\n",
              "8   Putin signs legislation on resetting his presi...  ...  Mon, 05 Apr 2021 18:11:36 +0300\n",
              "9   ‘No one has been wandering’. The Kremlin’s spo...  ...  Mon, 05 Apr 2021 17:50:20 +0300\n",
              "10  Putin will address the Federal Assembly on Apr...  ...  Mon, 05 Apr 2021 16:30:26 +0300\n",
              "11  Roskomnadzor postpones Twitter block, but cont...  ...  Mon, 05 Apr 2021 16:15:59 +0300\n",
              "12  Lyubov Sobol removed from courtroom during hea...  ...  Mon, 05 Apr 2021 15:57:45 +0300\n",
              "13  Moscow prosecutors launch inquiry into Navalny...  ...  Fri, 02 Apr 2021 00:05:05 +0300\n",
              "14  ‘It’s like I drew a door and disappeared throu...  ...  Thu, 01 Apr 2021 22:19:08 +0300\n",
              "15  ‘Potential imminent crisis’. Russian military ...  ...  Thu, 01 Apr 2021 21:00:15 +0300\n",
              "16  Alexey Navalny lost eight kilograms in prison ...  ...  Thu, 01 Apr 2021 18:01:55 +0300\n",
              "17  Prison monitors refuse to visit jailed father ...  ...  Thu, 01 Apr 2021 16:47:57 +0300\n",
              "18  Kremlin spokesman declines to comment on Naval...  ...  Thu, 01 Apr 2021 16:00:58 +0300\n",
              "19  Dying to get home. Lada Malova became a teenag...  ...  Thu, 01 Apr 2021 06:32:59 +0300\n",
              "20  ‘Independent observers get in the way’. Meduza...  ...  Wed, 31 Mar 2021 22:36:36 +0300\n",
              "21  Kremlin critic Alexey Navalny goes on hunger s...  ...  Wed, 31 Mar 2021 18:09:45 +0300\n",
              "22  Self-isolating for Putin. Russia has spent bil...  ...  Wed, 31 Mar 2021 17:44:10 +0300\n",
              "23  Russian Senate approves legislation on ‘zeroin...  ...  Wed, 31 Mar 2021 16:02:35 +0300\n",
              "24  Macron and Merkel urge Putin to respect Alexey...  ...  Wed, 31 Mar 2021 15:44:42 +0300\n",
              "25  A culture of laughter. Maxim Trudolyubov expla...  ...  Tue, 30 Mar 2021 23:11:40 +0300\n",
              "26  A most violent end. How a design firm executiv...  ...  Tue, 30 Mar 2021 21:27:25 +0300\n",
              "27  Chechen police urge relatives of two jailed op...  ...  Tue, 30 Mar 2021 16:56:03 +0300\n",
              "28  Moscow police begin inquiry into pro-Kremlin t...  ...  Tue, 30 Mar 2021 16:03:25 +0300\n",
              "29  Representative of prison watchdog group accuse...  ...  Mon, 29 Mar 2021 21:41:28 +0300\n",
              "\n",
              "[30 rows x 4 columns]"
            ]
          },
          "metadata": {
            "tags": []
          },
          "execution_count": 34
        }
      ]
    },
    {
      "cell_type": "code",
      "metadata": {
        "id": "1_wLjQhPk8lr"
      },
      "source": [
        "news = news.head(10)"
      ],
      "execution_count": null,
      "outputs": []
    },
    {
      "cell_type": "code",
      "metadata": {
        "id": "b7LXrdyylB_w"
      },
      "source": [
        "# news = news.drop(['Title', 'Links', 'Publication Date'], axis = 1)\n",
        "news = news.drop(['Links', 'Publication Date'], axis = 1)\n",
        "news.columns = ['title', 'text']"
      ],
      "execution_count": null,
      "outputs": []
    },
    {
      "cell_type": "code",
      "metadata": {
        "colab": {
          "base_uri": "https://localhost:8080/",
          "height": 363
        },
        "id": "xyIl41zMlmRQ",
        "outputId": "91a77635-e23c-4a4d-fa32-82279d92a594"
      },
      "source": [
        "news"
      ],
      "execution_count": null,
      "outputs": [
        {
          "output_type": "execute_result",
          "data": {
            "text/html": [
              "<div>\n",
              "<style scoped>\n",
              "    .dataframe tbody tr th:only-of-type {\n",
              "        vertical-align: middle;\n",
              "    }\n",
              "\n",
              "    .dataframe tbody tr th {\n",
              "        vertical-align: top;\n",
              "    }\n",
              "\n",
              "    .dataframe thead th {\n",
              "        text-align: right;\n",
              "    }\n",
              "</style>\n",
              "<table border=\"1\" class=\"dataframe\">\n",
              "  <thead>\n",
              "    <tr style=\"text-align: right;\">\n",
              "      <th></th>\n",
              "      <th>title</th>\n",
              "      <th>text</th>\n",
              "    </tr>\n",
              "  </thead>\n",
              "  <tbody>\n",
              "    <tr>\n",
              "      <th>0</th>\n",
              "      <td>‘The Kremlin’s calculations have changed’. Rus...</td>\n",
              "      <td>Recently, there’s been a lot of talk about wor...</td>\n",
              "    </tr>\n",
              "    <tr>\n",
              "      <th>1</th>\n",
              "      <td>Russian catering mogul Evgeny Prigozhin wins a...</td>\n",
              "      <td>A Moscow district court has ordered opposition...</td>\n",
              "    </tr>\n",
              "    <tr>\n",
              "      <th>2</th>\n",
              "      <td>Russian court fines TikTok for failing to remo...</td>\n",
              "      <td>A Russian court has fined the video sharing pl...</td>\n",
              "    </tr>\n",
              "    <tr>\n",
              "      <th>3</th>\n",
              "      <td>Yulia Navalnaya shares letter from director of...</td>\n",
              "      <td>Yulia Navalnaya has reported receiving a lette...</td>\n",
              "    </tr>\n",
              "    <tr>\n",
              "      <th>4</th>\n",
              "      <td>‘We’re going to save’. Protesters rally outsid...</td>\n",
              "      <td>On Tuesday, April 6, the medical workers’ unio...</td>\n",
              "    </tr>\n",
              "    <tr>\n",
              "      <th>5</th>\n",
              "      <td>Putin signs legislation bringing ‘educational ...</td>\n",
              "      <td>Russian President Vladimir Putin has signed le...</td>\n",
              "    </tr>\n",
              "    <tr>\n",
              "      <th>6</th>\n",
              "      <td>‘There’s no evidence in the case at all’. Jail...</td>\n",
              "      <td>On Monday, April 5, the Russian business newsp...</td>\n",
              "    </tr>\n",
              "    <tr>\n",
              "      <th>7</th>\n",
              "      <td>Alexey Navalny develops fever and cough as he ...</td>\n",
              "      <td>Jailed opposition politician Alexey Navalny ha...</td>\n",
              "    </tr>\n",
              "    <tr>\n",
              "      <th>8</th>\n",
              "      <td>Putin signs legislation on resetting his presi...</td>\n",
              "      <td>Russian President Vladimir Putin has signed th...</td>\n",
              "    </tr>\n",
              "    <tr>\n",
              "      <th>9</th>\n",
              "      <td>‘No one has been wandering’. The Kremlin’s spo...</td>\n",
              "      <td>In recent weeks, both Kyiv and Washington have...</td>\n",
              "    </tr>\n",
              "  </tbody>\n",
              "</table>\n",
              "</div>"
            ],
            "text/plain": [
              "                                               title                                               text\n",
              "0  ‘The Kremlin’s calculations have changed’. Rus...  Recently, there’s been a lot of talk about wor...\n",
              "1  Russian catering mogul Evgeny Prigozhin wins a...  A Moscow district court has ordered opposition...\n",
              "2  Russian court fines TikTok for failing to remo...  A Russian court has fined the video sharing pl...\n",
              "3  Yulia Navalnaya shares letter from director of...  Yulia Navalnaya has reported receiving a lette...\n",
              "4  ‘We’re going to save’. Protesters rally outsid...  On Tuesday, April 6, the medical workers’ unio...\n",
              "5  Putin signs legislation bringing ‘educational ...  Russian President Vladimir Putin has signed le...\n",
              "6  ‘There’s no evidence in the case at all’. Jail...  On Monday, April 5, the Russian business newsp...\n",
              "7  Alexey Navalny develops fever and cough as he ...  Jailed opposition politician Alexey Navalny ha...\n",
              "8  Putin signs legislation on resetting his presi...  Russian President Vladimir Putin has signed th...\n",
              "9  ‘No one has been wandering’. The Kremlin’s spo...  In recent weeks, both Kyiv and Washington have..."
            ]
          },
          "metadata": {
            "tags": []
          },
          "execution_count": 37
        }
      ]
    },
    {
      "cell_type": "code",
      "metadata": {
        "id": "GszcxE6hkCwn"
      },
      "source": [
        "example_text = tc.SFrame(news)"
      ],
      "execution_count": null,
      "outputs": []
    },
    {
      "cell_type": "code",
      "metadata": {
        "colab": {
          "base_uri": "https://localhost:8080/",
          "height": 424
        },
        "id": "AkU1rk3EkY1s",
        "outputId": "73254452-09a7-4487-ebe5-edbd47c3f647"
      },
      "source": [
        "example_text #.remove_column('id')"
      ],
      "execution_count": null,
      "outputs": [
        {
          "output_type": "execute_result",
          "data": {
            "text/html": [
              "<div style=\"max-height:1000px;max-width:1500px;overflow:auto;\"><table frame=\"box\" rules=\"cols\">\n",
              "    <tr>\n",
              "        <th style=\"padding-left: 1em; padding-right: 1em; text-align: center\">title</th>\n",
              "        <th style=\"padding-left: 1em; padding-right: 1em; text-align: center\">text</th>\n",
              "    </tr>\n",
              "    <tr>\n",
              "        <td style=\"padding-left: 1em; padding-right: 1em; text-align: center; vertical-align: top\">‘The Kremlin’s<br>calculations have ...</td>\n",
              "        <td style=\"padding-left: 1em; padding-right: 1em; text-align: center; vertical-align: top\">Recently, there’s been a<br>lot of talk about ...</td>\n",
              "    </tr>\n",
              "    <tr>\n",
              "        <td style=\"padding-left: 1em; padding-right: 1em; text-align: center; vertical-align: top\">Russian catering mogul<br>Evgeny Prigozhin wins ...</td>\n",
              "        <td style=\"padding-left: 1em; padding-right: 1em; text-align: center; vertical-align: top\">A Moscow district court<br>has ordered opposition ...</td>\n",
              "    </tr>\n",
              "    <tr>\n",
              "        <td style=\"padding-left: 1em; padding-right: 1em; text-align: center; vertical-align: top\">Russian court fines<br>TikTok for failing to ...</td>\n",
              "        <td style=\"padding-left: 1em; padding-right: 1em; text-align: center; vertical-align: top\">A Russian court has fined<br>the video sharing ...</td>\n",
              "    </tr>\n",
              "    <tr>\n",
              "        <td style=\"padding-left: 1em; padding-right: 1em; text-align: center; vertical-align: top\">Yulia Navalnaya shares<br>letter from director of ...</td>\n",
              "        <td style=\"padding-left: 1em; padding-right: 1em; text-align: center; vertical-align: top\">Yulia Navalnaya has<br>reported receiving a ...</td>\n",
              "    </tr>\n",
              "    <tr>\n",
              "        <td style=\"padding-left: 1em; padding-right: 1em; text-align: center; vertical-align: top\">‘We’re going to save’.<br>Protesters rally outside ...</td>\n",
              "        <td style=\"padding-left: 1em; padding-right: 1em; text-align: center; vertical-align: top\">On Tuesday, April 6, the<br>medical workers’ union ...</td>\n",
              "    </tr>\n",
              "    <tr>\n",
              "        <td style=\"padding-left: 1em; padding-right: 1em; text-align: center; vertical-align: top\">Putin signs legislation<br>bringing ‘educational ...</td>\n",
              "        <td style=\"padding-left: 1em; padding-right: 1em; text-align: center; vertical-align: top\">Russian President<br>Vladimir Putin has si ...</td>\n",
              "    </tr>\n",
              "    <tr>\n",
              "        <td style=\"padding-left: 1em; padding-right: 1em; text-align: center; vertical-align: top\">‘There’s no evidence in<br>the case at all’. Jailed ...</td>\n",
              "        <td style=\"padding-left: 1em; padding-right: 1em; text-align: center; vertical-align: top\">On Monday, April 5, the<br>Russian business ...</td>\n",
              "    </tr>\n",
              "    <tr>\n",
              "        <td style=\"padding-left: 1em; padding-right: 1em; text-align: center; vertical-align: top\">Alexey Navalny develops<br>fever and cough as he ...</td>\n",
              "        <td style=\"padding-left: 1em; padding-right: 1em; text-align: center; vertical-align: top\">Jailed opposition<br>politician Alexey Nav ...</td>\n",
              "    </tr>\n",
              "    <tr>\n",
              "        <td style=\"padding-left: 1em; padding-right: 1em; text-align: center; vertical-align: top\">Putin signs legislation<br>on resetting his ...</td>\n",
              "        <td style=\"padding-left: 1em; padding-right: 1em; text-align: center; vertical-align: top\">Russian President<br>Vladimir Putin has si ...</td>\n",
              "    </tr>\n",
              "    <tr>\n",
              "        <td style=\"padding-left: 1em; padding-right: 1em; text-align: center; vertical-align: top\">‘No one has been<br>wandering’. The Kreml ...</td>\n",
              "        <td style=\"padding-left: 1em; padding-right: 1em; text-align: center; vertical-align: top\">In recent weeks, both<br>Kyiv and Washington have ...</td>\n",
              "    </tr>\n",
              "</table>\n",
              "[10 rows x 2 columns]<br/>\n",
              "</div>"
            ],
            "text/plain": [
              "Columns:\n",
              "\ttitle\tstr\n",
              "\ttext\tstr\n",
              "\n",
              "Rows: 10\n",
              "\n",
              "Data:\n",
              "+-------------------------------+-------------------------------+\n",
              "|             title             |              text             |\n",
              "+-------------------------------+-------------------------------+\n",
              "| ‘The Kremlin’s calculation... | Recently, there’s been a l... |\n",
              "| Russian catering mogul Evg... | A Moscow district court ha... |\n",
              "| Russian court fines TikTok... | A Russian court has fined ... |\n",
              "| Yulia Navalnaya shares let... | Yulia Navalnaya has report... |\n",
              "| ‘We’re going to save’. Pro... | On Tuesday, April 6, the m... |\n",
              "| Putin signs legislation br... | Russian President Vladimir... |\n",
              "| ‘There’s no evidence in th... | On Monday, April 5, the Ru... |\n",
              "| Alexey Navalny develops fe... | Jailed opposition politici... |\n",
              "| Putin signs legislation on... | Russian President Vladimir... |\n",
              "| ‘No one has been wandering... | In recent weeks, both Kyiv... |\n",
              "+-------------------------------+-------------------------------+\n",
              "[10 rows x 2 columns]"
            ]
          },
          "metadata": {
            "tags": []
          },
          "execution_count": 39
        }
      ]
    },
    {
      "cell_type": "code",
      "metadata": {
        "colab": {
          "base_uri": "https://localhost:8080/"
        },
        "id": "zMO0G_HTBpQk",
        "outputId": "ed73a849-9d32-4f88-f95e-faa7662df899"
      },
      "source": [
        "# Скачиваем данные\n",
        "!wget -q \"https://github.com/joolsa/fake_real_news_dataset/raw/master/fake_or_real_news.csv.zip\"\n",
        "!unzip fake_or_real_news.csv.zip"
      ],
      "execution_count": null,
      "outputs": [
        {
          "output_type": "stream",
          "text": [
            "Archive:  fake_or_real_news.csv.zip\n",
            "  inflating: fake_or_real_news.csv   \n",
            "   creating: __MACOSX/\n",
            "  inflating: __MACOSX/._fake_or_real_news.csv  \n"
          ],
          "name": "stdout"
        }
      ]
    },
    {
      "cell_type": "code",
      "metadata": {
        "colab": {
          "base_uri": "https://localhost:8080/",
          "height": 217
        },
        "id": "ZBm-oEK6BvII",
        "outputId": "ffd45b12-6af7-4d05-a4b2-b87c96d6d91f"
      },
      "source": [
        "dataSFrame = tc.SFrame('fake_or_real_news.csv')"
      ],
      "execution_count": null,
      "outputs": [
        {
          "output_type": "display_data",
          "data": {
            "text/html": [
              "<pre>Finished parsing file /content/fake_or_real_news.csv</pre>"
            ],
            "text/plain": [
              "Finished parsing file /content/fake_or_real_news.csv"
            ]
          },
          "metadata": {
            "tags": []
          }
        },
        {
          "output_type": "display_data",
          "data": {
            "text/html": [
              "<pre>Parsing completed. Parsed 100 lines in 0.59598 secs.</pre>"
            ],
            "text/plain": [
              "Parsing completed. Parsed 100 lines in 0.59598 secs."
            ]
          },
          "metadata": {
            "tags": []
          }
        },
        {
          "output_type": "stream",
          "text": [
            "------------------------------------------------------\n",
            "Inferred types from first 100 line(s) of file as \n",
            "column_type_hints=[int,str,str,str]\n",
            "If parsing fails due to incorrect types, you can correct\n",
            "the inferred type list above and pass it to read_csv in\n",
            "the column_type_hints argument\n",
            "------------------------------------------------------\n"
          ],
          "name": "stdout"
        },
        {
          "output_type": "display_data",
          "data": {
            "text/html": [
              "<pre>Finished parsing file /content/fake_or_real_news.csv</pre>"
            ],
            "text/plain": [
              "Finished parsing file /content/fake_or_real_news.csv"
            ]
          },
          "metadata": {
            "tags": []
          }
        },
        {
          "output_type": "display_data",
          "data": {
            "text/html": [
              "<pre>Parsing completed. Parsed 6335 lines in 0.488056 secs.</pre>"
            ],
            "text/plain": [
              "Parsing completed. Parsed 6335 lines in 0.488056 secs."
            ]
          },
          "metadata": {
            "tags": []
          }
        }
      ]
    },
    {
      "cell_type": "code",
      "metadata": {
        "colab": {
          "base_uri": "https://localhost:8080/",
          "height": 458
        },
        "id": "RIRvfuRtBxq6",
        "outputId": "f9c9e1fb-88b9-447b-ecde-83eb54e75398"
      },
      "source": [
        "dataSFrame.remove_column('X1')"
      ],
      "execution_count": null,
      "outputs": [
        {
          "output_type": "execute_result",
          "data": {
            "text/html": [
              "<div style=\"max-height:1000px;max-width:1500px;overflow:auto;\"><table frame=\"box\" rules=\"cols\">\n",
              "    <tr>\n",
              "        <th style=\"padding-left: 1em; padding-right: 1em; text-align: center\">title</th>\n",
              "        <th style=\"padding-left: 1em; padding-right: 1em; text-align: center\">text</th>\n",
              "        <th style=\"padding-left: 1em; padding-right: 1em; text-align: center\">label</th>\n",
              "    </tr>\n",
              "    <tr>\n",
              "        <td style=\"padding-left: 1em; padding-right: 1em; text-align: center; vertical-align: top\">You Can Smell Hillary’s<br>Fear ...</td>\n",
              "        <td style=\"padding-left: 1em; padding-right: 1em; text-align: center; vertical-align: top\">Daniel Greenfield, a<br>Shillman Journalism ...</td>\n",
              "        <td style=\"padding-left: 1em; padding-right: 1em; text-align: center; vertical-align: top\">FAKE</td>\n",
              "    </tr>\n",
              "    <tr>\n",
              "        <td style=\"padding-left: 1em; padding-right: 1em; text-align: center; vertical-align: top\">Watch The Exact Moment<br>Paul Ryan Committed ...</td>\n",
              "        <td style=\"padding-left: 1em; padding-right: 1em; text-align: center; vertical-align: top\">Google Pinterest Digg<br>Linkedin Reddit ...</td>\n",
              "        <td style=\"padding-left: 1em; padding-right: 1em; text-align: center; vertical-align: top\">FAKE</td>\n",
              "    </tr>\n",
              "    <tr>\n",
              "        <td style=\"padding-left: 1em; padding-right: 1em; text-align: center; vertical-align: top\">Kerry to go to Paris in<br>gesture of sympathy ...</td>\n",
              "        <td style=\"padding-left: 1em; padding-right: 1em; text-align: center; vertical-align: top\">U.S. Secretary of State<br>John F. Kerry said Mo ...</td>\n",
              "        <td style=\"padding-left: 1em; padding-right: 1em; text-align: center; vertical-align: top\">REAL</td>\n",
              "    </tr>\n",
              "    <tr>\n",
              "        <td style=\"padding-left: 1em; padding-right: 1em; text-align: center; vertical-align: top\">Bernie supporters on<br>Twitter erupt in anger ...</td>\n",
              "        <td style=\"padding-left: 1em; padding-right: 1em; text-align: center; vertical-align: top\">— Kaydee King<br>(@KaydeeKing) Novembe ...</td>\n",
              "        <td style=\"padding-left: 1em; padding-right: 1em; text-align: center; vertical-align: top\">FAKE</td>\n",
              "    </tr>\n",
              "    <tr>\n",
              "        <td style=\"padding-left: 1em; padding-right: 1em; text-align: center; vertical-align: top\">The Battle of New York:<br>Why This Primary Matters ...</td>\n",
              "        <td style=\"padding-left: 1em; padding-right: 1em; text-align: center; vertical-align: top\">It&#x27;s primary day in New<br>York and front-runners ...</td>\n",
              "        <td style=\"padding-left: 1em; padding-right: 1em; text-align: center; vertical-align: top\">REAL</td>\n",
              "    </tr>\n",
              "    <tr>\n",
              "        <td style=\"padding-left: 1em; padding-right: 1em; text-align: center; vertical-align: top\">Tehran, USA</td>\n",
              "        <td style=\"padding-left: 1em; padding-right: 1em; text-align: center; vertical-align: top\">  \\nI’m not an immigrant,<br>but my grandparents are. ...</td>\n",
              "        <td style=\"padding-left: 1em; padding-right: 1em; text-align: center; vertical-align: top\">FAKE</td>\n",
              "    </tr>\n",
              "    <tr>\n",
              "        <td style=\"padding-left: 1em; padding-right: 1em; text-align: center; vertical-align: top\">Girl Horrified At What<br>She Watches Boyfriend Do ...</td>\n",
              "        <td style=\"padding-left: 1em; padding-right: 1em; text-align: center; vertical-align: top\">Share This Baylee Luciani<br>(left), Screenshot of ...</td>\n",
              "        <td style=\"padding-left: 1em; padding-right: 1em; text-align: center; vertical-align: top\">FAKE</td>\n",
              "    </tr>\n",
              "    <tr>\n",
              "        <td style=\"padding-left: 1em; padding-right: 1em; text-align: center; vertical-align: top\">‘Britain’s Schindler’<br>Dies at 106 ...</td>\n",
              "        <td style=\"padding-left: 1em; padding-right: 1em; text-align: center; vertical-align: top\">A Czech stockbroker who<br>saved more than 650 ...</td>\n",
              "        <td style=\"padding-left: 1em; padding-right: 1em; text-align: center; vertical-align: top\">REAL</td>\n",
              "    </tr>\n",
              "    <tr>\n",
              "        <td style=\"padding-left: 1em; padding-right: 1em; text-align: center; vertical-align: top\">Fact check: Trump and<br>Clinton at the ...</td>\n",
              "        <td style=\"padding-left: 1em; padding-right: 1em; text-align: center; vertical-align: top\">Hillary Clinton and<br>Donald Trump made some ...</td>\n",
              "        <td style=\"padding-left: 1em; padding-right: 1em; text-align: center; vertical-align: top\">REAL</td>\n",
              "    </tr>\n",
              "    <tr>\n",
              "        <td style=\"padding-left: 1em; padding-right: 1em; text-align: center; vertical-align: top\">Iran reportedly makes new<br>push for uranium ...</td>\n",
              "        <td style=\"padding-left: 1em; padding-right: 1em; text-align: center; vertical-align: top\">Iranian negotiators<br>reportedly have made a ...</td>\n",
              "        <td style=\"padding-left: 1em; padding-right: 1em; text-align: center; vertical-align: top\">REAL</td>\n",
              "    </tr>\n",
              "</table>\n",
              "[6335 rows x 3 columns]<br/>Note: Only the head of the SFrame is printed.<br/>You can use print_rows(num_rows=m, num_columns=n) to print more rows and columns.\n",
              "</div>"
            ],
            "text/plain": [
              "Columns:\n",
              "\ttitle\tstr\n",
              "\ttext\tstr\n",
              "\tlabel\tstr\n",
              "\n",
              "Rows: 6335\n",
              "\n",
              "Data:\n",
              "+-------------------------------+-------------------------------+-------+\n",
              "|             title             |              text             | label |\n",
              "+-------------------------------+-------------------------------+-------+\n",
              "|  You Can Smell Hillary’s Fear | Daniel Greenfield, a Shill... |  FAKE |\n",
              "| Watch The Exact Moment Pau... | Google Pinterest Digg Link... |  FAKE |\n",
              "| Kerry to go to Paris in ge... | U.S. Secretary of State Jo... |  REAL |\n",
              "| Bernie supporters on Twitt... | — Kaydee King (@KaydeeKing... |  FAKE |\n",
              "| The Battle of New York: Wh... | It's primary day in New Yo... |  REAL |\n",
              "|          Tehran, USA          |   \\nI’m not an immigrant, ... |  FAKE |\n",
              "| Girl Horrified At What She... | Share This Baylee Luciani ... |  FAKE |\n",
              "| ‘Britain’s Schindler’ Dies... | A Czech stockbroker who sa... |  REAL |\n",
              "| Fact check: Trump and Clin... | Hillary Clinton and Donald... |  REAL |\n",
              "| Iran reportedly makes new ... | Iranian negotiators report... |  REAL |\n",
              "+-------------------------------+-------------------------------+-------+\n",
              "[6335 rows x 3 columns]\n",
              "Note: Only the head of the SFrame is printed.\n",
              "You can use print_rows(num_rows=m, num_columns=n) to print more rows and columns."
            ]
          },
          "metadata": {
            "tags": []
          },
          "execution_count": 26
        }
      ]
    },
    {
      "cell_type": "code",
      "metadata": {
        "colab": {
          "base_uri": "https://localhost:8080/",
          "height": 382
        },
        "id": "cVYdAjU0C7Uf",
        "outputId": "84d97fe0-0644-4c7f-a4bd-9052b4bbbfcb"
      },
      "source": [
        "model_1 = tc.text_classifier.create(dataset = dataSFrame,\n",
        "                                  target = 'label', \n",
        "                                  features =['title','text'], \n",
        "                                  max_iterations=100,\n",
        "                                  validation_set=None)"
      ],
      "execution_count": null,
      "outputs": [
        {
          "output_type": "display_data",
          "data": {
            "text/html": [
              "<pre>Logistic regression:</pre>"
            ],
            "text/plain": [
              "Logistic regression:"
            ]
          },
          "metadata": {
            "tags": []
          }
        },
        {
          "output_type": "display_data",
          "data": {
            "text/html": [
              "<pre>--------------------------------------------------------</pre>"
            ],
            "text/plain": [
              "--------------------------------------------------------"
            ]
          },
          "metadata": {
            "tags": []
          }
        },
        {
          "output_type": "display_data",
          "data": {
            "text/html": [
              "<pre>Number of examples          : 6335</pre>"
            ],
            "text/plain": [
              "Number of examples          : 6335"
            ]
          },
          "metadata": {
            "tags": []
          }
        },
        {
          "output_type": "display_data",
          "data": {
            "text/html": [
              "<pre>Number of classes           : 2</pre>"
            ],
            "text/plain": [
              "Number of classes           : 2"
            ]
          },
          "metadata": {
            "tags": []
          }
        },
        {
          "output_type": "display_data",
          "data": {
            "text/html": [
              "<pre>Number of feature columns   : 2</pre>"
            ],
            "text/plain": [
              "Number of feature columns   : 2"
            ]
          },
          "metadata": {
            "tags": []
          }
        },
        {
          "output_type": "display_data",
          "data": {
            "text/html": [
              "<pre>Number of unpacked features : 55758</pre>"
            ],
            "text/plain": [
              "Number of unpacked features : 55758"
            ]
          },
          "metadata": {
            "tags": []
          }
        },
        {
          "output_type": "display_data",
          "data": {
            "text/html": [
              "<pre>Number of coefficients      : 55759</pre>"
            ],
            "text/plain": [
              "Number of coefficients      : 55759"
            ]
          },
          "metadata": {
            "tags": []
          }
        },
        {
          "output_type": "display_data",
          "data": {
            "text/html": [
              "<pre>Starting L-BFGS</pre>"
            ],
            "text/plain": [
              "Starting L-BFGS"
            ]
          },
          "metadata": {
            "tags": []
          }
        },
        {
          "output_type": "display_data",
          "data": {
            "text/html": [
              "<pre>--------------------------------------------------------</pre>"
            ],
            "text/plain": [
              "--------------------------------------------------------"
            ]
          },
          "metadata": {
            "tags": []
          }
        },
        {
          "output_type": "display_data",
          "data": {
            "text/html": [
              "<pre>+-----------+----------+-----------+--------------+-------------------+</pre>"
            ],
            "text/plain": [
              "+-----------+----------+-----------+--------------+-------------------+"
            ]
          },
          "metadata": {
            "tags": []
          }
        },
        {
          "output_type": "display_data",
          "data": {
            "text/html": [
              "<pre>| Iteration | Passes   | Step size | Elapsed Time | Training Accuracy |</pre>"
            ],
            "text/plain": [
              "| Iteration | Passes   | Step size | Elapsed Time | Training Accuracy |"
            ]
          },
          "metadata": {
            "tags": []
          }
        },
        {
          "output_type": "display_data",
          "data": {
            "text/html": [
              "<pre>+-----------+----------+-----------+--------------+-------------------+</pre>"
            ],
            "text/plain": [
              "+-----------+----------+-----------+--------------+-------------------+"
            ]
          },
          "metadata": {
            "tags": []
          }
        },
        {
          "output_type": "display_data",
          "data": {
            "text/html": [
              "<pre>| 0         | 2        | 1.000000  | 0.187749     | 0.890292          |</pre>"
            ],
            "text/plain": [
              "| 0         | 2        | 1.000000  | 0.187749     | 0.890292          |"
            ]
          },
          "metadata": {
            "tags": []
          }
        },
        {
          "output_type": "display_data",
          "data": {
            "text/html": [
              "<pre>| 1         | 4        | 1.000000  | 0.377784     | 0.982163          |</pre>"
            ],
            "text/plain": [
              "| 1         | 4        | 1.000000  | 0.377784     | 0.982163          |"
            ]
          },
          "metadata": {
            "tags": []
          }
        },
        {
          "output_type": "display_data",
          "data": {
            "text/html": [
              "<pre>| 2         | 6        | 0.795335  | 0.580118     | 0.988319          |</pre>"
            ],
            "text/plain": [
              "| 2         | 6        | 0.795335  | 0.580118     | 0.988319          |"
            ]
          },
          "metadata": {
            "tags": []
          }
        },
        {
          "output_type": "display_data",
          "data": {
            "text/html": [
              "<pre>| 3         | 7        | 0.994168  | 0.707615     | 0.997474          |</pre>"
            ],
            "text/plain": [
              "| 3         | 7        | 0.994168  | 0.707615     | 0.997474          |"
            ]
          },
          "metadata": {
            "tags": []
          }
        },
        {
          "output_type": "display_data",
          "data": {
            "text/html": [
              "<pre>| 4         | 8        | 1.000000  | 0.829975     | 0.999211          |</pre>"
            ],
            "text/plain": [
              "| 4         | 8        | 1.000000  | 0.829975     | 0.999211          |"
            ]
          },
          "metadata": {
            "tags": []
          }
        },
        {
          "output_type": "display_data",
          "data": {
            "text/html": [
              "<pre>| 9         | 13       | 1.000000  | 1.464278     | 1.000000          |</pre>"
            ],
            "text/plain": [
              "| 9         | 13       | 1.000000  | 1.464278     | 1.000000          |"
            ]
          },
          "metadata": {
            "tags": []
          }
        },
        {
          "output_type": "display_data",
          "data": {
            "text/html": [
              "<pre>| 24        | 34       | 1.000000  | 3.773577     | 1.000000          |</pre>"
            ],
            "text/plain": [
              "| 24        | 34       | 1.000000  | 3.773577     | 1.000000          |"
            ]
          },
          "metadata": {
            "tags": []
          }
        },
        {
          "output_type": "display_data",
          "data": {
            "text/html": [
              "<pre>| 29        | 41       | 1.000000  | 4.555126     | 1.000000          |</pre>"
            ],
            "text/plain": [
              "| 29        | 41       | 1.000000  | 4.555126     | 1.000000          |"
            ]
          },
          "metadata": {
            "tags": []
          }
        },
        {
          "output_type": "display_data",
          "data": {
            "text/html": [
              "<pre>+-----------+----------+-----------+--------------+-------------------+</pre>"
            ],
            "text/plain": [
              "+-----------+----------+-----------+--------------+-------------------+"
            ]
          },
          "metadata": {
            "tags": []
          }
        }
      ]
    },
    {
      "cell_type": "code",
      "metadata": {
        "colab": {
          "base_uri": "https://localhost:8080/",
          "height": 219
        },
        "id": "UniZZe6zzPx5",
        "outputId": "7f7bf1ea-e55f-4538-919d-40bedf99be23"
      },
      "source": [
        "test_SF = tc.SFrame('test.csv')"
      ],
      "execution_count": null,
      "outputs": [
        {
          "output_type": "display_data",
          "data": {
            "text/html": [
              "<pre>Finished parsing file /content/test.csv</pre>"
            ],
            "text/plain": [
              "Finished parsing file /content/test.csv"
            ]
          },
          "metadata": {
            "tags": []
          }
        },
        {
          "output_type": "display_data",
          "data": {
            "text/html": [
              "<pre>Parsing completed. Parsed 100 lines in 0.368482 secs.</pre>"
            ],
            "text/plain": [
              "Parsing completed. Parsed 100 lines in 0.368482 secs."
            ]
          },
          "metadata": {
            "tags": []
          }
        },
        {
          "output_type": "stream",
          "text": [
            "------------------------------------------------------\n",
            "Inferred types from first 100 line(s) of file as \n",
            "column_type_hints=[int,str,int]\n",
            "If parsing fails due to incorrect types, you can correct\n",
            "the inferred type list above and pass it to read_csv in\n",
            "the column_type_hints argument\n",
            "------------------------------------------------------\n"
          ],
          "name": "stdout"
        },
        {
          "output_type": "display_data",
          "data": {
            "text/html": [
              "<pre>Finished parsing file /content/test.csv</pre>"
            ],
            "text/plain": [
              "Finished parsing file /content/test.csv"
            ]
          },
          "metadata": {
            "tags": []
          }
        },
        {
          "output_type": "display_data",
          "data": {
            "text/html": [
              "<pre>Parsing completed. Parsed 2056 lines in 0.213848 secs.</pre>"
            ],
            "text/plain": [
              "Parsing completed. Parsed 2056 lines in 0.213848 secs."
            ]
          },
          "metadata": {
            "tags": []
          }
        }
      ]
    },
    {
      "cell_type": "code",
      "metadata": {
        "colab": {
          "base_uri": "https://localhost:8080/",
          "height": 457
        },
        "id": "y4oG9BaxzkwY",
        "outputId": "3d41f541-d779-4853-e732-ac26e34b836d"
      },
      "source": [
        "test_SF = test_SF.remove_column('X1')\n",
        "test_SF = test_SF.remove_column('id')\n",
        "test_SF"
      ],
      "execution_count": null,
      "outputs": [
        {
          "output_type": "execute_result",
          "data": {
            "text/html": [
              "<div style=\"max-height:1000px;max-width:1500px;overflow:auto;\"><table frame=\"box\" rules=\"cols\">\n",
              "    <tr>\n",
              "        <th style=\"padding-left: 1em; padding-right: 1em; text-align: center\">text</th>\n",
              "    </tr>\n",
              "    <tr>\n",
              "        <td style=\"padding-left: 1em; padding-right: 1em; text-align: center; vertical-align: top\">Как сообщает прессслужба<br>акимата Алматы для ...</td>\n",
              "    </tr>\n",
              "    <tr>\n",
              "        <td style=\"padding-left: 1em; padding-right: 1em; text-align: center; vertical-align: top\">Казахстанские<br>авиакомпании перевозят ...</td>\n",
              "    </tr>\n",
              "    <tr>\n",
              "        <td style=\"padding-left: 1em; padding-right: 1em; text-align: center; vertical-align: top\">На состоявшемся под<br>председательством ...</td>\n",
              "    </tr>\n",
              "    <tr>\n",
              "        <td style=\"padding-left: 1em; padding-right: 1em; text-align: center; vertical-align: top\">В ОАЭ состоялись<br>переговоры между ...</td>\n",
              "    </tr>\n",
              "    <tr>\n",
              "        <td style=\"padding-left: 1em; padding-right: 1em; text-align: center; vertical-align: top\">12 вагонов грузового<br>поезда сошли с путей в ...</td>\n",
              "    </tr>\n",
              "    <tr>\n",
              "        <td style=\"padding-left: 1em; padding-right: 1em; text-align: center; vertical-align: top\">Отправившиеся на джихад<br>из города Сатпаева ...</td>\n",
              "    </tr>\n",
              "    <tr>\n",
              "        <td style=\"padding-left: 1em; padding-right: 1em; text-align: center; vertical-align: top\">Назарбаев утвердил новый<br>состав правительства ...</td>\n",
              "    </tr>\n",
              "    <tr>\n",
              "        <td style=\"padding-left: 1em; padding-right: 1em; text-align: center; vertical-align: top\">ШЫМКЕНТ КАЗИНФОРМ  В<br>Шардаринском районе ...</td>\n",
              "    </tr>\n",
              "    <tr>\n",
              "        <td style=\"padding-left: 1em; padding-right: 1em; text-align: center; vertical-align: top\">С 5 августа 2011 года<br>вступил в юридическую ...</td>\n",
              "    </tr>\n",
              "    <tr>\n",
              "        <td style=\"padding-left: 1em; padding-right: 1em; text-align: center; vertical-align: top\">Казахстанцы должны<br>платить за коммунальные ...</td>\n",
              "    </tr>\n",
              "</table>\n",
              "[2056 rows x 1 columns]<br/>Note: Only the head of the SFrame is printed.<br/>You can use print_rows(num_rows=m, num_columns=n) to print more rows and columns.\n",
              "</div>"
            ],
            "text/plain": [
              "Columns:\n",
              "\ttext\tstr\n",
              "\n",
              "Rows: 2056\n",
              "\n",
              "Data:\n",
              "+-------------------------------+\n",
              "|              text             |\n",
              "+-------------------------------+\n",
              "| Как сообщает прессслужба а... |\n",
              "| Казахстанские авиакомпании... |\n",
              "| На состоявшемся под предсе... |\n",
              "| В ОАЭ состоялись переговор... |\n",
              "| 12 вагонов грузового поезд... |\n",
              "| Отправившиеся на джихад из... |\n",
              "| Назарбаев утвердил новый с... |\n",
              "| ШЫМКЕНТ КАЗИНФОРМ  В Шарда... |\n",
              "| С 5 августа 2011 года всту... |\n",
              "| Казахстанцы должны платить... |\n",
              "+-------------------------------+\n",
              "[2056 rows x 1 columns]\n",
              "Note: Only the head of the SFrame is printed.\n",
              "You can use print_rows(num_rows=m, num_columns=n) to print more rows and columns."
            ]
          },
          "metadata": {
            "tags": []
          },
          "execution_count": 69
        }
      ]
    },
    {
      "cell_type": "code",
      "metadata": {
        "colab": {
          "base_uri": "https://localhost:8080/",
          "height": 174
        },
        "id": "f7PKboRZkXQr",
        "outputId": "c3642ef3-0c83-41fc-b2c3-50630094106b"
      },
      "source": [
        "model.classify(tc.SFrame(test_SF))"
      ],
      "execution_count": null,
      "outputs": [
        {
          "output_type": "error",
          "ename": "NameError",
          "evalue": "ignored",
          "traceback": [
            "\u001b[0;31m---------------------------------------------------------------------------\u001b[0m",
            "\u001b[0;31mNameError\u001b[0m                                 Traceback (most recent call last)",
            "\u001b[0;32m<ipython-input-45-9fee199d2620>\u001b[0m in \u001b[0;36m<module>\u001b[0;34m()\u001b[0m\n\u001b[0;32m----> 1\u001b[0;31m \u001b[0mmodel_1\u001b[0m\u001b[0;34m.\u001b[0m\u001b[0mclassify\u001b[0m\u001b[0;34m(\u001b[0m\u001b[0mtc\u001b[0m\u001b[0;34m.\u001b[0m\u001b[0mSFrame\u001b[0m\u001b[0;34m(\u001b[0m\u001b[0mtest_SF\u001b[0m\u001b[0;34m)\u001b[0m\u001b[0;34m)\u001b[0m\u001b[0;34m\u001b[0m\u001b[0;34m\u001b[0m\u001b[0m\n\u001b[0m",
            "\u001b[0;31mNameError\u001b[0m: name 'test_SF' is not defined"
          ]
        }
      ]
    },
    {
      "cell_type": "code",
      "metadata": {
        "colab": {
          "base_uri": "https://localhost:8080/",
          "height": 250
        },
        "id": "EizOE2ogd5IS",
        "outputId": "a8e619e5-4a84-46fc-99f1-bcb720f94b32"
      },
      "source": [
        "model_1.classify(tc.SFrame(example_text))"
      ],
      "execution_count": null,
      "outputs": [
        {
          "output_type": "execute_result",
          "data": {
            "text/html": [
              "<div style=\"max-height:1000px;max-width:1500px;overflow:auto;\"><table frame=\"box\" rules=\"cols\">\n",
              "    <tr>\n",
              "        <th style=\"padding-left: 1em; padding-right: 1em; text-align: center\">class</th>\n",
              "        <th style=\"padding-left: 1em; padding-right: 1em; text-align: center\">probability</th>\n",
              "    </tr>\n",
              "    <tr>\n",
              "        <td style=\"padding-left: 1em; padding-right: 1em; text-align: center; vertical-align: top\">FAKE</td>\n",
              "        <td style=\"padding-left: 1em; padding-right: 1em; text-align: center; vertical-align: top\">0.9936903049029032</td>\n",
              "    </tr>\n",
              "    <tr>\n",
              "        <td style=\"padding-left: 1em; padding-right: 1em; text-align: center; vertical-align: top\">FAKE</td>\n",
              "        <td style=\"padding-left: 1em; padding-right: 1em; text-align: center; vertical-align: top\">0.7741225229584565</td>\n",
              "    </tr>\n",
              "    <tr>\n",
              "        <td style=\"padding-left: 1em; padding-right: 1em; text-align: center; vertical-align: top\">FAKE</td>\n",
              "        <td style=\"padding-left: 1em; padding-right: 1em; text-align: center; vertical-align: top\">0.9655596003315928</td>\n",
              "    </tr>\n",
              "    <tr>\n",
              "        <td style=\"padding-left: 1em; padding-right: 1em; text-align: center; vertical-align: top\">FAKE</td>\n",
              "        <td style=\"padding-left: 1em; padding-right: 1em; text-align: center; vertical-align: top\">0.6233797784057732</td>\n",
              "    </tr>\n",
              "    <tr>\n",
              "        <td style=\"padding-left: 1em; padding-right: 1em; text-align: center; vertical-align: top\">FAKE</td>\n",
              "        <td style=\"padding-left: 1em; padding-right: 1em; text-align: center; vertical-align: top\">0.9528615564839422</td>\n",
              "    </tr>\n",
              "    <tr>\n",
              "        <td style=\"padding-left: 1em; padding-right: 1em; text-align: center; vertical-align: top\">FAKE</td>\n",
              "        <td style=\"padding-left: 1em; padding-right: 1em; text-align: center; vertical-align: top\">0.7712967052197258</td>\n",
              "    </tr>\n",
              "    <tr>\n",
              "        <td style=\"padding-left: 1em; padding-right: 1em; text-align: center; vertical-align: top\">FAKE</td>\n",
              "        <td style=\"padding-left: 1em; padding-right: 1em; text-align: center; vertical-align: top\">0.6588810846815341</td>\n",
              "    </tr>\n",
              "    <tr>\n",
              "        <td style=\"padding-left: 1em; padding-right: 1em; text-align: center; vertical-align: top\">FAKE</td>\n",
              "        <td style=\"padding-left: 1em; padding-right: 1em; text-align: center; vertical-align: top\">0.6926119597570639</td>\n",
              "    </tr>\n",
              "    <tr>\n",
              "        <td style=\"padding-left: 1em; padding-right: 1em; text-align: center; vertical-align: top\">FAKE</td>\n",
              "        <td style=\"padding-left: 1em; padding-right: 1em; text-align: center; vertical-align: top\">0.633989836541448</td>\n",
              "    </tr>\n",
              "    <tr>\n",
              "        <td style=\"padding-left: 1em; padding-right: 1em; text-align: center; vertical-align: top\">REAL</td>\n",
              "        <td style=\"padding-left: 1em; padding-right: 1em; text-align: center; vertical-align: top\">0.6742987058201262</td>\n",
              "    </tr>\n",
              "</table>\n",
              "[10 rows x 2 columns]<br/>\n",
              "</div>"
            ],
            "text/plain": [
              "Columns:\n",
              "\tclass\tstr\n",
              "\tprobability\tfloat\n",
              "\n",
              "Rows: 10\n",
              "\n",
              "Data:\n",
              "+-------+--------------------+\n",
              "| class |    probability     |\n",
              "+-------+--------------------+\n",
              "|  FAKE | 0.9936903049029032 |\n",
              "|  FAKE | 0.7741225229584565 |\n",
              "|  FAKE | 0.9655596003315928 |\n",
              "|  FAKE | 0.6233797784057732 |\n",
              "|  FAKE | 0.9528615564839422 |\n",
              "|  FAKE | 0.7712967052197258 |\n",
              "|  FAKE | 0.6588810846815341 |\n",
              "|  FAKE | 0.6926119597570639 |\n",
              "|  FAKE | 0.633989836541448  |\n",
              "|  REAL | 0.6742987058201262 |\n",
              "+-------+--------------------+\n",
              "[10 rows x 2 columns]"
            ]
          },
          "metadata": {
            "tags": []
          },
          "execution_count": 42
        }
      ]
    },
    {
      "cell_type": "code",
      "metadata": {
        "colab": {
          "base_uri": "https://localhost:8080/",
          "height": 249
        },
        "id": "oQ3_zI035fJS",
        "outputId": "790a4dd7-e1d6-4b64-806f-9a70bc9b031e"
      },
      "source": [
        "short_model.classify(tc.SFrame(example_text))"
      ],
      "execution_count": null,
      "outputs": [
        {
          "output_type": "execute_result",
          "data": {
            "text/html": [
              "<div style=\"max-height:1000px;max-width:1500px;overflow:auto;\"><table frame=\"box\" rules=\"cols\">\n",
              "    <tr>\n",
              "        <th style=\"padding-left: 1em; padding-right: 1em; text-align: center\">class</th>\n",
              "        <th style=\"padding-left: 1em; padding-right: 1em; text-align: center\">probability</th>\n",
              "    </tr>\n",
              "    <tr>\n",
              "        <td style=\"padding-left: 1em; padding-right: 1em; text-align: center; vertical-align: top\">neutral</td>\n",
              "        <td style=\"padding-left: 1em; padding-right: 1em; text-align: center; vertical-align: top\">0.38914245739347214</td>\n",
              "    </tr>\n",
              "    <tr>\n",
              "        <td style=\"padding-left: 1em; padding-right: 1em; text-align: center; vertical-align: top\">neutral</td>\n",
              "        <td style=\"padding-left: 1em; padding-right: 1em; text-align: center; vertical-align: top\">0.38914245739347214</td>\n",
              "    </tr>\n",
              "    <tr>\n",
              "        <td style=\"padding-left: 1em; padding-right: 1em; text-align: center; vertical-align: top\">neutral</td>\n",
              "        <td style=\"padding-left: 1em; padding-right: 1em; text-align: center; vertical-align: top\">0.38914245739347214</td>\n",
              "    </tr>\n",
              "    <tr>\n",
              "        <td style=\"padding-left: 1em; padding-right: 1em; text-align: center; vertical-align: top\">neutral</td>\n",
              "        <td style=\"padding-left: 1em; padding-right: 1em; text-align: center; vertical-align: top\">0.38914245739347214</td>\n",
              "    </tr>\n",
              "    <tr>\n",
              "        <td style=\"padding-left: 1em; padding-right: 1em; text-align: center; vertical-align: top\">neutral</td>\n",
              "        <td style=\"padding-left: 1em; padding-right: 1em; text-align: center; vertical-align: top\">0.38914245739347214</td>\n",
              "    </tr>\n",
              "    <tr>\n",
              "        <td style=\"padding-left: 1em; padding-right: 1em; text-align: center; vertical-align: top\">neutral</td>\n",
              "        <td style=\"padding-left: 1em; padding-right: 1em; text-align: center; vertical-align: top\">0.38914245739347214</td>\n",
              "    </tr>\n",
              "    <tr>\n",
              "        <td style=\"padding-left: 1em; padding-right: 1em; text-align: center; vertical-align: top\">neutral</td>\n",
              "        <td style=\"padding-left: 1em; padding-right: 1em; text-align: center; vertical-align: top\">0.38914245739347214</td>\n",
              "    </tr>\n",
              "    <tr>\n",
              "        <td style=\"padding-left: 1em; padding-right: 1em; text-align: center; vertical-align: top\">neutral</td>\n",
              "        <td style=\"padding-left: 1em; padding-right: 1em; text-align: center; vertical-align: top\">0.38914245739347214</td>\n",
              "    </tr>\n",
              "    <tr>\n",
              "        <td style=\"padding-left: 1em; padding-right: 1em; text-align: center; vertical-align: top\">neutral</td>\n",
              "        <td style=\"padding-left: 1em; padding-right: 1em; text-align: center; vertical-align: top\">0.38914245739347214</td>\n",
              "    </tr>\n",
              "    <tr>\n",
              "        <td style=\"padding-left: 1em; padding-right: 1em; text-align: center; vertical-align: top\">neutral</td>\n",
              "        <td style=\"padding-left: 1em; padding-right: 1em; text-align: center; vertical-align: top\">0.38914245739347214</td>\n",
              "    </tr>\n",
              "</table>\n",
              "[10 rows x 2 columns]<br/>\n",
              "</div>"
            ],
            "text/plain": [
              "Columns:\n",
              "\tclass\tstr\n",
              "\tprobability\tfloat\n",
              "\n",
              "Rows: 10\n",
              "\n",
              "Data:\n",
              "+---------+---------------------+\n",
              "|  class  |     probability     |\n",
              "+---------+---------------------+\n",
              "| neutral | 0.38914245739347214 |\n",
              "| neutral | 0.38914245739347214 |\n",
              "| neutral | 0.38914245739347214 |\n",
              "| neutral | 0.38914245739347214 |\n",
              "| neutral | 0.38914245739347214 |\n",
              "| neutral | 0.38914245739347214 |\n",
              "| neutral | 0.38914245739347214 |\n",
              "| neutral | 0.38914245739347214 |\n",
              "| neutral | 0.38914245739347214 |\n",
              "| neutral | 0.38914245739347214 |\n",
              "+---------+---------------------+\n",
              "[10 rows x 2 columns]"
            ]
          },
          "metadata": {
            "tags": []
          },
          "execution_count": 60
        }
      ]
    },
    {
      "cell_type": "code",
      "metadata": {
        "colab": {
          "base_uri": "https://localhost:8080/",
          "height": 174
        },
        "id": "L-77ger9f7QL",
        "outputId": "4da10d9a-566f-49b8-9353-9e0615282f27"
      },
      "source": [
        "eng_df = pd.read_csv(eng.csv)"
      ],
      "execution_count": null,
      "outputs": [
        {
          "output_type": "error",
          "ename": "NameError",
          "evalue": "ignored",
          "traceback": [
            "\u001b[0;31m---------------------------------------------------------------------------\u001b[0m",
            "\u001b[0;31mNameError\u001b[0m                                 Traceback (most recent call last)",
            "\u001b[0;32m<ipython-input-2-bcf226c3fb0e>\u001b[0m in \u001b[0;36m<module>\u001b[0;34m()\u001b[0m\n\u001b[0;32m----> 1\u001b[0;31m \u001b[0meng_df\u001b[0m \u001b[0;34m=\u001b[0m \u001b[0mpd\u001b[0m\u001b[0;34m.\u001b[0m\u001b[0mread_csv\u001b[0m\u001b[0;34m(\u001b[0m\u001b[0meng\u001b[0m\u001b[0;34m.\u001b[0m\u001b[0mcsv\u001b[0m\u001b[0;34m)\u001b[0m\u001b[0;34m\u001b[0m\u001b[0;34m\u001b[0m\u001b[0m\n\u001b[0m",
            "\u001b[0;31mNameError\u001b[0m: name 'pd' is not defined"
          ]
        }
      ]
    },
    {
      "cell_type": "code",
      "metadata": {
        "colab": {
          "base_uri": "https://localhost:8080/"
        },
        "id": "9fp0hP0el-Oe",
        "outputId": "c441cca6-7190-4ba8-972e-e2aa20df9a5d"
      },
      "source": [
        "import requests\n",
        "from bs4 import BeautifulSoup\n",
        "\n",
        "url = 'https://yandex.ru'\n",
        "r = requests.get(url)\n",
        "soup = BeautifulSoup(r.text, 'html.parser')\n",
        "\n",
        "\n",
        "\n",
        "# Ищет все новости и записывает в переменную\n",
        "ya = soup.find_all('a', class_='home-link list__item-content list__item-content_with-icon '\n",
        "                                 'home-link_black_yes')\n",
        "\n",
        "# Выводит текст каждой новости (всего их 10)\n",
        "for link in ya:\n",
        "     print(text.text)"
      ],
      "execution_count": null,
      "outputs": [
        {
          "output_type": "stream",
          "text": [
            "РФПИ попросил Словакию вернуть партию вакцины «Спутник V»\n",
            "Путин подписал указ об отставке главы Ульяновской области\n",
            "Козак допустил, что Россию вынудят защищать ее граждан в Донбассе\n",
            "Меркель призвала Путина не стягивать войска к границе с Украиной\n",
            "Первый канал наказали за материал СМИ-иноагента без маркировки\n",
            "Путин поручил ФАС разобраться с ростом цен на жилье\n",
            "Десантные и артиллерийские катера Каспийской флотилии совершат переход в Черное море\n",
            "В Мозамбике боевики обезглавили 12 иностранцев\n",
            "Эрмитаж сообщил о жалобе на обнаженные скульптуры\n",
            "В Египте нашли затерянный 3400-летний «мегаполис» Аменхотепа III\n"
          ],
          "name": "stdout"
        }
      ]
    },
    {
      "cell_type": "code",
      "metadata": {
        "id": "n1d94y4Tb06w",
        "colab": {
          "base_uri": "https://localhost:8080/",
          "height": 174
        },
        "outputId": "3edefbb2-e428-4253-f2de-126f7228dff0"
      },
      "source": [
        "yandex_df = pd.DataFrame()"
      ],
      "execution_count": null,
      "outputs": [
        {
          "output_type": "error",
          "ename": "NameError",
          "evalue": "ignored",
          "traceback": [
            "\u001b[0;31m---------------------------------------------------------------------------\u001b[0m",
            "\u001b[0;31mNameError\u001b[0m                                 Traceback (most recent call last)",
            "\u001b[0;32m<ipython-input-2-c4dc80cf231b>\u001b[0m in \u001b[0;36m<module>\u001b[0;34m()\u001b[0m\n\u001b[0;32m----> 1\u001b[0;31m \u001b[0myandex_df\u001b[0m \u001b[0;34m=\u001b[0m \u001b[0mpd\u001b[0m\u001b[0;34m.\u001b[0m\u001b[0mDataFrame\u001b[0m\u001b[0;34m(\u001b[0m\u001b[0;34m)\u001b[0m\u001b[0;34m\u001b[0m\u001b[0;34m\u001b[0m\u001b[0m\n\u001b[0m",
            "\u001b[0;31mNameError\u001b[0m: name 'pd' is not defined"
          ]
        }
      ]
    },
    {
      "cell_type": "code",
      "metadata": {
        "id": "4davzi8nb_LG"
      },
      "source": [
        "for link in ya:\n",
        "    yandex_df = yandex_df.append({'text': link.text}, ignore_index=True)\n"
      ],
      "execution_count": null,
      "outputs": []
    },
    {
      "cell_type": "code",
      "metadata": {
        "id": "BCHDc8Oyc8X8"
      },
      "source": [
        "yandex_df.to_csv('yandex.csv')"
      ],
      "execution_count": null,
      "outputs": []
    },
    {
      "cell_type": "code",
      "metadata": {
        "colab": {
          "base_uri": "https://localhost:8080/"
        },
        "id": "6uhW58VYdVK5",
        "outputId": "3a61857e-102f-4635-be8c-d95ef9854af6"
      },
      "source": [
        "soup"
      ],
      "execution_count": null,
      "outputs": [
        {
          "output_type": "execute_result",
          "data": {
            "text/plain": [
              "<!DOCTYPE html>\n",
              "<html class=\"i-ua_js_no i-ua_css_standart i-ua_browser_unknown i-ua_browser-engine_unknown i-ua_browser_desktop document_search2021_yes i-ua_platform_other\" lang=\"ru\"><head xmlns:og=\"http://ogp.me/ns#\"><meta content=\"text/html;charset=utf-8\" http-equiv=\"Content-Type\"/><meta content=\"IE=edge\" http-equiv=\"X-UA-Compatible\"/><title>Яндекс</title><link href=\"//yastatic.net/s3/home-static/_/a6/a6a296b741b51880ae8a9b04a67cfe3f.png\" rel=\"shortcut icon\" sizes=\"16x16\"/><link href=\"//yastatic.net/s3/home-static/_/f4/f47b1b3d8194c36ce660324ab55a04fe.png\" rel=\"shortcut icon\" sizes=\"32x32\"/><link href=\"//yastatic.net/s3/home-static/_/f0/f0597b6727cc67dceebc4e3a87caf571.png\" rel=\"shortcut icon\" sizes=\"192x192\"/><link href=\"//yastatic.net/s3/home-static/_/31/3111cd045f263a072f504780b8535840.png\" rel=\"apple-touch-icon\" sizes=\"76x76\"/><link href=\"//yastatic.net/s3/home-static/_/a2/a27610a94f8a0827a6a937c869d95a3e.png\" rel=\"apple-touch-icon\" sizes=\"120x120\"/><link href=\"//yastatic.net/s3/home-static/_/a7/a79b81aa025e9edb2244e38581c868ad.png\" rel=\"apple-touch-icon\" sizes=\"152x152\"/><link href=\"//yastatic.net/s3/home-static/_/46/462e92b9e3792be37a1c3fdefb26af28.png\" rel=\"apple-touch-icon\" sizes=\"180x180\"/><link href=\"https://yandex.ru/company/press_releases/news.rss\" rel=\"alternate\" title=\"Новости Яндекса\" type=\"application/rss+xml\"/><link href=\"https://yandex.ru/blog/company/rss\" rel=\"alternate\" title=\"Блог Яндекса\" type=\"application/rss+xml\"/><link href=\"//yandex.ru/opensearch.xml\" rel=\"search\" title=\"Яндекс\" type=\"application/opensearchdescription+xml\"/><link as=\"script\" crossorigin=\"anonymous\" href=\"//yastatic.net/jquery/2.1.4/jquery.min.js\" rel=\"preload\"/><link as=\"script\" crossorigin=\"anonymous\" href=\"//yastatic.net/s3/home-static/_/j/j/rAZprDcoUZRsreFt8yUp6GcJU.js\" rel=\"preload\"/><meta content=\"1524984910954255\" property=\"fb:app_id\"/><meta content=\"p\" name=\"yamm\"/><meta content=\"origin\" name=\"referrer\"/><meta content=\"Яндекс\" property=\"og:title\"/><meta content=\"//yastatic.net/s3/home-static/_/37/37a02b5dc7a51abac55d8a5b6c865f0e.png\" property=\"og:image\"/><meta content=\"Найдётся всё\" property=\"og:description\"/><meta content=\"https://yandex.ru\" property=\"og:url\"/><meta content=\"website\" property=\"og:type\"/><meta content=\"Яндекс\" property=\"og:site_name\"/><meta content=\"ru_RU\" property=\"og:locale\"/><meta content=\"ru_RU\" property=\"og:locale:alternate\"/><meta content=\"be_BY\" property=\"og:locale:alternate\"/><meta content=\"kk_KZ\" property=\"og:locale:alternate\"/><meta content=\"tt_RU\" property=\"og:locale:alternate\"/><meta content=\"uk_UA\" property=\"og:locale:alternate\"/><script>(function(window) { var home = window.home = window.home || {}, delta = +new Date() - 1617448391 * 1000; home.now = function() { return new Date(+new Date() - delta); }; })(window);</script><script>window.home=window.home||{},home.loadManager=function(){var n={},o={};return{subscribe:function(t,e){var i=0,r=function(){++i===t.length&&setTimeout((function(){e()}),0)};\"object\"!=typeof t&&(t=[t]),t.forEach((function(t){o[t]?r():(n[t]||(n[t]=[]),n[t].push(r))}))},trigger:function(t){if(!o[t]&&(o[t]=!0,n[t])){for(var e=0,i=n[t].length;e<i;e++)n[t][e]();n[t]=[]}}}}();</script><script>!function(i,t){if(i.Ya=i.Ya||{},Ya.Rum)throw new Error(\"Rum: interface is already defined\");var n=i.performance,e=n&&n.timing&&n.timing.navigationStart||Ya.startPageLoad||+new Date,s=i.requestAnimationFrame;Ya.Rum={enabled:!!n,vsStart:document.visibilityState,vsChanged:!1,_defTimes:[],_defRes:[],_deltaMarks:{},_markListeners:{},_settings:{},_vars:{},init:function(i,t){this._settings=i,this._vars=t},getTime:n&&n.now?function(){return n.now()}:Date.now?function(){return Date.now()-e}:function(){return new Date-e},time:function(i){this._deltaMarks[i]=[this.getTime()]},timeEnd:function(i,t){var n=this._deltaMarks[i];n&&0!==n.length&&n.push(this.getTime(),t)},sendTimeMark:function(i,t,n,e){void 0===t&&(t=this.getTime()),this._defTimes.push([i,t,e]),this.mark(i,t)},sendResTiming:function(i,t){this._defRes.push([i,t])},sendRaf:function(i){var t=this.getSetting(\"forcePaintTimeSending\");if(s&&(t||!this.isVisibilityChanged())){var n=this,e=\"2616.\"+i;s((function(){!t&&n.isVisibilityChanged()||(n.getSetting(\"sendFirstRaf\")&&n.sendTimeMark(e+\".205\"),s((function(){!t&&n.isVisibilityChanged()||n.sendTimeMark(e+\".1928\")})))}))}},isVisibilityChanged:function(){return this.vsStart&&(\"visible\"!==this.vsStart||this.vsChanged)},mark:n&&n.mark?function(i,t){n.mark(i+(t?\": \"+t:\"\"))}:function(){},getSetting:function(i){var t=this._settings[i];return null===t?null:t||\"\"},on:function(i,t){\"function\"==typeof t&&(this._markListeners[i]=this._markListeners[i]||[]).push(t)},sendTrafficData:function(){},finalizeLayoutShiftScore:function(){},finalizeLargestContentfulPaint:function(){}},document.addEventListener&&document.addEventListener(\"visibilitychange\",(function a(){Ya.Rum.vsChanged=!0,document.removeEventListener(\"visibilitychange\",a)}))}(window);Ya.Rum.observeDOMNode=window.IntersectionObserver?function(e,i,n){var t=this,o=Ya.Rum.getSetting(\"forcePaintTimeSending\");!function r(){if(o||!t.isVisibilityChanged()){var s=\"string\"==typeof i?document.querySelector(i):i;s?new IntersectionObserver((function(i,n){!o&&t.isVisibilityChanged()||(Ya.Rum.sendTimeMark(e),n.unobserve(s))}),n).observe(s):setTimeout(r,100)}}()}:function(){};!function(){if(window.PerformanceLongTaskTiming){var e=function(e,n){return(e=e.concat(n)).length>300&&(e=e.slice(e.length-300)),e},n=Ya.Rum._tti={events:[],eventsAfterTTI:[],fired:!1,observer:new PerformanceObserver((function(r){var t=r.getEntries();n.events=e(n.events,t),n.fired&&(n.eventsAfterTTI=e(n.eventsAfterTTI,t))}))};n.observer.observe({entryTypes:[\"longtask\"]})}}();!function(){var e,t=[];function n(){var n=Ya.Rum.getSetting(\"clck\"),i=t.join(\"\\r\\n\");if((t=[],e=null,n)&&!(navigator.sendBeacon&&Ya.Rum.getSetting(\"beacon\")&&navigator.sendBeacon(n,i))){var a=new XMLHttpRequest;a.open(\"POST\",n),a.send(i)}}Ya.Rum.send=function(i,a,o,s,g,u,r){clearTimeout(e);var m=Ya.Rum.getSetting(\"slots\"),c=Ya.Rum.getSetting(\"experiments\"),v=[\"/reqid=\"+Ya.Rum.getSetting(\"reqid\"),r?\"/\"+r.join(\"/\"):\"\",a?\"/path=\"+a:\"\",g?\"/events=\"+g:\"\",m?\"/slots=\"+m.join(\";\"):\"\",c?\"/experiments=\"+c.join(\";\"):\"\",o?\"/vars=\"+o:\"\",\"/cts=\"+(new Date).getTime(),\"/*\"];t.push(v.join(\"\")),t.length<42?e=setTimeout(n,15):n()}}();Ya.Rum.init({\"beacon\":true,\"reqid\":\"1617448391.28097.94944.158656\",\"slots\":[\"317956,0,51\",\"339863,0,40\",\"344605,0,21\"],\"clck\":\"https://yandex.ru/clck/click\",\"sendStaticLocation\":false,\"longTaskMetric\":true,\"scrollMetric\":true,\"scrollLatencyMetric\":true},{\"143\":\"28.15.899.1177.1604\",\"287\":\"87\",\"1961\":0,\"1964\":0,\"1965\":0,\"-project\":\"morda\",\"-page\":\"plain_no_zen\",\"-platform\":\"desktop\",\"-env\":\"production\",\"-version\":\"2021-04-01-1\",\"-blocker\":\"\",\"-additional\":\"{}\"});Ya.Rum.observeDOMNode('2876','form.search2')</script><script>!function(n){if(!n.Ya||!Ya.Rum)throw new Error(\"Rum: interface is not defined\");var e=Ya.Rum;e.getSetting=function(n){var t=e._settings[n];return null===t?null:t||\"\"}}(\"undefined\"!=typeof self?self:window);!function(e,r){var n={client:[\"690.2354\",1e3,100,0],uncaught:[\"690.2361\",100,10,0],external:[\"690.2854\",100,10,0],script:[\"690.2609\",100,10,0]},t={};r.ERROR_LEVEL={INFO:\"info\",DEBUG:\"debug\",WARN:\"warn\",ERROR:\"error\",FATAL:\"fatal\"},r._errorSettings={clck:\"https://yandex.ru/clck/click\",beacon:!0,project:\"unknown\",page:\"\",env:\"\",experiments:[],additional:{},platform:\"\",region:\"\",dc:\"\",host:\"\",service:\"\",level:\"\",version:\"\",yandexuid:\"\",coordinates_gp:\"\",referrer:!0,preventError:!1,unhandledRejection:!1,uncaughtException:!0,debug:!1,limits:{},silent:{},filters:{},pageMaxAge:864e6,initTimestamp:+new Date};var o=!1;function a(e,r){for(var n in r)r.hasOwnProperty(n)&&(e[n]=r[n]);return e}function i(e){return\"boolean\"==typeof e&&(e=+e),\"number\"==typeof e?e+\"\":null}r.initErrors=function(n){a(r._errorSettings,n),!o&&r._errorSettings.uncaughtException&&(!function(){var n=r._errorSettings;if(e.addEventListener)e.addEventListener(\"error\",s),n.resourceFails&&e.addEventListener(\"error\",l,!0),\"Promise\"in e&&n.unhandledRejection&&e.addEventListener(\"unhandledrejection\",function(e){var r,n=e.reason,t={};n&&(n.stack&&n.message?r=n.message:\"[object Event]\"===(r=String(n))?r=\"event.type: \"+n.type:\"[object Object]\"===r&&(t.unhandledObject=n),n.target&&n.target.src&&(t.src=n.target.src),s({message:\"Unhandled rejection: \"+r,stack:n.stack,additional:t}))});else{var t=e.onerror;e.onerror=function(e,r,n,o,a){s({error:a||new Error(e||\"Empty error\"),message:e,lineno:n,colno:o,filename:r}),t&&t.apply(this,arguments)}}}(),o=!0)},r.updateErrors=function(e){a(r._errorSettings,e)},r.updateAdditional=function(e){r._errorSettings.additional=a(r._errorSettings.additional||{},e)},r._handleError=function(e,o){var a,i,s=r._errorSettings;if(s.preventError&&e.preventDefault&&e.preventDefault(),o)a=e,i=\"client\";else{a=r._normalizeError(e),i=a.type;var l=s.onError;\"function\"==typeof l&&l(a);var c=s.transform;\"function\"==typeof c&&(a=c(a))}var u=+new Date,d=s.initTimestamp,f=s.pageMaxAge;if(!(-1!==f&&d&&d+f<u)){var g=n[i][1];\"number\"==typeof s.limits[i]&&(g=s.limits[i]);var p=n[i][2];\"number\"==typeof s.silent[i]&&(p=s.silent[i]);var m=n[i][3];if(m<g||-1===g){a.path=n[i][0];var v=r._getErrorData(a,{silent:m<p||-1===p?\"no\":\"yes\",isCustom:Boolean(o)},s),h=function(e){t[a.message]=!1,r._sendError(e.path,e.vars),n[i][3]++}.bind(this,v);if(\"undefined\"==typeof s.throttleSend)h();else{if(t[a.message])return;t[a.message]=!0,setTimeout(h,s.throttleSend)}}}},r._getReferrer=function(r){var n=r.referrer,t=typeof n;return\"function\"===t?n():\"string\"===t&&n?n:!1===n?undefined:e.location?e.location.href:undefined},r._buildExperiments=function(e){return e instanceof Array?e.join(\";\"):\"\"},r._buildAdditional=function(e,r){var n=\"\";try{var t=a(a({},e),r);0!==Object.keys(t).length&&(n=JSON.stringify(t))}catch(o){}return n},r._getErrorData=function(n,t,o){t=t||{};var a=r._buildExperiments(o.experiments),s=r._buildAdditional(o.additional,n.additional),l={\"-stack\":n.stack,\"-url\":n.file,\"-line\":n.line,\"-col\":n.col,\"-block\":n.block,\"-method\":n.method,\"-msg\":n.message,\"-env\":o.env,\"-external\":n.external,\"-externalCustom\":n.externalCustom,\"-project\":o.project,\"-service\":n.service||o.service,\"-page\":n.page||o.page,\"-platform\":o.platform,\"-level\":n.level,\"-experiments\":a,\"-version\":o.version,\"-region\":o.region,\"-dc\":o.dc,\"-host\":o.host,\"-yandexuid\":o.yandexuid,\"-coordinates_gp\":n.coordinates_gp||o.coordinates_gp,\"-referrer\":r._getReferrer(o),\"-source\":n.source,\"-sourceMethod\":n.sourceMethod,\"-type\":t.isCustom?n.type:\"\",\"-additional\":s,\"-adb\":i(Ya.blocker)||i(o.blocker),\"-cdn\":e.YaStaticRegion,\"-ua\":navigator.userAgent,\"-silent\":t.silent,\"-ts\":+new Date,\"-init-ts\":o.initTimestamp};return o.debug&&e.console&&console[console[n.level]?n.level:\"error\"](\"[error-counter] \"+n.message,l,n.stack),{path:n.path,vars:l}},r._baseNormalizeError=function(e){var r=(e=e||{}).error,n=e.filename||e.fileName||\"\",t=r&&r.stack||e.stack||\"\",o=e.message||\"\",a=r&&r.additional||e.additional;return{file:n,line:e.lineno||e.lineNumber,col:e.colno||e.colNumber,stack:t,message:o,additional:a}},r._normalizeError=function(e){var n=r._baseNormalizeError(e),t=\"uncaught\",o=r._isExternalError(n.file,n.message,n.stack),a=\"\",i=\"\";return o.hasExternal?(t=\"external\",a=o.common,i=o.custom):/^Script error\\.?$/.test(n.message)&&(t=\"script\"),n.external=a,n.externalCustom=i,n.type=t,n},r._createVarsString=function(e){var r=[];for(var n in e)e.hasOwnProperty(n)&&(e[n]||0===e[n])&&r.push(n+\"=\"+encodeURIComponent(e[n]).replace(/\\*/g,\"%2A\"));return r.join(\",\")},r._sendError=function(e,n){r.send(null,e,r._createVarsString(n),null,null,null,null)};var s=function(e){r._handleError(e,!1)},l=function(e){var n=e.target;if(n){var t=n.srcset||n.src;if(t||(t=n.href),t){var o=n.tagName||\"UNKNOWN\";r.logError({message:o+\" load error\",additional:{src:t}})}}}}(\"undefined\"!=typeof self?self:window,Ya.Rum);!function(e){var r={url:{0:/(miscellaneous|extension)_bindings/,1:/^chrome:/,2:/kaspersky-labs\\.com\\//,3:/^(?:moz|chrome)-extension:\\/\\//,4:/^file:/,5:/^resource:\\/\\//,6:/webnetc\\.top/,7:/local\\.adguard\\.com/},message:{0:/__adgRemoveDirect/,1:/Content Security Policy/,2:/vid_mate_check/,3:/ucapi/,4:/Access is denied/i,5:/^Uncaught SecurityError/i,6:/__ybro/,7:/__show__deepen/,8:/ntp is not defined/,9:/Cannot set property 'install' of undefined/,10:/NS_ERROR/,11:/Error loading script/,12:/^TypeError: undefined is not a function$/,13:/__firefox__\\.(?:favicons|metadata|reader|searchQueryForField|searchLoginField)/},stack:{0:/(?:moz|chrome)-extension:\\/\\//,1:/adguard.*\\.user\\.js/i}};function n(e,r){if(e&&r){var n=[];for(var o in r)if(r.hasOwnProperty(o)){var i=r[o];\"string\"==typeof i&&(i=new RegExp(i)),i instanceof RegExp&&i.test(e)&&n.push(o)}return n.join(\"_\")}}function o(e,o){var i,t=[];for(var s in r)r.hasOwnProperty(s)&&(i=n(e[s],o[s]))&&t.push(s+\"~\"+i);return t.join(\";\")}e._isExternalError=function(n,i,t){var s=e._errorSettings.filters||{},a={url:(n||\"\")+\"\",message:(i||\"\")+\"\",stack:(t||\"\")+\"\"},c=o(a,r),u=o(a,s);return{common:c,custom:u,hasExternal:!(!c&&!u)}}}(Ya.Rum);!function(){\"use strict\";var e;(e=Ya.Rum).logError=function(r,o){r=r||{},\"string\"!=typeof o&&void 0!==o||((o=new Error(o)).justCreated=!0);var a=r.message||\"\",s=e._baseNormalizeError(o);s.message&&(a&&(a+=\"; \"),a+=s.message),s.message=a||\"Empty error\";for(var t=[\"service\",\"source\",\"type\",\"block\",\"additional\",\"level\",\"page\",\"method\",\"sourceMethod\",\"coordinates_gp\"],i=0;i<t.length;i++){var n=t[i];r[n]?s[n]=r[n]:o&&o[n]&&(s[n]=o[n])}e._handleError(s,!0)}}();!function(){\"use strict\";var t;(t=Ya.Rum).logAjaxError=function(a,i,o,n){a.type=\"network\",a.additional=a.additional||{},\"timeout\"===o?a.additional.timeout=1:i.status&&(a.additional.status=i.status),t.logError(a,n)}}();var initParams={\"project\":\"morda\",\"page\":\"plain_no_zen\",\"platform\":\"desktop\",\"region\":87,\"env\":\"production\",\"version\":\"2021-04-01-1\",\"preventError\":false,\"unhandledRejection\":true,\"throttleSend\":0,\"debug\":0,\"dc\":\"vla\",\"host\":\"prestable-morda-vla-yp-97.vla.yp-c.yandex.net\",\"yandexuid\":\"1315579971617448391\",\"limits\":{\"client\":1000},\"silent\":{\"external\":3},\"filters\":{\"url\":{\"0\":\"suggest-ya.cgi\"},\"message\":{\"0\":\"ResizeObserver loop limit exceeded\"}},\"additional\":{\"instance\":\"\"},\"blocker\":\"\"};initParams.transform=function(i){var r=i;return i.file.indexOf(\"/s3/zen-lib/\")>-1&&(r.service=\"zen\"),r},window.Ya.Rum.initErrors(initParams);</script><script>!function(i){window.home=window.home||{},home.reportOnVisible=function(e){function n(){navigator.sendBeacon&&navigator.sendBeacon(e,\" \")||((new Image).src=e)}var t=i.visibilityState;t&&\"visible\"!==t?i.addEventListener(\"visibilitychange\",(function o(){\"visible\"===i.visibilityState&&(i.removeEventListener(\"visibilitychange\",o,!1),n())}),!1):n()}}(document);</script><script>window.addEventListener(\"DOMContentLoaded\",(function(){if(window.Ya&&window.Ya.Rum&&window.Ya.Rum.logError){var e=document.createElement(\"div\"),o=Number(\"5000\");e.className=\"style-checker\",document.body.appendChild(e),setTimeout((function(){\"none\"!==getComputedStyle(e,null).display&&Ya.Rum.logError({block:\"style-checker\",message:\"CSS load error\",type:\"client\",additional:{checkDelay:o}},{})}),o)}}),!1);</script><link href=\"//yastatic.net/s3/home-static/_/b/I/90U4GMlZmYU5CNQlSnRASnxHc.css\" rel=\"stylesheet\"/><style>@font-face{font-family:'YS Text';font-weight:400;font-style:normal;font-stretch:normal;src:url(//yastatic.net/s3/home/fonts/ys/1/text-regular.woff2) format('woff2'),url(//yastatic.net/s3/home/fonts/ys/1/text-regular.woff) format('woff')}@font-face{font-family:'YS Text';font-weight:500;font-style:normal;font-stretch:normal;src:url(//yastatic.net/s3/home/fonts/ys/1/text-medium.woff2) format('woff2'),url(//yastatic.net/s3/home/fonts/ys/1/text-medium.woff) format('woff')}@font-face{font-family:'YS Text';font-weight:700;font-style:normal;font-stretch:normal;src:url(//yastatic.net/s3/home/fonts/ys/1/text-bold.woff2) format('woff2'),url(//yastatic.net/s3/home/fonts/ys/1/text-bold.woff) format('woff')}.font_loaded body{font-family:'YS Text','Helvetica Neue',Arial,sans-serif;-webkit-font-feature-settings:'liga','kern';-moz-font-feature-settings:'liga','kern';font-feature-settings:'liga','kern'}</style><style>.weather__icon_skc_d{background-image:url(\"data:image/svg+xml,%3csvg xmlns='http://www.w3.org/2000/svg' width='36' height='36'%3e%3cdefs%3e%3cradialGradient cy='50.27%25' fx='50%25' fy='50.27%25' r='48.4%25' id='a'%3e%3cstop stop-color='%23FFC227' offset='0%25'/%3e%3cstop stop-color='%23FFB300' offset='100%25'/%3e%3c/radialGradient%3e%3c/defs%3e%3cg transform='translate(2.74 2.74)' fill='none' fill-rule='evenodd'%3e%3ccircle fill='url(%23a)' cx='15.26' cy='15.26' r='7.5'/%3e%3cpath d='M21.27.73L19.51 5M11 25.52l-1.76 4.26M29.78 9.24L25.52 11M4.99 19.51L.73 21.27m29.05.01l-4.26-1.77M4.99 11L.73 9.25M9.24.73L11 5m8.5 20.52l1.77 4.26' stroke='%23FFB300' stroke-width='2.25' stroke-linecap='round' stroke-linejoin='round'/%3e%3c/g%3e%3c/svg%3e\");}.i-ua_inlinesvg_no .weather__icon_skc_d{background-image:url(\"//yastatic.net/s3/home-static/_/50/50f87eff746cb089a16fa143c06f8880.png\");}</style><style>\n",
              "    .rtb-image {\n",
              "        background-image: url('https://storage.mds.yandex.net/get-bstor/3911536/0319791e-d839-40d0-8cf5-24d56c61b22e.jpeg');\n",
              "        background-position: 0 0;\n",
              "        background-size: 100% auto;\n",
              "        background-repeat: no-repeat;\n",
              "        cursor: pointer;\n",
              "    }\n",
              "    </style><style>.desk-notif-card__login-new-item_enter .desk-notif-card__login-new-item-icon {background-image:url(\"//yastatic.net/s3/home-static/_/4c/4c36ae9576ff73e5124add5eb273a623.svg\");}</style><style>.desk-notif-card_theme_red .desk-notif-card__login-new-item_enter .desk-notif-card__login-new-item-icon {background-image:url(\"//yastatic.net/s3/home-static/_/9c/9c534b9377b5aee62c1ef82a270f77be.svg\");}</style><style>.i-ua_inlinesvg_yes .home-logo__default.home-logo__default_new_yes {background-image:url(\"//yastatic.net/s3/home-static/_/f1/f1fe3e1a5586caffb6326c74750168fb.svg\");}</style><style>.home-logo__default.home-logo__default_new_yes {background-image:url(\"//yastatic.net/s3/home-static/_/84/84ea6ccd37520257f0a7a5f10a87b859.png\");}</style><style>.i-ua_inlinesvg_yes.document_dark_yes .home-logo__default.home-logo__default_new_yes {background-image:url(\"//yastatic.net/s3/home-static/_/13/138bb6d1b1679f0292e81dc60c86f55b.svg\");}</style><script>function Detector(){\"use strict\";var e=document.documentElement;return{isPlaceholderSupported:function(){return\"placeholder\"in document.createElement(\"input\")},getCSS3TransformProperty:function(){for(var e=document.documentElement.style,t=[\"transform\",\"MozTransform\",\"MsTransform\",\"msTransform\",\"WebkitTransform\",\"OTransform\"],n=\"\",i=0,r=t.length;i<r;++i)if(e[t[i]]!==undefined){n=t[i];break}return this.getCSS3TransformProperty=function(){return n},n},checkDataURLSupport:function(e){var t=new Image;t.onload=t.onerror=function(){e(1===this.width&&1===this.height)},t.src=\"data:image/gif;base64,R0lGODlhAQABAIAAAAAAAP///ywAAAAAAQABAAACAUwAOw==\"},isActivexEnabled:function(){var e=!1;try{e=!!new window.ActiveXObject(\"htmlfile\")}catch(t){e=!1}return e},isWin64:function(){return window.navigator&&\"Win64\"===window.navigator.platform},isFullScreen:function(){return window.innerWidth&&window.screen&&window.screen.width&&window.screen.height&&window.innerHeight&&window.innerWidth===screen.width&&window.innerHeight===screen.height},isIEMetroMode:function(){return this.isFullScreen()&&this.isWin64()&&!this.isActivexEnabled()},isSVGSupported:function(){if(\"opera\"in window)return!1;var e=document.createElement(\"svg\");return e.innerHTML=\"<svg/>\",e.firstChild&&\"http://www.w3.org/2000/svg\"===e.firstChild.namespaceURI},isAnimationSupported:function(){if(\"opera\"in window)return!1;for(var e=document.documentElement.style,t=[\"animationName\",\"webkitAnimationName\"],n=0,i=t.length;n<i;n++)if(e[t[n]]!==undefined)return!0},getUserFontSize:function(){var t,n,i=[],r=\"i-ua_user-font-size_\",o=document.createElement(\"div\");return o.style.height=\"1em\",e.appendChild(o),t=parseInt(o.offsetHeight),e.removeChild(o),n=16===t?\"normal\":t<16?\"small\":\"large\",i.push(r+n),i.push(r+t+\"px\"),i.join(\" \")},isRetina:function(){return(\"devicePixelRatio\"in window?window.devicePixelRatio:1)>=1.25}}}function MyMap(){this.rules={},this.rulesData=[]}MyMap.prototype={add:function(e){return(e=e||null)&&!this.rules[e]&&(this.rulesData.push(e),this.rules[e]=this.rulesData.length-1),this},get:function(e){var t=this.rules[e];return t&&this.rulesData[t]||null},getAll:function(){return this.rulesData.join(\" \")}};var detector=new Detector;!function(){var e,t=new MyMap;t.add(\"js\").add(\"i-ua_placeholder_\"+(detector.isPlaceholderSupported()?\"yes\":\"no\")).add(detector.isIEMetroMode()&&\"m-ie10-metro\").add(detector.isSVGSupported()?\"i-ua_inlinesvg_yes m-svg\":\"i-ua_inlinesvg_no no-data-url\").add(detector.isAnimationSupported()&&\"i-ua_animation_yes\").add(this.device&&\"m-touch\").add(detector.getUserFontSize()).add(\"i-ua_retina_\"+(detector.isRetina()?\"yes\":\"no\")),detector.checkDataURLSupport((function(e){e||(document.documentElement.className+=\" no-data-url\")})),this.document&&this.document.documentElement&&((e=this.document.documentElement).className=e.className.replace(\"i-ua_js_no\",\"i-ua_js_yes\")+\" \"+t.getAll())}();</script></head><body class=\"not-logged i-ua i-bem b-page b-page_search-bottom_no\" data-bem='{\"i-ua\":{}}'><div class=\"body__wrapper\"><div class=\"desk-notif__wrapper\"><div aria-label=\"Уведомления\" class=\"desk-notif i-bem\" data-bem='{\"desk-notif\":{\"serverCards\":[\"login\"]}}' role=\"complementary\"><div class=\"desk-notif-card desk-notif-card_type_login desk-notif-card_bg_default desk-notif-card_login-new_yes desk-notif-card_theme_default i-bem\" data-bem='{\"desk-notif-card\":{}}'><div aria-label=\"Авторизация\" class=\"desk-notif-card__card\" role=\"form\" style=\" z-index:1\"><div class=\"desk-notif-card__login-new-items\"><a class=\"home-link desk-notif-card__login-new-item desk-notif-card__login-new-item_enter home-link_black_yes home-link_hover_inherit\" href=\"https://passport.yandex.ru/auth?origin=home_yandexid&amp;retpath=https%3A%2F%2Fyandex.ru&amp;backpath=https%3A%2F%2Fyandex.ru\" target=\"_self\"><div class=\"desk-notif-card__login-new-item-icon\"></div><div class=\"desk-notif-card__login-new-item-title\">Войти</div></a><a class=\"home-link desk-notif-card__login-new-item desk-notif-card__login-new-item_mail home-link_black_yes\" href=\"https://passport.yandex.ru/auth?origin=home_desktop_ru&amp;retpath=https%3A%2F%2Fmail.yandex.ru%2F&amp;backpath=https%3A%2F%2Fyandex.ru\" rel=\"noopener\" target=\"_blank\"><div class=\"desk-notif-card__login-new-item-icon\"></div><div class=\"desk-notif-card__login-new-item-title\">Почта</div></a><a class=\"home-link desk-notif-card__login-new-item desk-notif-card__login-new-item_disk home-link_black_yes\" href=\"https://passport.yandex.ru/auth?origin=home_disk&amp;retpath=https%3A%2F%2Fdisk.yandex.ru%2F%3Fsource%3Ddomik-main&amp;backpath=https%3A%2F%2Fyandex.ru\" rel=\"noopener\" target=\"_blank\"><div class=\"desk-notif-card__login-new-item-icon\"></div><div class=\"desk-notif-card__login-new-item-title\">Диск</div></a></div></div></div></div></div><div class=\"container rows\"><div class=\"rows__bg\"><div class=\"skin__on-bg\"></div></div><div class=\"row rows__row rows__row_first\"><div class=\"col\" role=\"complementary\"><div class=\"container headline\"><div class=\"row\"><div class=\"col headline__item headline__leftcorner\"><a aria-label=\"Ваш город определён как Вашингтон\" class=\"home-link geolink\" href=\"https://yandex.ru/tune/geo?retpath=https%3A%2F%2Fyandex.ru%2F&amp;nosync=1\" target=\"_self\"><svg class=\"geolink__button\" height=\"16\" viewbox=\"0 0 16 16\" width=\"16\" xmlns=\"http://www.w3.org/2000/svg\"><path d=\"M13.07 3.58l-4 9.98a.5.5 0 0 1-.95-.06L7 9 2.5 7.88a.5.5 0 0 1-.06-.95l9.98-4a.5.5 0 0 1 .65.65z\" fill=\"currentColor\"></path></svg><span class=\"geolink__reg\">Вашингтон</span></a><span class=\"datetime headline__datetime text_gray_yes i-bem\" data-bem='{\"datetime\":{\"timestamp\":\"April 03, 2021, 07:13:11\"}}'><span class=\"datetime__date\"><span class=\"datetime__day\">3 </span><span class=\"datetime__month\">апреля, </span><span class=\"datetime__wday\">суббота </span></span><span class=\"datetime__time\"><a class=\"home-link datetime__time-link home-link_gray_yes\" href=\"https://yandex.ru/time\" rel=\"noopener\" target=\"_blank\"><span class=\"datetime__hour\">07</span><span class=\"datetime__flicker\">:</span><span class=\"datetime__min\">13</span></a></span></span></div><div class=\"col headline__item headline__center\"></div><div class=\"col headline__item headline__bar\"><div class=\"container headline__bar_stuff\"><div class=\"row headline__bar-items\"></div></div></div></div></div></div></div><div class=\"row rows__row rows__row_main\"><div class=\"col widgets i-bem\" data-bem='{\"widgets\":{\"uniqId\":\"widgets\",\"yu\":\"feecdf8a32baded4395ad330277ca821d94eb8474e6e0c5be8a6d3bdd826af85:1617448391\",\"Logged\":0,\"domain\":\"ru\",\"locale\":\"ru\",\"layoutType\":\"columns\",\"hidePromo\":0,\"geoid\":\"87\",\"statLogRoot\":\"\",\"settings\":{},\"widgetStyle\":{\"def\":{\"bg\":\"light\",\"text\":\"999\",\"link\":\"000\",\"hover\":\"ff0000\",\"decor\":\"1\"}},\"gsid\":\"1617448391.28097.94944.158656\",\"version\":3}}' role=\"main\"><div class=\"container container__first container__first_up container__line\"><div class=\"row first text_black_yes widgets__row widgets__row_tr_1\"><div class=\"col col_td_0 widgets__col widgets__col_td_1\"><div class=\"i-bem widget widget_mode_plain widget_id_topnews-1 widget_name_topnews widgets__item b-widget-fixed\" data-bem='{\"widget\":{\"id\":\"_topnews-1\",\"showPrefs\":true}}' id=\"wd-wrapper-_topnews-1\"><div class=\"b-widget-data b-wrapper b-wrapper-\" id=\"wd-_topnews-1\"><div aria-label=\"Новости\" class=\"news mix-tabber_theme_link news_disclaimer_no news_animation_yes i-bem\" data-bem='{\"news\":{\"uniqId\":\"news\",\"interval\":8000,\"firstInterval\":20000,\"showIcons\":true,\"newTabLinks\":true,\"data\":{\"region\":{\"showIcons\":true,\"newTabLinks\":true,\"statid\":\"news.region\",\"name\":\"region\",\"news\":[{\"full\":\"Офицер полиции погиб во время инцидента возле Капитолия в столице США\",\"href\":\"https://yandex.ru/news/story/Oficer_policii_pogib_vo_vremya_incidenta_vozle_Kapitoliya_vstolice_SSHA--028fc7b962137086913c4e9d344424a3?fan=1&amp;from=reg_portal&amp;lang=ru&amp;lr=87&amp;mlid=1617447699.geo_84.028fc7b9&amp;msid=1617448391.28097.94944.158656&amp;persistent_id=139248463&amp;stid=zLHeWCQ0CRc7mbL-tgCI&amp;t=1617447699&amp;utm_medium=topnews_region&amp;utm_source=morda_desktop\",\"agency_logo\":\"https://avatars.mds.yandex.net/get-ynews-logo/26056/1075-1478692903077-square/logo-square\",\"agency_name\":\"Эхо Москвы\"},{\"full\":\"Пушков предсказал США лидерство по деградации населения из-за наркотиков\",\"href\":\"https://yandex.ru/news/story/Pushkov_predskazal_SSHA_liderstvo_podegradacii_naseleniya_iz-zanarkotikov--6043afe90facb31b9f0e2a07d58ff70a?fan=1&amp;from=reg_portal&amp;lang=ru&amp;lr=87&amp;mlid=1617447699.geo_84.6043afe9&amp;msid=1617448391.28097.94944.158656&amp;persistent_id=139242708&amp;stid=dRy8IWpD7xJ-qlEM_RwW&amp;t=1617447699&amp;utm_medium=topnews_region&amp;utm_source=morda_desktop\",\"agency_logo\":\"https://avatars.mds.yandex.net/get-ynews-logo/28627/1014-1583822440403-square/logo-square\",\"agency_name\":\"REGNUM\"},{\"full\":\"Джо Байден отменил санкции против сотрудников Международного уголовного суда\",\"href\":\"https://yandex.ru/news/story/Dzho_Bajden_otmenil_sankcii_protiv_sotrudnikov_Mezhdunarodnogo_ugolovnogo_suda--f129db451b6fa43eb0adcbf148910b3c?fan=1&amp;from=reg_portal&amp;lang=ru&amp;lr=87&amp;mlid=1617447699.geo_84.f129db45&amp;msid=1617448391.28097.94944.158656&amp;persistent_id=138908405&amp;stid=yudKFsgPyGtzDw_anMTz&amp;t=1617447699&amp;utm_medium=topnews_region&amp;utm_source=morda_desktop\",\"agency_logo\":\"https://avatars.mds.yandex.net/get-ynews-logo/117671/254103676-1504192544478-square/logo-square\",\"agency_name\":\"Телеканал RTVI\"},{\"full\":\"Фрагмент ракеты SpaceX упал на ферму в штате Вашингтон\",\"href\":\"https://yandex.ru/news/story/Fragment_rakety_SpaceX_upal_nafermu_vshtate_Vashington--b3e3c863bc0b375408995fc8b1cf3627?fan=1&amp;from=reg_portal&amp;lang=ru&amp;lr=87&amp;mlid=1617447699.geo_84.b3e3c863&amp;msid=1617448391.28097.94944.158656&amp;persistent_id=139248682&amp;stid=cuJzHdlAGCXcEX8p771p&amp;t=1617447699&amp;utm_medium=topnews_region&amp;utm_source=morda_desktop\",\"agency_logo\":\"https://avatars.mds.yandex.net/get-ynews-logo/117671/1051-1606727598.111679-square/logo-square\",\"agency_name\":\"Московские новости\"},{\"full\":\"Байден напомнил Зеленскому об угрозе, исходящей от олигархов\",\"href\":\"https://yandex.ru/news/story/Bajden_napomnil_Zelenskomu_ob_ugroze_iskhodyashhej_otoligarkhov--be3f7f163c3a3a38d4ef6f076b029727?fan=1&amp;from=reg_portal&amp;lang=ru&amp;lr=87&amp;mlid=1617447699.geo_84.be3f7f16&amp;msid=1617448391.28097.94944.158656&amp;persistent_id=139252636&amp;stid=w0RnzRl5&amp;t=1617447699&amp;utm_medium=topnews_region&amp;utm_source=morda_desktop\",\"agency_logo\":\"https://avatars.mds.yandex.net/get-ynews-logo/62808/254116334-1478693779675-square/logo-square\",\"agency_name\":\"Украина.ру\"},{\"full\":\"Кедми указал на уникальные особенности подлодок ВМФ РФ, которых нет у США\",\"href\":\"https://yandex.ru/news/story/Kedmi_ukazal_naunikalnye_osobennosti_podlodok_VMF_RF_kotorykh_net_uSSHA--92d7c19ead81fa84670d1a16742b9146?fan=1&amp;from=reg_portal&amp;lang=ru&amp;lr=87&amp;mlid=1617447699.geo_84.92d7c19e&amp;msid=1617448391.28097.94944.158656&amp;persistent_id=139261110&amp;stid=OckkYNO00wwMX5kfyKnu&amp;t=1617447699&amp;utm_medium=topnews_region&amp;utm_source=morda_desktop\",\"agency_logo\":\"https://avatars.mds.yandex.net/get-ynews-logo/50744/254121811-1560949075143-square/logo-square\",\"agency_name\":\"Народные новости\"},{\"full\":\"Описаны действия РФ при обнаружении ядерного удара ракет США\",\"href\":\"https://yandex.ru/news/story/Opisany_dejstviya_RF_priobnaruzhenii_yadernogo_udara_raket_SSHA--28083fe8e1844563d2a6cc08f0842969?fan=1&amp;from=reg_portal&amp;lang=ru&amp;lr=87&amp;mlid=1617447699.geo_84.28083fe8&amp;msid=1617448391.28097.94944.158656&amp;persistent_id=139252112&amp;stid=azG571-MGHy3aaNcHsAt&amp;t=1617447699&amp;utm_medium=topnews_region&amp;utm_source=morda_desktop\",\"agency_logo\":\"https://avatars.mds.yandex.net/get-ynews-logo/56838/254136130-1485527695165-square/logo-square\",\"agency_name\":\"SM News\"},{\"full\":\"WP: на южной границе США в марте задержали рекордное за 15 лет число мигрантов\",\"href\":\"https://yandex.ru/news/story/WP_nayuzhnoj_granice_SSHA_vmarte_zaderzhali_rekordnoe_za15_let_chislo_migrantov--64ef564d28ae63c472c6b9d8485c9d8d?fan=1&amp;from=reg_portal&amp;lang=ru&amp;lr=87&amp;mlid=1617447699.geo_84.64ef564d&amp;msid=1617448391.28097.94944.158656&amp;persistent_id=139008271&amp;stid=xlF2dFGeJY9dFH3udDuZ&amp;t=1617447699&amp;utm_medium=topnews_region&amp;utm_source=morda_desktop\",\"agency_logo\":\"https://avatars.mds.yandex.net/get-ynews-logo/50744/1551-1563808847385-square/logo-square\",\"agency_name\":\"ТАСС\"},{\"full\":\"В США от коронавируса полностью привился каждый пятый житель\",\"href\":\"https://yandex.ru/news/story/VSSHA_otkoronavirusa_polnostyu_privilsya_kazhdyj_pyatyj_zhitel--e4785b6edbecd7c81f2a4f7b4385f609?fan=1&amp;from=reg_portal&amp;lang=ru&amp;lr=87&amp;mlid=1617447699.geo_84.e4785b6e&amp;msid=1617448391.28097.94944.158656&amp;persistent_id=139243324&amp;stid=k3QiEmNTgPbnF7sJ3V66&amp;t=1617447699&amp;utm_medium=topnews_region&amp;utm_source=morda_desktop\",\"agency_logo\":\"https://avatars.mds.yandex.net/get-ynews-logo/135513/6702-1536592977785-square/logo-square\",\"agency_name\":\"Gazeta.SPb\"},{\"full\":\"Контрабандисты сбросили двух детей со стены на границе Мексики и США\",\"href\":\"https://yandex.ru/news/story/Kontrabandisty_sbrosili_dvukh_detej_so_steny_nagranice_Meksiki_i_SSHA--090d0928bf81226d44149d6e5e1b4098?fan=1&amp;from=reg_portal&amp;lang=ru&amp;lr=87&amp;mlid=1617447699.geo_84.090d0928&amp;msid=1617448391.28097.94944.158656&amp;persistent_id=138952483&amp;stid=SUwI1vWh&amp;t=1617447699&amp;utm_medium=topnews_region&amp;utm_source=morda_desktop\",\"agency_logo\":\"https://avatars.mds.yandex.net/get-ynews-logo/135513/254114979-1478693761853-square/logo-square\",\"agency_name\":\"ФАН\"}]}}}}' role=\"complementary\"><div class=\"news__header widget__content\"><div class=\"news__tabs\"><h1 class=\"news__tab-wrapper news__head-item\"><a aria-controls=\"news_panel_news\" aria-selected=\"true\" class=\"home-link home-link_blue_yes news__tab news__tab_selected_yes mix-tabber__tab mix-tabber__tab_selected_yes\" data-key=\"news\" data-stat-link=\"news.tab.link.news\" data-stat-select=\"news.tab.select.news\" href=\"https://yandex.ru/news?mlid=1617447699.glob_225&amp;msid=1617448391.28097.94944.158656&amp;utm_medium=topnews_news&amp;utm_source=morda_desktop\" id=\"news_tab_news\" rel=\"noopener\" role=\"tab\" tabindex=\"0\" target=\"_blank\"><span class=\"news__tab-text \">Сейчас в СМИ</span></a></h1><h1 class=\"news__tab-wrapper news__head-item\"><a aria-selected=\"false\" class=\"home-link home-link_blue_yes news__tab news__tab_selected_no mix-tabber__tab mix-tabber__tab_selected_no\" data-key=\"region\" data-stat-link=\"news.tab.link.region\" data-stat-select=\"news.tab.select.region\" href=\"https://yandex.ru/news/region/united_states?mlid=1617447699.geo_84&amp;msid=1617448391.28097.94944.158656&amp;utm_medium=topnews_region&amp;utm_source=morda_desktop\" id=\"news_tab_region\" rel=\"noopener\" role=\"tab\" tabindex=\"-1\" target=\"_blank\"><span class=\"news__tab-text \">в США</span></a></h1></div><div class=\"news__panels mix-tabber-slide2__panels\"><div aria-labelledby=\"news_tab_news\" class=\"news__panel mix-tabber-slide2__panel\" data-key=\"news\" id=\"news_panel_news\" role=\"tabpanel\"><ol class=\"list news__list\"><li class=\"list__item list__item_icon\"><a aria-label=\"Президент Аргентины сообщил о положительном тесте на антиген к COVID-19\" class=\"home-link list__item-content list__item-content_with-icon home-link_black_yes\" href=\"https://yandex.ru/news/story/Prezident_Argentiny_soobshhil_opolozhitelnom_teste_naantigen_kCOVID-19--a4f466cd633cf891a4b3a47afaec126b?fan=1&amp;from=main_portal&amp;lang=ru&amp;lr=87&amp;mlid=1617447699.glob_225.a4f466cd&amp;msid=1617448391.28097.94944.158656&amp;persistent_id=139249546&amp;stid=gGoGI25cxWxld2plYi0i&amp;t=1617447699&amp;utm_medium=topnews_news&amp;utm_source=morda_desktop\" rel=\"noopener\" target=\"_blank\"><span class=\"news__item-inner \"><div class=\"news__agency-icon news__agency-icon_image_yes\"><object class=\"news__agency-icon-image\" data=\"https://avatars.mds.yandex.net/get-ynews-logo/50744/1013-1496416510291-square/logo-square\" title=\"Известия\" type=\"image/png\"><div class=\"news__agency-icon-image-empty\"></div></object></div><span class=\"news__item-content \">Президент Аргентины сообщил о положительном тесте на антиген к COVID-19</span></span></a></li><li class=\"list__item list__item_icon\"><a aria-label=\"В Киеве назвали учения НАТО Defender Europe 2021 отработкой войны с Россией\" class=\"home-link list__item-content list__item-content_with-icon home-link_black_yes\" href=\"https://yandex.ru/news/story/VKieve_nazvali_ucheniya_NATO_Defender_Europe_2021_otrabotkoj_vojny_sRossiej--8130f34cee66ad4ce484db555bfe109c?fan=1&amp;from=main_portal&amp;lang=ru&amp;lr=87&amp;mlid=1617447699.glob_225.8130f34c&amp;msid=1617448391.28097.94944.158656&amp;persistent_id=139222067&amp;stid=Ainy975-RD4gETjRk42l&amp;t=1617447699&amp;utm_medium=topnews_news&amp;utm_source=morda_desktop\" rel=\"noopener\" target=\"_blank\"><span class=\"news__item-inner \"><div class=\"news__agency-icon news__agency-icon_image_yes\"><object class=\"news__agency-icon-image\" data=\"https://avatars.mds.yandex.net/get-ynews-logo/28627/1014-1583822440403-square/logo-square\" title=\"REGNUM\" type=\"image/png\"><div class=\"news__agency-icon-image-empty\"></div></object></div><span class=\"news__item-content \">В Киеве назвали учения НАТО Defender Europe 2021 отработкой войны с Россией</span></span></a></li><li class=\"list__item list__item_icon\"><a aria-label=\"Сбербанк спрогнозировал начало третьей волны COVID-19 к середине апреля\" class=\"home-link list__item-content list__item-content_with-icon home-link_black_yes\" href=\"https://yandex.ru/news/story/Sberbank_sprognoziroval_nachalo_tretej_volny_COVID-19_kseredine_aprelya--13c380664a09615bc381a1367e1dcbf1?fan=1&amp;from=main_portal&amp;lang=ru&amp;lr=87&amp;mlid=1617447699.glob_225.13c38066&amp;msid=1617448391.28097.94944.158656&amp;persistent_id=139231987&amp;stid=1zTYqLVEK7Csi4Qrte20&amp;t=1617447699&amp;utm_medium=topnews_news&amp;utm_source=morda_desktop\" rel=\"noopener\" target=\"_blank\"><span class=\"news__item-inner \"><div class=\"news__agency-icon news__agency-icon_image_yes\"><object class=\"news__agency-icon-image\" data=\"https://avatars.mds.yandex.net/get-ynews-logo/117671/1027-1530099491421-square/logo-square\" title=\"РБК\" type=\"image/png\"><div class=\"news__agency-icon-image-empty\"></div></object></div><span class=\"news__item-content \">Сбербанк спрогнозировал начало третьей волны COVID-19 к середине апреля</span></span></a></li><li class=\"list__item list__item_icon\"><a aria-label=\"Минцифры исключило передачу данных россиян с предустановленного софта\" class=\"home-link list__item-content list__item-content_with-icon home-link_black_yes\" href=\"https://yandex.ru/news/story/Mincifry_isklyuchilo_peredachu_dannykh_rossiyan_spredustanovlennogo_softa--26317e51dd0caae9ddbb74bcdb8daf9d?fan=1&amp;from=main_portal&amp;lang=ru&amp;lr=87&amp;mlid=1617447699.glob_225.26317e51&amp;msid=1617448391.28097.94944.158656&amp;persistent_id=139261573&amp;stid=8e3izeFOD3nmrADYDRbl&amp;t=1617447699&amp;utm_medium=topnews_news&amp;utm_source=morda_desktop\" rel=\"noopener\" target=\"_blank\"><span class=\"news__item-inner \"><div class=\"news__agency-icon news__agency-icon_image_yes\"><object class=\"news__agency-icon-image\" data=\"https://avatars.mds.yandex.net/get-ynews-logo/28627/254083361-1516267195536-square/logo-square\" title=\"RT на русском\" type=\"image/png\"><div class=\"news__agency-icon-image-empty\"></div></object></div><span class=\"news__item-content \">Минцифры исключило передачу данных россиян с предустановленного софта</span></span></a></li></ol><ol class=\"list news__list news__animation-list\"><li class=\"list__item list__item_fade_in list__item_icon news__animated-item\" value=\"5\"><a aria-label=\"Российский военный спутник сошел с орбиты и разрушился над Тихим океаном\" class=\"home-link list__item-content list__item-content_with-icon home-link_black_yes\" href=\"https://yandex.ru/news/story/Rossijskij_voennyj_sputnik_soshel_sorbity_i_razrushilsya_nadTikhim_okeanom--7617d9d05709287812506a9d66f6d89e?fan=1&amp;from=main_portal&amp;lang=ru&amp;lr=87&amp;mlid=1617447699.glob_225.7617d9d0&amp;msid=1617448391.28097.94944.158656&amp;persistent_id=138985155&amp;stid=EooGczJRe7nCVumkwgve&amp;t=1617447699&amp;utm_medium=topnews_news&amp;utm_source=morda_desktop\" rel=\"noopener\" target=\"_blank\"><span class=\"news__item-inner \"><div class=\"news__agency-icon news__agency-icon_image_yes\"><object class=\"news__agency-icon-image\" data=\"https://avatars.mds.yandex.net/get-ynews-logo/135513/1002-1544074003449-square/logo-square\" title=\"РИА Новости\" type=\"image/png\"><div class=\"news__agency-icon-image-empty\"></div></object></div><span class=\"news__item-content \">Российский военный спутник сошел с орбиты и разрушился над Тихим океаном</span></span></a></li><li class=\"list__item list__item_icon news__animated-item\" value=\"6\"><a aria-label=\"ВСУ впервые с конца июля нанесли артиллерийский удар по ЛНР\" class=\"home-link list__item-content list__item-content_with-icon home-link_black_yes\" href=\"https://yandex.ru/news/story/VSU_vpervye_skonca_iyulya_nanesli_artillerijskij_udar_poLNR--1f6a1c43590bbbde6a149a7a392eeb27?fan=1&amp;from=main_portal&amp;lang=ru&amp;lr=87&amp;mlid=1617447699.glob_225.1f6a1c43&amp;msid=1617448391.28097.94944.158656&amp;persistent_id=139216105&amp;stid=PaKsV08RA43PcJCg4TV5&amp;t=1617447699&amp;utm_medium=topnews_news&amp;utm_source=morda_desktop\" rel=\"noopener\" target=\"_blank\"><span class=\"news__item-inner \"><div class=\"news__agency-icon news__agency-icon_image_yes\"><object class=\"news__agency-icon-image\" data=\"https://avatars.mds.yandex.net/get-ynews-logo/135513/1002-1544074003449-square/logo-square\" title=\"РИА Новости\" type=\"image/png\"><div class=\"news__agency-icon-image-empty\"></div></object></div><span class=\"news__item-content \">ВСУ впервые с конца июля нанесли артиллерийский удар по ЛНР</span></span></a></li><li class=\"list__item list__item_icon news__animated-item\" value=\"7\"><a aria-label=\"Следствие требует запрета действий для блогера Била по делу о ДТП в Москве\" class=\"home-link list__item-content list__item-content_with-icon home-link_black_yes\" href=\"https://yandex.ru/news/story/Sledstvie_trebuet_zapreta_dejstvij_dlyablogera_Bila_podelu_oDTP_vMoskve--dda5b69136d9a784861c3c11bb47bbec?fan=1&amp;from=main_portal&amp;lang=ru&amp;lr=87&amp;mlid=1617447699.glob_225.dda5b691&amp;msid=1617448391.28097.94944.158656&amp;persistent_id=139268319&amp;stid=CqB8-jP0hcvmcrCUGLL5&amp;t=1617447699&amp;utm_medium=topnews_news&amp;utm_source=morda_desktop\" rel=\"noopener\" target=\"_blank\"><span class=\"news__item-inner \"><div class=\"news__agency-icon news__agency-icon_image_yes\"><object class=\"news__agency-icon-image\" data=\"https://avatars.mds.yandex.net/get-ynews-logo/26056/1116-1478692904205-square/logo-square\" title=\"Российская газета\" type=\"image/png\"><div class=\"news__agency-icon-image-empty\"></div></object></div><span class=\"news__item-content \">Следствие требует запрета действий для блогера Била по делу о ДТП в Москве</span></span></a></li><li class=\"list__item list__item_icon news__animated-item\" value=\"8\"><a aria-label=\"Байден пообещал Зеленскому поддержать Украину\" class=\"home-link list__item-content list__item-content_with-icon home-link_black_yes\" href=\"https://yandex.ru/news/story/Bajden_poobeshhal_Zelenskomu_podderzhat_Ukrainu--526e69c77ac72e19c14eb9c6d698a76b?fan=1&amp;from=main_portal&amp;lang=ru&amp;lr=87&amp;mlid=1617447699.glob_225.526e69c7&amp;msid=1617448391.28097.94944.158656&amp;persistent_id=139227797&amp;stid=3grN3cbIYHyMOfGEal_l&amp;t=1617447699&amp;utm_medium=topnews_news&amp;utm_source=morda_desktop\" rel=\"noopener\" target=\"_blank\"><span class=\"news__item-inner \"><div class=\"news__agency-icon news__agency-icon_image_yes\"><object class=\"news__agency-icon-image\" data=\"https://avatars.mds.yandex.net/get-ynews-logo/26056/1047-1478692902215-square/logo-square\" title=\"Lenta.ru\" type=\"image/png\"><div class=\"news__agency-icon-image-empty\"></div></object></div><span class=\"news__item-content \">Байден пообещал Зеленскому поддержать Украину</span></span></a></li><li class=\"list__item list__item_icon news__animated-item\" value=\"9\"><a aria-label=\"Кравчук прокомментировал отношения России и Украины\" class=\"home-link list__item-content list__item-content_with-icon home-link_black_yes\" href=\"https://yandex.ru/news/story/Kravchuk_prokommentiroval_otnosheniya_Rossii_i_Ukrainy--d6cba2ede1c987228b03b4e7557c2330?fan=1&amp;from=main_portal&amp;lang=ru&amp;lr=87&amp;mlid=1617447699.glob_225.d6cba2ed&amp;msid=1617448391.28097.94944.158656&amp;persistent_id=139237377&amp;stid=Pux2WW6AUT9tORJzTfvj&amp;t=1617447699&amp;utm_medium=topnews_news&amp;utm_source=morda_desktop\" rel=\"noopener\" target=\"_blank\"><span class=\"news__item-inner \"><div class=\"news__agency-icon news__agency-icon_image_yes\"><object class=\"news__agency-icon-image\" data=\"https://avatars.mds.yandex.net/get-ynews-logo/28627/254083361-1516267195536-square/logo-square\" title=\"RT на русском\" type=\"image/png\"><div class=\"news__agency-icon-image-empty\"></div></object></div><span class=\"news__item-content \">Кравчук прокомментировал отношения России и Украины</span></span></a></li><li class=\"list__item list__item_icon news__animated-item\" value=\"10\"><a aria-label=\"Клип Manizha стал самым популярным на канале «Евровидения»\" class=\"home-link list__item-content list__item-content_with-icon home-link_black_yes\" href=\"https://yandex.ru/news/story/Klip_Manizha_stal_samym_populyarnym_nakanale_Evrovideniya--af55e5bc18f93f4e9dfa250e7c1e3386?fan=1&amp;from=main_portal&amp;lang=ru&amp;lr=87&amp;mlid=1617447699.glob_225.af55e5bc&amp;msid=1617448391.28097.94944.158656&amp;persistent_id=139260442&amp;stid=1sGnR43Pm3mmdavsgudc&amp;t=1617447699&amp;utm_medium=topnews_news&amp;utm_source=morda_desktop\" rel=\"noopener\" target=\"_blank\"><span class=\"news__item-inner \"><div class=\"news__agency-icon news__agency-icon_image_yes\"><object class=\"news__agency-icon-image\" data=\"https://avatars.mds.yandex.net/get-ynews-logo/26056/1047-1478692902215-square/logo-square\" title=\"Lenta.ru\" type=\"image/png\"><div class=\"news__agency-icon-image-empty\"></div></object></div><span class=\"news__item-content \">Клип Manizha стал самым популярным на канале «Евровидения»</span></span></a></li><span aria-hidden=\"true\"> </span></ol></div></div></div><div class=\"widget__collapsed news__collapsed\"><h1><a class=\"home-link home-link_blue_yes\" href=\"https://yandex.ru/news/?lang=ru&amp;msid=1617448391.28097.94944.158656&amp;mlid=1617447699\" rel=\"noopener\" target=\"_blank\">Сейчас в СМИ</a></h1><div class=\"widget__collapsed-text\">Актуальные новости и события дня</div></div><div class=\"news__inline-stocks news__inline-stocks_hidden_no\"><div aria-label=\"Котировки\" class=\"inline-stocks i-bem inline-stocks_new_yes\" data-bem='{\"inline-stocks\":{\"stocksUrl\":\"/data/combined/?w=_stocks-1&amp;bll=stocks&amp;sens=1\",\"editShow\":1}}' role=\"complementary\"><div class=\"inline-stocks__content text_black_yes\"><style>.inline-stocks__nscale {display: none}</style><div class=\"b-inline inline-stocks__item inline-stocks__item_id_2002 hint__item inline-stocks__part\" data-precision=\"2\"><a class=\"home-link home-link_black_yes inline-stocks__link\" href=\"https://yandex.ru/news/quotes/2002.html\" rel=\"noopener\" target=\"_blank\">USD</a><span class=\"inline-stocks__value\"><span class=\"inline-stocks__text\"><span class=\"inline-stocks__item__baloon b-inline\"><i class=\"inline-stocks__item__baloon__tail\"></i><span class=\"inline-stocks__item__baloon_inner\">курс MOEX на 02/04</span></span></span><span class=\"inline-stocks__value_inner\">76,55</span></span><td><span aria-hidden=\"true\" class=\"inline-stocks__cell inline-stocks__cell_type_delta inline-stocks__cell_change_small\">+0,26</span><span class=\"a11y-hidden\">+0,26</span></td></div><div class=\"b-inline inline-stocks__item inline-stocks__item_id_2000 hint__item inline-stocks__part\" data-precision=\"2\"><a class=\"home-link home-link_black_yes inline-stocks__link\" href=\"https://yandex.ru/news/quotes/2000.html\" rel=\"noopener\" target=\"_blank\">EUR</a><span class=\"inline-stocks__value\"><span class=\"inline-stocks__text\"><span class=\"inline-stocks__item__baloon b-inline\"><i class=\"inline-stocks__item__baloon__tail\"></i><span class=\"inline-stocks__item__baloon_inner\">курс MOEX на 02/04</span></span></span><span class=\"inline-stocks__value_inner\">89,95</span></span><td><span aria-hidden=\"true\" class=\"inline-stocks__cell inline-stocks__cell_type_delta inline-stocks__cell_change_small\">+0,08</span><span class=\"a11y-hidden\">+0,08</span></td></div><div class=\"b-inline inline-stocks__nowrap inline-stocks__part\"><div class=\"b-inline inline-stocks__item inline-stocks__item_id_1006 hint__item\" data-precision=\"2\"><a class=\"home-link home-link_black_yes inline-stocks__link\" href=\"https://yandex.ru/news/quotes/1006.html\" rel=\"noopener\" target=\"_blank\">Нефть</a><span class=\"inline-stocks__value\"><span class=\"inline-stocks__text\"><span class=\"inline-stocks__item__baloon b-inline\"><i class=\"inline-stocks__item__baloon__tail\"></i><span class=\"inline-stocks__item__baloon_inner\">цена на 02/04</span></span></span><span class=\"inline-stocks__value_inner\">64,86</span></span><td><span aria-hidden=\"true\" class=\"inline-stocks__cell inline-stocks__cell_type_delta inline-stocks__cell_change_small\">+0,31<span class=\"inline-stocks__cell-delta-prc\">%</span></span><span class=\"a11y-hidden\">+0,31%</span></td></div><span aria-expanded=\"false\" aria-haspopup=\"true\" class=\"home-link inline-stocks__more home-link_pseudo_yes\" role=\"button\" tabindex=\"0\" title=\"ещё\"><span class=\" inline-stocks__more-icon\"></span></span></div><div class=\"inline-stocks__popup\"><h1 class=\"inline-stocks__title\">Котировки</h1><div class=\"inline-stocks__tables\"></div><div class=\"inline-stocks__error\">Данные недоступны</div><div class=\"inline-stocks__loader\"><div class=\"spin2 spin2_view_default spin2_tone_default spin2_size_l spin2_progress_yes\"></div></div></div></div></div></div></div></div></div></div><div class=\"col col_td_1 widgets__col widgets__col_td_2\"><div class=\"i-bem widget widget_mode_plain widget_id_teaser-1 widget_name_teaser widgets__item b-widget-fixed\" data-bem='{\"widget\":{\"id\":\"_teaser-1\",\"showPrefs\":true}}' id=\"wd-wrapper-_teaser-1\"><div class=\"b-widget-data b-wrapper b-wrapper-\" id=\"wd-_teaser-1\"><div aria-label=\"Реклама\" class=\"teaser teaser_source_yabs i-bem\" data-bem='{\"teaser\":{}}' role=\"complementary\"><div class=\"teaser__content\"><a class=\"home-link teaser__link\" href=\"https://yabs.yandex.ru/count/WOOejI_zO0S1vGi0r181xn-CxHSlv0K01m8GWX0nnqreO000000useqKG0H85c2y4d3skvU7ZYMG0QBPvxatcBW1zhkNXzg_pmhe0QW2y0A-meRx0x031F050Q06hW6e1gu1oGR7OU2H0-514ga72OkuPBEd5nUm1u20c3Iu1-u9q0S2oQeB4DDHM2q9Ym00kdZEZ0-_y0i5w0oJGCV3WO-veFYW4g0Em8GzW13jtwS5o1Ie4S24FV0I0UWKZ0BO5S6AzkoZZxpyO_2G5gK2e1RGw9Y31e4Nc1SPg1S9m1Uq0h0OxFkWWmRG607u6Fk5tQE3rPcG5u0Pa1a1e1ce0R0Pk1d__m7I6H9vOM9pNtDbSdPbSYzoDJ4qBJFe6O320_0PWC83WHh___C49toFVh0QpiEcXUBlpjqI600AonXgvQI9yko1V2xRekNfv_tn2D1hO3B3eRBcmL8RbaKXsPIngnie8JO5yyO-Z2iC18XkrpTfYgCedqW7Z0sSlMG4XlteKKH3WG80~1\" rel=\"noopener\" tabindex=\"-1\" target=\"_blank\"><img alt=\"Спрашивайте и ищите ответы – на Яндекс.Кью.\" class=\"image teaser__image\" height=\"90\" src=\"https://avatars.mds.yandex.net/get-banana/26007/x25B_CC6CBE7nbYGzE02daGUP_banana_20161021_kogda.png/optimize\" srcset=\"https://avatars.mds.yandex.net/get-banana/37571/x25BF4vgr8YMuDUtJ97D5Rrdk_banana_20161021_kogda_ret.png/optimize 1.25x\" width=\"120\"/></a><h1 class=\"teaser__title\"><a class=\"home-link home-link_blue_yes teaser__link\" href=\"https://yabs.yandex.ru/count/WOOejI_zO0S1vGi0r181xn-CxHSlv0K01m8GWX0nnqreO000000useqKG0H85c2y4d3skvU7ZYMG0QBPvxatcBW1zhkNXzg_pmhe0QW2y0A-meRx0x031F050Q06hW6e1gu1oGR7OU2H0-514ga72OkuPBEd5nUm1u20c3Iu1-u9q0S2oQeB4DDHM2q9Ym00kdZEZ0-_y0i5w0oJGCV3WO-veFYW4g0Em8GzW13jtwS5o1Ie4S24FV0I0UWKZ0BO5S6AzkoZZxpyO_2G5gK2e1RGw9Y31e4Nc1SPg1S9m1Uq0h0OxFkWWmRG607u6Fk5tQE3rPcG5u0Pa1a1e1ce0R0Pk1d__m7I6H9vOM9pNtDbSdPbSYzoDJ4qBJFe6O320_0PWC83WHh___C49toFVh0QpiEcXUBlpjqI600AonXgvQI9yko1V2xRekNfv_tn2D1hO3B3eRBcmL8RbaKXsPIngnie8JO5yyO-Z2iC18XkrpTfYgCedqW7Z0sSlMG4XlteKKH3WG80~1\" rel=\"noopener\" target=\"_blank\"><span class=\"teaser__nowrap\">Яндекс.Кью</span></a></h1><div class=\"teaser__description\"><span class=\"teaser__nowrap\">Сервис, где вопросы</span><br/><span class=\"teaser__nowrap\">находят экспертов</span></div></div></div></div></div></div></div></div><div class=\"container container__services container__line\"><nav aria-label=\"Сервисы\" class=\"services-new services-new i-bem services-new_position_before-arrow services-new_more_yes\" data-bem='{\"services-new\":{\"staticHost\":\"//yastatic.net\"}}'><div class=\"services-new__content\"><div class=\"services-new__more-popup-anchor\"></div><ul class=\"services-new__list\"><li class=\"services-new__list-item\"><a class=\"home-link services-new__item services-new__item_search_yes\" data-id=\"market\" href=\"https://market.yandex.ru/?clid=505&amp;utm_source=main_stripe_big\" rel=\"noopener\" target=\"_blank\"><div class=\"services-new__icon\" style=\"background-image:url(//yastatic.net/s3/home/services/block/market_4.svg)\"></div><div class=\"services-new__item-title\">Маркет</div></a></li><li class=\"services-new__list-item\"><a class=\"home-link services-new__item services-new__item_search_yes\" data-id=\"video\" href=\"https://yandex.ru/video/?utm_source=main_stripe_big\" rel=\"noopener\" target=\"_blank\"><div class=\"services-new__icon\" style=\"background-image:url(//yastatic.net/s3/home/services/block/video.svg)\"></div><div class=\"services-new__item-title\">Видео</div></a></li><li class=\"services-new__list-item\"><a class=\"home-link services-new__item services-new__item_search_yes\" data-id=\"images\" href=\"https://yandex.ru/images/?utm_source=main_stripe_big\" rel=\"noopener\" target=\"_blank\"><div class=\"services-new__icon\" style=\"background-image:url(//yastatic.net/s3/home/services/block/kartinki.svg)\"></div><div class=\"services-new__item-title\">Картинки</div></a></li><li class=\"services-new__list-item\"><a class=\"home-link services-new__item services-new__item_search_yes\" data-id=\"news\" href=\"https://yandex.ru/news/?utm_source=main_stripe_big\" rel=\"noopener\" target=\"_blank\"><div class=\"services-new__icon\" style=\"background-image:url(//yastatic.net/s3/home/services/block/news.svg)\"></div><div class=\"services-new__item-title\">Новости</div></a></li><li class=\"services-new__list-item\"><a class=\"home-link services-new__item services-new__item_search_yes\" data-id=\"maps\" href=\"https://yandex.ru/maps/?utm_source=main_stripe_big\" rel=\"noopener\" target=\"_blank\"><div class=\"services-new__icon\" style=\"background-image:url(//yastatic.net/s3/home/services/block/maps.svg)\"></div><div class=\"services-new__item-title\">Карты</div></a></li><li class=\"services-new__list-item\"><a class=\"home-link services-new__item services-new__item_search_yes\" data-id=\"translate\" href=\"https://translate.yandex.ru/?utm_source=main_stripe_big\" rel=\"noopener\" target=\"_blank\"><div class=\"services-new__icon\" style=\"background-image:url(//yastatic.net/s3/home/services/block/translate.svg)\"></div><div class=\"services-new__item-title\">Переводчик</div></a></li><li class=\"services-new__list-item\"><a class=\"home-link services-new__item services-new__item_search_yes\" data-id=\"music\" href=\"https://music.yandex.ru/?utm_source=main_stripe_big\" rel=\"noopener\" target=\"_blank\"><div class=\"services-new__icon\" style=\"background-image:url(//yastatic.net/s3/home/services/block/music1.svg)\"></div><div class=\"services-new__item-title\">Музыка</div></a></li><li class=\"services-new__list-item\"><a class=\"home-link services-new__item\" data-id=\"tv\" href=\"https://tv.yandex.ru/?utm_source=main_stripe_big\" rel=\"noopener\" target=\"_blank\"><div class=\"services-new__icon\" style=\"background-image:url(//yastatic.net/s3/home/services/block/tv.svg)\"></div><div class=\"services-new__item-title\">Программа</div></a></li><li class=\"services-new__list-item\"><a class=\"home-link services-new__item\" data-id=\"autoru\" href=\"https://auto.ru/?utm_source=main_stripe_big\" rel=\"noopener\" target=\"_blank\"><div class=\"services-new__icon\" style=\"background-image:url(//yastatic.net/s3/home/services/block/autoru.svg)\"></div><div class=\"services-new__item-title\">Авто.ру</div></a></li><a aria-expanded=\"false\" aria-haspopup=\"true\" class=\"home-link services-new__item services-new__more\" data-id=\"more\" href=\"https://yandex.ru/all\" rel=\"noopener\" role=\"button\" target=\"_blank\"><div class=\"services-new__more-icons\"><div class=\"services-new__more-icon services-new__more-icon_0\" style=\"background-image:url(//yastatic.net/s3/home/services/block/toloka.svg)\"></div><div class=\"services-new__more-icon services-new__more-icon_1\" style=\"background-image:url(//yastatic.net/s3/home/services/block/repetitor.svg)\"></div><div class=\"services-new__more-icon services-new__more-icon_2\" style=\"background-image:url(//yastatic.net/s3/home/services/block/zdorovie.svg)\"></div><div class=\"services-new__more-icon services-new__more-icon_3\" style=\"background-image:url(//yastatic.net/s3/home/services/block/talants.svg)\"></div></div><div class=\"services-new__item-title\">ещё</div></a></ul></div></nav></div><div class=\"container container__search container__line\"><fwap><div class=\"row second text_black_yes\"><div class=\"home-arrow i-bem\" data-bem='{\"home-arrow\":{}}'><div class=\"home-arrow__search-wrapper\"><div class=\"home-logo home-arrow__logo\"><a class=\"home-link home-logo__link\" href=\"https://yandex.ru/\" rel=\"noopener\" target=\"_blank\"><div aria-label=\"Яндекс\" class=\"home-logo__default home-logo__default_new_yes\" role=\"img\"></div></a></div><div class=\"home-arrow__search\"><form action=\"https://yandex.ru/search/\" aria-label=\"Поиск в интернете\" class=\"search2 mini-suggest mini-suggest_search_yes mini-suggest_personal_yes mini-suggest_theme_flat mini-suggest_tab-change_yes mini-suggest_request_xhr mini-suggest_separate-popup_yes mini-suggest_autofocus_yes mini-suggest_re-request_yes mini-suggest_direct_yes mini-suggest_old-nav_yes i-bem\" data-bem='{\"search2\":{\"nl\":true}}' data-mini-bem='{\"mini-suggest\":{\"url\":\"//yandex.ru/suggest/suggest-ya.cgi?srv=morda_ru_desktop&amp;wiz=TrWth&amp;uil=ru&amp;fact=1&amp;v=4&amp;icon=1&amp;lr=87&amp;hl=1&amp;bemjson=0&amp;history=1&amp;html=1&amp;platform=desktop&amp;rich_nav=1&amp;show_experiment=222&amp;show_experiment=224&amp;verified_nav=1&amp;rich_phone=1&amp;safeclick=1&amp;skip_clickdaemon_host=1&amp;yu=1315579971617448391&amp;maybe_ads=1&amp;mt_wizard=1\",\"deleteUrl\":\"//yandex.ru/suggest-delete-text?srv=morda_ru_desktop&amp;text_to_delete=\",\"counter\":{\"service\":\"morda_ru_desktop\",\"url\":\"//yandex.ru/clck/jclck\",\"timeout\":300,\"params\":{\"dtype\":\"stred\",\"pid\":\"0\",\"cid\":\"2873\",\"lr\":\"87\"},\"yandexuid\":\"1315579971617448391\",\"reqidInCookie\":null,\"src\":true},\"clickHost\":\"//yandex.ru/clck\",\"navSource\":\"/\",\"faviconUrl\":\"//favicon.yandex.net/favicon/v2/\",\"a11y\":{\"nav\":\"внешняя ссылка\"},\"direct\":{\"label\":\"реклама\",\"counter_delay\":5000,\"adb\":false},\"reRequestTimeout\":\"200\",\"reRequestUrl\":\"//yandex.ru/suggest/ad-rerequest-ya.cgi?srv=morda_ru_desktop&amp;wiz=TrWth&amp;uil=ru&amp;fact=1&amp;v=4&amp;icon=1&amp;lr=87&amp;hl=1&amp;bemjson=0&amp;history=1&amp;html=1&amp;platform=desktop&amp;rich_nav=1&amp;show_experiment=222&amp;show_experiment=224&amp;verified_nav=1&amp;rich_phone=1&amp;safeclick=1&amp;skip_clickdaemon_host=1&amp;yu=1315579971617448391&amp;maybe_ads=1&amp;mt_wizard=1\",\"reRequestMaxLatency\":0}}' role=\"search\"><div class=\"search2__wrapper\"><input name=\"lr\" type=\"hidden\" value=\"87\"/><input name=\"msid\" type=\"hidden\" value=\"1617448391.28097.94944.158656\"/><div class=\"search2__input-wrapper\"><div class=\"search2__input\"><span class=\"input input_size_ws-head input_theme_websearch input_search2-clear-hide_yes input_ahead_yes input_autofocus_capture input_keyboard_yes input_clear_yes i-bem\" data-bem='{\"input\":{\"live\":false,\"autoFocus\":true}}'><span class=\"input__box\"><span class=\"input__clear mini-suggest__input-clear\" unselectable=\"on\"> </span><div class=\"keyboard-loader input__keyboard-button i-bem b-opacity b-opacity-hold-ie keyboard-loader_lang_ru\" data-bem='{\"keyboard-loader\":{\"name\":\"keyboard-loader\"}}'><i class=\"b-ico keyboard-loader__icon b-ico-kbd\"></i></div><input aria-autocomplete=\"list\" aria-label=\"Запрос\" autocapitalize=\"off\" autocomplete=\"off\" autocorrect=\"off\" class=\"input__control input__input mini-suggest__input\" id=\"text\" maxlength=\"400\" name=\"text\" spellcheck=\"false\" tabindex=\"2\"><script>try{document.currentScript.previousElementSibling.focus()}catch(e){}</script></input></span></span></div><div aria-hidden=\"true\" class=\"search2__placeholder\">Найдётся всё</div></div><div class=\"search2__button\"><button class=\"button mini-suggest__button button_theme_websearch button_size_ws-head i-bem\" data-bem='{\"button\":{}}' role=\"button\" tabindex=\"-1\" type=\"submit\">Найти<svg class=\"search__rounded-arrow\" height=\"40\" preserveaspectratio=\"none\" viewbox=\"0 0 17 40\" width=\"17\" xmlns=\"http://www.w3.org/2000/svg\"><path d=\"M1 1l1.663.034c1.761 0 3.391.926 4.294 2.438l8.337 13.968a5 5 0 0 1 .002 5.122l-8.34 13.997A5 5 0 0 1 2.66 39L1 38.967z\" stroke-width=\"2\"></path><defs><lineargradient gradientunits=\"userSpaceOnUse\" id=\"l\" x2=\"0\" y2=\"40\"><stop offset=\"0\" stop-color=\"#ffbb03\"></stop><stop offset=\"1\" stop-color=\"#ffd108\"></stop></lineargradient><lineargradient gradientunits=\"userSpaceOnUse\" id=\"h\" x2=\"0\" y2=\"40\"><stop offset=\"0\" stop-color=\"#ffa702\"></stop><stop offset=\"1\" stop-color=\"#ffd108\"></stop></lineargradient><lineargradient gradientunits=\"userSpaceOnUse\" id=\"a\" x2=\"0\" y2=\"40\"><stop offset=\"0\" stop-color=\"#ff9801\"></stop><stop offset=\"1\" stop-color=\"#ffc205\"></stop></lineargradient></defs></svg></button></div></div></form></div></div></div></div></fwap></div><div class=\"container container__banner container__line container__banner_flex\"><div class=\"b-banner__content \"><div class=\"rtb\"><a class=\"rtb__link\" href=\"https://an.yandex.ru/count/WbmejI_zO1G2bH80v1vYdBie6I5g-WK050CGWX0nnqreO000000uXALIG0n80c2C66W4SAQQ_-AX0u01b8hq0eW1wVIx2f01qlJpsiw0W802c07IzFFQJh01qi6VgWYu0OpF_TWXm07k0TW1-9Juc07W0PoB-9W1w06y1FW1Y8tacjGOy0AxZioFk1o81TW7a0MW6R05oGAu1RW8m0MW6SW5k0ZG1Ve1uitRZGcW1gu1g0Qk0Sa6ns7WaGFXGHAf1wjUZDQpfnSNk0UGCf0D1846u0YoZQeCy0dW5lW9w0A02WZ9Hon9JQjU0019lCwC3x_e2w0Py0i5Y0pAbzw-0UWCcmQO3S24GJ-W3i24FQkzeS-zzkcB5u0GlCZa78WGpvUpWv348D0GvOiKy181cE0Jk0Y0522W5BW8g1IW6Vk6buC6w1IC0j0L-uQNWmRO5S6AzkoZZxpyO_2W5j3ec8C6g1Re1yaMq1RAbzw-0O4Nc1VJWweig1S9m1Us0jWNm8Gzw1S1e1WDi1Zi-w231hWO0T0O0VWO-uNTeuFLcP0NW1c96MWs1G000000a1a1e1ce0R0PnyE1ZxcW-A0Ik1d__m7I6H9vOM9pNtDbSdPbSYzoDJ4qBJFe6O320_0PWC83WHh__zyNRv-9NR0QkxBXx8heylol0RWQ0Hu0YYqxUKE1DEHuFl9nsHnxFtDLf11bFu8Csq1YOCNX45PdS7LSHDSCpyocfrVXCqgmWiQg2BK0QpH6tvW0mkvqZHKC-A7bLYpl04Y0Yv_s41AsvnZFdp-4gqRG1-LiX303~1\" rel=\"noopener\" target=\"_blank\"><div class=\"rtb-image\"></div><div class=\"rtb-border\"></div></a></div></div></div><div class=\"container container__heap container__line heap\"></div></div></div><div class=\"row gap gap_side_bottom\"> </div><div class=\"row rows__row rows__row_last\"><div class=\"col footer\"></div></div></div><div class=\"media-grid media-grid_visible_no media-grid_theme_white i-bem font-regular\" data-bem='{\"media-grid\":{\"counters\":{\"expand\":\"mediafooter.resize.expand\",\"collapse\":\"mediafooter.resize.collapse\"},\"layout\":[\"zen\",\"games\"]}}'><div class=\"media-grid__media-content\"><div class=\"media-grid__row\" data-blockname=\"zen\"><style>.zen .media-promo{z-index:2}.zen .media-service__title,.zen__desc{position:relative;z-index:2}.zen__desc{z-index:1}.zen__desc:before{content:'';display:inline-block}.zen__loader{position:absolute;top:0;right:0;bottom:0;left:0;display:none;text-align:center}.zen__loader:before{content:'';vertical-align:middle;height:100%}.zen__loader_state_loading,.zen__loader_state_retry{display:block}.zen__loader_state_loading .zen__retry,.zen__loader_state_retry .loader{display:none}.zen__loader:before,.zen__loader_state_retry .zen__retry{display:inline-block}.zen__retry-button{margin-left:10px}.zen__list{display:inline-block;visibility:hidden;min-height:296px}.zen__list_visibility_visible{visibility:visible}.zen__list_visibility_visible:after{content:'';display:inline-block;width:36px}.zen__wrap::-webkit-scrollbar{display:none}.zen__item{position:relative;display:inline-block;width:204px;height:280px;margin-bottom:16px;margin-left:20px;padding-right:0;padding-left:0;-webkit-transition:opacity .15s ease-out,.15s margin-left .15s ease-out,.15s visibility .15s,-webkit-transform .15s ease-out,-webkit-box-shadow .15s ease-out;transition:transform .15s ease-out,box-shadow .15s ease-out,opacity .15s ease-out,.15s margin-left .15s ease-out,.15s visibility .15s;transition:transform .15s ease-out,box-shadow .15s ease-out,opacity .15s ease-out,.15s margin-left .15s ease-out,.15s visibility .15s,-webkit-transform .15s ease-out,-webkit-box-shadow .15s ease-out;vertical-align:top;white-space:normal;border-radius:6px}.i-ua_browser_desktop .zen__item:hover{-webkit-transform:translateY(-10px);transform:translateY(-10px);z-index:1}.zen__item:first-child{margin-left:0}.i-ua_browser_desktop .zen__item_disliked_yes:hover,.zen__item_disliked_yes{pointer-events:none;-webkit-transform:translateY(-30%);transform:translateY(-30%);margin-left:-204px;visibility:hidden;opacity:0}.zen__item-link{position:relative;border-radius:6px;overflow:hidden;display:block;color:#fff;height:100%;-webkit-box-sizing:border-box;-moz-box-sizing:border-box;box-sizing:border-box}.zen__item-image{display:block;width:204px;height:204px;border-radius:6px 6px 0 0;background-repeat:no-repeat;background-position:top center;background-size:cover}.zen__item-curtain{content:'';display:block;position:absolute;top:46px;bottom:0;left:0;width:204px;border-radius:0 0 6px 6px}.zen__item-text-content{display:block;margin-top:21px;margin-left:12px;margin-right:12px;height:195px;overflow:hidden}.zen__item-text,.zen__item-title{word-wrap:break-word;word-break:break-word;overflow:hidden;text-overflow:ellipsis;display:block;display:-webkit-box;-webkit-box-orient:vertical}.zen__item-title{font-weight:700}.i-ua_platform_macos .zen__item-title{-webkit-font-smoothing:antialiased}.zen__item-title_size_l{font-size:21px;line-height:26px;max-height:104px}.zen__item-title_size_m{font-size:17px;line-height:21px;max-height:105px}.zen__item-title_size_s{font-size:15px;line-height:19px;max-height:114px}.zen__item_type_text .zen__item-title{padding-bottom:4px}.zen__item-text{font-size:13px;line-height:17px}.zen__item-text_lines_1{-webkit-line-clamp:1}.zen__item-text_lines_2{-webkit-line-clamp:2}.zen__item-text_lines_3{-webkit-line-clamp:3}.zen__item-text_lines_4{-webkit-line-clamp:4}.zen__item-text_lines_5{-webkit-line-clamp:5}.zen__item-text_lines_6{-webkit-line-clamp:6}.zen__item-text_lines_7{-webkit-line-clamp:7}.zen__item-text_lines_8{-webkit-line-clamp:8}.zen__item-text_lines_9{-webkit-line-clamp:9}.zen__item-text_lines_10{-webkit-line-clamp:10}.zen__item_type_image .zen__item-title{position:absolute;z-index:1;left:12px;right:12px;bottom:64px}.zen__item-domain{display:block;position:absolute;bottom:18px;left:12px;font-size:13px;text-transform:uppercase;letter-spacing:.5px;opacity:.4;right:12px;overflow:hidden;white-space:nowrap}.zen__item-domain-fadeout{display:none;content:'';position:absolute;top:0;bottom:0;right:0;width:75px}.zen__item-domain_fadeout_yes .zen__item-domain-fadeout{display:block}.zen__item-domain_logo_yes{background-size:auto 16px;background-repeat:no-repeat;background-position:center left;height:16px}.zen__item-control{position:absolute;bottom:12px;z-index:0;display:block;width:30px;height:30px;background-repeat:no-repeat;background-position:center;padding:10px 0;margin-right:-10px;margin-bottom:-10px;opacity:.4;-webkit-transition:opacity .1s;transition:opacity .1s;cursor:pointer}.i-ua_browser_desktop .zen__item-control:hover,.utilityfocus .zen__item-control:focus{opacity:1}.zen__item-control_liked_yes{opacity:1}.zen__item-control_scaled_yes{-webkit-animation:zen__item-control_scaled_yes .13s ease-out 2 alternate;animation:zen__item-control_scaled_yes .13s ease-out 2 alternate}.zen__item-like{right:50px}.zen__item-dislike{right:20px}.zen__item_theme_black .zen__item-like{background-image:url(//yastatic.net/s3/home-static/_/L/t/R6x3v9iUM-5tvFgwi6jshDDm4.svg)}.zen__item_theme_white .zen__item-like{background-image:url(//yastatic.net/s3/home-static/_/P/v/LzS8MjNfwozZQXwEqxB_M2SY4.svg)}.zen__item_theme_black .zen__item-dislike{background-image:url(//yastatic.net/s3/home-static/_/9/i/nTkqIRkL1HMOMadq9595VzyzA.svg)}.zen__item_theme_white .zen__item-dislike{background-image:url(//yastatic.net/s3/home-static/_/E/A/bVxlLgGooaaBgi3Jo9HLwFUb4.svg)}.pointerfocus .zen__item-control,.pointerfocus .zen__item-control:focus,.pointerfocus .zen__item-link,.pointerfocus .zen__item-link:focus{outline:none}.utilityfocus .zen__item-control:focus,.utilityfocus .zen__item-link:focus{outline:2px solid #fc0}.zen__direct-content{color:#000;position:absolute;margin-left:12px;margin-right:12px}.zen__direct-label{position:absolute;margin-left:13px;font-size:12px;color:#6e6b67;background-color:#e7e3de;display:inline-block;line-height:14px;border-radius:2px;text-decoration:none;z-index:1;top:-2px;padding:5px 12px 3px}.zen__direct-domain{display:inline-block;margin-bottom:2px;font-size:13px;line-height:17px;color:rgba(110,107,103,.7)}.zen__direct-body{margin:4px 0 6px}.zen__direct-text{display:block;font-size:13px;line-height:17px;word-wrap:break-word;word-break:break-word;-webkit-hyphens:auto;-moz-hyphens:auto;-ms-hyphens:auto;hyphens:auto}.zen__direct-footer{position:relative;margin-top:11px}.zen__direct-age{font-size:9px;font-weight:700;opacity:.46;letter-spacing:-.9px;line-height:12px;position:absolute;right:0;bottom:0}.zen__direct-warning{font-size:10px;opacity:.46;line-height:12px;padding-right:20px}.zen__direct-image_type_small{position:static;float:right;margin:4px 0 10px 10px}.zen__direct_type_small .zen__item-link{background-color:#fff;color:#000}.zen__direct_type_small .zen__direct-content{top:36px}.zen__direct_type_small .zen__direct-footer{position:absolute;margin-top:0;bottom:11px;margin-left:12px;margin-right:12px}.zen__direct_type_big .zen__direct-content{bottom:11px}.zen__direct_footer_age .zen__direct-age{position:relative;left:0;right:auto}.zen__direct_footer_none .zen__direct-footer{display:none}@-webkit-keyframes zen__item-control_scaled_yes{0%{-webkit-transform:scale(1);transform:scale(1)}to{-webkit-transform:scale(1.3);transform:scale(1.3)}}@keyframes zen__item-control_scaled_yes{0%{-webkit-transform:scale(1);transform:scale(1)}to{-webkit-transform:scale(1.3);transform:scale(1.3)}}</style><div aria-label=\"Дзен\" class=\"i-bundle-bem zen media-service media-service_has-carousel_yes\" data-bem='{\"zen\":{\"zenUrl\":\"https://zen.yandex.ru/api/v3/desktop-morda/teasers?country_code=ru&amp;client_exps=zen_chunked_answer:ref,zen_chunked_answer_etalon:exp,zen_united_placeholders:exp\",\"login\":\"unauthorized\",\"directUrl\":\"https://direct.yandex.ru/?partner\"}}' role=\"complementary\"><div class=\"media-service__header media-service__header_valign_center\"><div class=\"media-service__title-wrapper\"><h1 class=\"media-service__title\"><a class=\"home-link zen__title media-service__title-text\" href=\"https://zen.yandex.ru/?clid=101&amp;country_code=ru\" rel=\"noopener\" target=\"_blank\">Дзен</a></h1><div class=\"media-service__desc zen__desc\">Лента рекомендаций</div></div><a class=\"home-link media-promo home-link_hover_inherit\" href=\"https://browser.yandex.ru/desktop/zen/?from=yamain_zen&amp;banerid=0458000000\" rel=\"noopener\" target=\"_blank\"><span class=\"media-promo__title\">Яндекс.Браузер</span><span class=\"media-promo__desc font-regular\">со встроенным Дзеном</span></a></div><div class=\"zen__content media-service__content \"><div class=\"zen__panels media-service__panels\"><div class=\"zen__panel media-service__panel\"><div class=\"arrowed-list zen__list-wrapper media-service__list-wrapper imageloader imageloader_tracking_yes arrowed-list_theme_media arrowed-list_list-out_yes i-bem\" data-bem='{\"arrowed-list\":{\"counter\":\"mediafooter.zen\"},\"imageloader\":{}}'><div class=\"zen__loader zen__loader_state_loading\"><span class=\"loader\"></span><div class=\"zen__retry\">Не удалось загрузить данные<button class=\"button zen__retry-button button_theme_adaptive-pseudo button_size_s i-bem\" data-bem='{\"button\":{}}' data-statlog=\"mediafooter.zen.retry\" role=\"button\" type=\"button\"><span class=\"button__text\">Попробовать ещё раз</span></button></div></div><div class=\"arrowed-list__content scroller zen__wrap media-service__wrap imageloader__scroller\"><div class=\"arrowed-list__list zen__list media-service__list\" role=\"list\"></div></div><div class=\"arrowed-list__shadow arrowed-list__shadow_left\"></div><div class=\"arrowed-list__shadow arrowed-list__shadow_right\"></div><div class=\"arrowed-list__left arrowed-list__control\"></div><div class=\"arrowed-list__right arrowed-list__control\"></div></div></div></div></div></div></div><div class=\"media-grid__row\" data-blockname=\"games\"><div aria-label=\"Игры\" class=\"games-loader games-loader_state_loading i-bem media-grid__games media-service mix-tabber_theme_inline-media media-service_has-carousel_yes media-service_tabs_yes media-service_inline-tabs_yes\" data-bem='{\"games-loader\":{\"url\":\"//games.yandex.ru/api/v1/desktop/card?lang=ru\"}}' role=\"complementary\"><div class=\"media-service__header media-service__header_multyline_yes\"><div class=\"media-service__title-wrapper\"><h1 class=\"media-service__title\"><span class=\"home-link games__title media-service__title-text media-service__title-text_icon_yes\" tabindex=\"0\"><div class=\"media-service__title-icon\" style=\"background-image:url(//yastatic.net/s3/home/services/all/svg/games0.svg)\"></div>Игры</span></h1></div><div class=\"games__tabs media-service__tabs\" role=\"tablist\"><span class=\"home-link games__tab games__tab_dummy_yes mix-tabber__tab\"> </span><span class=\"home-link games__tab games__tab_dummy_yes mix-tabber__tab\"> </span><span class=\"home-link games__tab games__tab_dummy_yes mix-tabber__tab\"> </span><span class=\"home-link games__tab games__tab_dummy_yes mix-tabber__tab\"> </span><span class=\"home-link games__tab games__tab_dummy_yes mix-tabber__tab\"> </span><span class=\"home-link games__tab games__tab_dummy_yes mix-tabber__tab\"> </span><span class=\"home-link games__tab games__tab_dummy_yes mix-tabber__tab\"> </span></div></div><div class=\"games__content media-service__content \"><div class=\"media-service__panels games__panels\"><div aria-labelledby=\"games_99459_tab_dummy\" class=\"games__panel media-service__panel\" data-key=\"dummy\" id=\"games_99459_panel_dummy\" role=\"tabpanel\"><div class=\"arrowed-list games__list-wrapper media-service__list-wrapper imageloader arrowed-list_theme_media i-bem\" data-bem='{\"arrowed-list\":{\"counter\":\"games\"},\"imageloader\":{}}'><div class=\"arrowed-list__content scroller games__wrap media-service__wrap imageloader__scroller\"><div class=\"arrowed-list__list games__list media-service__list\" role=\"list\"><div class=\"games__item games__item_dummy_yes media-service__shadow\"><div class=\"games__item-header\"></div><div class=\"games__item-content games__item-content_dummy\"><div class=\"games__item-placeholder games__item-placeholder_title\"></div><div class=\"games__item-placeholder\"></div></div></div><div class=\"games__item games__item_dummy_yes media-service__shadow\"><div class=\"games__item-header\"></div><div class=\"games__item-content games__item-content_dummy\"><div class=\"games__item-placeholder games__item-placeholder_title\"></div><div class=\"games__item-placeholder\"></div></div></div><div class=\"games__item games__item_dummy_yes media-service__shadow\"><div class=\"games__item-header\"></div><div class=\"games__item-content games__item-content_dummy\"><div class=\"games__item-placeholder games__item-placeholder_title\"></div><div class=\"games__item-placeholder\"></div></div></div><div class=\"games__item games__item_dummy_yes media-service__shadow\"><div class=\"games__item-header\"></div><div class=\"games__item-content games__item-content_dummy\"><div class=\"games__item-placeholder games__item-placeholder_title\"></div><div class=\"games__item-placeholder\"></div></div></div><div class=\"games__item games__item_dummy_yes media-service__shadow\"><div class=\"games__item-header\"></div><div class=\"games__item-content games__item-content_dummy\"><div class=\"games__item-placeholder games__item-placeholder_title\"></div><div class=\"games__item-placeholder\"></div></div></div><div class=\"games__item games__item_dummy_yes media-service__shadow\"><div class=\"games__item-header\"></div><div class=\"games__item-content games__item-content_dummy\"><div class=\"games__item-placeholder games__item-placeholder_title\"></div><div class=\"games__item-placeholder\"></div></div></div><div class=\"games__item games__item_dummy_yes media-service__shadow\"><div class=\"games__item-header\"></div><div class=\"games__item-content games__item-content_dummy\"><div class=\"games__item-placeholder games__item-placeholder_title\"></div><div class=\"games__item-placeholder\"></div></div></div></div></div><div class=\"arrowed-list__shadow arrowed-list__shadow_left\"></div><div class=\"arrowed-list__shadow arrowed-list__shadow_right\"></div><div class=\"arrowed-list__left arrowed-list__control\"></div><div class=\"arrowed-list__right arrowed-list__control\"></div></div></div></div></div></div></div></div><div class=\"media-infinity-footer i-bem\" data-bem='{\"media-infinity-footer\":{\"hiddenBlocksPromo\":{\"show_url\":\"https://yabs.yandex.ru/count/WEmejI_zO3C05GS010i1xn-CWXqpDmK0Cm4GWX0nnqreO000000useqKy0A-meRx0_050Q06hW791iTXu943uK4IgGS9YxXaiwSN5weB4DDHM2q9Ym00kdZEZ0-_y0i5u0s2W810c0x7mu6FkQ3ueFWG3AWHm8Gzy1BO5S6AzkoZZxpyO_395l0_WHUe5mcP6D0O0VWOW1cm6RWP__y1qXaIUM5YSrzpPN9sPN8lSZKnD2qpw1c0mWFm6O320my0TsHSCGM3Whig6YRHBOIm4GExREbbFY3pyG0aQnYAMbsCKKOY5mRQES15H0Uz1m00~1=WGOejI_zO4W0vGS010s41lu9I0503aW2ODmCSC3HxjFD8P01sihqt3EOk070qUxJ3TW1gf-M3-W1Z0AG0_33W6-W0mQm0mAe1gu1i0U0W9Wqk0Uy2D070l47003WgFVfvX39sGi9YxXaiwSN5-WCaw0Em8GzsO0GrO_B1yWG2AWHm8Gzs1A0W1YO4m7e58m2s1N1YlRieu-y_6EW5j3ec8C6WHUO5nd05xG2i1ZSxQ231lWO-uNTeuFLcP0NW1cG6G6W6QW1k1d_0UWPWC83y1c0mWE16l__OvZkPDNS3G0uWiPQ1f90oFt2eVrckTDqqwpaqATCmUZ91mG31b_49PC6-MjiD9Gy~1\"}}}'><div class=\"media-infinity-footer__placeholder\"></div><div class=\"media-infinity-footer__up\"><div class=\"media-infinity-footer__up-bg\"></div><div class=\"media-infinity-footer__up-arrow\"></div></div></div><div class=\"media-infinity-footer__content\" role=\"contentinfo\"><div class=\"media-infinity-footer__content-inner\"><div class=\"media-infinity-footer__part\"><a class=\"home-link media-infinity-footer__link\" href=\"https://direct.yandex.ru/?from=maintest_ru_razmestitrekl\" rel=\"noopener\" target=\"_blank\">Директ</a><a class=\"home-link media-infinity-footer__link\" href=\"https://metrika.yandex.ru/?utm_source=yandexru.v14w&amp;utm_medium=web&amp;utm_campaign=static\" rel=\"noopener\" target=\"_blank\">Метрика</a><a class=\"home-link media-infinity-footer__link\" href=\"https://yandex.ru/adv/?from=main_bottom\" rel=\"noopener\" target=\"_blank\">Реклама</a></div><div class=\"media-infinity-footer__part\"><a class=\"home-link media-infinity-footer__link\" href=\"https://yandex.ru/jobs\" rel=\"noopener\" target=\"_blank\">Вакансии</a><a class=\"home-link media-infinity-footer__link\" href=\"https://yandex.ru/blog/company/\" rel=\"noopener\" target=\"_blank\">Блог</a><a class=\"home-link media-infinity-footer__link\" href=\"https://yandex.ru/company/\" rel=\"noopener\" target=\"_blank\">Компания</a><a class=\"home-link media-infinity-footer__link\" href=\"https://yandex.com/company/\" rel=\"noopener\" target=\"_blank\">About</a><a class=\"home-link media-infinity-footer__link\" href=\"https://yandex.ru/legal/confidential/\" rel=\"noopener\" target=\"_blank\">Конфиденциальность</a><a class=\"home-link media-infinity-footer__link\" href=\"https://yandex.ru/legal/rules/\" rel=\"noopener\" target=\"_blank\">Пользовательское соглашение</a></div><div class=\"media-infinity-footer__part media-infinity-footer__part_icons\"><a class=\"home-link media-infinity-footer__link media-infinity-footer__link_adaptive media-infinity-footer__icon\" href=\"https://yandex.ru/support/\" rel=\"noopener\" target=\"_blank\" title=\"Помощь\"><svg aria-hidden=\"true\" height=\"19\" viewbox=\"0 0 19 19\" width=\"19\"><path class=\"media-infinity-footer__icon-path\" d=\"M9.5 2a7.5 7.5 0 1 1 0 15 7.5 7.5 0 0 1 0-15m0-1a8.5 8.5 0 1 0 0 17 8.5 8.5 0 0 0 0-17z M9 11.7v-.3c0-.5 0-.9.2-1.2a2.7 2.7 0 0 1 .4-.7l.9-.8c.3-.4.6-.6.7-.9l.2-.6c0-.5-.2-.9-.5-1.2a1.8 1.8 0 0 0-1.3-.5c-.5 0-.9.1-1.2.4-.3.4-.6.8-.7 1.5l-1.1-.2a3 3 0 0 1 1-2 3 3 0 0 1 2-.7c.9 0 1.6.3 2.2.8s.8 1 .8 1.8c0 .4-.1.8-.3 1.1l-1.1 1.2-.7.8c-.2.1-.2.3-.3.5v1H9zM9 14v-1.3h1.2V14H9z\"></path></svg></a><a class=\"home-link media-infinity-footer__link media-infinity-footer__link_adaptive media-infinity-footer__icon\" href=\"https://yandex.ru/support/common/troubleshooting/main.html\" rel=\"noopener\" target=\"_blank\" title=\"Служба поддержки\"><svg aria-hidden=\"true\" height=\"19\" viewbox=\"0 0 19 19\" width=\"19\"><path class=\"media-infinity-footer__icon-path\" d=\"M1 3v12h17V3H1zm15.154 1L9.5 8.88 2.846 4h13.308zM2 14V4.62l7.5 5.5 7.5-5.5V14H2z\"></path></svg></a></div><div class=\"media-infinity-footer__part media-infinity-footer__part_spacer\"></div><div class=\"media-infinity-footer__part media-infinity-footer__part_settings\"><div class=\"head-options2 i-bem\" data-bem='{\"head-options2\":{}}'><div class=\"dropdown2 dropdown2_switcher_elem i-bem\" data-bem='{\"dropdown2\":{}}'><a aria-expanded=\"false\" aria-haspopup=\"true\" class=\"home-link i-bem head-options2__link dropdown2__switcher media-infinity-footer__link media-infinity-footer__settings home-link_black_yes\" href=\"https://yandex.ru/tune/search?retpath=https%3A%2F%2Fyandex.ru%2F&amp;nosync=1\" rel=\"noopener\" role=\"button\" target=\"_blank\">Настройка</a><div class=\"popup2 popup2_view_default popup2_theme_normal popup2_alt-shadow_yes popup2_autoclosable_yes popup2_target_anchor i-bem\" data-bem='{\"popup2\":{\"mainOffset\":12,\"directions\":[\"bottom-center\",\"top-center\"]}}'><div class=\"popup2__tail\"></div><ul class=\"menu menu_theme_normal menu_view_default menu_tone_default menu_size_sx menu_type_navigation i-bem\" data-bem='{\"menu\":{}}'><div class=\"menu__group\" role=\"group\"><li class=\"menu__list-item\"><div aria-label=\"Настроить блоки\" class=\"menu__item menu__item_type_link\" data-bem='{\"menu__item\":{}}' data-type=\"hidden-blocks\" role=\"menuitem\" tabindex=\"0\"><span class=\"menu__text \">Настроить блоки</span></div></li></div><div class=\"menu__group\" role=\"group\"><li class=\"menu__list-item\"><a aria-label=\"Изменить город\" class=\"menu__item menu__item_type_link\" data-bem='{\"menu__item\":{}}' href=\"https://yandex.ru/tune/geo?retpath=https%3A%2F%2Fyandex.ru%2F&amp;nosync=1\" role=\"link\" target=\"_self\"><span class=\"menu__text \">Изменить город</span></a></li><li class=\"menu__list-item\"><a aria-label=\"Настройки портала\" class=\"menu__item menu__item_type_link\" data-bem='{\"menu__item\":{}}' href=\"https://yandex.ru/tune/search?retpath=https%3A%2F%2Fyandex.ru%2F&amp;nosync=1\" role=\"link\" target=\"_self\"><span class=\"menu__text \">Настройки портала</span></a></li></div></ul></div></div></div></div><div class=\"media-infinity-footer__part media-infinity-footer__part_yandex\">© Яндекс</div></div></div></div><script>window.home=window.home||{};window.home['export']=JSON.parse(\"{\\\"bundles\\\":{\\\"data\\\":{\\\"jsSuffix\\\":\\\"\\\",\\\"cssSuffix\\\":\\\"\\\",\\\"host\\\":\\\"//yastatic.net\\\",\\\"root\\\":\\\"//yastatic.net/s3/home-static/2021-04-01-1/white/pages\\\",\\\"page\\\":\\\"bender_zen-ssr\\\",\\\"locale\\\":\\\"ru\\\"},\\\"placed\\\":[\\\"old-zen\\\"]},\\\"common\\\":{\\\"req\\\":{\\\"MordaZone\\\":\\\"ru\\\",\\\"blocks_folded\\\":{\\\"games\\\":0,\\\"geo_collections\\\":0,\\\"media_event_2\\\":0,\\\"stream_now\\\":0,\\\"nhl\\\":0,\\\"tutor\\\":0,\\\"div_news_inserts\\\":0,\\\"district_inserts\\\":0,\\\"traffic\\\":0,\\\"stream_inserts_films\\\":0,\\\"stream_inserts_anim_films\\\":0,\\\"media_event_shows\\\":0,\\\"div_news\\\":0,\\\"div_district_inserts\\\":0,\\\"tv\\\":0,\\\"div_uslugi\\\":0,\\\"div_q\\\":0,\\\"geo\\\":0,\\\"music\\\":0,\\\"div_market_media\\\":0,\\\"afisha\\\":0,\\\"banner_inserts\\\":0,\\\"tv_vods\\\":0,\\\"zen\\\":0,\\\"services\\\":0,\\\"stream_inserts_platform\\\":0,\\\"div_sport2\\\":0,\\\"news_inserts\\\":0,\\\"infinity_zen\\\":0,\\\"div_realty\\\":0,\\\"div_reserved_1\\\":0,\\\"div_smb\\\":0,\\\"media_event_carousel\\\":0,\\\"div_media_platform_desktop\\\":0,\\\"stream_inserts_anim_series\\\":0,\\\"answers\\\":0,\\\"topnews\\\":0,\\\"tv_online\\\":0,\\\"div_discuss\\\":0,\\\"div_magautoru\\\":0,\\\"covid\\\":0,\\\"div_sport\\\":0,\\\"div_talents_web_desktop\\\":0,\\\"weather\\\":0,\\\"div_autoru_inserts\\\":0,\\\"media_event\\\":0,\\\"market_media\\\":0,\\\"broadcast\\\":0,\\\"covid_speed\\\":0,\\\"autoru_inserts\\\":0,\\\"widgets_list\\\":0,\\\"covid_isolation\\\":0,\\\"afisha_inserts\\\":0,\\\"video\\\":0,\\\"kinopoisk\\\":0,\\\"stream_inserts_mixed\\\":0,\\\"div_kinopoisk_ny\\\":0,\\\"div_games\\\":0,\\\"stream_inserts_series\\\":0,\\\"chats_inserts\\\":0,\\\"div_may9_desktop\\\":0},\\\"media_footer\\\":{\\\"new_tab_links\\\":true}},\\\"is_redesign\\\":false,\\\"click-href\\\":\\\"https://yandex.ru/clck/\\\"},\\\"statlog\\\":{\\\"config\\\":{\\\"statRoot\\\":\\\"\\\",\\\"showId\\\":\\\"1617448391.28097.94944.158656\\\",\\\"enabled\\\":false,\\\"redirHost\\\":\\\"https://yandex.ru/clck/\\\",\\\"clckDemonHost\\\":\\\"https://yandex.ru/clck/\\\",\\\"useBeacon\\\":0}},\\\"timing\\\":{\\\"reqid\\\":\\\"1617448391.28097.94944.158656\\\",\\\"exp\\\":\\\"317956,0,51;339863,0,40;344605,0,21\\\"},\\\"fingerprint\\\":{\\\"data\\\":{\\\"enabled\\\":true,\\\"cookieUrl\\\":\\\"https://yandex.ru/portal/set/any/?sk=y8acc2237b3313341c62ad80a58ca760d\\\\u0026gif=1\\\"}},\\\"i-yandexuid\\\":{\\\"data\\\":{\\\"ls\\\":{\\\"value\\\":\\\"v1.0_1315579971617448391:1617448391\\\",\\\"key\\\":\\\"yandexuid\\\"},\\\"prefix\\\":\\\"v1.0_\\\",\\\"cb_url\\\":\\\"https://yandex.ru/jcb/lsychk/?rz=ru\\\\u0026sk=y8acc2237b3313341c62ad80a58ca760d\\\"}},\\\"i-mda-auth\\\":{\\\"url\\\":\\\"https://yandex.ru/portal/set/any/?sk=y8acc2237b3313341c62ad80a58ca760d\\\\u0026mda=0\\\\u0026empty=1\\\"},\\\"consistency\\\":{\\\"data\\\":{\\\"type\\\":\\\"none\\\",\\\"content\\\":\\\"bender\\\",\\\"timeout\\\":10356.814990089319,\\\"custom\\\":{},\\\"url\\\":\\\"https://yandex.ru/portal/set/any/?sk=y8acc2237b3313341c62ad80a58ca760d\\\\u0026empty=1\\\",\\\"csc\\\":\\\"\\\"}},\\\"ga-counter\\\":{\\\"morda\\\":{\\\"id\\\":1014923426,\\\"iframeSrc\\\":\\\"https://yastatic.net/s3/home/ga-counter/9/index.html\\\",\\\"iframeSrcEx\\\":\\\"https://yastatic.net/q/set/s/rsya-tag-users/\\\",\\\"timeout\\\":6000,\\\"showTimeout\\\":604800000,\\\"labels\\\":null,\\\"customLabels\\\":{\\\"cancel\\\":[\\\"2IYkCOWyrmMQooH64wM\\\"],\\\"cancelPopup\\\":[\\\"CcmbCO_Ct2MQooH64wM\\\"]},\\\"remarketingOnly\\\":true,\\\"csc\\\":\\\"\\\",\\\"refg\\\":0,\\\"swb\\\":0},\\\"ether\\\":{\\\"id\\\":796521919,\\\"customLabels\\\":{\\\"ether\\\":[\\\"i6KYCPiJ-4UBEL_r5_sC\\\"]},\\\"remarketingOnly\\\":false,\\\"timeout\\\":30000,\\\"iframeSrc\\\":\\\"https://yastatic.net/s3/home/ga-counter/9/index.html\\\"}},\\\"szm\\\":{\\\"data\\\":{\\\"url\\\":\\\"https://yandex.ru/portal/set/any/?sk=y8acc2237b3313341c62ad80a58ca760d\\\\u0026gif=1\\\\u0026szm=\\\",\\\"timeout\\\":2000,\\\"szm\\\":{},\\\"swap\\\":\\\"\\\"}},\\\"yandcache\\\":{\\\"data\\\":{\\\"url\\\":\\\"//yandex.ru/search/yandcache.js\\\",\\\"timeout\\\":5500}},\\\"i-bannerid\\\":{\\\"csl\\\":\\\"https://yandex.ru/portal/set/any/?sk=y8acc2237b3313341c62ad80a58ca760d\\\\u0026empty=1\\\\u0026bnrd=%s\\\"},\\\"geo\\\":{\\\"sk\\\":\\\"y8acc2237b3313341c62ad80a58ca760d\\\",\\\"gpsaveUrl\\\":\\\"https://yandex.ru/gpsave?sk=y8acc2237b3313341c62ad80a58ca760d\\\\u0026no_mda=1\\\",\\\"laas\\\":1,\\\"latlong\\\":[38.899513,-77.036527]},\\\"tech-counters\\\":{\\\"enabled\\\":1,\\\"isTouch\\\":0,\\\"isTablet\\\":\\\"\\\"},\\\"i-xiva\\\":{\\\"url\\\":\\\"portal-xiva.yandex.net\\\"},\\\"adb\\\":{\\\"data\\\":{\\\"adb\\\":0,\\\"skin\\\":\\\"\\\",\\\"domain\\\":\\\"yandex.ru\\\",\\\"timeout\\\":1985,\\\"adg\\\":{\\\"str\\\":\\\"\\\\u003cdiv class=\\\\\\\"dist-popup\\\\\\\"\\\\u003e\\\\u003cdiv class=\\\\\\\"ad-card\\\\\\\"\\\\u003e\\\\u003c/div\\\\u003e\\\\u003c/div\\\\u003e\\\",\\\"check\\\":\\\".dist-popup .ad-card\\\"},\\\"desktopKubr\\\":true,\\\"touchKubr\\\":false,\\\"cookie\\\":\\\"pClnKCSBXcHUp\\\"}},\\\"strm-check\\\":{\\\"data\\\":{\\\"size\\\":\\\"51200\\\",\\\"count\\\":\\\"5\\\",\\\"timeout\\\":\\\"30\\\"}},\\\"media-grid\\\":{\\\"blocks_fold_url\\\":\\\"https://yandex.ru/portal/blocks/fold?sk=y8acc2237b3313341c62ad80a58ca760d\\\\u0026blocks=\\\",\\\"blocks_unfold_url\\\":\\\"https://yandex.ru/portal/blocks/unfold?sk=y8acc2237b3313341c62ad80a58ca760d\\\\u0026blocks=\\\",\\\"blocks_settings\\\":{\\\"div_news_inserts\\\":{\\\"service\\\":{\\\"icon_id\\\":\\\"news\\\"}},\\\"infinity_zen\\\":{\\\"service\\\":{\\\"icon_id\\\":\\\"zen1\\\"}},\\\"div_q\\\":{\\\"service\\\":{\\\"icon_id\\\":\\\"q0\\\"}},\\\"games\\\":{\\\"service\\\":{\\\"icon_id\\\":\\\"games0\\\"}}},\\\"blocks\\\":{\\\"infinity_zen\\\":{\\\"layout\\\":{\\\"icon\\\":\\\"zen1\\\",\\\"block\\\":\\\"zen\\\",\\\"id\\\":\\\"infinity_zen\\\"}},\\\"widgets_list\\\":{\\\"layout\\\":{\\\"block\\\":\\\"widgets\\\",\\\"id\\\":\\\"widgets_list\\\"}},\\\"div_news_inserts\\\":{\\\"layout\\\":{\\\"id\\\":\\\"div_news_inserts\\\",\\\"icon\\\":\\\"news\\\"}},\\\"games\\\":{\\\"layout\\\":{\\\"footer\\\":\\\"Все игры\\\",\\\"icon\\\":\\\"games0\\\",\\\"block\\\":\\\"games\\\",\\\"id\\\":\\\"games\\\",\\\"title\\\":\\\"Игры\\\"}},\\\"div_q\\\":{\\\"layout\\\":{\\\"id\\\":\\\"div_q\\\",\\\"icon\\\":\\\"q0\\\"}}},\\\"layoutMap\\\":{\\\"games\\\":1},\\\"div2\\\":[\\\"div_market_media\\\",\\\"div_kinopoisk_ny\\\",\\\"div_reserved_1\\\",\\\"div_q\\\",\\\"div_district_inserts\\\",\\\"div_news_inserts\\\",\\\"div_autoru_inserts\\\",\\\"div_magautoru\\\"],\\\"bg\\\":{\\\"div_reserved_1\\\":\\\"1\\\"}},\\\"zen-inserter\\\":{\\\"blocks\\\":[],\\\"zen_insert_multiple_placeholders\\\":false,\\\"zen_united_feed\\\":false,\\\"namesMapper\\\":{\\\"infinity_zen\\\":\\\"infinity_zen\\\",\\\"div_news_inserts\\\":\\\"topnews_div\\\",\\\"games\\\":\\\"zen_games\\\",\\\"widgets_list\\\":\\\"widgets_list\\\",\\\"div_q\\\":\\\"q_div\\\"}},\\\"region\\\":{\\\"tuneUrl\\\":\\\"https://yandex.ru/tune/geo?retpath=https%3A%2F%2Fyandex.ru%2F\\\\u0026nosync=1\\\"},\\\"i-sw-reporter\\\":{\\\"on\\\":1},\\\"hidden-blocks-popup\\\":{\\\"changeUrl\\\":\\\"https://yandex.ru/portal/blocks/change?sk=y8acc2237b3313341c62ad80a58ca760d\\\",\\\"blocks\\\":[{\\\"layoutName\\\":\\\"games\\\",\\\"isHidden\\\":false,\\\"title\\\":\\\"Игры\\\",\\\"desc\\\":\\\"Каталог браузерных игр\\\"},{\\\"layoutName\\\":\\\"zen\\\",\\\"isHidden\\\":false,\\\"title\\\":\\\"Дзен\\\",\\\"desc\\\":\\\"персональная лента публикаций\\\"}]},\\\"messenger\\\":{\\\"data\\\":{\\\"unreadUrl\\\":\\\"https://yandex.ru/messenger/api/unread_count?c=1\\\",\\\"url\\\":\\\"https://yastatic.net/s3/chat/1.29.0/widget_ya.js\\\",\\\"theme\\\":\\\"light\\\",\\\"passportUrl\\\":\\\"https://passport.yandex.ru/auth\\\",\\\"homePageNoArgs\\\":\\\"https://yandex.ru\\\",\\\"overrideConfig\\\":{\\\"fullscreen\\\":1},\\\"hasNotif\\\":false}},\\\"i-messenger-unread\\\":{\\\"data\\\":{\\\"unreadUrl\\\":\\\"https://yandex.ru/messenger/api/unread_count?c=1\\\"}},\\\"geohelper\\\":{\\\"disabled\\\":false},\\\"i-jquery\\\":{\\\"disableEval\\\":1},\\\"i-scroll-changes\\\":{\\\"data\\\":{\\\"scroll_slowdown_listener\\\":false,\\\"scroll_slowdown_scroll_event\\\":false,\\\"scroll_slowdown_dom_calc\\\":false,\\\"scroll_speedup_wheel\\\":false,\\\"scroll_speedup_hover\\\":false}},\\\"yabs\\\":{\\\"pixelBase\\\":\\\"https://yabs.yandex.ru/count/WEmejI_zO3C05GS010i1xn-CWXqpDmK0Cm4GWX0nnqreO000000useqKy0A-meRx0_050Q06hW791iTXu943uK4IgGS9YxXaiwSN5weB4DDHM2q9Ym00kdZEZ0-_y0i5u0s2W810c0x7mu6FkQ3ueFWG3AWHm8Gzy1BO5S6AzkoZZxpyO_395l0_WHUe5mcP6D0O0VWOW1cm6RWP__y1qXaIUM5YSrzpPN9sPN8lSZKnD2qpw1c0mWFm6O320my0TsHSCGM3Whig6YRHBOIm4GExREbbFY3pyG0aQnYAMbsCKKOY5mRQES15H0Uz1m00~1\\\"},\\\"banner\\\":{\\\"logsEnable\\\":\\\"\\\",\\\"logs\\\":[{\\\"params\\\":{\\\"баннер\\\":\\\"metaRtb - direct - backfill\\\",\\\"id\\\":\\\"72057604602232105\\\"},\\\"time\\\":0,\\\"action\\\":\\\"отрисовка баннера на сервере\\\"}]},\\\"inline-stocks\\\":{\\\"xivas\\\":[{\\\"ch\\\":\\\"XDATA.stocks_2002_10000\\\",\\\"ts\\\":1617396598},{\\\"ch\\\":\\\"XDATA.stocks_2000_10000\\\",\\\"ts\\\":1617396594},{\\\"ch\\\":\\\"XDATA.stocks_1006_10000\\\",\\\"ts\\\":1617396240}],\\\"alts\\\":{\\\"1006\\\":\\\"цена на %d\\\",\\\"2000\\\":\\\"курс MOEX на %d\\\",\\\"2002\\\":\\\"курс MOEX на %d\\\"}},\\\"rtb\\\":{\\\"counters\\\":{\\\"mrcImpressions\\\":[\\\"https://an.yandex.ru/count/WIaejI_zO7C0_GW0r0vYdBiekrftYGK0Sm4GWX0nnqreO000000uXALIi07ImP-g28W20V02kuxCZm7m1G6W1gu1oGR7OU2H0-514ga7grwCrhEd5nVG1mBG28A0W802y0dW5lW9w0A02WY82e01W0loaIL7B4bDgru004cypemFl_0B1O0Cqi6VgWZW3OA0W46v3gXXmQWFgxsXpxtswOiN-10Cg170X3tm4jWLmOhsxAEFlFnZyCaMy3-15_0_g1S9cHZG607u680Pi1d7mu6FkQ3ue1Au6V__0T8P4dbXOdDVSsLoTcLoBt8rCJGjC-WPWC83y1c0mWCG07V87nJSLT4wYO51sZ2movQUvWDo7mz0jeQXgjLbY92DjnH6Y1XkKpj7JViCq0m0~1=WUaejI_zO641_Gu0X1c48vjMOG9034W2O8mOQ0Hmffh_ug43W06KYlG2Y07fzBiAa07IzFFQpe20W0AO0TBqyzfEi07ImP-g2BW1ZC_zs27O0VYK-9W1u06SY_YO0UW1l0Ju0OYDthu1e0BacjGOi0Eu7FW4s0U81TW7a0MW6Q05oGAe1Sa2i0N90hW5k0Z01Q0Po0Mu2D05-W7W1KsO1kBDsuq9g0Qk0RW7a3AG3V470032a846u0YoZQeCW0e8oTaBgrwCrhEd5nVe2w0PW0pImP-g28WCofVUlW7e39i6c0t0X3q_e0x0X3sv3gXXmO0GlCZa78WGpvUpWmQGn23G4EMBhr-O4mBW4xW8W1GWe1Iu2AWKe1dxXfU31kWKZ0BG5Vk6buC6s1N1YlRieu-y_6EW5j3ec8C6g1Re1yaMq1RAbzw-0O4Nc1VJWweim1Us0jWNm8Gzw1S1cHYW60sm6Epxe8C6k1W1-1ZxXTsZWzMPa1U06OaPQ3O50000002G6G6W6QW1k1d___y1w1c0mWFm6O320u4Q___V5s-VYLsu6W4M0A792AAXO3_9fI4I92OqEp_JO0sn5MpsP1j2Vi2hCC0822twvfm3zzP_i7ohN05h-mc177yHWsJi8GHjdcF0Q2gLwJC0~1\\\",\\\"https://an.yandex.ru/tracking/WE4ejI_z8Ft51W3q2m000028UD0d1G3z0377JMXW000003Y4fLA00PIAz0A80UdqkmgG0TBqyzhEW8200fW1qlJpsawm0TB1dwe8k06Cp_tO8TW1-9Juc07W1KsW1gu1g0Qk0Sa6ns7WaGFXGHAf1wjUZDQpfnSNq0S4W820W0Bm2U0M-0de0e0A280Byf4bHon9JQjU0019lCwC3xy50F0B1U0DWe20GSWGaCGWW1GWs1JxXfU31jWLmOhsxAEFlFnZWHVG607u680P1m0k1UyiEY3wgio1_kNjRWWETajCG3C0~1?action-id=14\\\"],\\\"winNotice\\\":[\\\"https://an.yandex.ru/tracking/WE4ejI_z8Ft51W3q2m000028UD0d1G3z0377JMXW000003Y4fLA00PIAz0A80UdqkmgG0TBqyzhEW8200fW1qlJpsawm0TB1dwe8k06Cp_tO8TW1-9Juc07W1KsW1gu1g0Qk0Sa6ns7WaGFXGHAf1wjUZDQpfnSNq0S4W820W0Bm2U0M-0de0e0A280Byf4bHon9JQjU0019lCwC3xy50F0B1U0DWe20GSWGaCGWW1GWs1JxXfU31jWLmOhsxAEFlFnZWHVG607u680P1m0k1UyiEY3wgio1_kNjRWWETajCG3C0~1?action-id=11\\\"],\\\"shows\\\":[\\\"https://an.yandex.ru/tracking/WE4ejI_z8Ft51W3q2m000028UD0d1G3z0377JMXW000003Y4fLA00PIAz0A80UdqkmgG0TBqyzhEW8200fW1qlJpsawm0TB1dwe8k06Cp_tO8TW1-9Juc07W1KsW1gu1g0Qk0Sa6ns7WaGFXGHAf1wjUZDQpfnSNq0S4W820W0Bm2U0M-0de0e0A280Byf4bHon9JQjU0019lCwC3xy50F0B1U0DWe20GSWGaCGWW1GWs1JxXfU31jWLmOhsxAEFlFnZWHVG607u680P1m0k1UyiEY3wgio1_kNjRWWETajCG3C0~1?action-id=16\\\",\\\"https://an.yandex.ru/rtbcount/1S4Ae7H20NC100000000U9nJF9xuO2BpGqSXmzLnBsvkNYukRddSDoE10GWyOIAX6hld9CKwUN8nf382nJDNn_LS0ucNWdYruK2YbH54JcLau61WcCbue0eamS2ma7558fZ1i1BEsileuCJFS1JClye8KdUNaK66WU4lO-Q7nKvpcPY08akPDh0oCAnbsW9adsNw3mIlc0IE_qbeM1t7mC0yzLmF_tvMXhzC82DQcO4g6NgPGGPDPGRQpZ0Np5x9pCIWm07YdsG-dfgP_EkAaELLiCnTCFcKsOQrd_CdCyWnOAUoJB8e1BCsi33kO64wmC9uamNYuW_s3-6ijomWInUmSfvapJ1Z1GjUO5NuoWfouozMJaCp0sCpSqjZemQsFLrxV2Qm7J_SsBzpmOy5GWlOTczw-ARhnQS_wna19Jji1000\\\"]},\\\"settings\\\":{\\\"type\\\":\\\"image\\\",\\\"isMedia\\\":1,\\\"mordaType\\\":\\\"desktop\\\"}},\\\"services-new\\\":{\\\"data\\\":{\\\"fullList\\\":[{\\\"text\\\":\\\"Авиабилеты\\\",\\\"service\\\":\\\"avia\\\",\\\"url\\\":\\\"https://travel.yandex.ru/avia/?utm_source=main_stripe_big\\\",\\\"icon\\\":\\\"avia1\\\"},{\\\"text\\\":\\\"Авто.ру\\\",\\\"service\\\":\\\"autoru\\\",\\\"url\\\":\\\"https://auto.ru/?utm_source=main_stripe_big\\\",\\\"icon\\\":\\\"autoru\\\"},{\\\"text\\\":\\\"Афиша\\\",\\\"service\\\":\\\"afisha\\\",\\\"url\\\":\\\"https://afisha.yandex.ru/?utm_source=main_stripe_big\\\",\\\"icon\\\":\\\"afisha\\\"},{\\\"text\\\":\\\"Видео\\\",\\\"service\\\":\\\"video\\\",\\\"url\\\":\\\"https://yandex.ru/video/?utm_source=main_stripe_big\\\",\\\"icon\\\":\\\"video\\\",\\\"search\\\":\\\"//yandex.ru/video/search?text=%25s\\\"},{\\\"text\\\":\\\"Дзен\\\",\\\"service\\\":\\\"zen\\\",\\\"url\\\":\\\"https://zen.yandex.ru/?utm_source=main_stripe_big\\\",\\\"icon\\\":\\\"zen\\\"},{\\\"text\\\":\\\"Директ\\\",\\\"service\\\":\\\"direct\\\",\\\"url\\\":\\\"https://direct.yandex.ru/?utm_source=main_stripe_big\\\",\\\"icon\\\":\\\"direct\\\"},{\\\"text\\\":\\\"Диск\\\",\\\"service\\\":\\\"disk\\\",\\\"url\\\":\\\"https://disk.yandex.ru/?utm_source=main_stripe_big\\\",\\\"icon\\\":\\\"disk\\\"},{\\\"text\\\":\\\"Едадил\\\",\\\"service\\\":\\\"edadeal\\\",\\\"url\\\":\\\"https://edadeal.ru/?utm_source=main_stripe_big\\\",\\\"icon\\\":\\\"edadeal\\\"},{\\\"text\\\":\\\"Здоровье\\\",\\\"service\\\":\\\"health\\\",\\\"url\\\":\\\"https://health.yandex.ru/?utm_source=main_stripe_big\\\",\\\"icon\\\":\\\"zdorovie\\\"},{\\\"text\\\":\\\"Игры\\\",\\\"service\\\":\\\"games\\\",\\\"url\\\":\\\"https://yandex.ru/games/?utm_source=main_stripe_big\\\",\\\"icon\\\":\\\"games\\\"},{\\\"text\\\":\\\"Картинки\\\",\\\"service\\\":\\\"images\\\",\\\"url\\\":\\\"https://yandex.ru/images/?utm_source=main_stripe_big\\\",\\\"icon\\\":\\\"kartinki\\\",\\\"search\\\":\\\"//yandex.ru/images/search?text=%25s\\\"},{\\\"text\\\":\\\"Карты\\\",\\\"service\\\":\\\"maps\\\",\\\"url\\\":\\\"https://yandex.ru/maps/?utm_source=main_stripe_big\\\",\\\"icon\\\":\\\"maps\\\",\\\"search\\\":\\\"https://yandex.ru/maps/?source=morda\\\\u0026text=%25s\\\"},{\\\"text\\\":\\\"КиноПоиск\\\",\\\"service\\\":\\\"kinopoisk_old\\\",\\\"url\\\":\\\"https://www.kinopoisk.ru/?utm_source=main_stripe_big\\\",\\\"icon\\\":\\\"kinopoisk\\\"},{\\\"text\\\":\\\"Кью\\\",\\\"service\\\":\\\"q\\\",\\\"url\\\":\\\"https://yandex.ru/q/?utm_source=main_stripe_big\\\",\\\"icon\\\":\\\"q\\\"},{\\\"text\\\":\\\"Маркет\\\",\\\"service\\\":\\\"market\\\",\\\"url\\\":\\\"https://market.yandex.ru/?clid=505\\\\u0026utm_source=main_stripe_big\\\",\\\"icon\\\":\\\"market_4\\\",\\\"search\\\":\\\"https://market.yandex.ru/search.xml?cvredirect=2\\\\u0026clid=527\\\\u0026text=%25s\\\"},{\\\"text\\\":\\\"Маркет B2B\\\",\\\"service\\\":\\\"market_biz\\\",\\\"url\\\":\\\"https://partner.market.yandex.ru/welcome/partners/?utm_source=main_stripe_big\\\",\\\"icon\\\":\\\"market_biz1\\\"},{\\\"text\\\":\\\"Метрика\\\",\\\"service\\\":\\\"metrika\\\",\\\"url\\\":\\\"https://metrika.yandex.ru/?utm_source=main_stripe_big\\\",\\\"icon\\\":\\\"metrika\\\"},{\\\"text\\\":\\\"Музыка\\\",\\\"service\\\":\\\"music\\\",\\\"url\\\":\\\"https://music.yandex.ru/?utm_source=main_stripe_big\\\",\\\"icon\\\":\\\"music1\\\",\\\"search\\\":\\\"https://music.yandex.ru/search?text=%25s\\\"},{\\\"text\\\":\\\"Недвижимость\\\",\\\"service\\\":\\\"realty\\\",\\\"url\\\":\\\"https://realty.yandex.ru/?utm_source=main_stripe_big\\\",\\\"icon\\\":\\\"nedvizhimost\\\"},{\\\"text\\\":\\\"Новости\\\",\\\"service\\\":\\\"news\\\",\\\"url\\\":\\\"https://yandex.ru/news/?utm_source=main_stripe_big\\\",\\\"icon\\\":\\\"news\\\",\\\"search\\\":\\\"https://news.yandex.ru/yandsearch?rpt=nnews2\\\\u0026grhow=clutop\\\\u0026text=%25s\\\"},{\\\"text\\\":\\\"Объявления\\\",\\\"service\\\":\\\"classifieds\\\",\\\"url\\\":\\\"https://o.yandex.ru/?utm_source=main_stripe_big\\\",\\\"icon\\\":\\\"adv\\\"},{\\\"text\\\":\\\"Отели\\\",\\\"service\\\":\\\"hotels\\\",\\\"url\\\":\\\"https://travel.yandex.ru/hotels/?utm_source=main_stripe_big\\\",\\\"icon\\\":\\\"hotels\\\"},{\\\"text\\\":\\\"Переводчик\\\",\\\"service\\\":\\\"translate\\\",\\\"url\\\":\\\"https://translate.yandex.ru/?utm_source=main_stripe_big\\\",\\\"icon\\\":\\\"translate\\\",\\\"search\\\":\\\"https://translate.yandex.ru/?text=%25s\\\"},{\\\"text\\\":\\\"Почта\\\",\\\"service\\\":\\\"mail\\\",\\\"url\\\":\\\"https://mail.yandex.ru/?utm_source=main_stripe_big\\\",\\\"icon\\\":\\\"mail\\\"},{\\\"text\\\":\\\"Практикум\\\",\\\"service\\\":\\\"praktikum\\\",\\\"url\\\":\\\"https://praktikum.yandex.ru/?utm_source=main_stripe_big\\\",\\\"icon\\\":\\\"praktikum1\\\"},{\\\"text\\\":\\\"Программа\\\",\\\"service\\\":\\\"tv\\\",\\\"url\\\":\\\"https://tv.yandex.ru/?utm_source=main_stripe_big\\\",\\\"icon\\\":\\\"tv\\\"},{\\\"text\\\":\\\"Путешествия\\\",\\\"service\\\":\\\"travel\\\",\\\"url\\\":\\\"https://travel.yandex.ru/?utm_source=main_stripe_big\\\",\\\"icon\\\":\\\"travel\\\"},{\\\"text\\\":\\\"Работа\\\",\\\"service\\\":\\\"rabota\\\",\\\"url\\\":\\\"https://rabota.yandex.ru/?utm_source=main_stripe_big\\\",\\\"icon\\\":\\\"rabota\\\",\\\"search\\\":\\\"https://rabota.yandex.ru/search.xml/?text=%25s\\\"},{\\\"text\\\":\\\"Радио\\\",\\\"service\\\":\\\"radio\\\",\\\"url\\\":\\\"https://radio.yandex.ru/?utm_source=main_stripe_big\\\",\\\"icon\\\":\\\"radio\\\"},{\\\"text\\\":\\\"Расписания\\\",\\\"service\\\":\\\"rasp\\\",\\\"url\\\":\\\"https://rasp.yandex.ru/?utm_source=main_stripe_big\\\",\\\"icon\\\":\\\"rasp\\\"},{\\\"text\\\":\\\"Репетитор\\\",\\\"service\\\":\\\"tutor\\\",\\\"url\\\":\\\"https://yandex.ru/tutor/?utm_source=main_stripe_big\\\",\\\"icon\\\":\\\"repetitor\\\"},{\\\"text\\\":\\\"Спорт\\\",\\\"service\\\":\\\"sport\\\",\\\"url\\\":\\\"https://yandex.ru/sport/?utm_source=main_stripe_big\\\",\\\"icon\\\":\\\"sport\\\"},{\\\"text\\\":\\\"Таланты\\\",\\\"service\\\":\\\"talents\\\",\\\"url\\\":\\\"https://talents.yandex.ru/?utm_source=main_stripe_big\\\",\\\"icon\\\":\\\"talants\\\"},{\\\"text\\\":\\\"Толока\\\",\\\"service\\\":\\\"toloka\\\",\\\"url\\\":\\\"https://toloka.yandex.ru/?utm_source=main_stripe_big\\\",\\\"icon\\\":\\\"toloka\\\"},{\\\"text\\\":\\\"Школа\\\",\\\"service\\\":\\\"school\\\",\\\"url\\\":\\\"https://school.yandex.ru/?utm_source=main_stripe_big\\\",\\\"icon\\\":\\\"school\\\"},{\\\"text\\\":\\\"Эфир\\\",\\\"service\\\":\\\"tvonline\\\",\\\"url\\\":\\\"https://yandex.ru/efir?utm_source=yamain\\\\u0026utm_medium=service-bar\\\\u0026utm_campaign=general_ru_desktop_no_all\\\\u0026from_block=main_stripe_big\\\",\\\"icon\\\":\\\"efir\\\"}],\\\"bottomLinks\\\":[{\\\"url\\\":\\\"//mobile.yandex.ru/?from=desktop_morda_more\\\",\\\"text\\\":\\\"Для\\\\u0026nbsp;мобильного\\\"},{\\\"text\\\":\\\"Программы\\\",\\\"url\\\":\\\"https://yandex.ru/soft/?from=prov_all\\\"},{\\\"url\\\":\\\"//yandex.ru/all\\\",\\\"text\\\":\\\"Все\\\\u0026nbsp;сервисы\\\"}]}},\\\"rows\\\":{\\\"first_screen_height\\\":1}}\");home.dataCallbacks&&home.dataCallbacks.forEach(function(callback){callback();});</script><script crossorigin=\"anonymous\" src=\"//yastatic.net/jquery/2.1.4/jquery.min.js\"></script><script crossorigin=\"anonymous\" src=\"//yastatic.net/s3/home-static/_/j/j/rAZprDcoUZRsreFt8yUp6GcJU.js\"></script><script>if(window.Ya&&Ya.Rum){Ya.Rum.sendTimeMark(\"2095.2154\");}home.loadManager.subscribe(\"js\",(function(){!function(e){var t={};function i(n){if(t[n])return t[n].exports;var a=t[n]={i:n,l:!1,exports:{}};return e[n].call(a.exports,a,a.exports,i),a.l=!0,a.exports}i.m=e,i.c=t,i.d=function(e,t,n){i.o(e,t)||Object.defineProperty(e,t,{enumerable:!0,get:n})},i.r=function(e){\"undefined\"!=typeof Symbol&&Symbol.toStringTag&&Object.defineProperty(e,Symbol.toStringTag,{value:\"Module\"}),Object.defineProperty(e,\"__esModule\",{value:!0})},i.t=function(e,t){if(1&t&&(e=i(e)),8&t)return e;if(4&t&&\"object\"==typeof e&&e&&e.__esModule)return e;var n=Object.create(null);if(i.r(n),Object.defineProperty(n,\"default\",{enumerable:!0,value:e}),2&t&&\"string\"!=typeof e)for(var a in e)i.d(n,a,function(t){return e[t]}.bind(null,a));return n},i.n=function(e){var t=e&&e.__esModule?function(){return e[\"default\"]}:function(){return e};return i.d(t,\"a\",t),t},i.o=function(e,t){return Object.prototype.hasOwnProperty.call(e,t)},i.p=\"//yastatic.net/s3/home-static/_/\",i(i.s=\"aaDN\")}({KC5a:function(e,t,i){i.d(t,\"a\",(function(){return a}));var n={media:{zen:{desc_ice:\"Популярное в&nbsp;интернете\",desc:\"Лента рекомендаций\",like:\"Нравится\",dislike:\"Не нравится\",title:\"Дзен\",desc2:\"персональная лента публикаций\"},direct:{title:\"Яндекс.Директ\"},event:{stream_now:\"Сейчас в эфире\"}},loading:{retry:\"Попробовать ещё раз\",general_error:\"Не удалось загрузить данные\"},language_selector:\"ru\",widgets_list:{title:\"Ваши виджеты\",footer:\"Скрыть виджеты\",desc:\"Виджеты сторонних сайтов или сервисов Яндекса\",promo_title:\"Дзен найдет интересные материалы за вас\",promo_text:\"Когда-то вы добавили на страницу виджеты с любимыми источниками — теперь записи на интересные темы вам покажет Дзен, а виджеты стали его частью.\"},services:{title:\"Посещаемое\"},a11y:{close:\"Закрыть\",afisha:\"Афиша\"},widgetcontrol:{setup2:\"Настройки блока\",show:\"Развернуть\"},promo_event:{subscribe_title:\"Подписаться\",subscribe_title2:\"Напомнить\",subscribed:\"Вы подписаны\"},desktopNotifications:{navi:{more:\"Ещё\"}},\"stream-inserts\":{shows:{title:\"Только в Яндекс.Эфире\",desc:\"Эксклюзивные шоу и авторские передачи\"}},kinopoisk:{desc:\"Фильмы для вечернего просмотра\",rating:\"Рейтинг %s\",title_stream_exp:\"КиноПоиск онлайн\"},stream:{\"restriction-age\":\"Возрастной рейтинг\"},games:{games:\"Игры\",description:\"Каталог браузерных игр\",rating:\"Рейтинг %s\"},afisha:{all_films_today:\"все фильмы сегодня\",buy:\"Купить билет\",cards:\"Новогодние открытки\",cinema:\"Кино\",cinemaNoSessions:\"Сегодня в кинотеатре сеансов нет\",cinemaSeeNextDay:\"Расписание на завтра\",cinemaSeeOtherDays:\"Расписание на другие дни\",cityDayText:\"день города в&nbsp;\",cityDayTitle:\"%sдень города в&nbsp;<b>%s</b>\",cityday:\"день города в&nbsp;\",citydayShort:\"день города\",citydayToday:\"Сегодня&#32;\",concerts:\"Концерты\",defaultTab:\"Все\",defaultTabLong:\"Все кинотеатры\",desc:\"Расписание развлечений в вашем городе\",desc_inserts:\"Расписание развлечений в вашем городе\",elki:\"Ёлки\",events:\"События\",favoritePlace:\"Любимое место\",festival:\"Фестивали\",footer:\"Больше мероприятий\",from:\"от %s\",geolocationFail:\"Ваша геопозиция недоступна\",geolocationInaccuracy:\"Геопозиция определена неточно\",multiple_locations:\"Событие идет на нескольких площадках\",myCinemas:\"Мои кинотеатры\",nearestCinemas:\"Ближайшие\",nearestCinemasFull:\"Ближайшие кинотеатры\",newyear:\"Новый год\",noCinemas:\"Кинотеатров рядом не найдено\",popularFilms:\"Популярные<br>фильмы\",premiere:\"премьера\",premiere_in:\"премьера %s\",reload:\"Обновить\",schedule:\"Расписание\",scheduleError:\"Не удалось загрузить данные\",scheduleInProgress:\"Загрузка расписания\",scheduleTryAgain:\"Попробовать еще раз\",searchInProgress:\"Идёт поиск кинотеатров \",show:\"Шоу\",showObjects:\"Показать кинотеатры рядом\",showObjectsShort:\"Кинотеатры рядом\",since_date:\"с %s\",sorry:\"Извините, для вашего региона данных нет\",sport:\"Спорт\",summer:\"Лето в городе\",theatres:\"Театр\",title:\"Афиша\"},months_short_genetive:{apr:\"апр\",aug:\"авг\",dec:\"дек\",feb:\"фев\",jan:\"янв\",jul:\"июл\",jun:\"июн\",mar:\"мар\",may:\"май\",nov:\"ноя\",oct:\"окт\",sep:\"сен\"},chats:{title_channels:\"Популярные каналы в Мессенджере\"},tutor:{description:\"Тесты образца 2020 года на Репетиторе\"},hockey:{hide_score:\"Скрыть счёт\",nhl_title:\"НХЛ. Сезон 2019/2020\",nhl_desc:\"Трансляции матчей Национальной хоккейной лиги\",auth_promo:\"Авторизуйтесь на Яндексе, чтобы не&nbsp;видеть счёт матчей\",live:\"Прямая трансляция\",vod:\"Запись матча\",finishB:\"Б\",finishOT:\"ОТ\",full_standings:\"Показать таблицу целиком\",tournament_table:\"Турнирная таблица\",points:\"очки\",games:\"игры\"},general:{close:\"Закрыть\"},mail:{login:\"Войти\"},tumbler:{on:\"Вкл\",off:\"Откл\"}};function a(e){for(var t=e.split(\".\"),i=n,a=0;a<t.length;++a){if(!i||!i[t[a]])return console.error(\"home.l10n: undefined translation \"+e),\"\";i=i[t[a]]}return i}},aaDN:function(e,t,i){\"use strict\";i.r(t);var n=i(\"KC5a\");function a(e,t){for(var i=0;i<t.length;i++){var n=t[i];n.enumerable=n.enumerable||!1,n.configurable=!0,\"value\"in n&&(n.writable=!0),Object.defineProperty(e,n.key,n)}}function o(e){var t=[];for(var i in e)e.hasOwnProperty(i)&&void 0!==e[i]&&t.push(i+\"=\"+encodeURIComponent(e[i]));return t.length?\"(\"+t.join(\";\")+\")\":\"\"}var s=function(){function e(){!function(e,t){if(!(e instanceof t))throw new TypeError(\"Cannot call a class as a function\")}(this,e)}var t,i;return t=e,(i=[{key:\"getAttr\",value:function(e,t){var i=arguments.length>2&&void 0!==arguments[2]?arguments[2]:{};if(!e)return\"\";i.customParams&&(e+=o(i.customParams)),(e=String(e)).indexOf('\"')>-1&&(e=e.replace(/\"/g,\"&quot;\"));var n=!1!==i.isRedirect;return' data-statlog=\"'+e+'\"'+(n?\"\":' data-statlog-redir=\"0\"')+(i.precise?' data-statlog-precise=\"1\"':\"\")}},{key:\"logShow\",value:function(e,t){return e?(t&&(e+=o(t)),home.stat.logPath(\"show\",e),e):\"\"}},{key:\"getClientCounter\",value:function(e){var t=arguments.length>1&&void 0!==arguments[1]&&arguments[1],i=arguments.length>2?arguments[2]:void 0;return(e=i?(e||\"\")+o(i):e)?' data-statlog=\"'+e+'\"'+(t?' data-statlog-redir=\"0\"':\"\"):\"\"}},{key:\"getAdaptiveCounter\",value:function(e,t){return e?' data-statlog=\"'+e+'\"'+(t?' data-statlog-redir=\"0\"':\"\")+' data-statlog-autoshow=\"1\"':\"\"}}])&&a(t.prototype,i),e}();function r(e,t){for(var i=0;i<t.length;i++){var n=t[i];n.enumerable=n.enumerable||!1,n.configurable=!0,\"value\"in n&&(n.writable=!0),Object.defineProperty(e,n.key,n)}}for(var l=function(){function e(){!function(e,t){if(!(e instanceof t))throw new TypeError(\"Cannot call a class as a function\")}(this,e)}var t,i;return t=e,(i=[{key:\"add\",value:function(e,t,i){home[\"export\"][i]||(home[\"export\"][i]={}),home[\"export\"][i][e]?home.deepExtend(home[\"export\"][i][e],t):home[\"export\"][i][e]=t}},{key:\"has\",value:function(e,t){return Boolean(home.getData&&home.getData(t+\".\"+e))}}])&&r(t.prototype,i),e}(),c={stub:!0},d=function(){var e=u[m];c[e]=function(t){if(home.error&&(!home.getData||!0===home.getData(\"csp.report\"))){var i=new Error(\"req.csp.\"+e+\" was called on clientside\");i.meta={url:t},i.block=\"home.views\",home.error.logError(i)}}},m=0,u=[\"allowDefault\",\"allowStyle\",\"allowPlugin\",\"allowObject\",\"allowMedia\",\"allowImg\",\"allowFont\",\"allowConnect\",\"allowScript\",\"allowChild\",\"allowForm\"];m<u.length;m++)d();var h={l10n:n.a,stat:new s,settingsJs:new l,csp:c,cls:{full:function(e){return e},part:function(e){return e},contains:function(e){return!1}},isClient:1};function _(e,t,i){for(var n in i=i||{},h)i.hasOwnProperty(n)||(i[n]=h[n]);var a=\"object\"==typeof window&&window.home&&home.getData&&home.getData(\"common.req\")||{};for(var o in a)a.hasOwnProperty(o)&&!i.hasOwnProperty(o)&&(i[o]=a[o]);return function s(e,t){var n;return\"function\"==typeof e&&(n=e.isCached?e(i,s):e(t,i,s)),void 0===n&&(n=\"\"),n}(e,t)}var g=i(\"uFzG\"),f=i.n(g),v=i(\"w/5I\"),p=i.n(v);function y(e,t){var i,n=[];for(i in t)t.hasOwnProperty(i)&&(t[i]||0===t[i])&&n.push(e+\"_\"+i+\"_\"+String(t[i]));return n.join(\" \")}function b(e,t){var i=t.mods,n=e,a=i?y(e,i):\"\";return t.mix&&(\"object\"==typeof t.mix?(Array.isArray(t.mix)||(t.mix=[t.mix]),n+=\" \"+t.mix.map((function(t){if(\"string\"==typeof t)return t;var i=t.block||e,n=t.mods;return t.elem&&(i+=\"__\"+t.elem,n=t.elemMods),n&&(i+=\" \"+y(i,n)),i})).join(\" \")):n+=\" \"+t.mix),a&&(n+=\" \"+a),n}function k(e){return\"string\"==typeof e?e:\"number\"==typeof e||\"boolean\"==typeof e?String(e):\"\"}function j(e){return e&&e.media_footer&&e.media_footer.new_tab_links}function x(){return!1}function w(e){return\"<div \"+f()(Object.assign({\"class\":e.mix||\"\"},e.attrs))+\">\"+p.a.oneElem(e.content)+\"</div>\"}function C(e){return\"<span \"+f()(Object.assign({\"class\":\"\".concat(e.mod||\"\",\" \").concat(e.mix||\"\")},e.attrs))+\">\"+p.a.oneElem(e.content)+\"</span>\"}function E(e,t){var i=e.Zen.lib,n=i.params,a=i.params_for_static,o=e.AuthInfo&&e.AuthInfo.login,s={clid:n.clid,lang:n.lang,countryCode:n.country_code,exps:n.client_exps&&n.client_exps.split(\",\")||[],uatraits:e.IsPumpkin?void 0:e.BrowserDesc,isVideoDisabled:Boolean(a.is_video_disabled),initialDisplayedRowsNumber:a.initial_displayed_rows_number,cache:{api:{userId:o||e.Yandexuid}},columnCount:n.column_count,host:a.host&&\"https://\"+a.host+\"/\",useLegacy:Boolean(a.use_legacy),isChunkedBundle:Boolean(a.is_chunked_bundle),teethType:a.teeth_type,isTeethEnabled:Boolean(a.is_teeth_enabled),isAdblock:Boolean(a.is_adblock),theme:a.theme,rowPlaceholders:Boolean(n.row_placeholders),partnerRid:e.Requestid,staticHost:a.static_host,libType:a.lib_type,cspNonce:a.csp_nonce,staticHostname:a.static_hostname,isHtmlChunk:t(O),disabledYandexBlockIds:i.features.disabled_yandex_block_ids&&i.features.disabled_yandex_block_ids||[],tld:n.tld,debugParams:e.Zen.lib.debug_params},r=e.options||{};s.fallbackVersion=r.zen_fallback_version;var l=e.Zen.cache_key;l&&(s.cache.precacheKey=l,s.cache.precacheRid=e.Zen.cache_rid),r.zen_cache_disabled&&(s.cache=null);var c=home.flags.get(e,\"pcodever\",r.pcodever);home.flags.checkBool(e,\"zen_context_new\")&&c&&(s.pcodever=c);var d=home.flags.get(e,\"retry_budget\");!r.zen_disable_retry&&d&&(s.retryBudget=Number(d));var m=home.flags.get(e,\"critical_bundle_timeout\");m&&(s.criticalBundleTimeout=Number(m));var u=home.flags.checkBool(e,\"zen_insert_multiple_placeholders\")?2100:100;e.settingsJs.add(\"MAX_ROW_TO_LOG\",u,\"infinity-zen\");var h=t(O)||t(B);return{zenClientHost:e.Zen.zen_client_host,zenLoaderHost:e.Zen.zen_loader_host,libParams:s,statRoot:\"infinity_zen\",pageId:h?\"ru.morda.chunked_zen\":\"28.15.1604\",timestamp:e.Timestamp,customCounterTypeDisabled:r.custom_counter_type_disabled,MAX_ROW_TO_LOG:u,tld:e.MordaZone,timeout:Number(home.flags.get(e,\"zen_timeout\")),isZenChuckedAnswer:t(O)}}function S(e){return home.hasBlock(e.Zen)&&e.Zen.is_lib}function z(e,t){var i=e.blocks_folded&&e.blocks_folded.infinity_zen;return t(S)&&!i&&Boolean(e.Zen.lib.params_for_static.is_adblock)}function O(e,t){return t(S)&&t(\"zen-inserter__has-zen\")&&home.flags.checkBool(e,\"zen_chunked_answer\")}function B(e,t){return t(S)&&home.flags.checkBool(e,\"zen_chunked_answer_etalon\")}function M(e,t,i){var n=\"a\",a=e.attrs||{},o=e.mods||{},s=e.mix||\"\",r=\"\";return a[\"class\"]=home.getBEMClassname(\"home-link\",{mix:s,mods:o}),e.href?a.href=e.href:n=e.tag||\"span\",e.title&&(a.title=e.title),e.role&&(a.role=e.role),e.tabindex&&(a.tabindex=e.tabindex),e.target&&(a.target=e.target),!a.target&&a.href&&i(j,t)&&(a.target=\"_blank\"),\"_blank\"===a.target&&void 0===a.rel&&(a.rel=\"noopener\"),r=\"<\"+n,r+=home.getAttributes(a),e.stat&&(r+=e.stat),e.js&&(r+=' data-bem=\"'+home.getBEMParams(e.js)+'\"'),r+=\">\",e.inlineIcon&&(r+=e.inlineIcon),e.content&&(r+=e.content),r+\"</\"+n+\">\"}function D(e){return p.a.oneElem(e.beforeWrap)+p.a.oneElem(\"<div \"+f()({\"class\":\"arrowed-list__content scroller \".concat(k(e.wrapMix))})+\">\"+p.a.oneElem(\"<div \"+f()(Object.assign({\"class\":\"arrowed-list__list \".concat(k(e.listMix)),role:\"list\"},e.attrs))+\">\"+p.a.oneElem(e.content)+\"</div>\")+\"</div>\")+\"<div class='arrowed-list__shadow arrowed-list__shadow_left'></div><div class='arrowed-list__shadow arrowed-list__shadow_right'></div>\"+p.a.oneElem(\"<div \"+f()({\"class\":\"arrowed-list__left arrowed-list__control\",_temp:e.prevStat})+\"></div>\")+p.a.oneElem(\"<div \"+f()({\"class\":\"arrowed-list__right arrowed-list__control\",_temp1:e.nextStat})+\"></div>\")}function T(e){var t=e.Widgets&&e.Widgets.Column10;return Array.isArray(t)&&t.some((function(e){return!e.hidewidget}))}function N(e){return e.Promo&&e.Promo.widgets_list}function A(e){return home.hasBlock(e.MediaEvent)}function P(e){return home.hasBlock(e.MediaEventCarousel)}function I(e,t,i){var n=e.attrs||{},a=e.mods||{},o=e.mix||\"\";return n.role=\"tab\",i(M,{mix:o+=\" \"+home.getBEMClassname(\"mix-tabber__tab\",{mods:a}),attrs:e.attrs,href:e.href,stat:e.stat,content:e.content})}function L(e){return\"<div \"+f()(Object.assign({\"class\":\"\".concat(e.block||\"\",\"__panel\").concat(e.mix||\"\"),role:\"tabpanel\",id:\"\".concat(e.id||\"\",\"_panel_\").concat(e.key||\"\"),\"data-key\":0===e.key||e.key?e.key:\"\"},e.attrs))+\">\"+p.a.oneElem(e.content)+\"</div>\"}function F(e){return home.hasBlock(e.Kinopoisk)}function U(e){return home.hasBlock(e.Games)}function q(e){return home.hasBlock(e.AutoruInserts)}function Z(e){return home.hasBlock(e.AfishaInserts)}function R(e){return home.hasBlock(e.RtbInserts)}function G(e){var t=e.Tutor;return home.hasBlock(t)&&Array.isArray(t.tabs)}function V(e){return home.hasBlock(e.BannerInserts)}function H(e){return home.hasBlock(e.hockey)}function K(e,t){return Boolean(t.DivBlocks&&t.DivBlocks.blocks&&t.DivBlocks.blocks[e.layoutName]&&\"div2\"!==t.DivBlocks.blocks[e.layoutName].type)}function W(e,t,i){var n=e.json;if(Array.isArray(n.items)&&n.items.length){var a=e.style||{},o=n.id||\"divjson2-tabs-\"+home.rnd().substr(0,5),s=i(J,n),r=i(Y,{id:o,json:n}),l=i(ne)&&e.stack.some((function(e){return e===Pe}));return i(Oe,home.divjsonUtils.json2MergeData(e,{id:o,js:l?null:{\"divjson2-tabs\":{uniqId:o,baseData:{layoutName:e.layoutName,stack:e.stack,context:{}},data:Object.keys(n.items).reduce((function(e,t,i){return i!==s&&(e[t]=n.items[t].div),e}),{}),swipe:i(ee,{json:n})}},json:n,style:a,mix:home.getBEMClassname(\"divjson2-tabs\",{mods:{},mix:i(Q,e)}),content:r+i(te,{json:n,tabs:l?\"\":i(w,{mix:\"divjson2-tabs__tabs\",content:i(X,{json:n,id:o,layoutName:e.layoutName})}),panels:i(L,{block:\"divjson2-tabs\",id:o,key:String(s),attrs:{\"aria-labelledby\":o+\"_tab_\"+String(s)},content:i(Ce,home.divjsonUtils.json2MergeData(e,{json:n.items[s].div},!0))})})},!0))}i(Me,{block:\"divjson2-block\",message:\"Missing divjson2-tabs items\",level:\"warn\",source:e.layoutName})}function X(e,t,i){var n=e.json,a=e.id,o=i(J,n),s=i(ie);return n.items.map((function(t,n){var r,l=n===o;s&&(r=t.title_click_action);var c=r&&r.log_id?r.log_id.replace(/\\//g,\".\"):n;return i(I,{href:r?r.url:void 0,mods:{selected:l?\"yes\":\"no\"},mix:home.getBEMClassname(\"divjson2-tabs__tab\",{mods:{selected:l?\"yes\":\"no\"}}),content:home.htmlFilter(t.title),attrs:{tabindex:l?\"0\":\"-1\",\"aria-selected\":l?\"true\":\"false\",\"aria-controls\":l?a+\"_panel_\"+n:void 0,\"data-key\":n,\"data-stat-link\":r?e.layoutName+\".tab.link.\"+c:void 0,\"data-stat-select\":e.layoutName+\".tab.select.\"+c,id:a+\"_tab_\"+n}})})).join(\"\")}function J(e){var t=Number(e.selected_tab)||0;return t>=e.items.length&&(t=e.items.length-1),t<0&&(t=0),t}function Y(){return\"\"}function Q(){return\"\"}function ee(){return 0}function te(e){return p.a.oneElem(e.tabs)+p.a.oneElem(\"<div class='divjson2-tabs__panels'>\"+p.a.oneElem(e.panels)+\"</div>\")}function ie(){return!1}function ne(){return!0}function ae(e,t,i){if(1===e.length&&\"solid\"===e[0].type)return i(oe,{color:e[0].color,isUniqueBg:!0});var n=e.map((function(e){var t;return\"solid\"===e.type?t=oe:\"gradient\"===e.type?t=se:\"image\"===e.type&&(t=re),i(t,e)})).reverse().reduce((function(e,t){return e.image.push(t.image),e.size.push(t.size||\"auto\"),e.pos.push(t.pos||\"50% 50%\"),e}),{image:[],size:[],pos:[]});return{image:n.image.join(\",\"),size:n.size.join(\",\"),pos:n.pos.join(\",\")}}function oe(e){var t=home.divjsonUtils.convertColor(e.color||\"transparent\");return e.isUniqueBg?{color:t,size:\"auto\",pos:\"50% 50%\"}:{image:\"linear-gradient(to bottom,\"+t+\",\"+t+\")\"}}function se(e){return{image:\"linear-gradient(\"+(90-Number(e.angle))+\"deg,\"+e.colors.map((function(e){return home.divjsonUtils.convertColor(e)})).join(\",\")+\")\"}}function re(e,t,i){return{size:i(le,e),pos:i(ce,e),image:'url(\"'+home.htmlFilter(e.image_url)+'\")'}}function le(e){return\"fill\"!==e.scale&&e.scale?\"fit\"===e.scale?\"contain\":void 0:\"cover\"}function ce(e){return(\"left\"===e.content_alignment_horizontal?\"0%\":\"right\"===e.content_alignment_horizontal?\"100%\":\"50%\")+\" \"+(\"top\"===e.content_alignment_vertical?\"0%\":\"bottom\"===e.content_alignment_vertical?\"100%\":\"50%\")}function de(e,t,i){var n=e.json;if(Array.isArray(n.items)&&n.items.length){var a=e.style||{},o={};o.valign=home.htmlFilter(n.content_alignment_vertical||\"top\"),o.halign=home.htmlFilter(n.content_alignment_horizontal||\"left\");var s=\"vertical\";\"horizontal\"!==n.orientation&&\"overlap\"!==n.orientation||(s=n.orientation),o.orientation=s;var r=n.items.map((function(t){var n=t,a=e.templates,o=e.context,s=i(Ee,{json:n,templates:a,context:o,layoutName:e.layoutName});return{item:n=s.json,context:o=s.context}})),l=r.map((function(t){return i(Ce,home.divjsonUtils.json2MergeData(e,{context:t.context,json:t.item}))})).join(\"\");if(l){if(\"overlap\"!==s){var c=\"vertical\"===s?\"height\":\"width\",d=r.map((function(e){if(e.item[c]){if(\"match_parent\"===e.item[c].type)return(Number(e.item[c].weight)||1)+\"fr\"}else if(\"width\"===c)return\"1fr\";return\"auto\"})).join(\" \");a[\"vertical\"===s?\"grid-template-rows\":\"grid-template-columns\"]=d;var m=!1,u=!1;r.forEach((function(e){!e.item.width||\"wrap_content\"!==e.item.width.type&&\"fixed\"!==e.item.width.type||(m=!0),e.item.height&&\"wrap_content\"!==e.item.height.type&&\"fixed\"!==e.item.height.type||(u=!0)})),o[\"has-width-content\"]=m?\"yes\":void 0,o[\"has-height-content\"]=u?\"yes\":void 0}return i(Oe,home.divjsonUtils.json2MergeData(e,{json:n,style:a,mix:home.getBEMClassname(\"divjson2-container\",{mods:o}),content:l},!0))}}else i(Me,{block:\"divjson2-block\",message:\"Missing divjson2-container items\",level:\"warn\",source:e.layoutName})}function me(e,t,i){var n=e.json;if(n.image_url||n.gif_url){var a=e.inGallery,o=e.style||{};return o[\"background-color\"]=home.divjsonUtils.convertColor(n.placeholder_color||\"#14000000\"),o[\"background-size\"]=i(le,n),o[\"background-position\"]=i(ce,n),n.preview&&(\"data:\"===n.preview.substr(0,5)?o[\"background-image\"]='url(\"'+n.preview+'\")':o[\"background-image\"]='url(\"data:image/jpg;base64,'+n.preview+'\")'),i(Oe,a?home.divjsonUtils.json2MergeData(e,{json:n,mix:\"divjson2-image\",content:i(w,{mix:\"divjson2-image__image imageloader__image\",attrs:{\"data-image\":n.image_url||n.gif_url,style:home.makeStyle(o)}})},!0):home.divjsonUtils.json2MergeData(e,{json:n,mix:\"divjson2-image\",js:{\"divjson2-image\":{image:n.image_url||n.gif_url}},content:i(w,{mix:\"divjson2-image__image\",attrs:{style:home.makeStyle(o)}})},!0))}i(Me,{block:\"divjson2-block\",message:\"Missing divjson2-image url\",level:\"warn\",source:e.layoutName,meta:{type:n.type}})}function ue(e,t,i){return i(D,{wrapMix:\"divjson2-gallery__scroller imageloader__scroller\",listMix:\"media-service__list divjson2-gallery__items\",content:e.items,attrs:e.attrs})}function he(e){return\"weighted\"===e.json.arrow_position?\" arrowed-list_arrow-position_weighted\":\"\"}function _e(){return\"\"}function ge(){return 16}function fe(e,t,i){return\"<div \"+f()({\"class\":\"divjson2-gallery__inner media-service__list-wrapper arrowed-list arrowed-list_theme_media i-bem \".concat(k(e.mix)).concat(i(he,e)),\"data-bem\":\"{&quot;imageloader&quot;:{},&quot;arrowed-list&quot;:{&quot;counter&quot;:&quot;\".concat(k(e.layoutName),\"&quot;}}\")})+\">\"+p.a.oneElem(\"<div class='scroller__hider divjson2-gallery__wrapper'>\"+p.a.oneElem(e.content)+\"</div>\")+\"</div>\"}function ve(e,t,i){var n=e.json;if(Array.isArray(n.items)&&n.items.length){e.inGallery=!0,e.json&&e.json.precise_logging&&(e.inPreciseGallery=!0);var a=n.items.map((function(t){return i(Ce,home.divjsonUtils.json2MergeData(e,{json:t,containerMix:\"divjson2-gallery__item imageloader__column imageloader__card\"}))})).join(\"\");if(a){var o=e.style||{},s={};s.align=home.htmlFilter(n.cross_content_alignment||\"start\"),s[\"height-ref\"]=n.height&&\"wrap_content\"!==n.height.type?\"parent\":\"content\";var r=n.items.map((function(){return\"auto\"})).join(\" \");return o[\"grid-template-columns\"]=r,o[\"grid-gap\"]=home.divjsonUtils.convertPXToEM(n.item_spacing||i(ge)),n.paddings&&(o.padding=i(_e,n)||void 0),i(Oe,home.divjsonUtils.json2MergeData(e,{json:n,skipHorizontalPadding:!0,mix:home.getBEMClassname(\"divjson2-gallery\",{mods:s}),js:i(pe,{layoutName:e.layoutName}),content:i(fe,{json:n,mix:home.getBEMClassname(\"imageloader\",{mods:{different:\"yes\",tracking:n.precise_logging?\"yes\":\"\"}}),layoutName:e.layoutName,content:i(ue,{attrs:{style:home.makeStyle(o)},items:a})})},!0))}}else i(Me,{block:\"divjson2-block\",message:\"Missing divjson2-gallery items\",level:\"warn\",source:e.layoutName})}function pe(){return\"\"}function ye(e,t,i){function n(e,t,i){var n,a=0,o=0,s=[];if(e.every(Boolean))for(o=e.reduce((function(e,t){return e+t}),0),n=0;n<i;++n)if(t[n]){var r=t[n]/e[n]*o;r>a&&(a=r)}for(n=0;n<i;++n)a?s[n]=\"minmax(\"+home.divjsonUtils.convertPXToEM(a*e[n]/o)+\",\"+e[n]+\"fr)\":e[n]?s[n]=e[n]+\"fr\":s[n]=\"auto\";return s.join(\" \")}var a=e.json;if(Array.isArray(a.items)&&a.items.length){var o=e.style||{},s={};s.valign=home.htmlFilter(a.content_alignment_vertical||\"top\"),s.halign=home.htmlFilter(a.content_alignment_horizontal||\"left\");for(var r={},l=[],c=0,d=0,m=Number(a.column_count)||1,u=[],h=[],_=[],g=[],f=0;f<a.items.length;++f){var v=a.items[f],p=e.templates,y=e.context,b=i(Ee,{json:v,templates:p,context:y,layoutName:e.layoutName});v=b.json,y=b.context;var k=Number(v.column_span)||1,j=Number(v.row_span)||1;l.push(i(Ce,home.divjsonUtils.json2MergeData(e,{context:y,json:v,containerStyle:{\"grid-area\":d+1+\"/\"+(c+1)+\"/span \"+j+\"/span \"+k}})));for(var x=v.width&&\"match_parent\"===v.width.type&&v.width.weight?Number(v.width.weight)/k:0,w=v.height&&\"match_parent\"===v.height.type&&v.height.weight?Number(v.height.weight)/j:0,C=1===k&&v.width&&\"fixed\"===v.width.type&&v.width.value?Number(v.width.value)/k:0,E=1===j&&v.height&&\"fixed\"===v.height.type&&v.height.value?Number(v.height.value)/j:0,S=c;S<c+k;++S)for(var z=d;z<d+j;++z){if(r[S+\"_\"+z])return;r[S+\"_\"+z]=!0,(!u[S]||u[S]<x)&&(u[S]=x),(!h[z]||h[z]<x)&&(h[z]=w),(!_[S]||_[S]<C)&&(_[S]=C),(!g[z]||g[z]<E)&&(g[z]=E)}do{++c>=m&&(c=0,++d)}while(r[c+\"_\"+d])}if(0===c)return o[\"grid-template-columns\"]=n(u,_,m),o[\"grid-template-rows\"]=n(h,g,d),i(Oe,home.divjsonUtils.json2MergeData(e,{json:a,style:o,mix:home.getBEMClassname(\"divjson2-grid\",{mods:s}),content:l.join(\"\")},!0));i(Me,{block:\"divjson2-block\",message:\"Mismatching divjson2-grid rows/columns\",level:\"warn\",source:e.layoutName})}else i(Me,{block:\"divjson2-block\",message:\"Missing divjson2-grid items\",level:\"warn\",source:e.layoutName})}function be(e,t,i){var n=e.json,a=e.style||{},o=n.delimiter_style&&\"vertical\"===n.delimiter_style.orientation?\"vertical\":\"horizontal\",s=!0;return n.delimiter_style&&n.delimiter_style.color&&(\"transparent\"===n.delimiter_style.color||9===n.delimiter_style.color.length&&0===n.delimiter_style.color.indexOf(\"#00\"))&&(s=!1),i(Oe,home.divjsonUtils.json2MergeData(e,{json:n,style:a,mix:\"divjson2-separator\",content:s?i(w,{attrs:{style:home.makeStyle({background:home.divjsonUtils.convertColor(n.delimiter_style&&n.delimiter_style.color||\"#14000000\"),width:\"horizontal\"===o?\"100%\":home.divjsonUtils.convertPXToEM(1),height:\"horizontal\"===o?home.divjsonUtils.convertPXToEM(1):\"100%\"})}}):\"\"},!0))}function ke(e,t,i){var n=e.json;if(n.text){var a,o={},s=e.style||{},r={},l=Number(n.font_size)||12;s[\"font-size\"]=home.divjsonUtils.convertPXToEM(l);var c=1.25,d=\"\";if(n.line_height&&(c=Number(n.line_height)/l,s[\"line-height\"]=c),1===n.max_lines)o.clamped=\"singleline\";else if(n.max_lines){var m=Number(n.max_lines);s[\"max-height\"]=m*c+\"em\",n.ranges||n.images||(s[\"-webkit-line-clamp\"]=m,r[\"data-lines\"]=m,o.clamped=\"multiline\",d=\"i-multiline-overflow\",a={})}var u=!n.ranges||n.ranges.length<=1&&0===n.ranges[0].start&&n.ranges[0].end>=n.text.length,h=Boolean(n.text_color)!==Boolean(n.ranges&&n.ranges[0]&&n.ranges[0].text_color);n.max_lines&&u&&h&&(s.color=home.divjsonUtils.convertColor(n.text_color||n.ranges&&n.ranges[0]&&n.ranges[0].text_color)),n.text_alignment_horizontal&&(o[\"text-halign\"]=home.htmlFilter(n.text_alignment_horizontal)),n.text_alignment_vertical&&(o[\"text-valign\"]=home.htmlFilter(n.text_alignment_vertical)),n.truncate&&(\"none\"===n.truncate?o.truncate=\"none\":\"marquee\"===n.truncate&&1===n.max_lines&&(o.marquee=\"yes\",(a=a||{}).marqueeDelay=Number(n.marquee_animation&&n.marquee_animation.start_delay||0),n.marquee_animation&&n.marquee_animation.repeat&&\"fixed\"===n.marquee_animation.repeat.type?a.marqueeRepeat=Number(n.marquee_animation.repeat.value):a.marqueeRepeat=-1));var _=n.text;if(Array.isArray(n.ranges)&&n.ranges.length||Array.isArray(n.images)&&n.images.length){var g=n.ranges||[{start:0,end:_.length}],f=n.images||[],v=0,p=[],y=\"\",b=[];g.forEach((function(e){b.push({index:e.start,range:e,type:\"rangeStart\",isStart:!0}),b.push({index:e.end,range:e,type:\"rangeEnd\"})})),f.forEach((function(e,t){e.start<=_.length&&b.push({index:e.start,image:e,type:\"image\",arrayIndex:t})})),b.sort((function(e,t){return e.index===t.index?e.type!==t.type?\"image\"===e.type?-1:\"image\"===t.type?1:e.type<t.type:\"image\"===e.type&&\"image\"===t.type?t.arrayIndex-e.arrayIndex:\"rangeStart\"===e.type&&\"rangeStart\"===t.type?e.range.end-t.range.end:\"rangeStart\"===e.type?1:\"rangeStart\"===t.type?-1:e.range.start-t.range.start:e.index-t.index})),b.forEach((function(e){var t=e.range,a=e.index;if(a>v){var o=home.deepExtend({},n);p.forEach((function(e){o=home.deepExtend(o,e)})),y+=i(je,{content:home.htmlFilter(_.substring(v,a)),rootFontSize:l,textStyles:o,rangeMix:d})}if(\"rangeStart\"===e.type)p.push(t);else if(\"rangeEnd\"===e.type)p=p.filter((function(t){return t!==e.range}));else{var s=home.deepExtend({},n);p.forEach((function(e){s=home.deepExtend(s,e)}));var r=home.divjsonUtils.convertPXToEM(20*(e.image.width&&e.image.width.value||20)/(s.font_size||12)),c=home.divjsonUtils.convertPXToEM(20*(e.image.height&&e.image.height.value||20)/(s.font_size||12));y+=i(je,{content:i(C,{mix:\"divjson2-text__image\",attrs:{style:home.makeStyle({\"background-image\":'url(\"'+home.htmlFilter(e.image.url)+'\")',width:r,height:c,\"margin-top\":n.line_height?\"-\"+c:void 0,\"margin-bottom\":n.line_height?\"-\"+c:void 0})}}),rootFontSize:l,textStyles:s,rangeMix:d})}v=a})),v<_.length&&(y+=i(je,{content:home.htmlFilter(_.substring(v)),rootFontSize:l,textStyles:home.deepExtend({},n),rangeMix:d})),_=y}else _=i(je,{content:home.htmlFilter(_),rootFontSize:l,textStyles:n,rangeMix:d});return i(Oe,home.divjsonUtils.json2MergeData(e,{json:n,attrs:r,js:a?{\"divjson2-text\":a}:void 0,mix:home.getBEMClassname(\"divjson2-text\",{mods:o}),content:i(w,{mix:\"divjson2-text__inner\",attrs:{style:home.makeStyle(s)},content:_})},!0))}i(Me,{block:\"divjson2-block\",message:\"Missing divjson2-text text\",level:\"warn\",source:e.layoutName})}function je(e,t,i){var n=home.divjsonUtils.convertPXToEM,a=e.textStyles,o={},s={},r=Number(a.font_size)||12,l=1.25;return o[\"font-size\"]=n(20*r/e.rootFontSize),a.line_height&&(l=Number(a.line_height)/r,o[\"line-height\"]=l),a.letter_spacing&&(o[\"letter-spacing\"]=n(a.letter_spacing)),\"medium\"!==a.font_weight&&\"bold\"!==a.font_weight&&\"regular\"!==a.font_weight||(\"medium\"===a.font_weight?o[\"font-weight\"]=500:\"bold\"===a.font_weight?o[\"font-weight\"]=\"bold\":o[\"font-weight\"]=400),a.text_color&&(o.color=home.divjsonUtils.convertColor(a.text_color)),(a.underline||a.strike)&&(\"single\"===a.underline&&\"single\"===a.strike?s.decoration=\"both\":\"single\"===a.underline?s.decoration=\"underline\":\"single\"===a.strike?s.decoration=\"strike\":s.decoration=\"none\"),a.underline&&(s.underline=a.underline),a.strike&&(s.strike=a.strike),i(C,{mix:home.getBEMClassname(\"divjson2-text__range\",{mods:s,mix:e.rangeMix||\"\"}),content:e.content,attrs:{style:home.makeStyle(o)}})}function xe(e,t,i){var n=e.json;if(Array.isArray(n.states)&&n.states.length){var a=n.states[0].div,o=String(n.states[0].state_id),s=\"divjson2-state-\"+home.rnd().substr(0,5);return i(Oe,home.divjsonUtils.json2MergeData(e,{js:{\"divjson2-state\":{uniqId:s,divId:n.div_id,baseData:{layoutName:e.layoutName,stack:e.stack,context:e.context},data:n.states.reduce((function(e,t,i){var n={animation_in:t.animation_in,animation_out:t.animation_out};return i>0&&(n.div=t.div),e[t.state_id]=n,e}),{}),keys:n.states.map((function(e){return String(e.state_id)})),selectedKey:o}},mix:\"divjson2-state\",json:n,attrs:{\"data-div-id\":n.div_id},content:i(w,{mix:\"divjson2-state__panels\",content:i(L,{block:\"divjson2-state\",id:s,key:o,content:a?i(Ce,home.divjsonUtils.json2MergeData(e,{json:a},!0)):\"\"})})},!0))}i(Me,{block:\"divjson2-block\",message:\"Missing divjson2-state states\",level:\"warn\",source:e.layoutName})}function we(){return{container:de,gallery:ve,gif:me,grid:ye,image:me,separator:be,tabs:W,text:ke,state:xe}}function Ce(e,t,i){var n,a=e.json,o=e.templates,s=e.context,r=i(Ee,{json:a,templates:o,context:s,layoutName:e.layoutName});a=r.json,s=r.context;var l=i(we),c=i(Ae)||{};return(n=l[a.type])?home.divjsonUtils.json2Wrap(i,n,e,{json:a,context:s}):a.type in c?home.divjsonUtils.json2Wrap(i,c[a.type],e,{json:a,context:s}):void i(Me,{block:\"divjson2-block\",message:\"Unknown element type\",source:e.layoutName,meta:{type:a.type}})}function Ee(e,t,i){for(var n=e.json,a=e.templates,o=e.context;n.type in a;){var s=i(Se,{json:n,templates:a,context:o,layoutName:e.layoutName});n=s.json,o=s.context}return{json:n,context:o}}function Se(e,t,i){var n,a=e.json,o=e.templates[a.type],s=e.context||{},r={};for(n in s)s.hasOwnProperty(n)&&(r[n]=s[n]);for(n in a)\"type\"!==n&&\"__proto__\"!==n&&a.hasOwnProperty(n)&&(r[n]=a[n]);function l(e){var t=typeof e;return\"string\"===t||\"number\"===t||\"boolean\"===t||\"undefined\"===t||null===e?e:home.deepExtend(Array.isArray(e)?[]:{},e)}var c=function d(t,n){var o=Object.keys(n).filter((function(e){return\"__proto__\"!==e})),s=o.filter((function(e){return\"$\"!==e.charAt(0)})),c=o.filter((function(e){return\"$\"===e.charAt(0)}));function m(o){for(var s=0;s<o.length;++s){var c=o[s],m=n[c];if(\"$\"===c.charAt(0)){var u=r[m];if(void 0!==u){var h=c.substr(1);t[h]=l(u)}else i(Me,{block:\"divjson2-block\",message:\"Missing template field\",level:\"warn\",source:e.layoutName,meta:{key:c,template:a.type}})}else\"object\"==typeof m&&null!==m?(t[c]=Array.isArray(m)?[]:{},d(t[c],m)):t[c]=l(m)}}return m(s),m(c),t}({},o);for(n in a)\"type\"!==n&&\"__proto__\"!==n&&a.hasOwnProperty(n)&&(c[n]=l(a[n]));return{json:c,context:r}}function ze(e,t,i){var n,a,o,s=!e.hasParentAction&&e.json&&(e.json.actions||(e.json.action?[e.json.action]:null)),r=s&&s.filter((function(e){return e.url&&-1===e.url.indexOf(\"div-action://set_state?state_id=\")})),l=s&&s.filter((function(e){return e.url&&0===e.url.indexOf(\"div-action://set_state?state_id=\")})),c=r&&r.length&&r[0]&&r[0].url,d=c&&r[0].log_url,m=home.deepExtend({href:c||void 0,\"data-set-state\":l?home.getBEMParams(l):void 0,tabindex:r&&r.length||!l||!l.length?void 0:\"0\"},e.attrs||{});if(s&&s.forEach((function(e){e.hover&&(n=e)})),c&&(e.action&&\"_blank\"===e.action.target||i(j))&&(m.target=\"_blank\",m.rel=\"noopener\"),e.json&&(e.json.visibility_action||e.json.visibility_actions)){var u=e.json.visibility_actions||[e.json.visibility_action];m[\"data-bem\"]=home.getBEMParams({\"divjson2-visibility\":{layoutName:e.layoutName,actions:u.map((function(e){return{log:e.log_id?e.log_id.replace(/\\/(?=[^)]+($|\\())/g,\".\"):void 0,url:e.url,percent:e.visibility_percentage,duration:e.visibility_duration,limit:e.log_limit}}))}})}if(d&&(m[\"data-log-url\"]=d),home.getData(\"common.is_redesign\")){a=home.generateClass();var h=i(Ne,{action:n}),_=[];m.style&&_.push({style:m.style}),h&&_.push({pseudo:\":hover\",style:h}),o=i(De,{className:a,styles:_}),delete m.style}return i(Te,{tag:c?\"a\":e.defaultTag||\"div\",stat:r&&r[0]&&r[0].log_id?t.stat.getAttr(e.layoutName+\".\"+r[0].log_id.replace(/\\/(?=[^)]+($|\\())/g,\".\"),null,{customParams:r[0].payload,precise:Boolean(e.inPreciseGallery)}):\"\",attrs:m,mix:[e.mix||\"\",l&&l.length&&\"divjson2__state-setter\",s&&s.length&&\"divjson2__clickable\",d&&\"divjson2__log-url\",s&&s.length&&i(Ie,n),m[\"data-bem\"]&&\"i-bem\",a].filter(Boolean).join(\" \"),content:e.content,inlineStyle:o})}function Oe(e,t,i){var n=e.json,a=home.divjsonUtils.convertPXToEM,o={},s={},r=\"\",l=e.style||{},c=e.attrs||{};if(n.border&&(n.border.has_shadow&&(s.shadow=\"yes\"),n.border.stroke&&(l.border=a(n.border.stroke.width||1)+\" solid \"+home.divjsonUtils.convertColor(n.border.stroke.color)),n.border.corner_radius&&(s.radius=\"yes\",l[\"border-radius\"]=a(n.border.corner_radius))),n.width?\"fixed\"===n.width.type?l.width=a(n.width.value):\"match_parent\"===n.width.type?o.width=\"parent\":\"wrap_content\"===n.width.type&&(o.width=\"content\"):o.width=\"parent\",n.height?\"fixed\"===n.height.type?l.height=a(n.height.value):\"match_parent\"===n.height.type?o.height=\"parent\":\"wrap_content\"===n.height.type&&(o.height=\"content\"):o.height=\"content\",n.background){var d=i(ae,n.background);l[\"background-color\"]=d.color,l[\"background-image\"]=d.image,l[\"background-size\"]=d.size,l[\"background-position\"]=d.pos,l[\"background-repeat\"]=\"no-repeat\",e.inGallery&&n.background.some((function(e){return\"image\"===e.type}))&&(r+=\" imageloader__image imageloader__image_loaded_no\")}n.paddings&&(l.padding=a(n.paddings.top||0)+\" \"+a(!e.skipHorizontalPadding&&n.paddings.right||0)+\" \"+a(n.paddings.bottom||0)+\" \"+a(!e.skipHorizontalPadding&&n.paddings.left||0)),n.alpha&&(l.opacity=Number(n.alpha)),o[\"valign-self\"]=home.htmlFilter(n.alignment_vertical||\"default\"),o[\"halign-self\"]=home.htmlFilter(n.alignment_horizontal||\"default\"),c.style=home.makeStyle(l),c.id=e.id,e.js&&(c[\"data-bem\"]=home.getBEMParams(e.js),r+=\" i-bem\");var m=e.containerStyle||{};return n.margins&&(m.padding=a(n.margins.top||0)+\" \"+a(n.margins.right||0)+\" \"+a(n.margins.bottom||0)+\" \"+a(n.margins.left||0)),i(w,{mix:home.getBEMClassname(\"divjson2__block\",{mods:o,mix:e.containerMix}),attrs:{style:home.makeStyle(m)},content:i(ze,{json:n,layoutName:e.layoutName,stack:e.stack,mix:home.getBEMClassname(\"divjson2__block-inner\",{mods:s,mix:[e.mix,r].filter(Boolean).join(\" \")}),defaultTag:\"div\",hasParentAction:e.hasParentAction,hasCurrentAction:e.hasCurrentAction,inPreciseGallery:e.inPreciseGallery,attrs:c,content:e.content})})}function Be(e){var t=e.BrowserDesc;if(t)return\"iOS\"===t.OSFamily?home.compareVersions(t.OSVersion,\"11\")>=0:\"Edge\"===t.BrowserName&&home.compareVersions(t.BrowserVersion,\"16\")>0||\"Gecko\"===t.BrowserEngine&&home.compareVersions(t.BrowserEngineVersion,\"67\")>0||\"Chromium\"===t.BrowserBase&&home.compareVersions(t.BrowserBaseVersion,\"58\")>0||\"Safari\"===t.BrowserName&&home.compareVersions(t.BrowserVersion,\"10.1\")>0}function Me(e,t){if(e){var i=t.options&&t.options.disable_divjson2_warn||t.disable_divjson2_warn;\"warn\"===e.level&&i||home.error(e)}}function De(e){return e.styles.length?\"<style>\"+e.styles.map((function(t){return\".\"+e.className+(t.pseudo||\"\")+\"{\"+t.style+\";}\"})).join(\"\\n\")+\"</style>\":\"\"}function Te(e){return(e.inlineStyle||\"\")+\"<\"+e.tag+' class=\"'+(e.mix||0===e.mix?e.mix:\"\")+'\" '+function(e){if(!e)return\"\";var t,i=\"\";for(t in e)if(e.hasOwnProperty(t)){var n=e[t];if(n||0===n)if(n===home.emptyAttr)i+=\" \"+t;else{var a=String(n);a.indexOf('\"')>-1&&(a=a.replace(/\"/g,\"&quot;\")),i+=\" \"+t+'=\"'+a+'\"'}}return i}(e.attrs)+\" \"+(e.stat||\"\")+\">\"+(e.content||\"\")+\"</\"+e.tag+\">\"}function Ne(){return\"\"}function Ae(){return{\"home:block\":Pe}}function Pe(e,t,i){var n,a,o,s,r=e.json.div,l=e.layoutName,c=i(Le,{json:r,templates:e.templates,context:e.context});c&&(a=c.json),a&&(o=\"divjson2-tabs-\"+home.rnd().substr(0,5),a.id=o,n=i(w,{mix:\"media-service__tabs\",content:i(X,{layoutName:e.layoutName,json:a,id:o})}),s=i(J,a));var d=home.getData(\"media-grid.blocks\"),m=(d&&d[l]&&d[l].layout||{}).title||home.htmlFilter(e.json.title||\"\");return i(w,{mix:\"divjson2-block__block-wrapper\"+(n?\" i-bem divjson2-tabs\":\"\"),attrs:{\"data-bem\":a?home.getBEMParams({\"divjson2-tabs\":{uniqId:o,baseData:{layoutName:l,stack:[],context:{}},data:Object.keys(a.items).reduce((function(e,t,i){return i!==s&&(e[t]=a.items[t].div),e}),{})}}):null},content:i(w,{mix:\"media-service__header\",content:i(Xe,{title:i(We,{block:\"divjson2-block\",href:e.json.title_link&&home.htmlFilter(e.json.title_link)||\"\",title:m,titleStat:t.stat.getClientCounter(e.layoutName+\".title\"),titleIcon:home.htmlFilter(e.json.title_icon||e.titleIcon||\"\"),target:e.json.target&&home.htmlFilter(e.json.target)||void 0})})+(n||(e.json.title_after?i(M,{content:home.htmlFilter(e.json.title_after),href:e.json.title_after_link&&home.htmlFilter(e.json.title_after_link)||\"\",target:i(j)?\"_blank\":\"\",stat:t.stat.getClientCounter(e.layoutName+\".title_action\"),mix:\"home-link_gray_yes divjson2-block__titler-after\"}):\"\"))})+i(w,{mix:\"divjson2-block__content\",content:i(Ce,home.divjsonUtils.json2MergeData(e,{json:r}))})})}function Ie(e){return e&&e.hover&&\"translate\"===e.hover.type?\"divjson2__clickable_translate_yes\":\"divjson2__clickable_opacity_yes\"}function Le(e,t,i){return function n(t,a,o){var s=i(Ee,{json:t,templates:a,context:o,layoutName:e.layoutName});if(t=s.json,o=s.context,\"tabs\"===t.type)return{json:t,context:o};if((\"container\"===t.type||\"grid\"===t.type)&&Array.isArray(t.items))for(var r=0;r<t.items.length;++r){var l=n(t.items[r],a,o);if(l)return l}return null}(e.json,e.templates,e.context)}function Fe(e,t,i){return Boolean(t.DivBlocks&&t.DivBlocks.blocks&&t.DivBlocks.blocks[e.layoutName]&&\"div2\"===t.DivBlocks.blocks[e.layoutName].type)&&i(Be)}function Ue(e,t,i){var n=e.indexOf(\"rtb_inserts\"),a=e.indexOf(\"infinity_zen\");return-1===n||n>a||!i(z)?e:[].concat(e.slice(0,n),e.slice(n+1,a+1),[\"rtb_inserts\"],e.slice(a+1))}function qe(e,t){var i=(e.blocks_layout||[]).filter((function(e){var i=t(Ge,e);return t(Ke,{blockName:i,layoutName:e})}));function n(e){(i=i.filter((function(t){return t!==e}))).unshift(e)}return t(N)&&i.indexOf(\"widgets_list\")>-1&&n(\"widgets_list\"),e.Getargshash&&e.Getargshash.hide_nhl_score&&i.indexOf(\"nhl\")>-1&&n(\"nhl\"),t(Ue,i)}function Ze(e,t){if(home.flags.checkBool(e,\"zen_insert_multiple_placeholders\")){var i={},n=[];return Object.keys(e.zenblock_layout).forEach((function(a){i[a]=e.zenblock_layout[a].filter((function(e){var i=t(Ge,e);return t(Ke,{blockName:i,layoutName:e})})),n=n.concat(i[a])})),t(N)&&n.indexOf(\"widgets_list\")>-1&&a(\"widgets_list\"),e.Getargshash&&e.Getargshash.hide_nhl_score&&n.indexOf(\"nhl\")>-1&&a(\"nhl\"),t(Ue,i)}function a(e){Object.keys(i).forEach((function(t){i[t]=i[t].filter((function(t){return t!==e}))})),i[0]||(i[0]=[]),i[0].unshift(e)}}function Re(e,t){var i=t(Ze);return Object.keys(i).map((function(e){return i[e]})).reduce((function(e,t){return Array.prototype.push.apply(e,t),e}),[])}function Ge(e,t,i){var n=i(Ve);if(n[e])return n[e];if(\"div_\"===e.substr(0,4)){if(home.getData&&home.getData(\"media-grid.div2\")){if(home.getData(\"media-grid.div2\").indexOf(e)>-1)return\"divjson2-block\"}else if(t.DivBlocks&&t.DivBlocks.blocks&&t.DivBlocks.blocks[e]&&\"div2\"===t.DivBlocks.blocks[e].type)return\"divjson2-block\";return\"divjson-block\"}return e.replace(/_/g,\"-\")}function Ve(){return{broadcast:\"media-broadcast\",tv_online:\"media-stream\",stream_inserts_films:\"stream-inserts\",stream_inserts_series:\"stream-inserts\",stream_inserts_anim_films:\"stream-inserts\",stream_inserts_anim_series:\"stream-inserts\"}}function He(e,t){return[\"broadcast\",\"media_event\",\"zen\"].filter((function(e){var i=t(Ge,e);return t(Ke,{blockName:i})}))}function Ke(e,t,i){var n={\"media-broadcast\":\"media-broadcast__check\",\"media-event\":A,\"media-event-carousel\":P,\"infinity-zen\":S,kinopoisk:F,games:U,\"autoru-inserts\":q,\"afisha-inserts\":Z,\"rtb-inserts\":R,\"widgets-list\":T,tutor:G,\"banner-inserts\":V,nhl:H,\"divjson-block\":K,\"divjson2-block\":Fe,\"divjson2-test-block\":\"divjson2-test-block__check\",zen:Je},a=e.blockName;return a in n&&i(n[a],e)}function We(e,t,i){var n=\"\",a=e.titleMix||\"\";return e.titleIcon&&(n=i(w,{mix:\"media-service__title-icon\",attrs:{style:home.makeStyle({\"background-image\":\"url(\"+e.titleIcon+\")\"})}}),a+=\" media-service__title-text_icon_yes\"),i(M,{mix:e.block+\"__title media-service__title-text\"+(a?\" \"+a:\"\"),href:e.href,content:n+i($e,{text:e.title}),attrs:e.titleAttrs,stat:e.titleStat,target:e.target})}function $e(e){return e.text}function Xe(e){return\"<div class='media-service__title-wrapper'>\"+(p.a.oneElem(\"<h1 \"+f()({\"class\":b(\"media-service__title\",e.titleMods||{})})+\">\"+p.a.oneElem(e.title)+\"</h1>\")+p.a.oneElem(e.descTmpl))+\"</div>\"}function Je(e){return home.hasBlock(e.Zen)&&!e.Zen.is_lib}function Ye(e,t,i){var n={image:it,text:nt}[e.mods.type];if(n)return i(n,e)}function Qe(e,t,i){var n={big:ot,small:st}[e.mods.type];if(n)return i(n,e)}function et(e,t,i){var n;return p.a.oneElem(\"<div \"+f()({\"class\":b(\"zen__item\",e||{}),role:\"listitem\",\"data-id\":e.id})+\">\"+(p.a.oneElem(\"<a \"+f()(Object.assign({\"class\":\"zen__item-link\"},e.attrs))+\">\"+(p.a.oneElem(i(Ye,e))+p.a.oneElem(\"<span \"+f()(Object.assign({\"class\":b(\"zen__item-domain\",e.domain||{})},e.domainAttrs))+\">\"+(p.a.oneElem(null===(n=e.domain)||void 0===n?void 0:n.title)+p.a.oneElem(\"<span \"+f()({\"class\":\"zen__item-domain-fadeout\",style:\"background-image:-webkit-linear-gradient(left, \".concat(k(e.from_color),\", \").concat(k(e.to_color),\" 20%);background-image:linear-gradient(to right, \").concat(k(e.from_color),\", \").concat(k(e.to_color),\" 20%);\")})+\"></span>\"))+\"</span>\"))+\"</a>\")+p.a.oneElem(e.like)+p.a.oneElem(e.dislike))+\"</div>\")}function tt(e){return\"<span \"+f()(Object.assign({\"class\":\"zen__item-control \".concat(k(e.mix)),role:\"button\",tabindex:\"0\"},e.attrs))+\"></span>\"}function it(e){var t;return p.a.oneElem(\"<span \"+f()({\"class\":\"\".concat(b(\"zen__item-title\",e.title||{}),\" i-multiline-overflow\")})+\">\"+p.a.oneElem(null===(t=e.title)||void 0===t?void 0:t.title)+\"</span>\")+p.a.oneElem(\"<span \"+f()(Object.assign({\"class\":\"media-service__image zen__item-image imageloader__image\"},e.imageAttrs))+\"></span>\")+p.a.oneElem(\"<span \"+f()({\"class\":\"zen__item-curtain\",style:\"background-image:-webkit-linear-gradient(\".concat(k(e.from_color),\", \").concat(k(e.to_color),\" 50%);background-image:linear-gradient(\").concat(k(e.from_color),\", \").concat(k(e.to_color),\" 50%);\")})+\"></span>\")}function nt(e){var t;return p.a.oneElem(\"<span class='zen__item-text-content'>\"+(p.a.oneElem(\"<span \"+f()({\"class\":\"\".concat(b(\"zen__item-title\",e.title||{}),\" i-multiline-overflow\")})+\">\"+p.a.oneElem(null===(t=e.title)||void 0===t?void 0:t.title)+\"</span>\")+p.a.oneElem(\"<span class='zen__item-text i-multiline-overflow'>\"+p.a.oneElem(e.text)+\"</span>\"))+\"</span>\")}function at(e,t,i){var n,a;return p.a.oneElem(\"<div \"+f()({\"class\":\"zen__item \".concat(b(\"zen__direct\",e||{})),role:\"listitem\",\"data-id\":e.id})+\">\"+p.a.oneElem(\"<a \"+f()(Object.assign({\"class\":\"zen__item-link\"},e.attrs))+\">\"+(p.a.oneElem(\"<object>\"+p.a.oneElem(\"<a \"+f()({\"class\":\"zen__direct-label\",href:null===(n=e.label)||void 0===n?void 0:n.href,target:\"_blank\",rel:\"noopener\"})+\">\"+p.a.oneElem(null===(a=e.label)||void 0===a?void 0:a.text)+\"</a>\")+\"</object>\")+p.a.oneElem(i(Qe,e)))+\"</a>\")+\"</div>\")}function ot(e,t,i){return p.a.oneElem(\"<span \"+f()(Object.assign({\"class\":\"media-service__image zen__item-image imageloader__image\"},e.bigImageAttrs))+\"></span>\")+p.a.oneElem(\"<span \"+f()({\"class\":\"zen__item-curtain\",style:\"background-image:-webkit-linear-gradient(\".concat(k(e.from_color),\", \").concat(k(e.to_color),\" 50%);background-image:linear-gradient(\").concat(k(e.from_color),\", \").concat(k(e.to_color),\" 50%);\")})+\"></span>\")+p.a.oneElem(\"<div class='zen__direct-content'>\"+(p.a.oneElem(i(rt,e))+p.a.oneElem(i(lt,e)))+\"</div>\")}function st(e,t,i){return p.a.oneElem(\"<div class='zen__direct-content'>\"+p.a.oneElem(i(rt,e))+\"</div>\")+p.a.oneElem(i(lt,e))}function rt(e){var t;return p.a.oneElem(\"<span \"+f()({\"class\":\"zen__direct-title \".concat(b(\"zen__item-title\",e.title||{}),\" i-multiline-overflow\")})+\">\"+p.a.oneElem(null===(t=e.title)||void 0===t?void 0:t.title)+\"</span>\")+p.a.oneElem(\"<span class='zen__direct-domain'>\"+p.a.oneElem(e.domain)+\"</span>\")+p.a.oneElem(\"<div class='zen__direct-body'>\"+p.a.oneElem(\"<span class='zen__direct-text'>\"+(p.a.oneElem(e.smallImage)+p.a.oneElem(e.text))+\"</span>\")+\"</div>\")}function lt(e,t,i){return\"<div class='zen__direct-footer'>\"+(p.a.oneElem(i(ct,e))+p.a.oneElem(i(dt,e)))+\"</div>\"}function ct(e){return\"<div class='zen__direct-warning'>\"+p.a.oneElem(e.warning)+\"</div>\"}function dt(e){return\"<div class='zen__direct-age'>\"+p.a.oneElem(e.age)+\"</div>\"}function mt(e){return\"<span \"+f()(Object.assign({\"class\":\"media-service__image zen__direct-image_type_small imageloader__image\"},e.smallImageAttrs))+\"></span>\"}function ut(e,t){try{if(window.CSS&&CSS.supports)return CSS.supports(e,t);if(window.supportsCSS)return window.supportsCSS(e,t)}catch(e){}}function ht(e){if(!(\"getAttribute\"in e)&&\"length\"in e){for(var t=new Array(e.length),i=0;i<e.length;++i)t[i]=e[i];return t}return[e]}j.isCached=!0,x.isCached=!0,E.isCached=!0,S.isCached=!0,z.isCached=!0,O.isCached=!0,B.isCached=!0,T.isCached=!0,N.isCached=!0,A.isCached=!0,P.isCached=!0,F.isCached=!0,U.isCached=!0,q.isCached=!0,Z.isCached=!0,R.isCached=!0,G.isCached=!0,V.isCached=!0,H.isCached=!0,ge.isCached=!0,we.isCached=!0,Be.isCached=!0,Ae.isCached=!0,qe.isCached=!0,Ze.isCached=!0,Re.isCached=!0,Ve.isCached=!0,He.isCached=!0,Je.isCached=!0;var _t,gt,ft=/(…|\\.\\.\\.)$/,vt=!(ut(\"-webkit-line-clamp\",\"1\")||ut(\"text-overflow\",\"-o-ellipsis-lastline\"))&&\"querySelectorAll\"in document,pt={};function yt(){_t||((_t=document.createElement(\"div\")).style.position=\"absolute\",_t.style.left=\"-1000px\",_t.style.top=\"0\",_t.style.visibility=\"hidden\",_t.setAttribute(\"aria-hidden\",\"true\"),document.body.appendChild(_t))}function bt(e,t){return yt(),_t?(_t.textContent=e,_t.offsetHeight/parseFloat(t.lineHeight)):0}function kt(e,t,i){vt&&t&&ht(e).forEach((function(e){if(e.offsetWidth&&!(e.innerHTML.indexOf(\"<\")>-1)){var n=ht(e.querySelectorAll(\".i-multiline-overflow\"));e.className.indexOf(\"i-multiline-overflow\")>-1&&n.push(e),n.forEach((function(e){if(e.textContent){var n=i&&pt[i];n||(n=function(e){var t,i=getComputedStyle(e),n=i.lineHeight,a=i.fontSize;t=\"normal\"===n?1.2*parseFloat(a):parseFloat(n);for(var o=e;o&&\"inline\"===getComputedStyle(o).display&&o!==document;)o=o.parentNode;return{width:String(o.offsetWidth)+\"px\",lineHeight:String(t)+\"px\",fontFamily:i.fontFamily,fontWeight:i.fontWeight,fontSize:a,wordWrap:i.wordWrap,whiteSpace:i.whiteSpace,hyphens:i.hyphens,wordBreak:i.wordBreak}}(e),i&&(pt[i]=n)),e.textContent=function(e,t,i){var n,a=0,o=e.length;if(function(e){if(yt(),_t)for(var t in e)if(e.hasOwnProperty(t)){var i=t;gt&&gt[i]===e[i]||(_t.style[i]=e[i])}gt=e}(i),bt(e,i)<=t+.5)return e;for(e=e.replace(ft,\"\");a<o;)n=Math.ceil((a+o)/2),bt(e.substr(0,n)+\"…\",i)>t+.5?o=n-1:a=n;return e.substr(0,a).replace(/[-–:;,.\\s]+$/,\"\")+\"…\"}(e.textContent,t,n)}}))}}))}BEM.DOM.decl({name:\"zen\",baseBlock:\"media-service\"},{onSetMod:{js:function(){this._list=this.findBlockInside(\"list-wrapper\",\"arrowed-list\"),this._lsKeys={ttl:this.__self._lsTTLPrefix+this.params.login,data:this.__self._lsDataPrefix+this.params.login},this._statRoot=null,this._sessionsCards=[],this._countOfLoads=0,this._packCounters={ice:0,personal:0},this._cachedData=null,this._storeTimer=null,this._logZenShowsDebounced=$.debounce(this._logZenShows,this.__self._zenShowDebounce,this),this._dataReady=$.Deferred(),this._mediaGrid=this.findBlockOutside(\"media-grid\"),this.bindTo(\"retry-button\",\"click\",this._onRetryClick),this.channel(\"sys\").on(\"visibilitychange\",this._onVisibilityChange,this),this._imageloader=this.findBlockInside(\"imageloader\"),this._imageloader.on(\"sightChange\",this._onSightChange,this),this._loadCards(),this._mediaGrid.hasMod(\"collapsed\",\"yes\")&&this._mediaGrid.onFirst(\"expanded\",(function(){this._sessionsCards.length&&this.afterCurrentEvent((function(){this._showCards(),this._imageloader.updateItems()}))}),this),this._initMenuEvents()},visible:{yes:function(){home.stat.logDOMShow(this.domElem)}},recommend:function(e,t){this.elem(\"desc\").html(\"ice\"===t?Object(n.a)(\"media.zen.desc_ice\"):Object(n.a)(\"media.zen.desc\"))}},getPromoItems:function(){return this._dataReady},scrollTo:function(e){var t=this.elem(\"item\").filter(\"[data-id=\"+e+\"]\"),i=t.prop(\"offsetLeft\"),n=this.elem(\"list\").width(),a=t.width();this.elem(\"wrap\").stop().animate({scrollLeft:i-(n-a)/2},\"slow\")},_onSightChange:function(e,t){this._prevVisible=this._prevVisible||0;var i=[this._prevVisible,t];this._logZenShowsDebounced(this._getVisibleCards(i)),this._prevVisible=t},_getVisibleCards:function(e){return this._sessionsCards.slice(e[0],e[1])},_listenListOutOn:function(){this._countOfLoads<this.__self._maxCountOfLoads&&this._list.on(\"listOut\",this._onListOut,this)},_listenListOutOff:function(){this._list.un(\"listOut\",this._onListOut,this)},_onListOut:function(e,t){\"right\"===t&&(this._listenListOutOff(),this._loadCardsByAjax())},_loadCards:function(){var e=this._loadCardsFromLS();e?(this._onSuccess(e.data),e.forceAjax?this._loadCardsByAjax():this.hasMod(\"recommend\",\"ice\")?this._dataReady.reject():this._dataReady.resolve(this._sessionsCards)):this._loadCardsByAjax()},_loadCardsByAjax:function(){var e=this;return this._countOfLoads||this.setMod(this.elem(\"loader\"),\"state\",\"loading\"),$.ajax({url:this.params.zenUrl+(this._countOfLoads?\"\":\"&cache=1\"),xhrFields:{withCredentials:!0},context:this,success:this._onSuccess,error:this._onError,timeout:this.__self._timeoutZen}).then(function(){this.hasMod(\"recommend\",\"ice\")?e._dataReady.reject():e._dataReady.resolve(e._sessionsCards)}.bind(this))},_loadCardsFromLS:function(){var e,t,i=home.localStorage.getItem(this._lsKeys.ttl),n=(new Date).getTime();try{if(!(e=JSON.parse(home.localStorage.getItem(this._lsKeys.data))).storeTs||e.storeTs<n)return void this._cleanLS();if(e&&e.items&&e.items.length)return t={data:e},(e.items.length<=this.__self._minCountOfCards||i<n)&&(t.forceAjax=!0),t}catch(e){}this._cleanLS()},_cleanLS:function(){[this._lsKeys.ttl,this._lsKeys.data].forEach(home.localStorage.removeItem)},_onSuccess:function(e){this._checkData(e)?(this.setMod(\"recommend\",e.context.ice_start?\"ice\":\"personal\"),this._countOfLoads+=1,this._prepareData(e),this._recommendType=e.context.ice_start?\"ice\":\"personal\",this._statRoot=\"mediafooter.zen.\"+this._recommendType+\".pack\",this._packCounters[this._recommendType]+=1,e.items=this._moveDirectCards(e.items),this._appendCards(e.items),this._cachedData=e,this._setStoreTimeout(this._getStoreTTL()),this._sessionsCards=this._sessionsCards.concat(e.items),this._imageloader.updateItems(),this._listenListOutOn(),this._createCache(e.ttlTs,e)):this._onError()},_onError:function(e,t){t&&this._logEvent(\"Request failed: \"+t+(this._countOfLoads?\"\":\" - empty feed\")),this._countOfLoads?this.delMod(this.elem(\"loader\"),\"state\"):(this.setMod(this.elem(\"loader\"),\"state\",\"retry\"),home.stat.logDOMShow(this.domElem)),this._dataReady.reject()},_onRetryClick:function(){this._loadCardsByAjax()},_prepareData:function(e){if(!e.prepared){var t=e.stats.bulk,i=1e3*(e.ttl||this.__self._defaultZenTTL),n=1e3*(e.store_ttl||this.__self._defaultZenStoreTTL);e.ttlTs=(new Date).getTime()+i,e.storeTs=(new Date).getTime()+n,e.items.forEach((function(e){return e.id=Number(Math.random().toString().substr(2,8)),e.bulk_url=t,e}),this),e.prepared=1}},_createCache:function(e,t){t.ls||(t.ls=1,home.localStorage.setItem(this._lsKeys.ttl,e),home.localStorage.setItem(this._lsKeys.data,JSON.stringify(t)))},_updateCache:function(e){home.localStorage.setItem(this._lsKeys.data,JSON.stringify(e))},_cleanCards:function(){this._countOfLoads=0,this.elem(\"list\").html(\"\"),this._list.onScroll(),this._cachedData=null,this._sessionsCards=[],this._packCounters={ice:0,personal:0},clearTimeout(this._storeTimer),this._storeTimer=null,this._cleanLS()},_getStoreTTL:function(){return this._cachedData?this._cachedData.storeTs-(new Date).getTime():0},_setStoreTimeout:function(e){e>0&&(clearTimeout(this._storeTimer),this._storeTimer=setTimeout(this._handleStoredCards.bind(this),e))},_handleStoredCards:function(){if(this._cachedData){var e=this._getStoreTTL();e>0?this._setStoreTimeout(e):(this._cleanCards(),this._loadCardsByAjax())}else this._loadCardsByAjax()},_onVisibilityChange:function(e,t){t.hidden?(clearTimeout(this._storeTimer),this._storeTimer=null):this._handleStoredCards()},_onClick:function(e){var t=e.data.domElem.parent(\".zen__item\").data(\"id\"),i=this._selectCardById(this._sessionsCards,t);i&&\"ad\"===i.data.type?this._logZenEvent(i.data.bulk_url,{event:i.data.items[0].stat_events.click,data:i.data.items[0].bulk_params}):i&&this._logZenEvent(i.data.bulk_url,{event:i.data.stat_events.click,data:i.data.bulk_params})},_onLikeClick:function(e){var t=e.data.domElem,i=t.parent(\".zen__item\").data(\"id\"),n=this._selectCardById(this._sessionsCards,i),a=Boolean(n.data.liked);n&&(n.data.liked=!a,this._logZenEvent(n.data.bulk_url,{event:n.data.stat_events[n.data.liked?\"feedback:more\":\"feedback:cancel_more\"],data:n.data.bulk_params})),this.toggleMod(t,\"liked\",\"yes\"),this.setMod(t,\"scaled\",\"yes\"),setTimeout(function(){this.delMod(t,\"scaled\")}.bind(this),this.__self._scaleDuration)},_onDislikeClick:function(e){var t,i=e.data.domElem.parent(\".zen__item\"),n=i.data(\"id\"),a=this._selectCardById(this._sessionsCards,n);a&&(this._sessionsCards.splice(a.index,1),t=[{event:a.data.stat_events[\"feedback:less\"],data:a.data.bulk_params}],a.data.liked&&t.push({event:a.data.stat_events[\"feedback:cancel_more\"],data:a.data.bulk_params}),this._logZenEvent(a.data.bulk_url,t),this._sessionsCards.length<=this.__self._minCountOfCards&&this._loadCardsByAjax()),this.setMod(i,\"disliked\",\"yes\"),this._removeDislikedCards()},_selectCardById:function(e,t){for(var i=0;i<e.length;i+=1)if(e[i].id===t)return{data:e[i],index:i}},_removeDislikedCards:function(){clearTimeout(this._timerGC),this._timerGC=setTimeout(function(){this.findElem(\"item\",\"disliked\",\"yes\").remove(),this._imageloader.updateItems()}.bind(this),this.__self._timeoutDislikeGC)},_moveDirectCards:function(e){var t,i,n,a=[],o=0,s=[];for(t=0,i=e.length;t<i;t++)\"ad\"===e[t].type&&a.push(t);if(!a.length||a[0]>=4)return e;for(n=4-a[0],t=0,i=e.length;t<i;t++)\"ad\"!==e[t].type&&s.push(e[t]),o<a.length&&t===a[o]+n&&(s.push(e[a[o]]),o++);return s},_renderCard:function(e){if(\"ad\"===e.type){var t=e.items[0];return t.id=e.id,t&&\"direct\"===t.provider?this._renderCardDirect(t):\"\"}var i,a,o=\"#FFFFFF\"===e.text_color?\"black\":\"white\",s=e.background_color,r=this.__self._getTransparentPairColor(s),l=e.logo&&(\"black\"===o?e.logo.w:e.logo.b),c={type:e.type,theme:o},d={title:home.ltgtFilter(e.title),mods:{}},m={mods:{}},u={},h={},g=this._packCounters[this._recommendType],f=this._getLongestWordLength(d.title);return l?(h.style=\"background-image: url(\"+l+\")\",m.mods.logo=\"yes\"):m.title=e.domain_title,d.title.length<43&&f<13?(d.mix=\"i-multiline-overflow_lines_4\",d.mods.size=\"l\"):d.title.length<76&&f<17?(d.mix=\"i-multiline-overflow_lines_5\",d.mods.size=\"m\"):(d.mix=\"i-multiline-overflow_lines_6\",d.mods.size=\"s\"),e.image&&(u[\"data-image\"]=home.getBEMParams({1:e.image[\"1x\"],2:e.image[\"2x\"]})),e.stat_events[\"feedback:more\"]&&(i=_(tt,{mix:\"zen__item-like\",attrs:{\"data-statlog\":this._statRoot+\".like.\"+g,title:Object(n.a)(\"media.zen.like\")}})),e.stat_events[\"feedback:less\"]&&(a=_(tt,{mix:\"zen__item-dislike\",attrs:{\"data-statlog\":this._statRoot+\".dislike.\"+g,title:Object(n.a)(\"media.zen.dislike\")}})),(i||a)&&(m.mods.fadeout=\"yes\"),_(et,{id:e.id,title:d,text:\"text\"===e.type?home.ltgtFilter(e.text):\"\",mods:c,mix:\"media-service__item media-service__shadow imageloader__card\",attrs:{rel:e.feed_link?\"noopener\":\"noreferrer noopener\",href:e.feed_link||e.link,target:\"_blank\",\"data-statlog\":this._statRoot+\".card.\"+g,\"data-statlog-precise\":1,style:[\"color:\"+e.text_color,\"background-color:\"+s].join(\";\")},from_color:r,to_color:s,imageAttrs:u,domain:m,domainAttrs:h,like:i,dislike:a})},_renderCardDirect:function(e){var t=this._packCounters[this._recommendType],i={type:\"small\",footer:\"none\"},a={},o={},s={mix:\"i-multiline-overflow_lines_5\",title:home.ltgtFilter(e.content.title),mods:{size:\"m\"}};return e.content.big_image?(i.type=\"big\",a[\"data-image\"]=e.content.big_image[0]):e.content.small_image&&(i.type=\"small\",o[\"data-image\"]=e.content.small_image[0],o.style=[\"width:\"+e.content.small_image[1]+\"px\",\"height:\"+e.content.small_image[2]+\"px\"].join(\";\")),e.content.warning&&e.content.age?i.footer=\"both\":e.content.warning?i.footer=\"warning\":e.content.age&&(i.footer=\"age\"),_(at,{id:e.id,label:{text:Object(n.a)(\"media.direct.title\"),href:this.params.directUrl},title:s,domain:e.content.domain,text:home.ltgtFilter(e.content.body),mods:i,attrs:{href:e.content.url,rel:\"noopener\",target:\"_blank\",\"data-statlog-redir\":0,\"data-statlog\":this._statRoot+\".direct.\"+t},from_color:\"rgba(255,255,255, 0)\",to_color:\"rgba(255,255,255, 1)\",bigImageAttrs:a,smallImage:o[\"data-image\"]?_(mt,{smallImageAttrs:o}):\"\",warning:e.content.warning,age:e.content.age})},_getLongestWordLength:function(e){return Math.max.apply(null,e.split(\" \").map((function(e){return e.length})))},_appendCards:function(e){var t=e.map(this._renderCard,this).join(\"\");this.elem(\"list\").append(t),home.subscribeData(this._showCards.bind(this))},_calcOverflow:function(){var e=this.__self._textContentHeight,t=this.__self._textLineHeight;this.findElem(\"item\",\"type\",\"text\").each((function(){var i=$(this),n=i.find(\".zen__item-title\").height(),a=Math.floor((e-n)/t);i.find(\".zen__item-text\").addClass(\"zen__item-text_lines_\"+a),kt(i,a,\"zen\")}))},_showCards:function(){this._mediaGrid.hasMod(\"collapsed\",\"yes\")||(this._calcOverflow(),this.delMod(this.elem(\"loader\"),\"state\"),this.setMod(this.elem(\"list\"),\"visibility\",\"visible\"),this._list.onScroll(),this.hasMod(\"visible\",\"yes\")&&home.stat.logDOMShow(this.domElem))},_checkData:function(e){var t;return!(!(e&&e.items&&e.items.length&&e.stats&&e.stats.bulk)&&(e?e.items?e.items.length?e.stats&&e.stats.bulk||(t=\"emptystats\"):t=\"emptyitems\":t=\"noitems\":t=\"nodata\",t)&&(this._cleanLS(),this._logEvent(\"Data error: \"+t+(this._countOfLoads?\"\":\" - empty feed\")),1))},_filterShowedCards:function(e){return e.filter((function(e){return\"ad\"===e.type&&e.items[0]?e.items[0].stat_events.show:e.stat_events.show}))},_logEvent:function(e){this.params.logDisabled||home.error.logError({block:\"zen\",message:e})},_logZenEvent:function(e,t){$.ajax({method:\"POST\",url:e,timeout:this.__self._timeoutZen,xhrFields:{withCredentials:!0},data:JSON.stringify({stats:Array.isArray(t)?t:[t]})})},_logZenShows:function(e){var t=!1,i=e.reduce((function(e,t){if(e[t.bulk_url]||(e[t.bulk_url]=[]),\"ad\"===t.type){var i=t.items?t.items[0]:null;i&&i.stat_events&&i.stat_events.show&&(e[t.bulk_url].push({event:i.stat_events.show,data:i.bulk_params}),delete i.stat_events.show,(new Image).src=i.content.linkHead+i.content.linkTail)}else t.stat_events&&t.stat_events.show&&(e[t.bulk_url].push({event:t.stat_events.show,data:t.bulk_params}),delete t.stat_events.show);return e}),{});Object.keys(i).forEach((function(e){i[e].length&&(t=!0,this._logZenEvent(e,i[e]))}),this),t&&(this._cachedData.items=this._filterShowedCards(this._cachedData.items),this._updateCache(this._cachedData))}},{live:function(){return this.__base.apply(this,arguments),this.liveBindKey(\"item-link\",\"space enter\",(function(e){this._onClick(e)})),this.liveBindTo(\"item-link\",\"click\",(function(e){this._onClick(e)})),this.liveBindKey(\"item-like\",\"space enter\",(function(e){this._onLikeClick(e)})),this.liveBindTo(\"item-like\",\"click\",(function(e){this._onLikeClick(e)})),this.liveBindKey(\"item-dislike\",\"space enter\",(function(e){this._onDislikeClick(e)})),this.liveBindTo(\"item-dislike\",\"click\",(function(e){this._onDislikeClick(e)})),!1},_getTransparentPairColor:function(e){return\"rgba(\"+[e.slice(1,3),e.slice(3,5),e.slice(5,7)].map((function(e){return parseInt(e,16)})).join(\",\")+\", 0)\"},_clearLS:function(){[this._lsTTLPrefix,this._lsDataPrefix].forEach(home.localStorage.removeItem)},_minCountOfCards:6,_maxCountOfLoads:3,_textLineHeight:17,_textContentHeight:195,_updateThrottle:200,_timeoutDislikeGC:300,_scaleDuration:260,_lsTTLPrefix:\"home:zen-desktop-ttl-\",_lsDataPrefix:\"home:zen-desktop-data-\",_zenShowDebounce:600,_defaultZenTTL:3600,_defaultZenStoreTTL:432e3,_timeoutZen:3e4})},uFzG:function(e,t){e.exports=function(e){if(!e)return\"\";var t,i,n=\"\";for(t in e)e.hasOwnProperty(t)&&(i=e[t],/^_temp/.test(t)&&\"string\"==typeof i?n+=\" \"+i:(i||0===i)&&(!0===i?n+=\" \"+t.toLowerCase():(i=i.toString(),/\"/.test(i)&&(i=i.replace(/\"/g,\"&quot;\")),n+=\" \"+t.toLowerCase()+'=\"'+i+'\"')));return n}},\"w/5I\":function(e,t){function i(e){return\"boolean\"!=typeof e&&null!=e?Array.isArray(e)?e.join(\"\"):e:\"\"}e.exports=function(e){return e.map(i).join(\"\")},e.exports.oneElem=i}}),home.bundles.notify(\"old-zen\")}));if(window.Ya&&Ya.Rum){Ya.Rum.sendTimeMark(\"2095.1428\");}</script><script>home.loadManager.subscribe('js', function() {BEM.DOM.scope=$('body');Lego.init({\"locale\":\"ru\",\"geohelperHost\":\"yandex.ru\",\"geoid\":\"87\",\"mailHost\":\"https://mail.yandex.ru/\",\"mordaZone\":\"ru\",\"msid\":\"1617448391.28097.94944.158656\",\"mda-auth-url\":\"https://yandex.ru/portal/set/any/?sk=y8acc2237b3313341c62ad80a58ca760d&mda=0&empty=1\",\"social-host\":\"//social.yandex.ru\",\"social-retpath\":\"https://yandex.ru/i-social__closer.html\",\"social-providers\":\"[{\\\"primary\\\":1,\\\"code\\\":\\\"vk\\\",\\\"id\\\":\\\"1\\\",\\\"display_name\\\":\\\"ВКонтакте\\\",\\\"enabled\\\":1},{\\\"code\\\":\\\"fb\\\",\\\"id\\\":\\\"2\\\",\\\"display_name\\\":\\\"Facebook\\\",\\\"enabled\\\":1,\\\"primary\\\":1},{\\\"primary\\\":1,\\\"display_name\\\":\\\"Twitter\\\",\\\"id\\\":\\\"3\\\",\\\"code\\\":\\\"tw\\\",\\\"enabled\\\":1},{\\\"primary\\\":0,\\\"enabled\\\":1,\\\"code\\\":\\\"mr\\\",\\\"id\\\":\\\"4\\\",\\\"display_name\\\":\\\"Mail.ru\\\"},{\\\"primary\\\":0,\\\"enabled\\\":1,\\\"id\\\":\\\"5\\\",\\\"display_name\\\":\\\"Google\\\",\\\"code\\\":\\\"gg\\\"},{\\\"enabled\\\":1,\\\"id\\\":\\\"6\\\",\\\"display_name\\\":\\\"Одноклассники\\\",\\\"code\\\":\\\"ok\\\",\\\"primary\\\":0}]\",\"social-sprites\":{\"16\":\"//yastatic.net/social/current/sprites/ico-16.png\"},\"lego-static-host\":\"//yastatic.net/lego/2.10-169/\",\"retpath\":\"https://mail.yandex.ru/\",\"statRoot\":\"\",\"statEnabled\":false,\"click-host\":\"//yandex.ru/clck\",\"click-href\":\"https://yandex.ru/clck/\",\"keyboard-path\":\"//yastatic.net/s3/home-static/2021-04-01-1/common/blocks/\",\"reqid\":\"1617448391.28097.94944.158656\"});BEM.channel('i-bem').trigger('start-init');BEM.DOM.init(function() {BEM.channel('i-bem').trigger('init');});});</script><div class=\"resources__bem-init-wrapper\"><script>home.loadManager.subscribe('js',function(){getcss('//yastatic.net/s3/home-static/_/f/M/3D37UOOPyU3YSFRcudSghZ-hY.css');});</script><noscript><link href=\"//yastatic.net/s3/home-static/_/f/M/3D37UOOPyU3YSFRcudSghZ-hY.css\" rel=\"stylesheet\" type=\"text/css\"/></noscript><script>window.$&&$.fn&&$.fn.jquery?home.loadManager.trigger(\"jquery\"):document.querySelector('script[src*=\"yastatic.net/jquery/\"]').onload=function(){home.loadManager.trigger(\"jquery\")};</script><script>var cb=function(){if(!home.disabledLS&&home&&home.getData){var a=home.localStorage,e=home.getData(\"i-yandexuid.data\")||{},l=e.cb_url,s=function(e){if(e.ls){var s,o,t=\"yandexuid\"===e.ls.key?\"yu\":e.ls.key,d=e.ls.value,i=a.getItem(t)||null,n=(s=e.ls.key,(o=document.cookie.match(new RegExp(s+\"=(\\\\d+)\")))&&o[1]);if(i&&e.prefix+n!==i.split(\":\")[0]||e.ls.force||!n){var u=e.ls;u.old=n,e.ls.force||(u.value=i),$.ajax({url:l,data:u,type:\"POST\",dataType:\"json\",crossDomain:!0,xhrFields:{withCredentials:!0},success:function(e){e.jsmda_url&&BEM&&BEM.blocks&&BEM.blocks[\"i-mda-auth\"]&&(window.Lego||(window.Lego={}),window.Lego.params||(window.Lego.params={}),Lego.params[\"mda-auth-url\"]=e.jsmda_url,BEM.blocks[\"i-mda-auth\"].authenticate()),e.clean_ls&&a.setItem(t,\"\"),e.update_ls&&a.setItem(t,d)}})}else a.setItem(t,d)}};!e.ls&&e.ls_data_url?$.ajax({dataType:\"jsonp\",url:e.ls_data_url}).then((function(a){e.ls=a,s(e)})):s(e)}};\"home\"in window&&home.loadManager?home.loadManager.subscribe(\"js\",cb):$(cb);</script><script>!function(){\"use strict\";\"undefined\"!=typeof window?window:\"undefined\"!=typeof global?global:\"undefined\"!=typeof self&&self;var e,t=(function(e,t){var n,i,o,s,a,r;e.exports=(n=\"sans-serif\",i=\"serif\",o={tolerance:2,delay:100,glyphs:\"\",success:function(){},error:function(){},timeout:5e3,weight:\"400\",style:\"normal\",window:window},s=[\"display:block\",\"position:absolute\",\"top:-999px\",\"left:-999px\",\"font-size:48px\",\"width:auto\",\"height:auto\",\"line-height:normal\",\"margin:0\",\"padding:0\",\"font-variant:normal\",\"white-space:nowrap\"],a='<div style=\"%s\" aria-hidden=\"true\">AxmTYklsjo190QW</div>',(r=function(){this.fontFamily=\"\",this.appended=!1,this.serif=void 0,this.sansSerif=void 0,this.parent=void 0,this.options={}}).prototype.getMeasurements=function(){return{sansSerif:{width:this.sansSerif.offsetWidth,height:this.sansSerif.offsetHeight},serif:{width:this.serif.offsetWidth,height:this.serif.offsetHeight}}},r.prototype.load=function(){var e,t=new Date,o=this,r=o.serif,f=o.sansSerif,c=o.parent,d=o.appended,l=o.options,h=l.reference;function u(e){return s.concat([\"font-weight:\"+l.weight,\"font-style:\"+l.style]).concat(\"font-family:\"+e).join(\";\")}var p=a.replace(/\\%s/,u(n)),m=a.replace(/\\%s/,u(i));function w(e,t,n){return Math.abs(e.width-t.offsetWidth)>n||Math.abs(e.height-t.offsetHeight)>n}c||(c=o.parent=l.window.document.createElement(\"div\")),c.innerHTML=p+m,f=o.sansSerif=c.firstChild,r=o.serif=f.nextSibling,l.glyphs&&(f.innerHTML+=l.glyphs,r.innerHTML+=l.glyphs),function g(){h||(h=l.window.document.body),!d&&h&&(h.appendChild(c),d=o.appended=!0,e=o.getMeasurements(),f.style.fontFamily=o.fontFamily+\", \"+n,r.style.fontFamily=o.fontFamily+\", \"+i),d&&e&&(w(e.sansSerif,f,l.tolerance)||w(e.serif,r,l.tolerance))?l.success():(new Date).getTime()-t.getTime()>l.timeout?l.error():!d&&\"requestAnimationFrame\"in l.window?l.window.requestAnimationFrame(g):l.window.setTimeout(g,l.delay)}()},r.prototype.cleanFamilyName=function(e){return e.replace(/[\\'\\\"]/g,\"\").toLowerCase()},r.prototype.cleanWeight=function(e){return\"\"+({normal:\"400\",bold:\"700\"}[e]||e)},r.prototype.checkFontFaces=function(e){var t=this;t.options.window.document.fonts.forEach((function(n){t.cleanFamilyName(n.family)===t.cleanFamilyName(t.fontFamily)&&t.cleanWeight(n.weight)===t.cleanWeight(t.options.weight)&&n.style===t.options.style&&n.load().then((function(){t.options.success(n),t.options.window.clearTimeout(e)}))}))},r.prototype.init=function(e,t){var n;for(var i in o)t.hasOwnProperty(i)||(t[i]=o[i]);this.options=t,this.fontFamily=e,!t.glyphs&&\"fonts\"in t.window.document?(t.timeout&&(n=t.window.setTimeout((function(){t.error()}),t.timeout)),this.checkFontFaces(n)):this.load()},function(e,t){var n=new r;return n.init(e,t),n})}(e={exports:{}}),e.exports),n=\"YSv1\";function i(){document.documentElement.className+=\" font_loaded\"}var o,s=\"hidden\",a=\"\";function r(){document.cookie=\"font_loaded=YSv1; path=/; Max-Age=315360000\",function(){for(var e,t=[\"\",\"moz\",\"webkit\",\"ms\"],n=0;n<t.length;n++)if((e=t[n])&&(s=e+\"Hidden\"),s in document)return a=e+\"visibilitychange\",!0}()&&(document[s]?i():document.addEventListener(a,f))}function f(){document[s]&&(i(),document.removeEventListener(a,f))}((o=document.cookie.match(new RegExp(\"(?:^|; )\"+\"font_loaded\".replace(/([\\.$?*|{}\\(\\)\\[\\]\\\\\\/\\+^])/g,\"\\\\$1\")+\"=([^;]*)\")))?o[1]:void 0)===n?i():function(){for(var e=[{weight:400},{weight:500},{weight:700}],n=0,i=0;i<e.length;++i)t(\"YS Text\",{weight:e[i].weight,timeout:1e4,success:function(){++n===e.length&&r()}})}()}();</script><script>home.loadManager.subscribe('js',function(){BEM && BEM.blocks['i-mda-auth'] && BEM.blocks['i-mda-auth'].authenticate(function(){});});</script><script>home.loadManager.subscribe('js',function(){AwapsJsonAPI.Json.prototype.sendCounts({\"bnCounts\":[\"https://awaps.yandex.net/99/c1/tx21lszVAoU5vGvVMTT5HdZERv2r9iSDrNklH+KEivNE8t1hL5ZBbsxK74M+c_t4qygMZbKaGS57YWS9DP-b-Vql74vhfkCFfMdtQ6kMubpTMVPGMb-Lm9-xqXk_t9gmpnYJb4NsRIAL5xyWzOCyKMVwbMWjeQf+5ZhDSYp6z7mgDBeyyANajTQoO_tdCwWm8qiaplYMFzPiXYuRrHwBDL4hr2Jgr9oXMMb29psXKkzImWE64FQXvk0_tCSD+F8qKZTAu3HfU+mFale-6ixedDLLmH8nea6KCHbD+ZVTWDzqTvDnHyZgD_XbmTDGd5GPOyzuHrCZB9k-dD6+8i1gzUA_A_.gif?locale=ru&morda_rid=1617448391.28097.94944.158656&pageview_id=1617448391.28097.94944.158656&slots=317956%2C0%2C51%3B339863%2C0%2C40%3B344605%2C0%2C21\"],\"useIntersection\":false,\"statpixel\":true});});</script><script>home.loadManager.subscribe('js',function(){AwapsJsonAPI.Json.prototype.autorefresh({\"_refresh\":{\"mock\":0,\"refresh_url\":\"/bUb37PWT2MmDsHF/GfesfU6zOyenSyh\",\"flex\":true,\"refresh_counts\":\"10\",\"tab_timeout\":\"10\",\"watch_timeout\":\"90\",\"overlapping_timeout\":\"10\"},\"skipBanner\":false,\"darkTheme\":false}, $(\".rtb\"));});</script></div><script src=\"https://mc.yandex.ru/metrika/watch.js\" type=\"text/javascript\"></script><script type=\"text/javascript\">!function(t){\"use strict\";try{var e=[{\"id\":722545,\"accurateTrackBounce\":10000,\"trackLinks\":true,\"experiments\":\"6_ow0hHBopQVUTOmKELif1nZ9TVwODQdzK3Xu-u8BqjIV0dJryK9sw\"}];t.metrikaCounterInstances={};for(var r=0;r<e.length;r++){var a=e[r],n=t[\"yaCounter\"+a.id]=new Ya.Metrika(a);r||(t.defaultMetrikaCounter=n),t.metrikaCounterInstances[a.id]=n}}catch(i){}}(window);</script><noscript><img class=\"image a11y-hidden\" src=\"https://mc.yandex.ru/watch/722545\"/></noscript><script>(function(d){var s=d.visibilityState;if(s&&s!==\"visible\"){d.addEventListener(\"visibilitychange\",function c(){if(d.visibilityState===\"visible\"){d.removeEventListener(\"visibilitychange\",c,false);i()}},false)}else{i()}function i(){(new Image).src=\"https://yabs.yandex.ru/count/WEmejI_zO3C05GS010i1xn-CWXqpDmK0Cm4GWX0nnqreO000000useqKy0A-meRx0_050Q06hW791iTXu943uK4IgGS9YxXaiwSN5weB4DDHM2q9Ym00kdZEZ0-_y0i5u0s2W810c0x7mu6FkQ3ueFWG3AWHm8Gzy1BO5S6AzkoZZxpyO_395l0_WHUe5mcP6D0O0VWOW1cm6RWP__y1qXaIUM5YSrzpPN9sPN8lSZKnD2qpw1c0mWFm6O320my0TsHSCGM3Whig6YRHBOIm4GExREbbFY3pyG0aQnYAMbsCKKOY5mRQES15H0Uz1m00~1=WFSejI_zO3O0RGS010oEhI7FDW5014WMOBmISFQxbuUE9P01ejddkJUOk07skvU73jW1sh_F2kW1g0Am0mAe1gu1i0U0W9Wqk0Vk2T070l470039sGi9YxXaiwSN5-WCaw0Em8GzW13jtwS5o108g170X3sO4m7e58m2s1N1YlRieu-y_6EG5gK2e1RGw9Y31e4Nc1SPm1Uq0h0OxFkWWmRu6Fk5tQE3rPcG5u0P6G6W6QW1k1d___y1w1c0mWFm6O320u4Q___p12TyZtuD0AXhyBdQOwz8hbuuTCpL1i9qquhaq6DCmUFaOxY0iSDkoGGVVes7Xk84~1?wmode=0\"}})(document);</script><noscript><img src=\"https://yabs.yandex.ru/count/WEmejI_zO3C05GS010i1xn-CWXqpDmK0Cm4GWX0nnqreO000000useqKy0A-meRx0_050Q06hW791iTXu943uK4IgGS9YxXaiwSN5weB4DDHM2q9Ym00kdZEZ0-_y0i5u0s2W810c0x7mu6FkQ3ueFWG3AWHm8Gzy1BO5S6AzkoZZxpyO_395l0_WHUe5mcP6D0O0VWOW1cm6RWP__y1qXaIUM5YSrzpPN9sPN8lSZKnD2qpw1c0mWFm6O320my0TsHSCGM3Whig6YRHBOIm4GExREbbFY3pyG0aQnYAMbsCKKOY5mRQES15H0Uz1m00~1=WFSejI_zO3O0RGS010oEhI7FDW5014WMOBmISFQxbuUE9P01ejddkJUOk07skvU73jW1sh_F2kW1g0Am0mAe1gu1i0U0W9Wqk0Vk2T070l470039sGi9YxXaiwSN5-WCaw0Em8GzW13jtwS5o108g170X3sO4m7e58m2s1N1YlRieu-y_6EG5gK2e1RGw9Y31e4Nc1SPm1Uq0h0OxFkWWmRu6Fk5tQE3rPcG5u0P6G6W6QW1k1d___y1w1c0mWFm6O320u4Q___p12TyZtuD0AXhyBdQOwz8hbuuTCpL1i9qquhaq6DCmUFaOxY0iSDkoGGVVes7Xk84~1?wmode=0\" style=\"display:none;position:absolute;\"/></noscript><!--noindex--><div class=\"page-info\" data-nosnippet=\"\" style=\"display:none\">{\"static\":\"2021-04-01-1\",\"skins\":\"2021-03-31-1\",\"content\":\"big\",\"domain\":\"ru\"}</div><!--/noindex--><!--prestable-morda-vla-yp-97.vla.yp-c.yandex.net--></div></body></html>"
            ]
          },
          "metadata": {
            "tags": []
          },
          "execution_count": 218
        }
      ]
    },
    {
      "cell_type": "code",
      "metadata": {
        "colab": {
          "base_uri": "https://localhost:8080/"
        },
        "id": "MpUhTXCxlORr",
        "outputId": "d8789bc4-1c62-4803-8502-c3200af63ee8"
      },
      "source": [
        "import tensorflow as tf\n",
        "\n",
        "device_name = tf.test.gpu_device_name()\n",
        "if device_name != '/device:GPU:0':\n",
        "  raise SystemError('GPU device not found')\n",
        "print('Found GPU at: {}'.format(device_name))"
      ],
      "execution_count": null,
      "outputs": [
        {
          "output_type": "stream",
          "text": [
            "Found GPU at: /device:GPU:0\n"
          ],
          "name": "stdout"
        }
      ]
    },
    {
      "cell_type": "code",
      "metadata": {
        "id": "ZPQBSm6dl2yx"
      },
      "source": [
        ""
      ],
      "execution_count": null,
      "outputs": []
    }
  ]
}